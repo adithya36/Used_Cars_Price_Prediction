{
  "nbformat": 4,
  "nbformat_minor": 0,
  "metadata": {
    "colab": {
      "name": "cars.ipynb",
      "provenance": [],
      "collapsed_sections": [],
      "authorship_tag": "ABX9TyOavJ6i5+LBSv4RhnHunl+A",
      "include_colab_link": true
    },
    "kernelspec": {
      "name": "python3",
      "display_name": "Python 3"
    },
    "language_info": {
      "name": "python"
    }
  },
  "cells": [
    {
      "cell_type": "markdown",
      "metadata": {
        "id": "view-in-github",
        "colab_type": "text"
      },
      "source": [
        "<a href=\"https://colab.research.google.com/github/adithya36/Used_Cars_Price_Prediction/blob/Data_cleaning/cars.ipynb\" target=\"_parent\"><img src=\"https://colab.research.google.com/assets/colab-badge.svg\" alt=\"Open In Colab\"/></a>"
      ]
    },
    {
      "cell_type": "markdown",
      "metadata": {
        "id": "zffwJh0ENnaR"
      },
      "source": [
        "# Import\n",
        "*   libraries\n",
        "*   drive\n",
        "*   df"
      ]
    },
    {
      "cell_type": "code",
      "metadata": {
        "id": "jwLs3TgoN-r0",
        "colab": {
          "base_uri": "https://localhost:8080/"
        },
        "outputId": "1bc889c4-ded3-4424-ca12-5879a7fa7c18"
      },
      "source": [
        "#import package\n",
        "import pandas as pd\n",
        "import numpy as np\n",
        "import seaborn as sns\n",
        "\n",
        "!pip install fuzzywuzzy[speedup]\n",
        "from fuzzywuzzy import fuzz\n",
        "from fuzzywuzzy import process"
      ],
      "execution_count": null,
      "outputs": [
        {
          "output_type": "stream",
          "name": "stdout",
          "text": [
            "Collecting fuzzywuzzy[speedup]\n",
            "  Downloading fuzzywuzzy-0.18.0-py2.py3-none-any.whl (18 kB)\n",
            "Collecting python-levenshtein>=0.12\n",
            "  Downloading python-Levenshtein-0.12.2.tar.gz (50 kB)\n",
            "\u001b[?25l\r\u001b[K     |██████▌                         | 10 kB 27.3 MB/s eta 0:00:01\r\u001b[K     |█████████████                   | 20 kB 23.6 MB/s eta 0:00:01\r\u001b[K     |███████████████████▌            | 30 kB 12.2 MB/s eta 0:00:01\r\u001b[K     |██████████████████████████      | 40 kB 10.0 MB/s eta 0:00:01\r\u001b[K     |████████████████████████████████| 50 kB 3.0 MB/s \n",
            "\u001b[?25hRequirement already satisfied: setuptools in /usr/local/lib/python3.7/dist-packages (from python-levenshtein>=0.12->fuzzywuzzy[speedup]) (57.4.0)\n",
            "Building wheels for collected packages: python-levenshtein\n",
            "  Building wheel for python-levenshtein (setup.py) ... \u001b[?25l\u001b[?25hdone\n",
            "  Created wheel for python-levenshtein: filename=python_Levenshtein-0.12.2-cp37-cp37m-linux_x86_64.whl size=149865 sha256=d7e3e7156c93d9c23a830d139e08a8f25be72df28e8b59774fe635fc582e308e\n",
            "  Stored in directory: /root/.cache/pip/wheels/05/5f/ca/7c4367734892581bb5ff896f15027a932c551080b2abd3e00d\n",
            "Successfully built python-levenshtein\n",
            "Installing collected packages: python-levenshtein, fuzzywuzzy\n",
            "Successfully installed fuzzywuzzy-0.18.0 python-levenshtein-0.12.2\n"
          ]
        }
      ]
    },
    {
      "cell_type": "code",
      "metadata": {
        "id": "vgbQLiqu7wuM",
        "colab": {
          "base_uri": "https://localhost:8080/"
        },
        "outputId": "a1059b4d-317a-44cf-80a9-51b2a536aaff"
      },
      "source": [
        "import matplotlib.pyplot as plt\n",
        "!pip install plotly\n",
        "!pip install cufflinks\n",
        "import plotly.express as px\n",
        "import tqdm\n",
        "from tqdm._tqdm_notebook import tqdm_notebook"
      ],
      "execution_count": null,
      "outputs": [
        {
          "output_type": "stream",
          "name": "stdout",
          "text": [
            "Requirement already satisfied: plotly in /usr/local/lib/python3.7/dist-packages (4.4.1)\n",
            "Requirement already satisfied: six in /usr/local/lib/python3.7/dist-packages (from plotly) (1.15.0)\n",
            "Requirement already satisfied: retrying>=1.3.3 in /usr/local/lib/python3.7/dist-packages (from plotly) (1.3.3)\n",
            "Requirement already satisfied: cufflinks in /usr/local/lib/python3.7/dist-packages (0.17.3)\n",
            "Requirement already satisfied: six>=1.9.0 in /usr/local/lib/python3.7/dist-packages (from cufflinks) (1.15.0)\n",
            "Requirement already satisfied: pandas>=0.19.2 in /usr/local/lib/python3.7/dist-packages (from cufflinks) (1.1.5)\n",
            "Requirement already satisfied: setuptools>=34.4.1 in /usr/local/lib/python3.7/dist-packages (from cufflinks) (57.4.0)\n",
            "Requirement already satisfied: ipython>=5.3.0 in /usr/local/lib/python3.7/dist-packages (from cufflinks) (5.5.0)\n",
            "Requirement already satisfied: ipywidgets>=7.0.0 in /usr/local/lib/python3.7/dist-packages (from cufflinks) (7.6.3)\n",
            "Requirement already satisfied: colorlover>=0.2.1 in /usr/local/lib/python3.7/dist-packages (from cufflinks) (0.3.0)\n",
            "Requirement already satisfied: plotly>=4.1.1 in /usr/local/lib/python3.7/dist-packages (from cufflinks) (4.4.1)\n",
            "Requirement already satisfied: numpy>=1.9.2 in /usr/local/lib/python3.7/dist-packages (from cufflinks) (1.19.5)\n",
            "Requirement already satisfied: simplegeneric>0.8 in /usr/local/lib/python3.7/dist-packages (from ipython>=5.3.0->cufflinks) (0.8.1)\n",
            "Requirement already satisfied: pexpect in /usr/local/lib/python3.7/dist-packages (from ipython>=5.3.0->cufflinks) (4.8.0)\n",
            "Requirement already satisfied: pygments in /usr/local/lib/python3.7/dist-packages (from ipython>=5.3.0->cufflinks) (2.6.1)\n",
            "Requirement already satisfied: pickleshare in /usr/local/lib/python3.7/dist-packages (from ipython>=5.3.0->cufflinks) (0.7.5)\n",
            "Requirement already satisfied: decorator in /usr/local/lib/python3.7/dist-packages (from ipython>=5.3.0->cufflinks) (4.4.2)\n",
            "Requirement already satisfied: traitlets>=4.2 in /usr/local/lib/python3.7/dist-packages (from ipython>=5.3.0->cufflinks) (5.0.5)\n",
            "Requirement already satisfied: prompt-toolkit<2.0.0,>=1.0.4 in /usr/local/lib/python3.7/dist-packages (from ipython>=5.3.0->cufflinks) (1.0.18)\n",
            "Requirement already satisfied: widgetsnbextension~=3.5.0 in /usr/local/lib/python3.7/dist-packages (from ipywidgets>=7.0.0->cufflinks) (3.5.1)\n",
            "Requirement already satisfied: jupyterlab-widgets>=1.0.0 in /usr/local/lib/python3.7/dist-packages (from ipywidgets>=7.0.0->cufflinks) (1.0.0)\n",
            "Requirement already satisfied: ipykernel>=4.5.1 in /usr/local/lib/python3.7/dist-packages (from ipywidgets>=7.0.0->cufflinks) (4.10.1)\n",
            "Requirement already satisfied: nbformat>=4.2.0 in /usr/local/lib/python3.7/dist-packages (from ipywidgets>=7.0.0->cufflinks) (5.1.3)\n",
            "Requirement already satisfied: tornado>=4.0 in /usr/local/lib/python3.7/dist-packages (from ipykernel>=4.5.1->ipywidgets>=7.0.0->cufflinks) (5.1.1)\n",
            "Requirement already satisfied: jupyter-client in /usr/local/lib/python3.7/dist-packages (from ipykernel>=4.5.1->ipywidgets>=7.0.0->cufflinks) (5.3.5)\n",
            "Requirement already satisfied: jupyter-core in /usr/local/lib/python3.7/dist-packages (from nbformat>=4.2.0->ipywidgets>=7.0.0->cufflinks) (4.7.1)\n",
            "Requirement already satisfied: jsonschema!=2.5.0,>=2.4 in /usr/local/lib/python3.7/dist-packages (from nbformat>=4.2.0->ipywidgets>=7.0.0->cufflinks) (2.6.0)\n",
            "Requirement already satisfied: ipython-genutils in /usr/local/lib/python3.7/dist-packages (from nbformat>=4.2.0->ipywidgets>=7.0.0->cufflinks) (0.2.0)\n",
            "Requirement already satisfied: pytz>=2017.2 in /usr/local/lib/python3.7/dist-packages (from pandas>=0.19.2->cufflinks) (2018.9)\n",
            "Requirement already satisfied: python-dateutil>=2.7.3 in /usr/local/lib/python3.7/dist-packages (from pandas>=0.19.2->cufflinks) (2.8.2)\n",
            "Requirement already satisfied: retrying>=1.3.3 in /usr/local/lib/python3.7/dist-packages (from plotly>=4.1.1->cufflinks) (1.3.3)\n",
            "Requirement already satisfied: wcwidth in /usr/local/lib/python3.7/dist-packages (from prompt-toolkit<2.0.0,>=1.0.4->ipython>=5.3.0->cufflinks) (0.2.5)\n",
            "Requirement already satisfied: notebook>=4.4.1 in /usr/local/lib/python3.7/dist-packages (from widgetsnbextension~=3.5.0->ipywidgets>=7.0.0->cufflinks) (5.3.1)\n",
            "Requirement already satisfied: terminado>=0.8.1 in /usr/local/lib/python3.7/dist-packages (from notebook>=4.4.1->widgetsnbextension~=3.5.0->ipywidgets>=7.0.0->cufflinks) (0.11.0)\n",
            "Requirement already satisfied: nbconvert in /usr/local/lib/python3.7/dist-packages (from notebook>=4.4.1->widgetsnbextension~=3.5.0->ipywidgets>=7.0.0->cufflinks) (5.6.1)\n",
            "Requirement already satisfied: jinja2 in /usr/local/lib/python3.7/dist-packages (from notebook>=4.4.1->widgetsnbextension~=3.5.0->ipywidgets>=7.0.0->cufflinks) (2.11.3)\n",
            "Requirement already satisfied: Send2Trash in /usr/local/lib/python3.7/dist-packages (from notebook>=4.4.1->widgetsnbextension~=3.5.0->ipywidgets>=7.0.0->cufflinks) (1.8.0)\n",
            "Requirement already satisfied: pyzmq>=13 in /usr/local/lib/python3.7/dist-packages (from jupyter-client->ipykernel>=4.5.1->ipywidgets>=7.0.0->cufflinks) (22.2.1)\n",
            "Requirement already satisfied: ptyprocess in /usr/local/lib/python3.7/dist-packages (from terminado>=0.8.1->notebook>=4.4.1->widgetsnbextension~=3.5.0->ipywidgets>=7.0.0->cufflinks) (0.7.0)\n",
            "Requirement already satisfied: MarkupSafe>=0.23 in /usr/local/lib/python3.7/dist-packages (from jinja2->notebook>=4.4.1->widgetsnbextension~=3.5.0->ipywidgets>=7.0.0->cufflinks) (2.0.1)\n",
            "Requirement already satisfied: testpath in /usr/local/lib/python3.7/dist-packages (from nbconvert->notebook>=4.4.1->widgetsnbextension~=3.5.0->ipywidgets>=7.0.0->cufflinks) (0.5.0)\n",
            "Requirement already satisfied: entrypoints>=0.2.2 in /usr/local/lib/python3.7/dist-packages (from nbconvert->notebook>=4.4.1->widgetsnbextension~=3.5.0->ipywidgets>=7.0.0->cufflinks) (0.3)\n",
            "Requirement already satisfied: defusedxml in /usr/local/lib/python3.7/dist-packages (from nbconvert->notebook>=4.4.1->widgetsnbextension~=3.5.0->ipywidgets>=7.0.0->cufflinks) (0.7.1)\n",
            "Requirement already satisfied: pandocfilters>=1.4.1 in /usr/local/lib/python3.7/dist-packages (from nbconvert->notebook>=4.4.1->widgetsnbextension~=3.5.0->ipywidgets>=7.0.0->cufflinks) (1.4.3)\n",
            "Requirement already satisfied: bleach in /usr/local/lib/python3.7/dist-packages (from nbconvert->notebook>=4.4.1->widgetsnbextension~=3.5.0->ipywidgets>=7.0.0->cufflinks) (4.0.0)\n",
            "Requirement already satisfied: mistune<2,>=0.8.1 in /usr/local/lib/python3.7/dist-packages (from nbconvert->notebook>=4.4.1->widgetsnbextension~=3.5.0->ipywidgets>=7.0.0->cufflinks) (0.8.4)\n",
            "Requirement already satisfied: packaging in /usr/local/lib/python3.7/dist-packages (from bleach->nbconvert->notebook>=4.4.1->widgetsnbextension~=3.5.0->ipywidgets>=7.0.0->cufflinks) (21.0)\n",
            "Requirement already satisfied: webencodings in /usr/local/lib/python3.7/dist-packages (from bleach->nbconvert->notebook>=4.4.1->widgetsnbextension~=3.5.0->ipywidgets>=7.0.0->cufflinks) (0.5.1)\n",
            "Requirement already satisfied: pyparsing>=2.0.2 in /usr/local/lib/python3.7/dist-packages (from packaging->bleach->nbconvert->notebook>=4.4.1->widgetsnbextension~=3.5.0->ipywidgets>=7.0.0->cufflinks) (2.4.7)\n"
          ]
        },
        {
          "output_type": "stream",
          "name": "stderr",
          "text": [
            "/usr/local/lib/python3.7/dist-packages/ipykernel_launcher.py:6: TqdmDeprecationWarning:\n",
            "\n",
            "This function will be removed in tqdm==5.0.0\n",
            "Please use `tqdm.notebook.*` instead of `tqdm._tqdm_notebook.*`\n",
            "\n"
          ]
        }
      ]
    },
    {
      "cell_type": "code",
      "metadata": {
        "id": "P7bHoMsW76lk",
        "colab": {
          "base_uri": "https://localhost:8080/"
        },
        "outputId": "9c59891d-2548-412b-d395-f2fdf3a2a0c2"
      },
      "source": [
        "!pip install geopandas\n",
        "import geopy\n",
        "from geopy.geocoders import Nominatim\n",
        "from geopy.extra.rate_limiter import RateLimiter"
      ],
      "execution_count": null,
      "outputs": [
        {
          "output_type": "stream",
          "name": "stdout",
          "text": [
            "Collecting geopandas\n",
            "  Downloading geopandas-0.9.0-py2.py3-none-any.whl (994 kB)\n",
            "\u001b[K     |████████████████████████████████| 994 kB 5.4 MB/s \n",
            "\u001b[?25hCollecting pyproj>=2.2.0\n",
            "  Downloading pyproj-3.2.0-cp37-cp37m-manylinux2010_x86_64.whl (6.3 MB)\n",
            "\u001b[K     |████████████████████████████████| 6.3 MB 45.6 MB/s \n",
            "\u001b[?25hCollecting fiona>=1.8\n",
            "  Downloading Fiona-1.8.20-cp37-cp37m-manylinux1_x86_64.whl (15.4 MB)\n",
            "\u001b[K     |████████████████████████████████| 15.4 MB 37 kB/s \n",
            "\u001b[?25hRequirement already satisfied: shapely>=1.6 in /usr/local/lib/python3.7/dist-packages (from geopandas) (1.7.1)\n",
            "Requirement already satisfied: pandas>=0.24.0 in /usr/local/lib/python3.7/dist-packages (from geopandas) (1.1.5)\n",
            "Requirement already satisfied: click>=4.0 in /usr/local/lib/python3.7/dist-packages (from fiona>=1.8->geopandas) (7.1.2)\n",
            "Requirement already satisfied: certifi in /usr/local/lib/python3.7/dist-packages (from fiona>=1.8->geopandas) (2021.5.30)\n",
            "Requirement already satisfied: setuptools in /usr/local/lib/python3.7/dist-packages (from fiona>=1.8->geopandas) (57.4.0)\n",
            "Collecting cligj>=0.5\n",
            "  Downloading cligj-0.7.2-py3-none-any.whl (7.1 kB)\n",
            "Requirement already satisfied: six>=1.7 in /usr/local/lib/python3.7/dist-packages (from fiona>=1.8->geopandas) (1.15.0)\n",
            "Collecting click-plugins>=1.0\n",
            "  Downloading click_plugins-1.1.1-py2.py3-none-any.whl (7.5 kB)\n",
            "Requirement already satisfied: attrs>=17 in /usr/local/lib/python3.7/dist-packages (from fiona>=1.8->geopandas) (21.2.0)\n",
            "Collecting munch\n",
            "  Downloading munch-2.5.0-py2.py3-none-any.whl (10 kB)\n",
            "Requirement already satisfied: python-dateutil>=2.7.3 in /usr/local/lib/python3.7/dist-packages (from pandas>=0.24.0->geopandas) (2.8.2)\n",
            "Requirement already satisfied: numpy>=1.15.4 in /usr/local/lib/python3.7/dist-packages (from pandas>=0.24.0->geopandas) (1.19.5)\n",
            "Requirement already satisfied: pytz>=2017.2 in /usr/local/lib/python3.7/dist-packages (from pandas>=0.24.0->geopandas) (2018.9)\n",
            "Installing collected packages: munch, cligj, click-plugins, pyproj, fiona, geopandas\n",
            "Successfully installed click-plugins-1.1.1 cligj-0.7.2 fiona-1.8.20 geopandas-0.9.0 munch-2.5.0 pyproj-3.2.0\n"
          ]
        }
      ]
    },
    {
      "cell_type": "code",
      "metadata": {
        "id": "hfFzIQD-TWTr",
        "colab": {
          "base_uri": "https://localhost:8080/"
        },
        "outputId": "00899668-f8ce-42ba-e352-ea196f497aee"
      },
      "source": [
        "#import drive\n",
        "from google.colab import drive\n",
        "drive.mount('/content/drive')"
      ],
      "execution_count": null,
      "outputs": [
        {
          "output_type": "stream",
          "name": "stdout",
          "text": [
            "Mounted at /content/drive\n"
          ]
        }
      ]
    },
    {
      "cell_type": "code",
      "metadata": {
        "id": "qwts1tZQR1tU"
      },
      "source": [
        "#df = pd.read_csv(\"filepath_or_buffer\", index_col=None)\n",
        "#df1 = pd.read_csv(\"/content/drive/MyDrive/Colab Notebooks/data/vehicles.csv\", index_col=0)\n",
        "df2 = pd.read_csv(\"/content/drive/MyDrive/Colab Notebooks/data/cars.csv\")"
      ],
      "execution_count": null,
      "outputs": []
    },
    {
      "cell_type": "markdown",
      "metadata": {
        "id": "qEEFdA7LegN8"
      },
      "source": [
        "df1: **cars.csv**\n",
        "*   describe\n",
        "*   clean\n",
        "\n",
        "\n",
        "\n"
      ]
    },
    {
      "cell_type": "code",
      "metadata": {
        "id": "Jl2EqzIpe3mn"
      },
      "source": [
        "df = df2"
      ],
      "execution_count": null,
      "outputs": []
    },
    {
      "cell_type": "code",
      "metadata": {
        "id": "MD1mVdjajS_l",
        "colab": {
          "base_uri": "https://localhost:8080/"
        },
        "outputId": "baa6487c-3bcc-49d7-fede-fbdf11986275"
      },
      "source": [
        "#get number of rows & cols\n",
        "df.shape"
      ],
      "execution_count": null,
      "outputs": [
        {
          "output_type": "execute_result",
          "data": {
            "text/plain": [
              "(38531, 30)"
            ]
          },
          "metadata": {},
          "execution_count": 9
        }
      ]
    },
    {
      "cell_type": "code",
      "metadata": {
        "id": "-AM_fAzzkJbB",
        "colab": {
          "base_uri": "https://localhost:8080/"
        },
        "outputId": "187ab0ac-7c6a-441e-8a70-bc49296a9680"
      },
      "source": [
        "#get number of elements\n",
        "df.size"
      ],
      "execution_count": null,
      "outputs": [
        {
          "output_type": "execute_result",
          "data": {
            "text/plain": [
              "1155930"
            ]
          },
          "metadata": {},
          "execution_count": 10
        }
      ]
    },
    {
      "cell_type": "code",
      "metadata": {
        "id": "lLcnRPWlksVd",
        "colab": {
          "base_uri": "https://localhost:8080/",
          "height": 224
        },
        "outputId": "91196f40-24d3-425c-a8ad-8b456768686b"
      },
      "source": [
        "#get head\n",
        "df.head(n=5)"
      ],
      "execution_count": null,
      "outputs": [
        {
          "output_type": "execute_result",
          "data": {
            "text/html": [
              "<div>\n",
              "<style scoped>\n",
              "    .dataframe tbody tr th:only-of-type {\n",
              "        vertical-align: middle;\n",
              "    }\n",
              "\n",
              "    .dataframe tbody tr th {\n",
              "        vertical-align: top;\n",
              "    }\n",
              "\n",
              "    .dataframe thead th {\n",
              "        text-align: right;\n",
              "    }\n",
              "</style>\n",
              "<table border=\"1\" class=\"dataframe\">\n",
              "  <thead>\n",
              "    <tr style=\"text-align: right;\">\n",
              "      <th></th>\n",
              "      <th>manufacturer_name</th>\n",
              "      <th>model_name</th>\n",
              "      <th>transmission</th>\n",
              "      <th>color</th>\n",
              "      <th>odometer_value</th>\n",
              "      <th>year_produced</th>\n",
              "      <th>engine_fuel</th>\n",
              "      <th>engine_has_gas</th>\n",
              "      <th>engine_type</th>\n",
              "      <th>engine_capacity</th>\n",
              "      <th>body_type</th>\n",
              "      <th>has_warranty</th>\n",
              "      <th>state</th>\n",
              "      <th>drivetrain</th>\n",
              "      <th>price_usd</th>\n",
              "      <th>is_exchangeable</th>\n",
              "      <th>location_region</th>\n",
              "      <th>number_of_photos</th>\n",
              "      <th>up_counter</th>\n",
              "      <th>feature_0</th>\n",
              "      <th>feature_1</th>\n",
              "      <th>feature_2</th>\n",
              "      <th>feature_3</th>\n",
              "      <th>feature_4</th>\n",
              "      <th>feature_5</th>\n",
              "      <th>feature_6</th>\n",
              "      <th>feature_7</th>\n",
              "      <th>feature_8</th>\n",
              "      <th>feature_9</th>\n",
              "      <th>duration_listed</th>\n",
              "    </tr>\n",
              "  </thead>\n",
              "  <tbody>\n",
              "    <tr>\n",
              "      <th>0</th>\n",
              "      <td>Subaru</td>\n",
              "      <td>Outback</td>\n",
              "      <td>automatic</td>\n",
              "      <td>silver</td>\n",
              "      <td>190000</td>\n",
              "      <td>2010</td>\n",
              "      <td>gasoline</td>\n",
              "      <td>False</td>\n",
              "      <td>gasoline</td>\n",
              "      <td>2.5</td>\n",
              "      <td>universal</td>\n",
              "      <td>False</td>\n",
              "      <td>owned</td>\n",
              "      <td>all</td>\n",
              "      <td>10900.00</td>\n",
              "      <td>False</td>\n",
              "      <td>Минская обл.</td>\n",
              "      <td>9</td>\n",
              "      <td>13</td>\n",
              "      <td>False</td>\n",
              "      <td>True</td>\n",
              "      <td>True</td>\n",
              "      <td>True</td>\n",
              "      <td>False</td>\n",
              "      <td>True</td>\n",
              "      <td>False</td>\n",
              "      <td>True</td>\n",
              "      <td>True</td>\n",
              "      <td>True</td>\n",
              "      <td>16</td>\n",
              "    </tr>\n",
              "    <tr>\n",
              "      <th>1</th>\n",
              "      <td>Subaru</td>\n",
              "      <td>Outback</td>\n",
              "      <td>automatic</td>\n",
              "      <td>blue</td>\n",
              "      <td>290000</td>\n",
              "      <td>2002</td>\n",
              "      <td>gasoline</td>\n",
              "      <td>False</td>\n",
              "      <td>gasoline</td>\n",
              "      <td>3.0</td>\n",
              "      <td>universal</td>\n",
              "      <td>False</td>\n",
              "      <td>owned</td>\n",
              "      <td>all</td>\n",
              "      <td>5000.00</td>\n",
              "      <td>True</td>\n",
              "      <td>Минская обл.</td>\n",
              "      <td>12</td>\n",
              "      <td>54</td>\n",
              "      <td>False</td>\n",
              "      <td>True</td>\n",
              "      <td>False</td>\n",
              "      <td>False</td>\n",
              "      <td>True</td>\n",
              "      <td>True</td>\n",
              "      <td>False</td>\n",
              "      <td>False</td>\n",
              "      <td>False</td>\n",
              "      <td>True</td>\n",
              "      <td>83</td>\n",
              "    </tr>\n",
              "    <tr>\n",
              "      <th>2</th>\n",
              "      <td>Subaru</td>\n",
              "      <td>Forester</td>\n",
              "      <td>automatic</td>\n",
              "      <td>red</td>\n",
              "      <td>402000</td>\n",
              "      <td>2001</td>\n",
              "      <td>gasoline</td>\n",
              "      <td>False</td>\n",
              "      <td>gasoline</td>\n",
              "      <td>2.5</td>\n",
              "      <td>suv</td>\n",
              "      <td>False</td>\n",
              "      <td>owned</td>\n",
              "      <td>all</td>\n",
              "      <td>2800.00</td>\n",
              "      <td>True</td>\n",
              "      <td>Минская обл.</td>\n",
              "      <td>4</td>\n",
              "      <td>72</td>\n",
              "      <td>False</td>\n",
              "      <td>True</td>\n",
              "      <td>False</td>\n",
              "      <td>False</td>\n",
              "      <td>False</td>\n",
              "      <td>False</td>\n",
              "      <td>False</td>\n",
              "      <td>False</td>\n",
              "      <td>True</td>\n",
              "      <td>True</td>\n",
              "      <td>151</td>\n",
              "    </tr>\n",
              "    <tr>\n",
              "      <th>3</th>\n",
              "      <td>Subaru</td>\n",
              "      <td>Impreza</td>\n",
              "      <td>mechanical</td>\n",
              "      <td>blue</td>\n",
              "      <td>10000</td>\n",
              "      <td>1999</td>\n",
              "      <td>gasoline</td>\n",
              "      <td>False</td>\n",
              "      <td>gasoline</td>\n",
              "      <td>3.0</td>\n",
              "      <td>sedan</td>\n",
              "      <td>False</td>\n",
              "      <td>owned</td>\n",
              "      <td>all</td>\n",
              "      <td>9999.00</td>\n",
              "      <td>True</td>\n",
              "      <td>Минская обл.</td>\n",
              "      <td>9</td>\n",
              "      <td>42</td>\n",
              "      <td>True</td>\n",
              "      <td>False</td>\n",
              "      <td>False</td>\n",
              "      <td>False</td>\n",
              "      <td>False</td>\n",
              "      <td>False</td>\n",
              "      <td>False</td>\n",
              "      <td>False</td>\n",
              "      <td>False</td>\n",
              "      <td>False</td>\n",
              "      <td>86</td>\n",
              "    </tr>\n",
              "    <tr>\n",
              "      <th>4</th>\n",
              "      <td>Subaru</td>\n",
              "      <td>Legacy</td>\n",
              "      <td>automatic</td>\n",
              "      <td>black</td>\n",
              "      <td>280000</td>\n",
              "      <td>2001</td>\n",
              "      <td>gasoline</td>\n",
              "      <td>False</td>\n",
              "      <td>gasoline</td>\n",
              "      <td>2.5</td>\n",
              "      <td>universal</td>\n",
              "      <td>False</td>\n",
              "      <td>owned</td>\n",
              "      <td>all</td>\n",
              "      <td>2134.11</td>\n",
              "      <td>True</td>\n",
              "      <td>Гомельская обл.</td>\n",
              "      <td>14</td>\n",
              "      <td>7</td>\n",
              "      <td>False</td>\n",
              "      <td>True</td>\n",
              "      <td>False</td>\n",
              "      <td>True</td>\n",
              "      <td>True</td>\n",
              "      <td>False</td>\n",
              "      <td>False</td>\n",
              "      <td>False</td>\n",
              "      <td>False</td>\n",
              "      <td>True</td>\n",
              "      <td>7</td>\n",
              "    </tr>\n",
              "  </tbody>\n",
              "</table>\n",
              "</div>"
            ],
            "text/plain": [
              "  manufacturer_name model_name  ... feature_9 duration_listed\n",
              "0            Subaru    Outback  ...      True              16\n",
              "1            Subaru    Outback  ...      True              83\n",
              "2            Subaru   Forester  ...      True             151\n",
              "3            Subaru    Impreza  ...     False              86\n",
              "4            Subaru     Legacy  ...      True               7\n",
              "\n",
              "[5 rows x 30 columns]"
            ]
          },
          "metadata": {},
          "execution_count": 11
        }
      ]
    },
    {
      "cell_type": "code",
      "metadata": {
        "id": "HzpJK34BkeOK",
        "colab": {
          "base_uri": "https://localhost:8080/"
        },
        "outputId": "af8b82f3-1260-4722-e7a1-86233203f8dd"
      },
      "source": [
        "#get info\n",
        "df.info()"
      ],
      "execution_count": null,
      "outputs": [
        {
          "output_type": "stream",
          "name": "stdout",
          "text": [
            "<class 'pandas.core.frame.DataFrame'>\n",
            "RangeIndex: 38531 entries, 0 to 38530\n",
            "Data columns (total 30 columns):\n",
            " #   Column             Non-Null Count  Dtype  \n",
            "---  ------             --------------  -----  \n",
            " 0   manufacturer_name  38531 non-null  object \n",
            " 1   model_name         38531 non-null  object \n",
            " 2   transmission       38531 non-null  object \n",
            " 3   color              38531 non-null  object \n",
            " 4   odometer_value     38531 non-null  int64  \n",
            " 5   year_produced      38531 non-null  int64  \n",
            " 6   engine_fuel        38531 non-null  object \n",
            " 7   engine_has_gas     38531 non-null  bool   \n",
            " 8   engine_type        38531 non-null  object \n",
            " 9   engine_capacity    38521 non-null  float64\n",
            " 10  body_type          38531 non-null  object \n",
            " 11  has_warranty       38531 non-null  bool   \n",
            " 12  state              38531 non-null  object \n",
            " 13  drivetrain         38531 non-null  object \n",
            " 14  price_usd          38531 non-null  float64\n",
            " 15  is_exchangeable    38531 non-null  bool   \n",
            " 16  location_region    38531 non-null  object \n",
            " 17  number_of_photos   38531 non-null  int64  \n",
            " 18  up_counter         38531 non-null  int64  \n",
            " 19  feature_0          38531 non-null  bool   \n",
            " 20  feature_1          38531 non-null  bool   \n",
            " 21  feature_2          38531 non-null  bool   \n",
            " 22  feature_3          38531 non-null  bool   \n",
            " 23  feature_4          38531 non-null  bool   \n",
            " 24  feature_5          38531 non-null  bool   \n",
            " 25  feature_6          38531 non-null  bool   \n",
            " 26  feature_7          38531 non-null  bool   \n",
            " 27  feature_8          38531 non-null  bool   \n",
            " 28  feature_9          38531 non-null  bool   \n",
            " 29  duration_listed    38531 non-null  int64  \n",
            "dtypes: bool(13), float64(2), int64(5), object(10)\n",
            "memory usage: 5.5+ MB\n"
          ]
        }
      ]
    },
    {
      "cell_type": "code",
      "metadata": {
        "id": "55RffBRjnqxI",
        "colab": {
          "base_uri": "https://localhost:8080/",
          "height": 297
        },
        "outputId": "a77eb7f4-787e-4cc6-c409-7013cdeebab9"
      },
      "source": [
        "#get descriptive stats\n",
        "df.describe()"
      ],
      "execution_count": null,
      "outputs": [
        {
          "output_type": "execute_result",
          "data": {
            "text/html": [
              "<div>\n",
              "<style scoped>\n",
              "    .dataframe tbody tr th:only-of-type {\n",
              "        vertical-align: middle;\n",
              "    }\n",
              "\n",
              "    .dataframe tbody tr th {\n",
              "        vertical-align: top;\n",
              "    }\n",
              "\n",
              "    .dataframe thead th {\n",
              "        text-align: right;\n",
              "    }\n",
              "</style>\n",
              "<table border=\"1\" class=\"dataframe\">\n",
              "  <thead>\n",
              "    <tr style=\"text-align: right;\">\n",
              "      <th></th>\n",
              "      <th>odometer_value</th>\n",
              "      <th>year_produced</th>\n",
              "      <th>engine_capacity</th>\n",
              "      <th>price_usd</th>\n",
              "      <th>number_of_photos</th>\n",
              "      <th>up_counter</th>\n",
              "      <th>duration_listed</th>\n",
              "    </tr>\n",
              "  </thead>\n",
              "  <tbody>\n",
              "    <tr>\n",
              "      <th>count</th>\n",
              "      <td>38531.000000</td>\n",
              "      <td>38531.000000</td>\n",
              "      <td>38521.000000</td>\n",
              "      <td>38531.000000</td>\n",
              "      <td>38531.000000</td>\n",
              "      <td>38531.000000</td>\n",
              "      <td>38531.000000</td>\n",
              "    </tr>\n",
              "    <tr>\n",
              "      <th>mean</th>\n",
              "      <td>248864.638447</td>\n",
              "      <td>2002.943734</td>\n",
              "      <td>2.055161</td>\n",
              "      <td>6639.971021</td>\n",
              "      <td>9.649062</td>\n",
              "      <td>16.306091</td>\n",
              "      <td>80.577249</td>\n",
              "    </tr>\n",
              "    <tr>\n",
              "      <th>std</th>\n",
              "      <td>136072.376530</td>\n",
              "      <td>8.065731</td>\n",
              "      <td>0.671178</td>\n",
              "      <td>6428.152018</td>\n",
              "      <td>6.093217</td>\n",
              "      <td>43.286933</td>\n",
              "      <td>112.826569</td>\n",
              "    </tr>\n",
              "    <tr>\n",
              "      <th>min</th>\n",
              "      <td>0.000000</td>\n",
              "      <td>1942.000000</td>\n",
              "      <td>0.200000</td>\n",
              "      <td>1.000000</td>\n",
              "      <td>1.000000</td>\n",
              "      <td>1.000000</td>\n",
              "      <td>0.000000</td>\n",
              "    </tr>\n",
              "    <tr>\n",
              "      <th>25%</th>\n",
              "      <td>158000.000000</td>\n",
              "      <td>1998.000000</td>\n",
              "      <td>1.600000</td>\n",
              "      <td>2100.000000</td>\n",
              "      <td>5.000000</td>\n",
              "      <td>2.000000</td>\n",
              "      <td>23.000000</td>\n",
              "    </tr>\n",
              "    <tr>\n",
              "      <th>50%</th>\n",
              "      <td>250000.000000</td>\n",
              "      <td>2003.000000</td>\n",
              "      <td>2.000000</td>\n",
              "      <td>4800.000000</td>\n",
              "      <td>8.000000</td>\n",
              "      <td>5.000000</td>\n",
              "      <td>59.000000</td>\n",
              "    </tr>\n",
              "    <tr>\n",
              "      <th>75%</th>\n",
              "      <td>325000.000000</td>\n",
              "      <td>2009.000000</td>\n",
              "      <td>2.300000</td>\n",
              "      <td>8990.000000</td>\n",
              "      <td>12.000000</td>\n",
              "      <td>16.000000</td>\n",
              "      <td>91.000000</td>\n",
              "    </tr>\n",
              "    <tr>\n",
              "      <th>max</th>\n",
              "      <td>1000000.000000</td>\n",
              "      <td>2019.000000</td>\n",
              "      <td>8.000000</td>\n",
              "      <td>50000.000000</td>\n",
              "      <td>86.000000</td>\n",
              "      <td>1861.000000</td>\n",
              "      <td>2232.000000</td>\n",
              "    </tr>\n",
              "  </tbody>\n",
              "</table>\n",
              "</div>"
            ],
            "text/plain": [
              "       odometer_value  year_produced  ...    up_counter  duration_listed\n",
              "count    38531.000000   38531.000000  ...  38531.000000     38531.000000\n",
              "mean    248864.638447    2002.943734  ...     16.306091        80.577249\n",
              "std     136072.376530       8.065731  ...     43.286933       112.826569\n",
              "min          0.000000    1942.000000  ...      1.000000         0.000000\n",
              "25%     158000.000000    1998.000000  ...      2.000000        23.000000\n",
              "50%     250000.000000    2003.000000  ...      5.000000        59.000000\n",
              "75%     325000.000000    2009.000000  ...     16.000000        91.000000\n",
              "max    1000000.000000    2019.000000  ...   1861.000000      2232.000000\n",
              "\n",
              "[8 rows x 7 columns]"
            ]
          },
          "metadata": {},
          "execution_count": 13
        }
      ]
    },
    {
      "cell_type": "code",
      "metadata": {
        "id": "vW6yAxptpChY",
        "colab": {
          "base_uri": "https://localhost:8080/"
        },
        "outputId": "e4c98597-d768-4b21-86fa-ff2f0b2af794"
      },
      "source": [
        "#get sum nan\n",
        "df.isna().sum()"
      ],
      "execution_count": null,
      "outputs": [
        {
          "output_type": "execute_result",
          "data": {
            "text/plain": [
              "manufacturer_name     0\n",
              "model_name            0\n",
              "transmission          0\n",
              "color                 0\n",
              "odometer_value        0\n",
              "year_produced         0\n",
              "engine_fuel           0\n",
              "engine_has_gas        0\n",
              "engine_type           0\n",
              "engine_capacity      10\n",
              "body_type             0\n",
              "has_warranty          0\n",
              "state                 0\n",
              "drivetrain            0\n",
              "price_usd             0\n",
              "is_exchangeable       0\n",
              "location_region       0\n",
              "number_of_photos      0\n",
              "up_counter            0\n",
              "feature_0             0\n",
              "feature_1             0\n",
              "feature_2             0\n",
              "feature_3             0\n",
              "feature_4             0\n",
              "feature_5             0\n",
              "feature_6             0\n",
              "feature_7             0\n",
              "feature_8             0\n",
              "feature_9             0\n",
              "duration_listed       0\n",
              "dtype: int64"
            ]
          },
          "metadata": {},
          "execution_count": 14
        }
      ]
    },
    {
      "cell_type": "code",
      "metadata": {
        "id": "meBUBitrqc6m",
        "colab": {
          "base_uri": "https://localhost:8080/"
        },
        "outputId": "7bad809f-190a-4f0e-f86d-c7bd4e5d9a7c"
      },
      "source": [
        "#get sum non nan\n",
        "df.notnull().sum()"
      ],
      "execution_count": null,
      "outputs": [
        {
          "output_type": "execute_result",
          "data": {
            "text/plain": [
              "manufacturer_name    38531\n",
              "model_name           38531\n",
              "transmission         38531\n",
              "color                38531\n",
              "odometer_value       38531\n",
              "year_produced        38531\n",
              "engine_fuel          38531\n",
              "engine_has_gas       38531\n",
              "engine_type          38531\n",
              "engine_capacity      38521\n",
              "body_type            38531\n",
              "has_warranty         38531\n",
              "state                38531\n",
              "drivetrain           38531\n",
              "price_usd            38531\n",
              "is_exchangeable      38531\n",
              "location_region      38531\n",
              "number_of_photos     38531\n",
              "up_counter           38531\n",
              "feature_0            38531\n",
              "feature_1            38531\n",
              "feature_2            38531\n",
              "feature_3            38531\n",
              "feature_4            38531\n",
              "feature_5            38531\n",
              "feature_6            38531\n",
              "feature_7            38531\n",
              "feature_8            38531\n",
              "feature_9            38531\n",
              "duration_listed      38531\n",
              "dtype: int64"
            ]
          },
          "metadata": {},
          "execution_count": 15
        }
      ]
    },
    {
      "cell_type": "code",
      "metadata": {
        "id": "XOlK997CiqoX",
        "colab": {
          "base_uri": "https://localhost:8080/"
        },
        "outputId": "0fa99dfe-6932-4275-e4e7-b3c375f6536d"
      },
      "source": [
        "#remove duplicate rows\n",
        "df.duplicated().sum()\n",
        "df.drop_duplicates(inplace=True)\n",
        "df.shape"
      ],
      "execution_count": null,
      "outputs": [
        {
          "output_type": "execute_result",
          "data": {
            "text/plain": [
              "(38491, 30)"
            ]
          },
          "metadata": {},
          "execution_count": 16
        }
      ]
    },
    {
      "cell_type": "code",
      "metadata": {
        "id": "orSoUXvrUZEx",
        "colab": {
          "base_uri": "https://localhost:8080/",
          "height": 224
        },
        "outputId": "f92bdcc9-4df1-4ae5-a011-7e727fadc0da"
      },
      "source": [
        "#change col names\n",
        "df = df.rename(columns={'year_produced': 'year', 'price_usd': 'price','manufacturer_name\t': 'manufacturer','engine_fuel' : 'fuel','transmission':'gear','odometer_value':'odometer'})\n",
        "df.head()"
      ],
      "execution_count": null,
      "outputs": [
        {
          "output_type": "execute_result",
          "data": {
            "text/html": [
              "<div>\n",
              "<style scoped>\n",
              "    .dataframe tbody tr th:only-of-type {\n",
              "        vertical-align: middle;\n",
              "    }\n",
              "\n",
              "    .dataframe tbody tr th {\n",
              "        vertical-align: top;\n",
              "    }\n",
              "\n",
              "    .dataframe thead th {\n",
              "        text-align: right;\n",
              "    }\n",
              "</style>\n",
              "<table border=\"1\" class=\"dataframe\">\n",
              "  <thead>\n",
              "    <tr style=\"text-align: right;\">\n",
              "      <th></th>\n",
              "      <th>manufacturer_name</th>\n",
              "      <th>model_name</th>\n",
              "      <th>gear</th>\n",
              "      <th>color</th>\n",
              "      <th>odometer</th>\n",
              "      <th>year</th>\n",
              "      <th>fuel</th>\n",
              "      <th>engine_has_gas</th>\n",
              "      <th>engine_type</th>\n",
              "      <th>engine_capacity</th>\n",
              "      <th>body_type</th>\n",
              "      <th>has_warranty</th>\n",
              "      <th>state</th>\n",
              "      <th>drivetrain</th>\n",
              "      <th>price</th>\n",
              "      <th>is_exchangeable</th>\n",
              "      <th>location_region</th>\n",
              "      <th>number_of_photos</th>\n",
              "      <th>up_counter</th>\n",
              "      <th>feature_0</th>\n",
              "      <th>feature_1</th>\n",
              "      <th>feature_2</th>\n",
              "      <th>feature_3</th>\n",
              "      <th>feature_4</th>\n",
              "      <th>feature_5</th>\n",
              "      <th>feature_6</th>\n",
              "      <th>feature_7</th>\n",
              "      <th>feature_8</th>\n",
              "      <th>feature_9</th>\n",
              "      <th>duration_listed</th>\n",
              "    </tr>\n",
              "  </thead>\n",
              "  <tbody>\n",
              "    <tr>\n",
              "      <th>0</th>\n",
              "      <td>Subaru</td>\n",
              "      <td>Outback</td>\n",
              "      <td>automatic</td>\n",
              "      <td>silver</td>\n",
              "      <td>190000</td>\n",
              "      <td>2010</td>\n",
              "      <td>gasoline</td>\n",
              "      <td>False</td>\n",
              "      <td>gasoline</td>\n",
              "      <td>2.5</td>\n",
              "      <td>universal</td>\n",
              "      <td>False</td>\n",
              "      <td>owned</td>\n",
              "      <td>all</td>\n",
              "      <td>10900.00</td>\n",
              "      <td>False</td>\n",
              "      <td>Минская обл.</td>\n",
              "      <td>9</td>\n",
              "      <td>13</td>\n",
              "      <td>False</td>\n",
              "      <td>True</td>\n",
              "      <td>True</td>\n",
              "      <td>True</td>\n",
              "      <td>False</td>\n",
              "      <td>True</td>\n",
              "      <td>False</td>\n",
              "      <td>True</td>\n",
              "      <td>True</td>\n",
              "      <td>True</td>\n",
              "      <td>16</td>\n",
              "    </tr>\n",
              "    <tr>\n",
              "      <th>1</th>\n",
              "      <td>Subaru</td>\n",
              "      <td>Outback</td>\n",
              "      <td>automatic</td>\n",
              "      <td>blue</td>\n",
              "      <td>290000</td>\n",
              "      <td>2002</td>\n",
              "      <td>gasoline</td>\n",
              "      <td>False</td>\n",
              "      <td>gasoline</td>\n",
              "      <td>3.0</td>\n",
              "      <td>universal</td>\n",
              "      <td>False</td>\n",
              "      <td>owned</td>\n",
              "      <td>all</td>\n",
              "      <td>5000.00</td>\n",
              "      <td>True</td>\n",
              "      <td>Минская обл.</td>\n",
              "      <td>12</td>\n",
              "      <td>54</td>\n",
              "      <td>False</td>\n",
              "      <td>True</td>\n",
              "      <td>False</td>\n",
              "      <td>False</td>\n",
              "      <td>True</td>\n",
              "      <td>True</td>\n",
              "      <td>False</td>\n",
              "      <td>False</td>\n",
              "      <td>False</td>\n",
              "      <td>True</td>\n",
              "      <td>83</td>\n",
              "    </tr>\n",
              "    <tr>\n",
              "      <th>2</th>\n",
              "      <td>Subaru</td>\n",
              "      <td>Forester</td>\n",
              "      <td>automatic</td>\n",
              "      <td>red</td>\n",
              "      <td>402000</td>\n",
              "      <td>2001</td>\n",
              "      <td>gasoline</td>\n",
              "      <td>False</td>\n",
              "      <td>gasoline</td>\n",
              "      <td>2.5</td>\n",
              "      <td>suv</td>\n",
              "      <td>False</td>\n",
              "      <td>owned</td>\n",
              "      <td>all</td>\n",
              "      <td>2800.00</td>\n",
              "      <td>True</td>\n",
              "      <td>Минская обл.</td>\n",
              "      <td>4</td>\n",
              "      <td>72</td>\n",
              "      <td>False</td>\n",
              "      <td>True</td>\n",
              "      <td>False</td>\n",
              "      <td>False</td>\n",
              "      <td>False</td>\n",
              "      <td>False</td>\n",
              "      <td>False</td>\n",
              "      <td>False</td>\n",
              "      <td>True</td>\n",
              "      <td>True</td>\n",
              "      <td>151</td>\n",
              "    </tr>\n",
              "    <tr>\n",
              "      <th>3</th>\n",
              "      <td>Subaru</td>\n",
              "      <td>Impreza</td>\n",
              "      <td>mechanical</td>\n",
              "      <td>blue</td>\n",
              "      <td>10000</td>\n",
              "      <td>1999</td>\n",
              "      <td>gasoline</td>\n",
              "      <td>False</td>\n",
              "      <td>gasoline</td>\n",
              "      <td>3.0</td>\n",
              "      <td>sedan</td>\n",
              "      <td>False</td>\n",
              "      <td>owned</td>\n",
              "      <td>all</td>\n",
              "      <td>9999.00</td>\n",
              "      <td>True</td>\n",
              "      <td>Минская обл.</td>\n",
              "      <td>9</td>\n",
              "      <td>42</td>\n",
              "      <td>True</td>\n",
              "      <td>False</td>\n",
              "      <td>False</td>\n",
              "      <td>False</td>\n",
              "      <td>False</td>\n",
              "      <td>False</td>\n",
              "      <td>False</td>\n",
              "      <td>False</td>\n",
              "      <td>False</td>\n",
              "      <td>False</td>\n",
              "      <td>86</td>\n",
              "    </tr>\n",
              "    <tr>\n",
              "      <th>4</th>\n",
              "      <td>Subaru</td>\n",
              "      <td>Legacy</td>\n",
              "      <td>automatic</td>\n",
              "      <td>black</td>\n",
              "      <td>280000</td>\n",
              "      <td>2001</td>\n",
              "      <td>gasoline</td>\n",
              "      <td>False</td>\n",
              "      <td>gasoline</td>\n",
              "      <td>2.5</td>\n",
              "      <td>universal</td>\n",
              "      <td>False</td>\n",
              "      <td>owned</td>\n",
              "      <td>all</td>\n",
              "      <td>2134.11</td>\n",
              "      <td>True</td>\n",
              "      <td>Гомельская обл.</td>\n",
              "      <td>14</td>\n",
              "      <td>7</td>\n",
              "      <td>False</td>\n",
              "      <td>True</td>\n",
              "      <td>False</td>\n",
              "      <td>True</td>\n",
              "      <td>True</td>\n",
              "      <td>False</td>\n",
              "      <td>False</td>\n",
              "      <td>False</td>\n",
              "      <td>False</td>\n",
              "      <td>True</td>\n",
              "      <td>7</td>\n",
              "    </tr>\n",
              "  </tbody>\n",
              "</table>\n",
              "</div>"
            ],
            "text/plain": [
              "  manufacturer_name model_name  ... feature_9 duration_listed\n",
              "0            Subaru    Outback  ...      True              16\n",
              "1            Subaru    Outback  ...      True              83\n",
              "2            Subaru   Forester  ...      True             151\n",
              "3            Subaru    Impreza  ...     False              86\n",
              "4            Subaru     Legacy  ...      True               7\n",
              "\n",
              "[5 rows x 30 columns]"
            ]
          },
          "metadata": {},
          "execution_count": 17
        }
      ]
    },
    {
      "cell_type": "code",
      "metadata": {
        "id": "_mozuWlE1Mqo",
        "colab": {
          "base_uri": "https://localhost:8080/"
        },
        "outputId": "4195ab99-1106-4a84-f2f1-7a5662b99cee"
      },
      "source": [
        "print(df['price'].max())\n",
        "print(df['price'].min())\n",
        "print(df['price'].mean())\n",
        "print(df['price'].median())"
      ],
      "execution_count": null,
      "outputs": [
        {
          "output_type": "stream",
          "name": "stdout",
          "text": [
            "50000.0\n",
            "1.0\n",
            "6632.809226832238\n",
            "4800.0\n"
          ]
        }
      ]
    },
    {
      "cell_type": "code",
      "metadata": {
        "id": "_rNQSs_dBQ1U",
        "colab": {
          "base_uri": "https://localhost:8080/",
          "height": 1000
        },
        "outputId": "cc1df7ae-aafd-4304-e19d-0489c24b845d"
      },
      "source": [
        "df = df[df['price'] >=50] \n",
        "df.pivot_table(values='price', index='manufacturer_name',aggfunc=[np.mean, np.median, np.max, np.min])"
      ],
      "execution_count": null,
      "outputs": [
        {
          "output_type": "execute_result",
          "data": {
            "text/html": [
              "<div>\n",
              "<style scoped>\n",
              "    .dataframe tbody tr th:only-of-type {\n",
              "        vertical-align: middle;\n",
              "    }\n",
              "\n",
              "    .dataframe tbody tr th {\n",
              "        vertical-align: top;\n",
              "    }\n",
              "\n",
              "    .dataframe thead tr th {\n",
              "        text-align: left;\n",
              "    }\n",
              "\n",
              "    .dataframe thead tr:last-of-type th {\n",
              "        text-align: right;\n",
              "    }\n",
              "</style>\n",
              "<table border=\"1\" class=\"dataframe\">\n",
              "  <thead>\n",
              "    <tr>\n",
              "      <th></th>\n",
              "      <th>mean</th>\n",
              "      <th>median</th>\n",
              "      <th>amax</th>\n",
              "      <th>amin</th>\n",
              "    </tr>\n",
              "    <tr>\n",
              "      <th></th>\n",
              "      <th>price</th>\n",
              "      <th>price</th>\n",
              "      <th>price</th>\n",
              "      <th>price</th>\n",
              "    </tr>\n",
              "    <tr>\n",
              "      <th>manufacturer_name</th>\n",
              "      <th></th>\n",
              "      <th></th>\n",
              "      <th></th>\n",
              "      <th></th>\n",
              "    </tr>\n",
              "  </thead>\n",
              "  <tbody>\n",
              "    <tr>\n",
              "      <th>Acura</th>\n",
              "      <td>12772.885909</td>\n",
              "      <td>12024.500</td>\n",
              "      <td>36500.00</td>\n",
              "      <td>2350.00</td>\n",
              "    </tr>\n",
              "    <tr>\n",
              "      <th>Alfa Romeo</th>\n",
              "      <td>2688.550097</td>\n",
              "      <td>2000.000</td>\n",
              "      <td>22000.00</td>\n",
              "      <td>104.33</td>\n",
              "    </tr>\n",
              "    <tr>\n",
              "      <th>Audi</th>\n",
              "      <td>7154.944923</td>\n",
              "      <td>5330.790</td>\n",
              "      <td>46750.00</td>\n",
              "      <td>130.00</td>\n",
              "    </tr>\n",
              "    <tr>\n",
              "      <th>BMW</th>\n",
              "      <td>9553.258777</td>\n",
              "      <td>6750.000</td>\n",
              "      <td>50000.00</td>\n",
              "      <td>200.00</td>\n",
              "    </tr>\n",
              "    <tr>\n",
              "      <th>Buick</th>\n",
              "      <td>12876.319149</td>\n",
              "      <td>12300.000</td>\n",
              "      <td>24000.00</td>\n",
              "      <td>5300.00</td>\n",
              "    </tr>\n",
              "    <tr>\n",
              "      <th>Cadillac</th>\n",
              "      <td>11093.124651</td>\n",
              "      <td>9100.000</td>\n",
              "      <td>25750.00</td>\n",
              "      <td>1700.00</td>\n",
              "    </tr>\n",
              "    <tr>\n",
              "      <th>Chery</th>\n",
              "      <td>4545.978103</td>\n",
              "      <td>3750.000</td>\n",
              "      <td>16077.02</td>\n",
              "      <td>1250.00</td>\n",
              "    </tr>\n",
              "    <tr>\n",
              "      <th>Chevrolet</th>\n",
              "      <td>8873.131995</td>\n",
              "      <td>8300.000</td>\n",
              "      <td>49900.00</td>\n",
              "      <td>800.00</td>\n",
              "    </tr>\n",
              "    <tr>\n",
              "      <th>Chrysler</th>\n",
              "      <td>4995.491780</td>\n",
              "      <td>4000.000</td>\n",
              "      <td>48000.00</td>\n",
              "      <td>550.00</td>\n",
              "    </tr>\n",
              "    <tr>\n",
              "      <th>Citroen</th>\n",
              "      <td>4435.325516</td>\n",
              "      <td>3650.000</td>\n",
              "      <td>19500.00</td>\n",
              "      <td>100.00</td>\n",
              "    </tr>\n",
              "    <tr>\n",
              "      <th>Dacia</th>\n",
              "      <td>5342.751525</td>\n",
              "      <td>4000.000</td>\n",
              "      <td>11950.00</td>\n",
              "      <td>1350.00</td>\n",
              "    </tr>\n",
              "    <tr>\n",
              "      <th>Daewoo</th>\n",
              "      <td>1576.608733</td>\n",
              "      <td>1400.000</td>\n",
              "      <td>6700.00</td>\n",
              "      <td>100.00</td>\n",
              "    </tr>\n",
              "    <tr>\n",
              "      <th>Dodge</th>\n",
              "      <td>5608.011953</td>\n",
              "      <td>3793.990</td>\n",
              "      <td>35900.00</td>\n",
              "      <td>400.00</td>\n",
              "    </tr>\n",
              "    <tr>\n",
              "      <th>Fiat</th>\n",
              "      <td>3013.676440</td>\n",
              "      <td>1964.240</td>\n",
              "      <td>34118.23</td>\n",
              "      <td>150.00</td>\n",
              "    </tr>\n",
              "    <tr>\n",
              "      <th>Ford</th>\n",
              "      <td>4997.677323</td>\n",
              "      <td>3350.000</td>\n",
              "      <td>41000.00</td>\n",
              "      <td>110.00</td>\n",
              "    </tr>\n",
              "    <tr>\n",
              "      <th>Geely</th>\n",
              "      <td>7769.232535</td>\n",
              "      <td>5800.000</td>\n",
              "      <td>22479.37</td>\n",
              "      <td>222.00</td>\n",
              "    </tr>\n",
              "    <tr>\n",
              "      <th>Great Wall</th>\n",
              "      <td>6423.760278</td>\n",
              "      <td>6200.000</td>\n",
              "      <td>16499.00</td>\n",
              "      <td>1999.00</td>\n",
              "    </tr>\n",
              "    <tr>\n",
              "      <th>Honda</th>\n",
              "      <td>6515.096474</td>\n",
              "      <td>5950.000</td>\n",
              "      <td>42000.00</td>\n",
              "      <td>100.00</td>\n",
              "    </tr>\n",
              "    <tr>\n",
              "      <th>Hyundai</th>\n",
              "      <td>7926.190394</td>\n",
              "      <td>7000.000</td>\n",
              "      <td>45954.66</td>\n",
              "      <td>200.00</td>\n",
              "    </tr>\n",
              "    <tr>\n",
              "      <th>Infiniti</th>\n",
              "      <td>13794.604938</td>\n",
              "      <td>11999.500</td>\n",
              "      <td>47000.00</td>\n",
              "      <td>4200.00</td>\n",
              "    </tr>\n",
              "    <tr>\n",
              "      <th>Iveco</th>\n",
              "      <td>10052.317122</td>\n",
              "      <td>8000.000</td>\n",
              "      <td>40000.00</td>\n",
              "      <td>1700.00</td>\n",
              "    </tr>\n",
              "    <tr>\n",
              "      <th>Jaguar</th>\n",
              "      <td>17813.000000</td>\n",
              "      <td>13400.000</td>\n",
              "      <td>50000.00</td>\n",
              "      <td>2500.00</td>\n",
              "    </tr>\n",
              "    <tr>\n",
              "      <th>Jeep</th>\n",
              "      <td>10912.489439</td>\n",
              "      <td>8450.000</td>\n",
              "      <td>43000.00</td>\n",
              "      <td>1500.00</td>\n",
              "    </tr>\n",
              "    <tr>\n",
              "      <th>Kia</th>\n",
              "      <td>8156.095526</td>\n",
              "      <td>7300.000</td>\n",
              "      <td>44700.00</td>\n",
              "      <td>200.00</td>\n",
              "    </tr>\n",
              "    <tr>\n",
              "      <th>LADA</th>\n",
              "      <td>7598.681370</td>\n",
              "      <td>7853.065</td>\n",
              "      <td>13800.00</td>\n",
              "      <td>120.00</td>\n",
              "    </tr>\n",
              "    <tr>\n",
              "      <th>Lancia</th>\n",
              "      <td>2901.508370</td>\n",
              "      <td>2167.060</td>\n",
              "      <td>9500.00</td>\n",
              "      <td>200.00</td>\n",
              "    </tr>\n",
              "    <tr>\n",
              "      <th>Land Rover</th>\n",
              "      <td>15195.300380</td>\n",
              "      <td>12200.000</td>\n",
              "      <td>49950.00</td>\n",
              "      <td>2800.00</td>\n",
              "    </tr>\n",
              "    <tr>\n",
              "      <th>Lexus</th>\n",
              "      <td>17130.560845</td>\n",
              "      <td>14200.000</td>\n",
              "      <td>48610.45</td>\n",
              "      <td>2500.00</td>\n",
              "    </tr>\n",
              "    <tr>\n",
              "      <th>Lifan</th>\n",
              "      <td>8280.536170</td>\n",
              "      <td>8000.000</td>\n",
              "      <td>15750.00</td>\n",
              "      <td>1050.00</td>\n",
              "    </tr>\n",
              "    <tr>\n",
              "      <th>Lincoln</th>\n",
              "      <td>9737.472222</td>\n",
              "      <td>6675.000</td>\n",
              "      <td>27900.00</td>\n",
              "      <td>2500.00</td>\n",
              "    </tr>\n",
              "    <tr>\n",
              "      <th>Mazda</th>\n",
              "      <td>4735.091929</td>\n",
              "      <td>3200.000</td>\n",
              "      <td>39500.00</td>\n",
              "      <td>130.00</td>\n",
              "    </tr>\n",
              "    <tr>\n",
              "      <th>Mercedes-Benz</th>\n",
              "      <td>9394.015818</td>\n",
              "      <td>6729.020</td>\n",
              "      <td>49999.00</td>\n",
              "      <td>250.00</td>\n",
              "    </tr>\n",
              "    <tr>\n",
              "      <th>Mini</th>\n",
              "      <td>13133.700882</td>\n",
              "      <td>11975.000</td>\n",
              "      <td>39456.08</td>\n",
              "      <td>4099.00</td>\n",
              "    </tr>\n",
              "    <tr>\n",
              "      <th>Mitsubishi</th>\n",
              "      <td>5419.462190</td>\n",
              "      <td>3500.000</td>\n",
              "      <td>31400.00</td>\n",
              "      <td>150.00</td>\n",
              "    </tr>\n",
              "    <tr>\n",
              "      <th>Nissan</th>\n",
              "      <td>6411.514173</td>\n",
              "      <td>4500.000</td>\n",
              "      <td>39000.00</td>\n",
              "      <td>150.00</td>\n",
              "    </tr>\n",
              "    <tr>\n",
              "      <th>Opel</th>\n",
              "      <td>4425.992900</td>\n",
              "      <td>3650.000</td>\n",
              "      <td>22900.00</td>\n",
              "      <td>150.00</td>\n",
              "    </tr>\n",
              "    <tr>\n",
              "      <th>Peugeot</th>\n",
              "      <td>4384.513962</td>\n",
              "      <td>3796.995</td>\n",
              "      <td>20450.00</td>\n",
              "      <td>118.56</td>\n",
              "    </tr>\n",
              "    <tr>\n",
              "      <th>Pontiac</th>\n",
              "      <td>4363.544048</td>\n",
              "      <td>4750.000</td>\n",
              "      <td>10000.00</td>\n",
              "      <td>350.00</td>\n",
              "    </tr>\n",
              "    <tr>\n",
              "      <th>Porsche</th>\n",
              "      <td>18629.823770</td>\n",
              "      <td>15000.000</td>\n",
              "      <td>47900.00</td>\n",
              "      <td>2999.00</td>\n",
              "    </tr>\n",
              "    <tr>\n",
              "      <th>Renault</th>\n",
              "      <td>4561.049936</td>\n",
              "      <td>3350.000</td>\n",
              "      <td>30304.47</td>\n",
              "      <td>100.00</td>\n",
              "    </tr>\n",
              "    <tr>\n",
              "      <th>Rover</th>\n",
              "      <td>1734.242213</td>\n",
              "      <td>1499.000</td>\n",
              "      <td>9900.00</td>\n",
              "      <td>200.00</td>\n",
              "    </tr>\n",
              "    <tr>\n",
              "      <th>Saab</th>\n",
              "      <td>4130.585370</td>\n",
              "      <td>3800.000</td>\n",
              "      <td>17500.00</td>\n",
              "      <td>403.11</td>\n",
              "    </tr>\n",
              "    <tr>\n",
              "      <th>Seat</th>\n",
              "      <td>3868.015347</td>\n",
              "      <td>3100.000</td>\n",
              "      <td>18350.00</td>\n",
              "      <td>162.07</td>\n",
              "    </tr>\n",
              "    <tr>\n",
              "      <th>Skoda</th>\n",
              "      <td>13726.073463</td>\n",
              "      <td>10500.000</td>\n",
              "      <td>44947.83</td>\n",
              "      <td>300.00</td>\n",
              "    </tr>\n",
              "    <tr>\n",
              "      <th>SsangYong</th>\n",
              "      <td>7719.322405</td>\n",
              "      <td>7500.000</td>\n",
              "      <td>15900.00</td>\n",
              "      <td>1850.00</td>\n",
              "    </tr>\n",
              "    <tr>\n",
              "      <th>Subaru</th>\n",
              "      <td>7522.094605</td>\n",
              "      <td>6650.000</td>\n",
              "      <td>35500.00</td>\n",
              "      <td>400.00</td>\n",
              "    </tr>\n",
              "    <tr>\n",
              "      <th>Suzuki</th>\n",
              "      <td>5302.598761</td>\n",
              "      <td>4899.000</td>\n",
              "      <td>16500.00</td>\n",
              "      <td>150.00</td>\n",
              "    </tr>\n",
              "    <tr>\n",
              "      <th>Toyota</th>\n",
              "      <td>9798.152456</td>\n",
              "      <td>7812.550</td>\n",
              "      <td>45999.00</td>\n",
              "      <td>250.00</td>\n",
              "    </tr>\n",
              "    <tr>\n",
              "      <th>Volkswagen</th>\n",
              "      <td>6429.276566</td>\n",
              "      <td>5500.000</td>\n",
              "      <td>43999.00</td>\n",
              "      <td>94.85</td>\n",
              "    </tr>\n",
              "    <tr>\n",
              "      <th>Volvo</th>\n",
              "      <td>8416.341540</td>\n",
              "      <td>7300.000</td>\n",
              "      <td>48200.00</td>\n",
              "      <td>155.00</td>\n",
              "    </tr>\n",
              "    <tr>\n",
              "      <th>ВАЗ</th>\n",
              "      <td>1522.083625</td>\n",
              "      <td>800.000</td>\n",
              "      <td>12804.70</td>\n",
              "      <td>60.00</td>\n",
              "    </tr>\n",
              "    <tr>\n",
              "      <th>ГАЗ</th>\n",
              "      <td>3889.731900</td>\n",
              "      <td>1618.080</td>\n",
              "      <td>30000.00</td>\n",
              "      <td>200.00</td>\n",
              "    </tr>\n",
              "    <tr>\n",
              "      <th>ЗАЗ</th>\n",
              "      <td>1360.211190</td>\n",
              "      <td>600.000</td>\n",
              "      <td>4300.00</td>\n",
              "      <td>150.00</td>\n",
              "    </tr>\n",
              "    <tr>\n",
              "      <th>Москвич</th>\n",
              "      <td>978.912182</td>\n",
              "      <td>500.000</td>\n",
              "      <td>10000.00</td>\n",
              "      <td>149.00</td>\n",
              "    </tr>\n",
              "    <tr>\n",
              "      <th>УАЗ</th>\n",
              "      <td>3443.123784</td>\n",
              "      <td>2000.000</td>\n",
              "      <td>15000.00</td>\n",
              "      <td>379.40</td>\n",
              "    </tr>\n",
              "  </tbody>\n",
              "</table>\n",
              "</div>"
            ],
            "text/plain": [
              "                           mean     median      amax     amin\n",
              "                          price      price     price    price\n",
              "manufacturer_name                                            \n",
              "Acura              12772.885909  12024.500  36500.00  2350.00\n",
              "Alfa Romeo          2688.550097   2000.000  22000.00   104.33\n",
              "Audi                7154.944923   5330.790  46750.00   130.00\n",
              "BMW                 9553.258777   6750.000  50000.00   200.00\n",
              "Buick              12876.319149  12300.000  24000.00  5300.00\n",
              "Cadillac           11093.124651   9100.000  25750.00  1700.00\n",
              "Chery               4545.978103   3750.000  16077.02  1250.00\n",
              "Chevrolet           8873.131995   8300.000  49900.00   800.00\n",
              "Chrysler            4995.491780   4000.000  48000.00   550.00\n",
              "Citroen             4435.325516   3650.000  19500.00   100.00\n",
              "Dacia               5342.751525   4000.000  11950.00  1350.00\n",
              "Daewoo              1576.608733   1400.000   6700.00   100.00\n",
              "Dodge               5608.011953   3793.990  35900.00   400.00\n",
              "Fiat                3013.676440   1964.240  34118.23   150.00\n",
              "Ford                4997.677323   3350.000  41000.00   110.00\n",
              "Geely               7769.232535   5800.000  22479.37   222.00\n",
              "Great Wall          6423.760278   6200.000  16499.00  1999.00\n",
              "Honda               6515.096474   5950.000  42000.00   100.00\n",
              "Hyundai             7926.190394   7000.000  45954.66   200.00\n",
              "Infiniti           13794.604938  11999.500  47000.00  4200.00\n",
              "Iveco              10052.317122   8000.000  40000.00  1700.00\n",
              "Jaguar             17813.000000  13400.000  50000.00  2500.00\n",
              "Jeep               10912.489439   8450.000  43000.00  1500.00\n",
              "Kia                 8156.095526   7300.000  44700.00   200.00\n",
              "LADA                7598.681370   7853.065  13800.00   120.00\n",
              "Lancia              2901.508370   2167.060   9500.00   200.00\n",
              "Land Rover         15195.300380  12200.000  49950.00  2800.00\n",
              "Lexus              17130.560845  14200.000  48610.45  2500.00\n",
              "Lifan               8280.536170   8000.000  15750.00  1050.00\n",
              "Lincoln             9737.472222   6675.000  27900.00  2500.00\n",
              "Mazda               4735.091929   3200.000  39500.00   130.00\n",
              "Mercedes-Benz       9394.015818   6729.020  49999.00   250.00\n",
              "Mini               13133.700882  11975.000  39456.08  4099.00\n",
              "Mitsubishi          5419.462190   3500.000  31400.00   150.00\n",
              "Nissan              6411.514173   4500.000  39000.00   150.00\n",
              "Opel                4425.992900   3650.000  22900.00   150.00\n",
              "Peugeot             4384.513962   3796.995  20450.00   118.56\n",
              "Pontiac             4363.544048   4750.000  10000.00   350.00\n",
              "Porsche            18629.823770  15000.000  47900.00  2999.00\n",
              "Renault             4561.049936   3350.000  30304.47   100.00\n",
              "Rover               1734.242213   1499.000   9900.00   200.00\n",
              "Saab                4130.585370   3800.000  17500.00   403.11\n",
              "Seat                3868.015347   3100.000  18350.00   162.07\n",
              "Skoda              13726.073463  10500.000  44947.83   300.00\n",
              "SsangYong           7719.322405   7500.000  15900.00  1850.00\n",
              "Subaru              7522.094605   6650.000  35500.00   400.00\n",
              "Suzuki              5302.598761   4899.000  16500.00   150.00\n",
              "Toyota              9798.152456   7812.550  45999.00   250.00\n",
              "Volkswagen          6429.276566   5500.000  43999.00    94.85\n",
              "Volvo               8416.341540   7300.000  48200.00   155.00\n",
              "ВАЗ                 1522.083625    800.000  12804.70    60.00\n",
              "ГАЗ                 3889.731900   1618.080  30000.00   200.00\n",
              "ЗАЗ                 1360.211190    600.000   4300.00   150.00\n",
              "Москвич              978.912182    500.000  10000.00   149.00\n",
              "УАЗ                 3443.123784   2000.000  15000.00   379.40"
            ]
          },
          "metadata": {},
          "execution_count": 19
        }
      ]
    },
    {
      "cell_type": "code",
      "metadata": {
        "id": "1qKR1pI_DTfC",
        "colab": {
          "base_uri": "https://localhost:8080/",
          "height": 1000
        },
        "outputId": "af958571-dc7c-4d61-f821-1961e8ddf885"
      },
      "source": [
        "#distribution bar chart --> manufacturer/ASP\n",
        "print(df.groupby('manufacturer_name', as_index=True)['price'].mean())\n",
        "plt2 = sns.barplot('manufacturer_name', 'price', data=df, ci=False)"
      ],
      "execution_count": null,
      "outputs": [
        {
          "output_type": "stream",
          "name": "stdout",
          "text": [
            "manufacturer_name\n",
            "Acura            12772.885909\n",
            "Alfa Romeo        2688.550097\n",
            "Audi              7154.944923\n",
            "BMW               9553.258777\n",
            "Buick            12876.319149\n",
            "Cadillac         11093.124651\n",
            "Chery             4545.978103\n",
            "Chevrolet         8873.131995\n",
            "Chrysler          4995.491780\n",
            "Citroen           4435.325516\n",
            "Dacia             5342.751525\n",
            "Daewoo            1576.608733\n",
            "Dodge             5608.011953\n",
            "Fiat              3013.676440\n",
            "Ford              4997.677323\n",
            "Geely             7769.232535\n",
            "Great Wall        6423.760278\n",
            "Honda             6515.096474\n",
            "Hyundai           7926.190394\n",
            "Infiniti         13794.604938\n",
            "Iveco            10052.317122\n",
            "Jaguar           17813.000000\n",
            "Jeep             10912.489439\n",
            "Kia               8156.095526\n",
            "LADA              7598.681370\n",
            "Lancia            2901.508370\n",
            "Land Rover       15195.300380\n",
            "Lexus            17130.560845\n",
            "Lifan             8280.536170\n",
            "Lincoln           9737.472222\n",
            "Mazda             4735.091929\n",
            "Mercedes-Benz     9394.015818\n",
            "Mini             13133.700882\n",
            "Mitsubishi        5419.462190\n",
            "Nissan            6411.514173\n",
            "Opel              4425.992900\n",
            "Peugeot           4384.513962\n",
            "Pontiac           4363.544048\n",
            "Porsche          18629.823770\n",
            "Renault           4561.049936\n",
            "Rover             1734.242213\n",
            "Saab              4130.585370\n",
            "Seat              3868.015347\n",
            "Skoda            13726.073463\n",
            "SsangYong         7719.322405\n",
            "Subaru            7522.094605\n",
            "Suzuki            5302.598761\n",
            "Toyota            9798.152456\n",
            "Volkswagen        6429.276566\n",
            "Volvo             8416.341540\n",
            "ВАЗ               1522.083625\n",
            "ГАЗ               3889.731900\n",
            "ЗАЗ               1360.211190\n",
            "Москвич            978.912182\n",
            "УАЗ               3443.123784\n",
            "Name: price, dtype: float64\n"
          ]
        },
        {
          "output_type": "stream",
          "name": "stderr",
          "text": [
            "/usr/local/lib/python3.7/dist-packages/seaborn/_decorators.py:43: FutureWarning:\n",
            "\n",
            "Pass the following variables as keyword args: x, y. From version 0.12, the only valid positional argument will be `data`, and passing other arguments without an explicit keyword will result in an error or misinterpretation.\n",
            "\n"
          ]
        },
        {
          "output_type": "display_data",
          "data": {
            "image/png": "[encoded data removed]",
            "text/plain": [
              "<Figure size 432x288 with 1 Axes>"
            ]
          },
          "metadata": {
            "needs_background": "light"
          }
        }
      ]
    },
    {
      "cell_type": "code",
      "metadata": {
        "id": "Lmk9KBe0Yy-a",
        "colab": {
          "base_uri": "https://localhost:8080/",
          "height": 1000
        },
        "outputId": "170fee5e-0708-4ca5-ace3-0bc462816674"
      },
      "source": [
        "#distribution bar chart --> manufacturer/ASP\n",
        "print(df.groupby('manufacturer_name', as_index=True)['price'].mean()) \n",
        "plt2 = sns.barplot('manufacturer_name', 'price', data=df, ci=False)"
      ],
      "execution_count": null,
      "outputs": [
        {
          "output_type": "stream",
          "name": "stdout",
          "text": [
            "manufacturer_name\n",
            "Acura            12772.885909\n",
            "Alfa Romeo        2688.550097\n",
            "Audi              7154.944923\n",
            "BMW               9553.258777\n",
            "Buick            12876.319149\n",
            "Cadillac         11093.124651\n",
            "Chery             4545.978103\n",
            "Chevrolet         8873.131995\n",
            "Chrysler          4995.491780\n",
            "Citroen           4435.325516\n",
            "Dacia             5342.751525\n",
            "Daewoo            1576.608733\n",
            "Dodge             5608.011953\n",
            "Fiat              3013.676440\n",
            "Ford              4997.677323\n",
            "Geely             7769.232535\n",
            "Great Wall        6423.760278\n",
            "Honda             6515.096474\n",
            "Hyundai           7926.190394\n",
            "Infiniti         13794.604938\n",
            "Iveco            10052.317122\n",
            "Jaguar           17813.000000\n",
            "Jeep             10912.489439\n",
            "Kia               8156.095526\n",
            "LADA              7598.681370\n",
            "Lancia            2901.508370\n",
            "Land Rover       15195.300380\n",
            "Lexus            17130.560845\n",
            "Lifan             8280.536170\n",
            "Lincoln           9737.472222\n",
            "Mazda             4735.091929\n",
            "Mercedes-Benz     9394.015818\n",
            "Mini             13133.700882\n",
            "Mitsubishi        5419.462190\n",
            "Nissan            6411.514173\n",
            "Opel              4425.992900\n",
            "Peugeot           4384.513962\n",
            "Pontiac           4363.544048\n",
            "Porsche          18629.823770\n",
            "Renault           4561.049936\n",
            "Rover             1734.242213\n",
            "Saab              4130.585370\n",
            "Seat              3868.015347\n",
            "Skoda            13726.073463\n",
            "SsangYong         7719.322405\n",
            "Subaru            7522.094605\n",
            "Suzuki            5302.598761\n",
            "Toyota            9798.152456\n",
            "Volkswagen        6429.276566\n",
            "Volvo             8416.341540\n",
            "ВАЗ               1522.083625\n",
            "ГАЗ               3889.731900\n",
            "ЗАЗ               1360.211190\n",
            "Москвич            978.912182\n",
            "УАЗ               3443.123784\n",
            "Name: price, dtype: float64\n"
          ]
        },
        {
          "output_type": "stream",
          "name": "stderr",
          "text": [
            "/usr/local/lib/python3.7/dist-packages/seaborn/_decorators.py:43: FutureWarning:\n",
            "\n",
            "Pass the following variables as keyword args: x, y. From version 0.12, the only valid positional argument will be `data`, and passing other arguments without an explicit keyword will result in an error or misinterpretation.\n",
            "\n"
          ]
        },
        {
          "output_type": "display_data",
          "data": {
            "image/png": "[encoded data removed]",
            "text/plain": [
              "<Figure size 432x288 with 1 Axes>"
            ]
          },
          "metadata": {
            "needs_background": "light"
          }
        }
      ]
    },
    {
      "cell_type": "code",
      "metadata": {
        "id": "IhoQ-tnMyonH",
        "colab": {
          "base_uri": "https://localhost:8080/",
          "height": 296
        },
        "outputId": "2b45f33f-e024-4dff-8b55-8fd074c5c993"
      },
      "source": [
        "#detect and remove outliers\n",
        "sns.boxplot(x=df['price'])"
      ],
      "execution_count": null,
      "outputs": [
        {
          "output_type": "execute_result",
          "data": {
            "text/plain": [
              "<matplotlib.axes._subplots.AxesSubplot at 0x7f8f8860bed0>"
            ]
          },
          "metadata": {},
          "execution_count": 22
        },
        {
          "output_type": "display_data",
          "data": {
            "image/png": "[encoded data removed]",
            "text/plain": [
              "<Figure size 432x288 with 1 Axes>"
            ]
          },
          "metadata": {
            "needs_background": "light"
          }
        }
      ]
    },
    {
      "cell_type": "code",
      "metadata": {
        "id": "7P10rtG0Fziy",
        "colab": {
          "base_uri": "https://localhost:8080/"
        },
        "outputId": "d63c4a8c-0b13-421d-f4e9-51f159f43238"
      },
      "source": [
        "Q1 = df.quantile(0.25)\n",
        "Q3 = df.quantile(0.75)\n",
        "IQR = Q3 - Q1\n",
        "print(IQR)"
      ],
      "execution_count": null,
      "outputs": [
        {
          "output_type": "stream",
          "name": "stdout",
          "text": [
            "odometer            167000.0\n",
            "year                    11.0\n",
            "engine_has_gas           0.0\n",
            "engine_capacity          0.7\n",
            "has_warranty             0.0\n",
            "price                 6850.0\n",
            "is_exchangeable          1.0\n",
            "number_of_photos         7.0\n",
            "up_counter              14.0\n",
            "feature_0                0.0\n",
            "feature_1                1.0\n",
            "feature_2                0.0\n",
            "feature_3                1.0\n",
            "feature_4                0.0\n",
            "feature_5                1.0\n",
            "feature_6                0.0\n",
            "feature_7                1.0\n",
            "feature_8                1.0\n",
            "feature_9                1.0\n",
            "duration_listed         68.0\n",
            "dtype: float64\n"
          ]
        }
      ]
    },
    {
      "cell_type": "code",
      "metadata": {
        "id": "0oPy3TNQHocI",
        "colab": {
          "base_uri": "https://localhost:8080/"
        },
        "outputId": "64236f19-d147-4b0c-dfe8-7dc1afbacfda"
      },
      "source": [
        "print(df < (Q1 - 1.5 * IQR))"
      ],
      "execution_count": null,
      "outputs": [
        {
          "output_type": "stream",
          "name": "stdout",
          "text": [
            "       body_type  color  drivetrain  ...  state  up_counter   year\n",
            "0          False  False       False  ...  False       False  False\n",
            "1          False  False       False  ...  False       False  False\n",
            "2          False  False       False  ...  False       False  False\n",
            "3          False  False       False  ...  False       False  False\n",
            "4          False  False       False  ...  False       False  False\n",
            "...          ...    ...         ...  ...    ...         ...    ...\n",
            "38526      False  False       False  ...  False       False  False\n",
            "38527      False  False       False  ...  False       False  False\n",
            "38528      False  False       False  ...  False       False  False\n",
            "38529      False  False       False  ...  False       False  False\n",
            "38530      False  False       False  ...  False       False  False\n",
            "\n",
            "[38483 rows x 30 columns]\n"
          ]
        }
      ]
    },
    {
      "cell_type": "code",
      "metadata": {
        "id": "YEWYZQwALAGY",
        "colab": {
          "base_uri": "https://localhost:8080/"
        },
        "outputId": "2ce4606b-41bf-4cab-9012-dcd6b1fccc16"
      },
      "source": [
        "print(df > (Q3 + 1.5 * IQR))"
      ],
      "execution_count": null,
      "outputs": [
        {
          "output_type": "stream",
          "name": "stdout",
          "text": [
            "       body_type  color  drivetrain  ...  state  up_counter   year\n",
            "0          False  False       False  ...  False       False  False\n",
            "1          False  False       False  ...  False        True  False\n",
            "2          False  False       False  ...  False        True  False\n",
            "3          False  False       False  ...  False        True  False\n",
            "4          False  False       False  ...  False       False  False\n",
            "...          ...    ...         ...  ...    ...         ...    ...\n",
            "38526      False  False       False  ...  False        True  False\n",
            "38527      False  False       False  ...  False       False  False\n",
            "38528      False  False       False  ...  False        True  False\n",
            "38529      False  False       False  ...  False        True  False\n",
            "38530      False  False       False  ...  False        True  False\n",
            "\n",
            "[38483 rows x 30 columns]\n"
          ]
        }
      ]
    },
    {
      "cell_type": "code",
      "metadata": {
        "id": "TYt3Qx5lKNlA"
      },
      "source": [
        "df_out = df[~((df < (Q1 - 1.5 * IQR)) |(df > (Q3 + 1.5 * IQR))).any(axis=1)]"
      ],
      "execution_count": null,
      "outputs": []
    },
    {
      "cell_type": "code",
      "metadata": {
        "id": "Zz6-mxdcKW-F",
        "colab": {
          "base_uri": "https://localhost:8080/"
        },
        "outputId": "962e1630-95c2-4412-e727-e35844765be0"
      },
      "source": [
        "df_out.shape"
      ],
      "execution_count": null,
      "outputs": [
        {
          "output_type": "execute_result",
          "data": {
            "text/plain": [
              "(12552, 30)"
            ]
          },
          "metadata": {},
          "execution_count": 27
        }
      ]
    },
    {
      "cell_type": "code",
      "metadata": {
        "id": "qE4Pg6gaKovY",
        "colab": {
          "base_uri": "https://localhost:8080/",
          "height": 296
        },
        "outputId": "5ce44738-2a1f-4eb4-e9a9-3935a436364c"
      },
      "source": [
        "sns.boxplot(x=df_out['price'])"
      ],
      "execution_count": null,
      "outputs": [
        {
          "output_type": "execute_result",
          "data": {
            "text/plain": [
              "<matplotlib.axes._subplots.AxesSubplot at 0x7f8f88347510>"
            ]
          },
          "metadata": {},
          "execution_count": 28
        },
        {
          "output_type": "display_data",
          "data": {
            "image/png": "[encoded data removed]",
            "text/plain": [
              "<Figure size 432x288 with 1 Axes>"
            ]
          },
          "metadata": {
            "needs_background": "light"
          }
        }
      ]
    },
    {
      "cell_type": "code",
      "metadata": {
        "id": "b7QR8-EULOxM",
        "colab": {
          "base_uri": "https://localhost:8080/",
          "height": 1000
        },
        "outputId": "9d95c1f6-da2d-4b48-9e5a-de5cd9c25391"
      },
      "source": [
        "print(df_out.groupby('manufacturer_name', as_index=False)['price'].mean())\n",
        "plt2 = sns.barplot('manufacturer_name', 'price', data=df_out, ci=False)"
      ],
      "execution_count": null,
      "outputs": [
        {
          "output_type": "stream",
          "name": "stdout",
          "text": [
            "   manufacturer_name         price\n",
            "0              Acura   6000.000000\n",
            "1         Alfa Romeo   1898.982500\n",
            "2               Audi   4354.041593\n",
            "3                BMW   3940.508716\n",
            "4              Buick  12050.000000\n",
            "5              Chery   3448.400645\n",
            "6          Chevrolet   7337.539796\n",
            "7           Chrysler   3877.473131\n",
            "8            Citroen   4340.432221\n",
            "9              Dacia   5758.684211\n",
            "10            Daewoo   1710.896765\n",
            "11             Dodge   4275.232364\n",
            "12              Fiat   3051.133077\n",
            "13              Ford   4533.169575\n",
            "14             Geely   6023.357778\n",
            "15        Great Wall   5953.846154\n",
            "16             Honda   5481.502733\n",
            "17           Hyundai   6830.764849\n",
            "18             Iveco  11735.200000\n",
            "19              Jeep  11639.868571\n",
            "20               Kia   7627.376886\n",
            "21              LADA   7996.593284\n",
            "22            Lancia   2559.265641\n",
            "23        Land Rover   6663.072308\n",
            "24             Lexus   7000.000000\n",
            "25             Lifan   4763.088889\n",
            "26             Mazda   3873.434963\n",
            "27     Mercedes-Benz   5295.363360\n",
            "28              Mini   7554.800000\n",
            "29        Mitsubishi   4270.061199\n",
            "30            Nissan   5002.149674\n",
            "31              Opel   4202.265915\n",
            "32           Peugeot   4318.936685\n",
            "33           Pontiac   4712.368421\n",
            "34           Renault   4242.018749\n",
            "35             Rover   1749.846081\n",
            "36              Saab   2572.689333\n",
            "37              Seat   4265.822055\n",
            "38             Skoda   7393.996266\n",
            "39         SsangYong   7759.950909\n",
            "40            Subaru   4875.574051\n",
            "41            Suzuki   5415.437800\n",
            "42            Toyota   6945.809981\n",
            "43        Volkswagen   5938.043715\n",
            "44             Volvo   5518.808889\n",
            "45               ВАЗ   2613.607344\n",
            "46               ГАЗ   4708.333333\n",
            "47               ЗАЗ   3399.833333\n",
            "48           Москвич    492.275000\n",
            "49               УАЗ   5650.000000\n"
          ]
        },
        {
          "output_type": "stream",
          "name": "stderr",
          "text": [
            "/usr/local/lib/python3.7/dist-packages/seaborn/_decorators.py:43: FutureWarning:\n",
            "\n",
            "Pass the following variables as keyword args: x, y. From version 0.12, the only valid positional argument will be `data`, and passing other arguments without an explicit keyword will result in an error or misinterpretation.\n",
            "\n"
          ]
        },
        {
          "output_type": "display_data",
          "data": {
            "image/png": "[encoded data removed]",
            "text/plain": [
              "<Figure size 432x288 with 1 Axes>"
            ]
          },
          "metadata": {
            "needs_background": "light"
          }
        }
      ]
    },
    {
      "cell_type": "code",
      "metadata": {
        "id": "oH58sVUtLvYc",
        "colab": {
          "base_uri": "https://localhost:8080/"
        },
        "outputId": "ff7dc0d0-766b-4005-9e1a-68aa805d91eb"
      },
      "source": [
        "print(df_out['price'].max())\n",
        "print(df_out['price'].min())\n",
        "print(df_out['price'].mean())\n",
        "print(df_out['price'].median())"
      ],
      "execution_count": null,
      "outputs": [
        {
          "output_type": "stream",
          "name": "stdout",
          "text": [
            "19112.21\n",
            "142.27\n",
            "4958.209291746339\n",
            "4200.0\n"
          ]
        }
      ]
    },
    {
      "cell_type": "code",
      "metadata": {
        "id": "j7rOSLmdqJ_m",
        "colab": {
          "base_uri": "https://localhost:8080/"
        },
        "outputId": "3f381607-224c-4d8c-e2f1-ced0f299f779"
      },
      "source": [
        "#get final info\n",
        "df = df_out\n",
        "df.info()"
      ],
      "execution_count": null,
      "outputs": [
        {
          "output_type": "stream",
          "name": "stdout",
          "text": [
            "<class 'pandas.core.frame.DataFrame'>\n",
            "Int64Index: 12552 entries, 10 to 38519\n",
            "Data columns (total 30 columns):\n",
            " #   Column             Non-Null Count  Dtype  \n",
            "---  ------             --------------  -----  \n",
            " 0   manufacturer_name  12552 non-null  object \n",
            " 1   model_name         12552 non-null  object \n",
            " 2   gear               12552 non-null  object \n",
            " 3   color              12552 non-null  object \n",
            " 4   odometer           12552 non-null  int64  \n",
            " 5   year               12552 non-null  int64  \n",
            " 6   fuel               12552 non-null  object \n",
            " 7   engine_has_gas     12552 non-null  bool   \n",
            " 8   engine_type        12552 non-null  object \n",
            " 9   engine_capacity    12548 non-null  float64\n",
            " 10  body_type          12552 non-null  object \n",
            " 11  has_warranty       12552 non-null  bool   \n",
            " 12  state              12552 non-null  object \n",
            " 13  drivetrain         12552 non-null  object \n",
            " 14  price              12552 non-null  float64\n",
            " 15  is_exchangeable    12552 non-null  bool   \n",
            " 16  location_region    12552 non-null  object \n",
            " 17  number_of_photos   12552 non-null  int64  \n",
            " 18  up_counter         12552 non-null  int64  \n",
            " 19  feature_0          12552 non-null  bool   \n",
            " 20  feature_1          12552 non-null  bool   \n",
            " 21  feature_2          12552 non-null  bool   \n",
            " 22  feature_3          12552 non-null  bool   \n",
            " 23  feature_4          12552 non-null  bool   \n",
            " 24  feature_5          12552 non-null  bool   \n",
            " 25  feature_6          12552 non-null  bool   \n",
            " 26  feature_7          12552 non-null  bool   \n",
            " 27  feature_8          12552 non-null  bool   \n",
            " 28  feature_9          12552 non-null  bool   \n",
            " 29  duration_listed    12552 non-null  int64  \n",
            "dtypes: bool(13), float64(2), int64(5), object(10)\n",
            "memory usage: 2.2+ MB\n"
          ]
        }
      ]
    },
    {
      "cell_type": "code",
      "metadata": {
        "id": "spk99s3L85XB",
        "colab": {
          "base_uri": "https://localhost:8080/",
          "height": 204
        },
        "outputId": "4073fe72-a243-4a07-cd6e-caa8d449728c"
      },
      "source": [
        "#drop columns\n",
        "#keep: fuel, gear, year, odometer, price, manufacturer\n",
        "df = df.drop(['model_name', 'color','engine_has_gas','engine_type','engine_capacity','body_type','has_warranty','state','drivetrain','is_exchangeable','location_region','number_of_photos','up_counter','duration_listed','feature_0','feature_1','feature_2','feature_3','feature_4','feature_5','feature_6','feature_7','feature_8','feature_9'], axis=1)\n",
        "df.head()"
      ],
      "execution_count": null,
      "outputs": [
        {
          "output_type": "execute_result",
          "data": {
            "text/html": [
              "<div>\n",
              "<style scoped>\n",
              "    .dataframe tbody tr th:only-of-type {\n",
              "        vertical-align: middle;\n",
              "    }\n",
              "\n",
              "    .dataframe tbody tr th {\n",
              "        vertical-align: top;\n",
              "    }\n",
              "\n",
              "    .dataframe thead th {\n",
              "        text-align: right;\n",
              "    }\n",
              "</style>\n",
              "<table border=\"1\" class=\"dataframe\">\n",
              "  <thead>\n",
              "    <tr style=\"text-align: right;\">\n",
              "      <th></th>\n",
              "      <th>manufacturer_name</th>\n",
              "      <th>gear</th>\n",
              "      <th>odometer</th>\n",
              "      <th>year</th>\n",
              "      <th>fuel</th>\n",
              "      <th>price</th>\n",
              "    </tr>\n",
              "  </thead>\n",
              "  <tbody>\n",
              "    <tr>\n",
              "      <th>10</th>\n",
              "      <td>Subaru</td>\n",
              "      <td>mechanical</td>\n",
              "      <td>280000</td>\n",
              "      <td>2003</td>\n",
              "      <td>gasoline</td>\n",
              "      <td>6900.0</td>\n",
              "    </tr>\n",
              "    <tr>\n",
              "      <th>12</th>\n",
              "      <td>Subaru</td>\n",
              "      <td>mechanical</td>\n",
              "      <td>321000</td>\n",
              "      <td>2002</td>\n",
              "      <td>gasoline</td>\n",
              "      <td>4300.0</td>\n",
              "    </tr>\n",
              "    <tr>\n",
              "      <th>17</th>\n",
              "      <td>Subaru</td>\n",
              "      <td>mechanical</td>\n",
              "      <td>191000</td>\n",
              "      <td>2005</td>\n",
              "      <td>gasoline</td>\n",
              "      <td>10950.0</td>\n",
              "    </tr>\n",
              "    <tr>\n",
              "      <th>26</th>\n",
              "      <td>Subaru</td>\n",
              "      <td>automatic</td>\n",
              "      <td>417000</td>\n",
              "      <td>1997</td>\n",
              "      <td>gasoline</td>\n",
              "      <td>1850.0</td>\n",
              "    </tr>\n",
              "    <tr>\n",
              "      <th>32</th>\n",
              "      <td>Subaru</td>\n",
              "      <td>mechanical</td>\n",
              "      <td>340000</td>\n",
              "      <td>1993</td>\n",
              "      <td>gasoline</td>\n",
              "      <td>2000.0</td>\n",
              "    </tr>\n",
              "  </tbody>\n",
              "</table>\n",
              "</div>"
            ],
            "text/plain": [
              "   manufacturer_name        gear  odometer  year      fuel    price\n",
              "10            Subaru  mechanical    280000  2003  gasoline   6900.0\n",
              "12            Subaru  mechanical    321000  2002  gasoline   4300.0\n",
              "17            Subaru  mechanical    191000  2005  gasoline  10950.0\n",
              "26            Subaru   automatic    417000  1997  gasoline   1850.0\n",
              "32            Subaru  mechanical    340000  1993  gasoline   2000.0"
            ]
          },
          "metadata": {},
          "execution_count": 32
        }
      ]
    },
    {
      "cell_type": "code",
      "metadata": {
        "id": "uIDQfgdH-qEk",
        "colab": {
          "base_uri": "https://localhost:8080/"
        },
        "outputId": "61b1dac9-2a24-4e78-ffa2-d8f822c4d59c"
      },
      "source": [
        "df['country'] = 'Belarus'\n",
        "df.info()"
      ],
      "execution_count": null,
      "outputs": [
        {
          "output_type": "stream",
          "name": "stdout",
          "text": [
            "<class 'pandas.core.frame.DataFrame'>\n",
            "Int64Index: 12552 entries, 10 to 38519\n",
            "Data columns (total 7 columns):\n",
            " #   Column             Non-Null Count  Dtype  \n",
            "---  ------             --------------  -----  \n",
            " 0   manufacturer_name  12552 non-null  object \n",
            " 1   gear               12552 non-null  object \n",
            " 2   odometer           12552 non-null  int64  \n",
            " 3   year               12552 non-null  int64  \n",
            " 4   fuel               12552 non-null  object \n",
            " 5   price              12552 non-null  float64\n",
            " 6   country            12552 non-null  object \n",
            "dtypes: float64(1), int64(2), object(4)\n",
            "memory usage: 1.1+ MB\n"
          ]
        }
      ]
    },
    {
      "cell_type": "code",
      "metadata": {
        "id": "j5SvyXJay4Vp",
        "colab": {
          "base_uri": "https://localhost:8080/"
        },
        "outputId": "563619df-5fad-42ba-82de-a5fac5dc40f7"
      },
      "source": [
        "df['gear'] = df['gear'].replace('mechanical','manual')\n",
        "df['gear'].unique()"
      ],
      "execution_count": null,
      "outputs": [
        {
          "output_type": "execute_result",
          "data": {
            "text/plain": [
              "array(['manual', 'automatic'], dtype=object)"
            ]
          },
          "metadata": {},
          "execution_count": 34
        }
      ]
    },
    {
      "cell_type": "code",
      "metadata": {
        "id": "RnCdjTFm1I1I",
        "colab": {
          "base_uri": "https://localhost:8080/"
        },
        "outputId": "610d241a-52d7-4895-e078-1d7b82ecb3de"
      },
      "source": [
        "df['fuel'].unique()"
      ],
      "execution_count": null,
      "outputs": [
        {
          "output_type": "execute_result",
          "data": {
            "text/plain": [
              "array(['gasoline', 'diesel', 'hybrid-petrol', 'electric'], dtype=object)"
            ]
          },
          "metadata": {},
          "execution_count": 35
        }
      ]
    },
    {
      "cell_type": "code",
      "metadata": {
        "id": "Dox04xJbAbYm",
        "colab": {
          "base_uri": "https://localhost:8080/"
        },
        "outputId": "6593a732-9375-4356-8a82-d35253c4db05"
      },
      "source": [
        "df['manufacturer_name'] = df['manufacturer_name'].str.lower()\n",
        "df['manufacturer_name'].unique()"
      ],
      "execution_count": null,
      "outputs": [
        {
          "output_type": "execute_result",
          "data": {
            "text/plain": [
              "array(['subaru', 'lada', 'dodge', 'уаз', 'kia', 'opel', 'москвич',\n",
              "       'alfa romeo', 'acura', 'dacia', 'lexus', 'mitsubishi', 'lancia',\n",
              "       'citroen', 'mini', 'ssangyong', 'daewoo', 'geely', 'ваз', 'fiat',\n",
              "       'ford', 'renault', 'seat', 'rover', 'volkswagen', 'lifan', 'jeep',\n",
              "       'audi', 'заз', 'toyota', 'газ', 'volvo', 'chevrolet', 'great wall',\n",
              "       'buick', 'pontiac', 'hyundai', 'nissan', 'suzuki', 'bmw', 'mazda',\n",
              "       'land rover', 'iveco', 'skoda', 'saab', 'chery', 'honda',\n",
              "       'mercedes-benz', 'peugeot', 'chrysler'], dtype=object)"
            ]
          },
          "metadata": {},
          "execution_count": 36
        }
      ]
    },
    {
      "cell_type": "code",
      "metadata": {
        "id": "fTUl1rTH2kg1",
        "colab": {
          "base_uri": "https://localhost:8080/"
        },
        "outputId": "2f44c278-3dc1-45ca-e4ab-f7348b127cce"
      },
      "source": [
        "df = df.dropna()\n",
        "df.shape"
      ],
      "execution_count": null,
      "outputs": [
        {
          "output_type": "execute_result",
          "data": {
            "text/plain": [
              "(12552, 7)"
            ]
          },
          "metadata": {},
          "execution_count": 37
        }
      ]
    },
    {
      "cell_type": "code",
      "metadata": {
        "colab": {
          "base_uri": "https://localhost:8080/"
        },
        "id": "dpeEC09okhpH",
        "outputId": "fdfb5ede-b39d-4903-8e01-7a98a6f7df91"
      },
      "source": [
        "df.info()"
      ],
      "execution_count": null,
      "outputs": [
        {
          "output_type": "stream",
          "name": "stdout",
          "text": [
            "<class 'pandas.core.frame.DataFrame'>\n",
            "Int64Index: 12552 entries, 10 to 38519\n",
            "Data columns (total 7 columns):\n",
            " #   Column             Non-Null Count  Dtype  \n",
            "---  ------             --------------  -----  \n",
            " 0   manufacturer_name  12552 non-null  object \n",
            " 1   gear               12552 non-null  object \n",
            " 2   odometer           12552 non-null  int64  \n",
            " 3   year               12552 non-null  int64  \n",
            " 4   fuel               12552 non-null  object \n",
            " 5   price              12552 non-null  float64\n",
            " 6   country            12552 non-null  object \n",
            "dtypes: float64(1), int64(2), object(4)\n",
            "memory usage: 784.5+ KB\n"
          ]
        }
      ]
    },
    {
      "cell_type": "code",
      "metadata": {
        "colab": {
          "base_uri": "https://localhost:8080/"
        },
        "id": "ScveihxtcgEk",
        "outputId": "5384c4de-8e5b-4ced-c410-e8b24d982e20"
      },
      "source": [
        "df = df[df['price'] >=1000] #-->e.g.\n",
        "print(df['price'].max())\n",
        "print(df['price'].min())\n",
        "print(df['price'].mean())\n",
        "print(df['price'].median())"
      ],
      "execution_count": null,
      "outputs": [
        {
          "output_type": "stream",
          "name": "stdout",
          "text": [
            "19112.21\n",
            "1000.0\n",
            "5211.000436286923\n",
            "4481.64\n"
          ]
        }
      ]
    },
    {
      "cell_type": "code",
      "metadata": {
        "colab": {
          "base_uri": "https://localhost:8080/"
        },
        "id": "bRsCofL8d8rw",
        "outputId": "0bf33f6e-72ba-4a8e-d44b-a058565f69c5"
      },
      "source": [
        "df.shape"
      ],
      "execution_count": null,
      "outputs": [
        {
          "output_type": "execute_result",
          "data": {
            "text/plain": [
              "(11850, 7)"
            ]
          },
          "metadata": {},
          "execution_count": 41
        }
      ]
    },
    {
      "cell_type": "code",
      "metadata": {
        "colab": {
          "base_uri": "https://localhost:8080/"
        },
        "id": "S5xjD4KFikZw",
        "outputId": "7cc1854a-4d9f-4d2c-f726-0719cc1dabb1"
      },
      "source": [
        "print(df['odometer'].max())\n",
        "print(df['odometer'].min())\n",
        "print(df['odometer'].mean())\n",
        "print(df['odometer'].median())"
      ],
      "execution_count": null,
      "outputs": [
        {
          "output_type": "stream",
          "name": "stdout",
          "text": [
            "573000\n",
            "1000\n",
            "246244.59562702058\n",
            "250000.0\n"
          ]
        }
      ]
    },
    {
      "cell_type": "code",
      "metadata": {
        "id": "V9RE790tMv_G"
      },
      "source": [
        "df.to_csv(r'/content/drive/MyDrive/Colab Notebooks/data/cars_clean.csv', index = False)"
      ],
      "execution_count": null,
      "outputs": []
    }
  ]
}