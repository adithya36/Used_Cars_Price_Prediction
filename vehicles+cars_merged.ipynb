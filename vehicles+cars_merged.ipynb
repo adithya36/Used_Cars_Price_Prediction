{
  "nbformat": 4,
  "nbformat_minor": 0,
  "metadata": {
    "colab": {
      "name": "vehicles+cars_merged.ipynb",
      "provenance": [],
      "collapsed_sections": [],
      "authorship_tag": "ABX9TyNLN8h14w2xV7iGvTVDG3sO",
      "include_colab_link": true
    },
    "kernelspec": {
      "name": "python3",
      "display_name": "Python 3"
    },
    "language_info": {
      "name": "python"
    }
  },
  "cells": [
    {
      "cell_type": "markdown",
      "metadata": {
        "id": "view-in-github",
        "colab_type": "text"
      },
      "source": [
        "<a href=\"https://colab.research.google.com/github/adithya36/Used_Cars_Price_Prediction/blob/main/vehicles%2Bcars_merged.ipynb\" target=\"_parent\"><img src=\"https://colab.research.google.com/assets/colab-badge.svg\" alt=\"Open In Colab\"/></a>"
      ]
    },
    {
      "cell_type": "code",
      "metadata": {
        "id": "jwLs3TgoN-r0"
      },
      "source": [
        "import pandas as pd"
      ],
      "execution_count": 1,
      "outputs": []
    },
    {
      "cell_type": "code",
      "metadata": {
        "colab": {
          "base_uri": "https://localhost:8080/"
        },
        "id": "hfFzIQD-TWTr",
        "outputId": "bd1fa922-f125-462f-8bc3-0906d97138a0"
      },
      "source": [
        "from google.colab import drive\n",
        "drive.mount('/content/drive')"
      ],
      "execution_count": 2,
      "outputs": [
        {
          "output_type": "stream",
          "name": "stdout",
          "text": [
            "Mounted at /content/drive\n"
          ]
        }
      ]
    },
    {
      "cell_type": "code",
      "metadata": {
        "colab": {
          "base_uri": "https://localhost:8080/"
        },
        "id": "_iT1U1MaCuSz",
        "outputId": "59bdc725-6840-4480-f854-b42650b7a0ee"
      },
      "source": [
        "df = pd.concat(\n",
        "    map(pd.read_csv, [\"/content/drive/MyDrive/Colab Notebooks/data/cars_clean.csv\", \"/content/drive/MyDrive/Colab Notebooks/data/vehicles_clean.csv\"]), ignore_index=True)\n",
        "print(df)"
      ],
      "execution_count": 3,
      "outputs": [
        {
          "output_type": "stream",
          "name": "stdout",
          "text": [
            "       manufacturer_name       gear  odometer  ...      fuel     price  country\n",
            "0                 subaru  automatic  190000.0  ...  gasoline  10900.00  Belarus\n",
            "1                 subaru  automatic  290000.0  ...  gasoline   5000.00  Belarus\n",
            "2                 subaru  automatic  402000.0  ...  gasoline   2800.00  Belarus\n",
            "3                 subaru     manual   10000.0  ...  gasoline   9999.00  Belarus\n",
            "4                 subaru  automatic  280000.0  ...  gasoline   2134.11  Belarus\n",
            "...                  ...        ...       ...  ...       ...       ...      ...\n",
            "100433         chevrolet  automatic   61127.0  ...       gas  12995.00       US\n",
            "100434              ford  automatic  154642.0  ...    diesel  32999.00       US\n",
            "100435         chevrolet  automatic   36465.0  ...       gas  15999.00       US\n",
            "100436         chevrolet  automatic  130000.0  ...       gas  18000.00       US\n",
            "100437            jaguar  automatic   69550.0  ...       gas   6800.00       US\n",
            "\n",
            "[100438 rows x 7 columns]\n"
          ]
        }
      ]
    },
    {
      "cell_type": "code",
      "metadata": {
        "id": "_FUa8VmbDOQx"
      },
      "source": [
        "df.to_csv(r'/content/drive/MyDrive/Colab Notebooks/data/vehicles+cars_clean_merged.csv', index = False)"
      ],
      "execution_count": 4,
      "outputs": []
    }
  ]
}