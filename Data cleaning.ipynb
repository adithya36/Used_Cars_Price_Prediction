{
 "cells": [
  {
   "cell_type": "markdown",
   "metadata": {},
   "source": [
    "# Import\n",
    "libraries\n",
    "folder connection\n",
    "df"
   ]
  },
  {
   "cell_type": "code",
   "execution_count": 85,
   "metadata": {},
   "outputs": [],
   "source": [
    "import pandas as pd\n",
    "import numpy as np\n",
    "import seaborn as sns\n",
    "import matplotlib.pyplot as plt\n",
    "\n",
    "df1 = pd.read_csv(\"cardheko_edited.csv\")\n",
    "df2 = pd.read_csv(\"autoscout24-germany-dataset-edited.csv\")"
   ]
  },
  {
   "cell_type": "markdown",
   "metadata": {},
   "source": [
    "# df1: cardheko_edited.csv\n",
    "describe\n",
    "clean"
   ]
  },
  {
   "cell_type": "code",
   "execution_count": 113,
   "metadata": {},
   "outputs": [
    {
     "data": {
      "text/html": [
       "<div>\n",
       "<style scoped>\n",
       "    .dataframe tbody tr th:only-of-type {\n",
       "        vertical-align: middle;\n",
       "    }\n",
       "\n",
       "    .dataframe tbody tr th {\n",
       "        vertical-align: top;\n",
       "    }\n",
       "\n",
       "    .dataframe thead th {\n",
       "        text-align: right;\n",
       "    }\n",
       "</style>\n",
       "<table border=\"1\" class=\"dataframe\">\n",
       "  <thead>\n",
       "    <tr style=\"text-align: right;\">\n",
       "      <th></th>\n",
       "      <th>Old price</th>\n",
       "      <th>year</th>\n",
       "      <th>fuel</th>\n",
       "      <th>gear</th>\n",
       "      <th>Odometer (kms)</th>\n",
       "      <th>Country</th>\n",
       "      <th>Manufacturer_name</th>\n",
       "      <th>Price ($)</th>\n",
       "    </tr>\n",
       "  </thead>\n",
       "  <tbody>\n",
       "    <tr>\n",
       "      <th>0</th>\n",
       "      <td>1.20</td>\n",
       "      <td>2012.0</td>\n",
       "      <td>Petrol</td>\n",
       "      <td>Manual</td>\n",
       "      <td>120000.0</td>\n",
       "      <td>India</td>\n",
       "      <td>Maruti</td>\n",
       "      <td>1680</td>\n",
       "    </tr>\n",
       "    <tr>\n",
       "      <th>1</th>\n",
       "      <td>5.50</td>\n",
       "      <td>2016.0</td>\n",
       "      <td>Petrol</td>\n",
       "      <td>Manual</td>\n",
       "      <td>20000.0</td>\n",
       "      <td>India</td>\n",
       "      <td>Hyundai</td>\n",
       "      <td>7700</td>\n",
       "    </tr>\n",
       "    <tr>\n",
       "      <th>2</th>\n",
       "      <td>2.15</td>\n",
       "      <td>2010.0</td>\n",
       "      <td>Petrol</td>\n",
       "      <td>Manual</td>\n",
       "      <td>60000.0</td>\n",
       "      <td>India</td>\n",
       "      <td>Hyundai</td>\n",
       "      <td>3010</td>\n",
       "    </tr>\n",
       "    <tr>\n",
       "      <th>3</th>\n",
       "      <td>2.26</td>\n",
       "      <td>2012.0</td>\n",
       "      <td>Petrol</td>\n",
       "      <td>Manual</td>\n",
       "      <td>37000.0</td>\n",
       "      <td>India</td>\n",
       "      <td>Maruti</td>\n",
       "      <td>3164</td>\n",
       "    </tr>\n",
       "    <tr>\n",
       "      <th>4</th>\n",
       "      <td>5.70</td>\n",
       "      <td>2015.0</td>\n",
       "      <td>Diesel</td>\n",
       "      <td>Manual</td>\n",
       "      <td>30000.0</td>\n",
       "      <td>India</td>\n",
       "      <td>Ford</td>\n",
       "      <td>7980</td>\n",
       "    </tr>\n",
       "  </tbody>\n",
       "</table>\n",
       "</div>"
      ],
      "text/plain": [
       "   Old price    year    fuel    gear  Odometer (kms) Country  \\\n",
       "0       1.20  2012.0  Petrol  Manual        120000.0   India   \n",
       "1       5.50  2016.0  Petrol  Manual         20000.0   India   \n",
       "2       2.15  2010.0  Petrol  Manual         60000.0   India   \n",
       "3       2.26  2012.0  Petrol  Manual         37000.0   India   \n",
       "4       5.70  2015.0  Diesel  Manual         30000.0   India   \n",
       "\n",
       "  Manufacturer_name  Price ($)  \n",
       "0            Maruti       1680  \n",
       "1           Hyundai       7700  \n",
       "2           Hyundai       3010  \n",
       "3            Maruti       3164  \n",
       "4              Ford       7980  "
      ]
     },
     "execution_count": 113,
     "metadata": {},
     "output_type": "execute_result"
    }
   ],
   "source": [
    "df1.head(5)"
   ]
  },
  {
   "cell_type": "code",
   "execution_count": 114,
   "metadata": {},
   "outputs": [
    {
     "name": "stdout",
     "output_type": "stream",
     "text": [
      "<class 'pandas.core.frame.DataFrame'>\n",
      "RangeIndex: 20026 entries, 0 to 20025\n",
      "Data columns (total 8 columns):\n",
      " #   Column             Non-Null Count  Dtype  \n",
      "---  ------             --------------  -----  \n",
      " 0   Old price          19980 non-null  float64\n",
      " 1   year               19980 non-null  float64\n",
      " 2   fuel               19980 non-null  object \n",
      " 3   gear               19980 non-null  object \n",
      " 4   Odometer (kms)     19980 non-null  float64\n",
      " 5   Country            20026 non-null  object \n",
      " 6   Manufacturer_name  19980 non-null  object \n",
      " 7   Price ($)          20026 non-null  int64  \n",
      "dtypes: float64(3), int64(1), object(4)\n",
      "memory usage: 1.2+ MB\n"
     ]
    }
   ],
   "source": [
    "df1.info()"
   ]
  },
  {
   "cell_type": "code",
   "execution_count": 115,
   "metadata": {},
   "outputs": [
    {
     "data": {
      "text/html": [
       "<div>\n",
       "<style scoped>\n",
       "    .dataframe tbody tr th:only-of-type {\n",
       "        vertical-align: middle;\n",
       "    }\n",
       "\n",
       "    .dataframe tbody tr th {\n",
       "        vertical-align: top;\n",
       "    }\n",
       "\n",
       "    .dataframe thead th {\n",
       "        text-align: right;\n",
       "    }\n",
       "</style>\n",
       "<table border=\"1\" class=\"dataframe\">\n",
       "  <thead>\n",
       "    <tr style=\"text-align: right;\">\n",
       "      <th></th>\n",
       "      <th>Old price</th>\n",
       "      <th>year</th>\n",
       "      <th>Odometer (kms)</th>\n",
       "      <th>Price ($)</th>\n",
       "    </tr>\n",
       "  </thead>\n",
       "  <tbody>\n",
       "    <tr>\n",
       "      <th>count</th>\n",
       "      <td>19980.000000</td>\n",
       "      <td>19980.000000</td>\n",
       "      <td>1.998000e+04</td>\n",
       "      <td>20026.000000</td>\n",
       "    </tr>\n",
       "    <tr>\n",
       "      <th>mean</th>\n",
       "      <td>8.272013</td>\n",
       "      <td>2014.525125</td>\n",
       "      <td>5.824488e+04</td>\n",
       "      <td>11554.216918</td>\n",
       "    </tr>\n",
       "    <tr>\n",
       "      <th>std</th>\n",
       "      <td>11.219682</td>\n",
       "      <td>3.249185</td>\n",
       "      <td>5.172509e+04</td>\n",
       "      <td>15699.296306</td>\n",
       "    </tr>\n",
       "    <tr>\n",
       "      <th>min</th>\n",
       "      <td>1.000000</td>\n",
       "      <td>1991.000000</td>\n",
       "      <td>1.000000e+02</td>\n",
       "      <td>0.000000</td>\n",
       "    </tr>\n",
       "    <tr>\n",
       "      <th>25%</th>\n",
       "      <td>3.500000</td>\n",
       "      <td>2013.000000</td>\n",
       "      <td>3.116425e+04</td>\n",
       "      <td>4900.000000</td>\n",
       "    </tr>\n",
       "    <tr>\n",
       "      <th>50%</th>\n",
       "      <td>5.250000</td>\n",
       "      <td>2015.000000</td>\n",
       "      <td>5.200000e+04</td>\n",
       "      <td>7350.000000</td>\n",
       "    </tr>\n",
       "    <tr>\n",
       "      <th>75%</th>\n",
       "      <td>8.000000</td>\n",
       "      <td>2017.000000</td>\n",
       "      <td>7.400000e+04</td>\n",
       "      <td>11200.000000</td>\n",
       "    </tr>\n",
       "    <tr>\n",
       "      <th>max</th>\n",
       "      <td>99.000000</td>\n",
       "      <td>2021.000000</td>\n",
       "      <td>3.800000e+06</td>\n",
       "      <td>138600.000000</td>\n",
       "    </tr>\n",
       "  </tbody>\n",
       "</table>\n",
       "</div>"
      ],
      "text/plain": [
       "          Old price          year  Odometer (kms)      Price ($)\n",
       "count  19980.000000  19980.000000    1.998000e+04   20026.000000\n",
       "mean       8.272013   2014.525125    5.824488e+04   11554.216918\n",
       "std       11.219682      3.249185    5.172509e+04   15699.296306\n",
       "min        1.000000   1991.000000    1.000000e+02       0.000000\n",
       "25%        3.500000   2013.000000    3.116425e+04    4900.000000\n",
       "50%        5.250000   2015.000000    5.200000e+04    7350.000000\n",
       "75%        8.000000   2017.000000    7.400000e+04   11200.000000\n",
       "max       99.000000   2021.000000    3.800000e+06  138600.000000"
      ]
     },
     "execution_count": 115,
     "metadata": {},
     "output_type": "execute_result"
    }
   ],
   "source": [
    "#get descriptive stats\n",
    "df1.describe()"
   ]
  },
  {
   "cell_type": "code",
   "execution_count": 116,
   "metadata": {},
   "outputs": [
    {
     "data": {
      "text/plain": [
       "Old price            46\n",
       "year                 46\n",
       "fuel                 46\n",
       "gear                 46\n",
       "Odometer (kms)       46\n",
       "Country               0\n",
       "Manufacturer_name    46\n",
       "Price ($)             0\n",
       "dtype: int64"
      ]
     },
     "execution_count": 116,
     "metadata": {},
     "output_type": "execute_result"
    }
   ],
   "source": [
    "#get sum nan\n",
    "df1.isna().sum()"
   ]
  },
  {
   "cell_type": "code",
   "execution_count": 117,
   "metadata": {},
   "outputs": [
    {
     "data": {
      "text/plain": [
       "Old price            19980\n",
       "year                 19980\n",
       "fuel                 19980\n",
       "gear                 19980\n",
       "Odometer (kms)       19980\n",
       "Country              20026\n",
       "Manufacturer_name    19980\n",
       "Price ($)            20026\n",
       "dtype: int64"
      ]
     },
     "execution_count": 117,
     "metadata": {},
     "output_type": "execute_result"
    }
   ],
   "source": [
    "#get sum non nan\n",
    "df1.notnull().sum()"
   ]
  },
  {
   "cell_type": "code",
   "execution_count": 118,
   "metadata": {},
   "outputs": [
    {
     "data": {
      "text/plain": [
       "Old price            float64\n",
       "year                 float64\n",
       "fuel                  object\n",
       "gear                  object\n",
       "Odometer (kms)       float64\n",
       "Country               object\n",
       "Manufacturer_name     object\n",
       "Price ($)              int64\n",
       "dtype: object"
      ]
     },
     "execution_count": 118,
     "metadata": {},
     "output_type": "execute_result"
    }
   ],
   "source": [
    "df1.dtypes"
   ]
  },
  {
   "cell_type": "code",
   "execution_count": 119,
   "metadata": {},
   "outputs": [],
   "source": [
    "#float to int: year\n",
    "df1['year'] = df1['year'].astype('Int32') \n",
    "df1['year'] = df1['year'].astype('Int64') \n",
    "assert df1['year'].dtype == 'Int64'"
   ]
  },
  {
   "cell_type": "code",
   "execution_count": 120,
   "metadata": {},
   "outputs": [],
   "source": [
    "#str to float64: Odometer\n",
    "df1['Odometer (kms)'] = df1['Odometer (kms)'].astype('float') \n",
    "assert df1['Odometer (kms)'].dtype == 'float'"
   ]
  },
  {
   "cell_type": "code",
   "execution_count": 121,
   "metadata": {},
   "outputs": [
    {
     "data": {
      "text/plain": [
       "(19480, 8)"
      ]
     },
     "execution_count": 121,
     "metadata": {},
     "output_type": "execute_result"
    }
   ],
   "source": [
    "#remove duplicate rows\n",
    "df1.duplicated().sum()\n",
    "df1.drop_duplicates(inplace=True)\n",
    "df1.shape"
   ]
  },
  {
   "cell_type": "code",
   "execution_count": 122,
   "metadata": {},
   "outputs": [
    {
     "name": "stdout",
     "output_type": "stream",
     "text": [
      "138600\n",
      "0\n",
      "11614.472587268994\n",
      "7350.0\n"
     ]
    }
   ],
   "source": [
    "print(df1['Price ($)'].max())\n",
    "print(df1['Price ($)'].min())\n",
    "print(df1['Price ($)'].mean())\n",
    "print(df1['Price ($)'].median())"
   ]
  },
  {
   "cell_type": "code",
   "execution_count": 123,
   "metadata": {},
   "outputs": [
    {
     "data": {
      "text/plain": [
       "Text(0, 0.5, 'Price ($)')"
      ]
     },
     "execution_count": 123,
     "metadata": {},
     "output_type": "execute_result"
    },
    {
     "data": {
      "image/png": "[encoded data removed]",
      "text/plain": [
       "<Figure size 1008x576 with 1 Axes>"
      ]
     },
     "metadata": {
      "needs_background": "light"
     },
     "output_type": "display_data"
    }
   ],
   "source": [
    "#distribution bar chart --> year/price\n",
    "plt = df1['year'].value_counts().plot(kind='bar',\n",
    "                                    figsize=(14,8),\n",
    "                                    title=\"Number of Used Cars price per year\")\n",
    "plt.set_xlabel(\"year\")\n",
    "plt.set_ylabel(\"Price ($)\")"
   ]
  },
  {
   "cell_type": "code",
   "execution_count": 124,
   "metadata": {},
   "outputs": [
    {
     "data": {
      "text/plain": [
       "Old price            float64\n",
       "year                   Int64\n",
       "fuel                  object\n",
       "gear                  object\n",
       "Odometer (kms)       float64\n",
       "Country               object\n",
       "Manufacturer_name     object\n",
       "Price ($)              int64\n",
       "dtype: object"
      ]
     },
     "execution_count": 124,
     "metadata": {},
     "output_type": "execute_result"
    }
   ],
   "source": [
    "df1.dtypes"
   ]
  },
  {
   "cell_type": "code",
   "execution_count": 125,
   "metadata": {},
   "outputs": [
    {
     "data": {
      "text/plain": [
       "Text(0, 0.5, 'Price ($)')"
      ]
     },
     "execution_count": 125,
     "metadata": {},
     "output_type": "execute_result"
    },
    {
     "data": {
      "image/png": "[encoded data removed]",
      "text/plain": [
       "<Figure size 1008x576 with 1 Axes>"
      ]
     },
     "metadata": {
      "needs_background": "light"
     },
     "output_type": "display_data"
    }
   ],
   "source": [
    "#distribution bar chart --> Manufacturers/sales adverts\n",
    "ax = df1['Manufacturer_name'].value_counts().plot(kind='bar',\n",
    "                                    figsize=(14,8),\n",
    "                                    title=\"Number of Used Cars Price per Manufacturer\")\n",
    "ax.set_xlabel(\"Manufacturer_name\")\n",
    "ax.set_ylabel(\"Price ($)\")"
   ]
  },
  {
   "cell_type": "code",
   "execution_count": 126,
   "metadata": {},
   "outputs": [
    {
     "data": {
      "text/plain": [
       "<AxesSubplot:xlabel='Price ($)'>"
      ]
     },
     "execution_count": 126,
     "metadata": {},
     "output_type": "execute_result"
    },
    {
     "data": {
      "image/png": "[encoded data removed]",
      "text/plain": [
       "<Figure size 432x288 with 1 Axes>"
      ]
     },
     "metadata": {
      "needs_background": "light"
     },
     "output_type": "display_data"
    }
   ],
   "source": [
    "#detect and remove outliers\n",
    "sns.boxplot(x=df1['Price ($)'])"
   ]
  },
  {
   "cell_type": "code",
   "execution_count": 127,
   "metadata": {},
   "outputs": [],
   "source": [
    "#drop columns\n",
    "#keep: fuel, gear, year, Odometer, price, manufacturer_name, Country\n",
    "df1.drop(['Old price'],axis=1,inplace=True)"
   ]
  },
  {
   "cell_type": "code",
   "execution_count": 128,
   "metadata": {},
   "outputs": [
    {
     "name": "stdout",
     "output_type": "stream",
     "text": [
      "<class 'pandas.core.frame.DataFrame'>\n",
      "Int64Index: 19480 entries, 0 to 20025\n",
      "Data columns (total 7 columns):\n",
      " #   Column             Non-Null Count  Dtype  \n",
      "---  ------             --------------  -----  \n",
      " 0   year               19479 non-null  Int64  \n",
      " 1   fuel               19479 non-null  object \n",
      " 2   gear               19479 non-null  object \n",
      " 3   Odometer (kms)     19479 non-null  float64\n",
      " 4   Country            19480 non-null  object \n",
      " 5   Manufacturer_name  19479 non-null  object \n",
      " 6   Price ($)          19480 non-null  int64  \n",
      "dtypes: Int64(1), float64(1), int64(1), object(4)\n",
      "memory usage: 1.2+ MB\n"
     ]
    }
   ],
   "source": [
    "#get info\n",
    "df1.info()"
   ]
  },
  {
   "cell_type": "code",
   "execution_count": 129,
   "metadata": {},
   "outputs": [
    {
     "data": {
      "text/plain": [
       "array(['Manual', 'Automatic', nan], dtype=object)"
      ]
     },
     "execution_count": 129,
     "metadata": {},
     "output_type": "execute_result"
    }
   ],
   "source": [
    "df1['gear'].unique()"
   ]
  },
  {
   "cell_type": "code",
   "execution_count": 130,
   "metadata": {},
   "outputs": [
    {
     "data": {
      "text/plain": [
       "array(['Petrol', 'Diesel', 'CNG', 'LPG', nan, 'Electric'], dtype=object)"
      ]
     },
     "execution_count": 130,
     "metadata": {},
     "output_type": "execute_result"
    }
   ],
   "source": [
    "df1['fuel'].unique()"
   ]
  },
  {
   "cell_type": "code",
   "execution_count": 131,
   "metadata": {},
   "outputs": [
    {
     "data": {
      "text/plain": [
       "array(['maruti', 'hyundai', 'ford', 'mahindra', 'tata', 'renault',\n",
       "       'nissan', 'mini', 'mercedes-benz', 'toyota', 'fiat', 'volkswagen',\n",
       "       'honda', 'chevrolet', 'ambassador', 'datsun', 'kia', 'bmw',\n",
       "       'mitsubishi', 'audi', 'skoda', nan, 'land', 'jaguar', 'daewoo',\n",
       "       'bentley', 'mg', 'isuzu', 'porsche', 'volvo', 'lexus', 'jeep',\n",
       "       'premier', 'maserati', 'force', 'lamborghini', 'ferrari',\n",
       "       'opelcorsa', 'mercedes-amg', 'dc', 'rolls-royce', 'opel'],\n",
       "      dtype=object)"
      ]
     },
     "execution_count": 131,
     "metadata": {},
     "output_type": "execute_result"
    }
   ],
   "source": [
    "df1['Manufacturer_name'] = df1['Manufacturer_name'].str.lower()\n",
    "df1['Manufacturer_name'].unique()"
   ]
  },
  {
   "cell_type": "code",
   "execution_count": 132,
   "metadata": {},
   "outputs": [],
   "source": [
    "#drop nan\n",
    "df1 = df1.dropna()"
   ]
  },
  {
   "cell_type": "code",
   "execution_count": 133,
   "metadata": {},
   "outputs": [
    {
     "name": "stdout",
     "output_type": "stream",
     "text": [
      "<class 'pandas.core.frame.DataFrame'>\n",
      "Int64Index: 19479 entries, 0 to 20025\n",
      "Data columns (total 7 columns):\n",
      " #   Column             Non-Null Count  Dtype  \n",
      "---  ------             --------------  -----  \n",
      " 0   year               19479 non-null  Int64  \n",
      " 1   fuel               19479 non-null  object \n",
      " 2   gear               19479 non-null  object \n",
      " 3   Odometer (kms)     19479 non-null  float64\n",
      " 4   Country            19479 non-null  object \n",
      " 5   Manufacturer_name  19479 non-null  object \n",
      " 6   Price ($)          19479 non-null  int64  \n",
      "dtypes: Int64(1), float64(1), int64(1), object(4)\n",
      "memory usage: 1.2+ MB\n"
     ]
    }
   ],
   "source": [
    "#get info\n",
    "df1.info()"
   ]
  },
  {
   "cell_type": "code",
   "execution_count": 134,
   "metadata": {},
   "outputs": [
    {
     "data": {
      "text/html": [
       "<div>\n",
       "<style scoped>\n",
       "    .dataframe tbody tr th:only-of-type {\n",
       "        vertical-align: middle;\n",
       "    }\n",
       "\n",
       "    .dataframe tbody tr th {\n",
       "        vertical-align: top;\n",
       "    }\n",
       "\n",
       "    .dataframe thead th {\n",
       "        text-align: right;\n",
       "    }\n",
       "</style>\n",
       "<table border=\"1\" class=\"dataframe\">\n",
       "  <thead>\n",
       "    <tr style=\"text-align: right;\">\n",
       "      <th></th>\n",
       "      <th>year</th>\n",
       "      <th>fuel</th>\n",
       "      <th>gear</th>\n",
       "      <th>Odometer (kms)</th>\n",
       "      <th>Country</th>\n",
       "      <th>Manufacturer_name</th>\n",
       "      <th>Price ($)</th>\n",
       "    </tr>\n",
       "  </thead>\n",
       "  <tbody>\n",
       "    <tr>\n",
       "      <th>0</th>\n",
       "      <td>2012</td>\n",
       "      <td>Petrol</td>\n",
       "      <td>Manual</td>\n",
       "      <td>120000.0</td>\n",
       "      <td>India</td>\n",
       "      <td>maruti</td>\n",
       "      <td>1680</td>\n",
       "    </tr>\n",
       "    <tr>\n",
       "      <th>1</th>\n",
       "      <td>2016</td>\n",
       "      <td>Petrol</td>\n",
       "      <td>Manual</td>\n",
       "      <td>20000.0</td>\n",
       "      <td>India</td>\n",
       "      <td>hyundai</td>\n",
       "      <td>7700</td>\n",
       "    </tr>\n",
       "    <tr>\n",
       "      <th>2</th>\n",
       "      <td>2010</td>\n",
       "      <td>Petrol</td>\n",
       "      <td>Manual</td>\n",
       "      <td>60000.0</td>\n",
       "      <td>India</td>\n",
       "      <td>hyundai</td>\n",
       "      <td>3010</td>\n",
       "    </tr>\n",
       "    <tr>\n",
       "      <th>3</th>\n",
       "      <td>2012</td>\n",
       "      <td>Petrol</td>\n",
       "      <td>Manual</td>\n",
       "      <td>37000.0</td>\n",
       "      <td>India</td>\n",
       "      <td>maruti</td>\n",
       "      <td>3164</td>\n",
       "    </tr>\n",
       "    <tr>\n",
       "      <th>4</th>\n",
       "      <td>2015</td>\n",
       "      <td>Diesel</td>\n",
       "      <td>Manual</td>\n",
       "      <td>30000.0</td>\n",
       "      <td>India</td>\n",
       "      <td>ford</td>\n",
       "      <td>7980</td>\n",
       "    </tr>\n",
       "  </tbody>\n",
       "</table>\n",
       "</div>"
      ],
      "text/plain": [
       "   year    fuel    gear  Odometer (kms) Country Manufacturer_name  Price ($)\n",
       "0  2012  Petrol  Manual        120000.0   India            maruti       1680\n",
       "1  2016  Petrol  Manual         20000.0   India           hyundai       7700\n",
       "2  2010  Petrol  Manual         60000.0   India           hyundai       3010\n",
       "3  2012  Petrol  Manual         37000.0   India            maruti       3164\n",
       "4  2015  Diesel  Manual         30000.0   India              ford       7980"
      ]
     },
     "execution_count": 134,
     "metadata": {},
     "output_type": "execute_result"
    }
   ],
   "source": [
    "df1.head()"
   ]
  },
  {
   "cell_type": "code",
   "execution_count": 135,
   "metadata": {},
   "outputs": [
    {
     "data": {
      "text/html": [
       "<div>\n",
       "<style scoped>\n",
       "    .dataframe tbody tr th:only-of-type {\n",
       "        vertical-align: middle;\n",
       "    }\n",
       "\n",
       "    .dataframe tbody tr th {\n",
       "        vertical-align: top;\n",
       "    }\n",
       "\n",
       "    .dataframe thead th {\n",
       "        text-align: right;\n",
       "    }\n",
       "</style>\n",
       "<table border=\"1\" class=\"dataframe\">\n",
       "  <thead>\n",
       "    <tr style=\"text-align: right;\">\n",
       "      <th></th>\n",
       "      <th>Manufacturer_name</th>\n",
       "      <th>gear</th>\n",
       "      <th>Odometer (kms)</th>\n",
       "      <th>year</th>\n",
       "      <th>fuel</th>\n",
       "      <th>Price ($)</th>\n",
       "      <th>Country</th>\n",
       "    </tr>\n",
       "  </thead>\n",
       "  <tbody>\n",
       "    <tr>\n",
       "      <th>0</th>\n",
       "      <td>maruti</td>\n",
       "      <td>Manual</td>\n",
       "      <td>120000.0</td>\n",
       "      <td>2012</td>\n",
       "      <td>Petrol</td>\n",
       "      <td>1680</td>\n",
       "      <td>India</td>\n",
       "    </tr>\n",
       "    <tr>\n",
       "      <th>1</th>\n",
       "      <td>hyundai</td>\n",
       "      <td>Manual</td>\n",
       "      <td>20000.0</td>\n",
       "      <td>2016</td>\n",
       "      <td>Petrol</td>\n",
       "      <td>7700</td>\n",
       "      <td>India</td>\n",
       "    </tr>\n",
       "    <tr>\n",
       "      <th>2</th>\n",
       "      <td>hyundai</td>\n",
       "      <td>Manual</td>\n",
       "      <td>60000.0</td>\n",
       "      <td>2010</td>\n",
       "      <td>Petrol</td>\n",
       "      <td>3010</td>\n",
       "      <td>India</td>\n",
       "    </tr>\n",
       "    <tr>\n",
       "      <th>3</th>\n",
       "      <td>maruti</td>\n",
       "      <td>Manual</td>\n",
       "      <td>37000.0</td>\n",
       "      <td>2012</td>\n",
       "      <td>Petrol</td>\n",
       "      <td>3164</td>\n",
       "      <td>India</td>\n",
       "    </tr>\n",
       "    <tr>\n",
       "      <th>4</th>\n",
       "      <td>ford</td>\n",
       "      <td>Manual</td>\n",
       "      <td>30000.0</td>\n",
       "      <td>2015</td>\n",
       "      <td>Diesel</td>\n",
       "      <td>7980</td>\n",
       "      <td>India</td>\n",
       "    </tr>\n",
       "  </tbody>\n",
       "</table>\n",
       "</div>"
      ],
      "text/plain": [
       "  Manufacturer_name    gear  Odometer (kms)  year    fuel  Price ($) Country\n",
       "0            maruti  Manual        120000.0  2012  Petrol       1680   India\n",
       "1           hyundai  Manual         20000.0  2016  Petrol       7700   India\n",
       "2           hyundai  Manual         60000.0  2010  Petrol       3010   India\n",
       "3            maruti  Manual         37000.0  2012  Petrol       3164   India\n",
       "4              ford  Manual         30000.0  2015  Diesel       7980   India"
      ]
     },
     "execution_count": 135,
     "metadata": {},
     "output_type": "execute_result"
    }
   ],
   "source": [
    "#Re arrange the columns\n",
    "\n",
    "new_columns = ['Manufacturer_name', 'gear', 'Odometer (kms)', 'year', 'fuel', 'Price ($)', 'Country']\n",
    "df1 = df1[new_columns]\n",
    "df1.head()"
   ]
  },
  {
   "cell_type": "code",
   "execution_count": 141,
   "metadata": {},
   "outputs": [
    {
     "data": {
      "text/html": [
       "<div>\n",
       "<style scoped>\n",
       "    .dataframe tbody tr th:only-of-type {\n",
       "        vertical-align: middle;\n",
       "    }\n",
       "\n",
       "    .dataframe tbody tr th {\n",
       "        vertical-align: top;\n",
       "    }\n",
       "\n",
       "    .dataframe thead th {\n",
       "        text-align: right;\n",
       "    }\n",
       "</style>\n",
       "<table border=\"1\" class=\"dataframe\">\n",
       "  <thead>\n",
       "    <tr style=\"text-align: right;\">\n",
       "      <th></th>\n",
       "      <th>Odometer (kms)</th>\n",
       "      <th>year</th>\n",
       "      <th>Price ($)</th>\n",
       "    </tr>\n",
       "  </thead>\n",
       "  <tbody>\n",
       "    <tr>\n",
       "      <th>count</th>\n",
       "      <td>1.947900e+04</td>\n",
       "      <td>19479.000000</td>\n",
       "      <td>19479.000000</td>\n",
       "    </tr>\n",
       "    <tr>\n",
       "      <th>mean</th>\n",
       "      <td>5.829839e+04</td>\n",
       "      <td>2014.516710</td>\n",
       "      <td>11615.068843</td>\n",
       "    </tr>\n",
       "    <tr>\n",
       "      <th>std</th>\n",
       "      <td>5.211843e+04</td>\n",
       "      <td>3.255949</td>\n",
       "      <td>15783.893784</td>\n",
       "    </tr>\n",
       "    <tr>\n",
       "      <th>min</th>\n",
       "      <td>1.000000e+02</td>\n",
       "      <td>1991.000000</td>\n",
       "      <td>1400.000000</td>\n",
       "    </tr>\n",
       "    <tr>\n",
       "      <th>25%</th>\n",
       "      <td>3.115050e+04</td>\n",
       "      <td>2013.000000</td>\n",
       "      <td>4900.000000</td>\n",
       "    </tr>\n",
       "    <tr>\n",
       "      <th>50%</th>\n",
       "      <td>5.200000e+04</td>\n",
       "      <td>2015.000000</td>\n",
       "      <td>7350.000000</td>\n",
       "    </tr>\n",
       "    <tr>\n",
       "      <th>75%</th>\n",
       "      <td>7.400000e+04</td>\n",
       "      <td>2017.000000</td>\n",
       "      <td>11200.000000</td>\n",
       "    </tr>\n",
       "    <tr>\n",
       "      <th>max</th>\n",
       "      <td>3.800000e+06</td>\n",
       "      <td>2021.000000</td>\n",
       "      <td>138600.000000</td>\n",
       "    </tr>\n",
       "  </tbody>\n",
       "</table>\n",
       "</div>"
      ],
      "text/plain": [
       "       Odometer (kms)          year      Price ($)\n",
       "count    1.947900e+04  19479.000000   19479.000000\n",
       "mean     5.829839e+04   2014.516710   11615.068843\n",
       "std      5.211843e+04      3.255949   15783.893784\n",
       "min      1.000000e+02   1991.000000    1400.000000\n",
       "25%      3.115050e+04   2013.000000    4900.000000\n",
       "50%      5.200000e+04   2015.000000    7350.000000\n",
       "75%      7.400000e+04   2017.000000   11200.000000\n",
       "max      3.800000e+06   2021.000000  138600.000000"
      ]
     },
     "execution_count": 141,
     "metadata": {},
     "output_type": "execute_result"
    }
   ],
   "source": [
    "df1.describe()"
   ]
  },
  {
   "cell_type": "code",
   "execution_count": 55,
   "metadata": {},
   "outputs": [],
   "source": [
    "df1.to_csv('Cardheko_Corrected.csv',sep=',')"
   ]
  },
  {
   "cell_type": "markdown",
   "metadata": {},
   "source": [
    "# df2: autoscout24-germany-dataset-edited.csv\n",
    "describe\n",
    "clean"
   ]
  },
  {
   "cell_type": "code",
   "execution_count": 86,
   "metadata": {},
   "outputs": [
    {
     "data": {
      "text/html": [
       "<div>\n",
       "<style scoped>\n",
       "    .dataframe tbody tr th:only-of-type {\n",
       "        vertical-align: middle;\n",
       "    }\n",
       "\n",
       "    .dataframe tbody tr th {\n",
       "        vertical-align: top;\n",
       "    }\n",
       "\n",
       "    .dataframe thead th {\n",
       "        text-align: right;\n",
       "    }\n",
       "</style>\n",
       "<table border=\"1\" class=\"dataframe\">\n",
       "  <thead>\n",
       "    <tr style=\"text-align: right;\">\n",
       "      <th></th>\n",
       "      <th>odometer</th>\n",
       "      <th>Manufacturer_name</th>\n",
       "      <th>fuel</th>\n",
       "      <th>gear</th>\n",
       "      <th>old price</th>\n",
       "      <th>year</th>\n",
       "      <th>Country</th>\n",
       "      <th>Price ($)</th>\n",
       "    </tr>\n",
       "  </thead>\n",
       "  <tbody>\n",
       "    <tr>\n",
       "      <th>0</th>\n",
       "      <td>235000</td>\n",
       "      <td>BMW</td>\n",
       "      <td>Diesel</td>\n",
       "      <td>Manual</td>\n",
       "      <td>6800</td>\n",
       "      <td>2011</td>\n",
       "      <td>Germany</td>\n",
       "      <td>8024.00</td>\n",
       "    </tr>\n",
       "    <tr>\n",
       "      <th>1</th>\n",
       "      <td>92800</td>\n",
       "      <td>Volkswagen</td>\n",
       "      <td>Gasoline</td>\n",
       "      <td>Manual</td>\n",
       "      <td>6877</td>\n",
       "      <td>2011</td>\n",
       "      <td>Germany</td>\n",
       "      <td>8114.86</td>\n",
       "    </tr>\n",
       "    <tr>\n",
       "      <th>2</th>\n",
       "      <td>149300</td>\n",
       "      <td>SEAT</td>\n",
       "      <td>Gasoline</td>\n",
       "      <td>Manual</td>\n",
       "      <td>6900</td>\n",
       "      <td>2011</td>\n",
       "      <td>Germany</td>\n",
       "      <td>8142.00</td>\n",
       "    </tr>\n",
       "    <tr>\n",
       "      <th>3</th>\n",
       "      <td>96200</td>\n",
       "      <td>Renault</td>\n",
       "      <td>Gasoline</td>\n",
       "      <td>Manual</td>\n",
       "      <td>6950</td>\n",
       "      <td>2011</td>\n",
       "      <td>Germany</td>\n",
       "      <td>8201.00</td>\n",
       "    </tr>\n",
       "    <tr>\n",
       "      <th>4</th>\n",
       "      <td>156000</td>\n",
       "      <td>Peugeot</td>\n",
       "      <td>Gasoline</td>\n",
       "      <td>Manual</td>\n",
       "      <td>6950</td>\n",
       "      <td>2011</td>\n",
       "      <td>Germany</td>\n",
       "      <td>8201.00</td>\n",
       "    </tr>\n",
       "  </tbody>\n",
       "</table>\n",
       "</div>"
      ],
      "text/plain": [
       "   odometer Manufacturer_name      fuel    gear  old price  year  Country  \\\n",
       "0    235000               BMW    Diesel  Manual       6800  2011  Germany   \n",
       "1     92800        Volkswagen  Gasoline  Manual       6877  2011  Germany   \n",
       "2    149300              SEAT  Gasoline  Manual       6900  2011  Germany   \n",
       "3     96200           Renault  Gasoline  Manual       6950  2011  Germany   \n",
       "4    156000           Peugeot  Gasoline  Manual       6950  2011  Germany   \n",
       "\n",
       "   Price ($)  \n",
       "0    8024.00  \n",
       "1    8114.86  \n",
       "2    8142.00  \n",
       "3    8201.00  \n",
       "4    8201.00  "
      ]
     },
     "execution_count": 86,
     "metadata": {},
     "output_type": "execute_result"
    }
   ],
   "source": [
    "df2.head(5)"
   ]
  },
  {
   "cell_type": "code",
   "execution_count": 87,
   "metadata": {},
   "outputs": [
    {
     "name": "stdout",
     "output_type": "stream",
     "text": [
      "<class 'pandas.core.frame.DataFrame'>\n",
      "RangeIndex: 46405 entries, 0 to 46404\n",
      "Data columns (total 8 columns):\n",
      " #   Column             Non-Null Count  Dtype  \n",
      "---  ------             --------------  -----  \n",
      " 0   odometer           46405 non-null  int64  \n",
      " 1   Manufacturer_name  46405 non-null  object \n",
      " 2   fuel               46405 non-null  object \n",
      " 3   gear               46223 non-null  object \n",
      " 4   old price          46405 non-null  int64  \n",
      " 5   year               46405 non-null  int64  \n",
      " 6   Country            46405 non-null  object \n",
      " 7   Price ($)          46405 non-null  float64\n",
      "dtypes: float64(1), int64(3), object(4)\n",
      "memory usage: 2.8+ MB\n"
     ]
    }
   ],
   "source": [
    "df2.info()"
   ]
  },
  {
   "cell_type": "code",
   "execution_count": 88,
   "metadata": {},
   "outputs": [
    {
     "data": {
      "text/html": [
       "<div>\n",
       "<style scoped>\n",
       "    .dataframe tbody tr th:only-of-type {\n",
       "        vertical-align: middle;\n",
       "    }\n",
       "\n",
       "    .dataframe tbody tr th {\n",
       "        vertical-align: top;\n",
       "    }\n",
       "\n",
       "    .dataframe thead th {\n",
       "        text-align: right;\n",
       "    }\n",
       "</style>\n",
       "<table border=\"1\" class=\"dataframe\">\n",
       "  <thead>\n",
       "    <tr style=\"text-align: right;\">\n",
       "      <th></th>\n",
       "      <th>odometer</th>\n",
       "      <th>old price</th>\n",
       "      <th>year</th>\n",
       "      <th>Price ($)</th>\n",
       "    </tr>\n",
       "  </thead>\n",
       "  <tbody>\n",
       "    <tr>\n",
       "      <th>count</th>\n",
       "      <td>4.640500e+04</td>\n",
       "      <td>4.640500e+04</td>\n",
       "      <td>46405.000000</td>\n",
       "      <td>4.640500e+04</td>\n",
       "    </tr>\n",
       "    <tr>\n",
       "      <th>mean</th>\n",
       "      <td>7.117786e+04</td>\n",
       "      <td>1.657234e+04</td>\n",
       "      <td>2016.012951</td>\n",
       "      <td>1.955536e+04</td>\n",
       "    </tr>\n",
       "    <tr>\n",
       "      <th>std</th>\n",
       "      <td>6.262531e+04</td>\n",
       "      <td>1.930470e+04</td>\n",
       "      <td>3.155214</td>\n",
       "      <td>2.277954e+04</td>\n",
       "    </tr>\n",
       "    <tr>\n",
       "      <th>min</th>\n",
       "      <td>0.000000e+00</td>\n",
       "      <td>1.100000e+03</td>\n",
       "      <td>2011.000000</td>\n",
       "      <td>1.298000e+03</td>\n",
       "    </tr>\n",
       "    <tr>\n",
       "      <th>25%</th>\n",
       "      <td>1.980000e+04</td>\n",
       "      <td>7.490000e+03</td>\n",
       "      <td>2013.000000</td>\n",
       "      <td>8.838200e+03</td>\n",
       "    </tr>\n",
       "    <tr>\n",
       "      <th>50%</th>\n",
       "      <td>6.000000e+04</td>\n",
       "      <td>1.099900e+04</td>\n",
       "      <td>2016.000000</td>\n",
       "      <td>1.297882e+04</td>\n",
       "    </tr>\n",
       "    <tr>\n",
       "      <th>75%</th>\n",
       "      <td>1.050000e+05</td>\n",
       "      <td>1.949000e+04</td>\n",
       "      <td>2019.000000</td>\n",
       "      <td>2.299820e+04</td>\n",
       "    </tr>\n",
       "    <tr>\n",
       "      <th>max</th>\n",
       "      <td>1.111111e+06</td>\n",
       "      <td>1.199900e+06</td>\n",
       "      <td>2021.000000</td>\n",
       "      <td>1.415882e+06</td>\n",
       "    </tr>\n",
       "  </tbody>\n",
       "</table>\n",
       "</div>"
      ],
      "text/plain": [
       "           odometer     old price          year     Price ($)\n",
       "count  4.640500e+04  4.640500e+04  46405.000000  4.640500e+04\n",
       "mean   7.117786e+04  1.657234e+04   2016.012951  1.955536e+04\n",
       "std    6.262531e+04  1.930470e+04      3.155214  2.277954e+04\n",
       "min    0.000000e+00  1.100000e+03   2011.000000  1.298000e+03\n",
       "25%    1.980000e+04  7.490000e+03   2013.000000  8.838200e+03\n",
       "50%    6.000000e+04  1.099900e+04   2016.000000  1.297882e+04\n",
       "75%    1.050000e+05  1.949000e+04   2019.000000  2.299820e+04\n",
       "max    1.111111e+06  1.199900e+06   2021.000000  1.415882e+06"
      ]
     },
     "execution_count": 88,
     "metadata": {},
     "output_type": "execute_result"
    }
   ],
   "source": [
    "#get descriptive stats\n",
    "df2.describe()"
   ]
  },
  {
   "cell_type": "code",
   "execution_count": 89,
   "metadata": {},
   "outputs": [
    {
     "data": {
      "text/plain": [
       "odometer               0\n",
       "Manufacturer_name      0\n",
       "fuel                   0\n",
       "gear                 182\n",
       "old price              0\n",
       "year                   0\n",
       "Country                0\n",
       "Price ($)              0\n",
       "dtype: int64"
      ]
     },
     "execution_count": 89,
     "metadata": {},
     "output_type": "execute_result"
    }
   ],
   "source": [
    "#get sum nan\n",
    "df2.isna().sum()"
   ]
  },
  {
   "cell_type": "code",
   "execution_count": 90,
   "metadata": {},
   "outputs": [
    {
     "data": {
      "text/plain": [
       "odometer             46405\n",
       "Manufacturer_name    46405\n",
       "fuel                 46405\n",
       "gear                 46223\n",
       "old price            46405\n",
       "year                 46405\n",
       "Country              46405\n",
       "Price ($)            46405\n",
       "dtype: int64"
      ]
     },
     "execution_count": 90,
     "metadata": {},
     "output_type": "execute_result"
    }
   ],
   "source": [
    "#get sum non nan\n",
    "df2.notnull().sum()\n"
   ]
  },
  {
   "cell_type": "code",
   "execution_count": 92,
   "metadata": {},
   "outputs": [
    {
     "data": {
      "text/plain": [
       "odometer               int64\n",
       "Manufacturer_name     object\n",
       "fuel                  object\n",
       "gear                  object\n",
       "old price              int64\n",
       "year                   int64\n",
       "Country               object\n",
       "Price ($)            float64\n",
       "dtype: object"
      ]
     },
     "execution_count": 92,
     "metadata": {},
     "output_type": "execute_result"
    }
   ],
   "source": [
    "df2.dtypes"
   ]
  },
  {
   "cell_type": "code",
   "execution_count": 93,
   "metadata": {},
   "outputs": [],
   "source": [
    "#int to float: Odometer\n",
    "df2['odometer'] = df2['odometer'].astype('float') \n",
    "assert df2['odometer'].dtype == 'float'"
   ]
  },
  {
   "cell_type": "code",
   "execution_count": 96,
   "metadata": {},
   "outputs": [],
   "source": [
    "#float to int: price\n",
    "df2['Price ($)'] = df2['Price ($)'].astype(np.int64)"
   ]
  },
  {
   "cell_type": "code",
   "execution_count": 97,
   "metadata": {},
   "outputs": [
    {
     "data": {
      "text/plain": [
       "odometer             float64\n",
       "Manufacturer_name     object\n",
       "fuel                  object\n",
       "gear                  object\n",
       "old price              int64\n",
       "year                   int64\n",
       "Country               object\n",
       "Price ($)              int64\n",
       "dtype: object"
      ]
     },
     "execution_count": 97,
     "metadata": {},
     "output_type": "execute_result"
    }
   ],
   "source": [
    "df2.dtypes"
   ]
  },
  {
   "cell_type": "code",
   "execution_count": 98,
   "metadata": {},
   "outputs": [
    {
     "data": {
      "text/plain": [
       "(44119, 8)"
      ]
     },
     "execution_count": 98,
     "metadata": {},
     "output_type": "execute_result"
    }
   ],
   "source": [
    "#remove duplicate rows\n",
    "df2.duplicated().sum()\n",
    "df2.drop_duplicates(inplace=True)\n",
    "df2.shape"
   ]
  },
  {
   "cell_type": "code",
   "execution_count": 99,
   "metadata": {},
   "outputs": [
    {
     "name": "stdout",
     "output_type": "stream",
     "text": [
      "1415882\n",
      "1298\n",
      "19530.557786894537\n",
      "12968.0\n"
     ]
    }
   ],
   "source": [
    "print(df2['Price ($)'].max())\n",
    "print(df2['Price ($)'].min())\n",
    "print(df2['Price ($)'].mean())\n",
    "print(df2['Price ($)'].median())"
   ]
  },
  {
   "cell_type": "code",
   "execution_count": 65,
   "metadata": {},
   "outputs": [
    {
     "data": {
      "text/plain": [
       "Text(0, 0.5, 'Price ($)')"
      ]
     },
     "execution_count": 65,
     "metadata": {},
     "output_type": "execute_result"
    },
    {
     "data": {
      "image/png": "[encoded data removed]",
      "text/plain": [
       "<Figure size 1008x576 with 1 Axes>"
      ]
     },
     "metadata": {
      "needs_background": "light"
     },
     "output_type": "display_data"
    }
   ],
   "source": [
    "\n",
    "#distribution bar chart --> year/price\n",
    "plt = df2['year'].value_counts().plot(kind='bar',\n",
    "                                    figsize=(14,8),\n",
    "                                    title=\"Number of Used Cars price per year\")\n",
    "plt.set_xlabel(\"year\")\n",
    "plt.set_ylabel(\"Price ($)\")"
   ]
  },
  {
   "cell_type": "code",
   "execution_count": 66,
   "metadata": {},
   "outputs": [
    {
     "data": {
      "text/plain": [
       "Text(0, 0.5, 'Price ($)')"
      ]
     },
     "execution_count": 66,
     "metadata": {},
     "output_type": "execute_result"
    },
    {
     "data": {
      "image/png": "[encoded data removed]",
      "text/plain": [
       "<Figure size 1008x576 with 1 Axes>"
      ]
     },
     "metadata": {
      "needs_background": "light"
     },
     "output_type": "display_data"
    }
   ],
   "source": [
    "#distribution bar chart --> Manufacturers/sales adverts\n",
    "ax = df2['Manufacturer_name'].value_counts().plot(kind='bar',\n",
    "                                    figsize=(14,8),\n",
    "                                    title=\"Number of Used Cars Price per Manufacturer\")\n",
    "ax.set_xlabel(\"Manufacturer_name\")\n",
    "ax.set_ylabel(\"Price ($)\")\n"
   ]
  },
  {
   "cell_type": "code",
   "execution_count": 100,
   "metadata": {},
   "outputs": [
    {
     "data": {
      "text/plain": [
       "<AxesSubplot:xlabel='Price ($)'>"
      ]
     },
     "execution_count": 100,
     "metadata": {},
     "output_type": "execute_result"
    },
    {
     "data": {
      "image/png": "[encoded data removed]",
      "text/plain": [
       "<Figure size 432x288 with 1 Axes>"
      ]
     },
     "metadata": {
      "needs_background": "light"
     },
     "output_type": "display_data"
    }
   ],
   "source": [
    "#detect and remove outliers\n",
    "sns.boxplot(x=df2['Price ($)'])"
   ]
  },
  {
   "cell_type": "code",
   "execution_count": 101,
   "metadata": {},
   "outputs": [],
   "source": [
    "#drop columns\n",
    "#keep: fuel, gear, year, Odometer, price, manufacturer_name, Country\n",
    "df2.drop(['old price'],axis=1,inplace=True)\n"
   ]
  },
  {
   "cell_type": "code",
   "execution_count": 102,
   "metadata": {},
   "outputs": [
    {
     "data": {
      "text/plain": [
       "array(['Manual', 'Automatic', nan, 'Semi-automatic'], dtype=object)"
      ]
     },
     "execution_count": 102,
     "metadata": {},
     "output_type": "execute_result"
    }
   ],
   "source": [
    "df2['gear'].unique()"
   ]
  },
  {
   "cell_type": "code",
   "execution_count": 103,
   "metadata": {},
   "outputs": [
    {
     "data": {
      "text/plain": [
       "array(['Diesel', 'Gasoline', 'Electric/Gasoline', '-/- (Fuel)',\n",
       "       'Electric', 'Electric/Diesel', 'CNG', 'LPG', 'Others', 'Hydrogen',\n",
       "       'Ethanol'], dtype=object)"
      ]
     },
     "execution_count": 103,
     "metadata": {},
     "output_type": "execute_result"
    }
   ],
   "source": [
    "df2['fuel'].unique()"
   ]
  },
  {
   "cell_type": "code",
   "execution_count": 104,
   "metadata": {},
   "outputs": [
    {
     "data": {
      "text/plain": [
       "array(['bmw', 'volkswagen', 'seat', 'renault', 'peugeot', 'toyota',\n",
       "       'opel', 'mazda', 'ford', 'mercedes-benz', 'chevrolet', 'audi',\n",
       "       'fiat', 'kia', 'dacia', 'mini', 'hyundai', 'skoda', 'citroen',\n",
       "       'infiniti', 'suzuki', 'ssangyong', 'smart', 'cupra', 'volvo',\n",
       "       'jaguar', 'porsche', 'nissan', 'honda', 'lada', 'mitsubishi',\n",
       "       'others', 'lexus', 'jeep', 'maserati', 'bentley', 'land', 'alfa',\n",
       "       'subaru', 'dodge', 'microcar', 'lamborghini', 'baic', 'tesla',\n",
       "       'chrysler', '9ff', 'mclaren', 'aston', 'rolls-royce', 'alpine',\n",
       "       'lancia', 'abarth', 'ds', 'daihatsu', 'ligier', 'ferrari',\n",
       "       'caravans-wohnm', 'aixam', 'piaggio', 'zhidou', 'morgan',\n",
       "       'maybach', 'tazzari', 'trucks-lkw', 'ram', 'iveco', 'daf',\n",
       "       'alpina', 'polestar', 'brilliance', 'fisker', 'cadillac',\n",
       "       'trailer-anhänger', 'isuzu', 'corvette', 'dfsk', 'estrima'],\n",
       "      dtype=object)"
      ]
     },
     "execution_count": 104,
     "metadata": {},
     "output_type": "execute_result"
    }
   ],
   "source": [
    "df2['Manufacturer_name'] = df2['Manufacturer_name'].str.lower()\n",
    "df2['Manufacturer_name'].unique()\n"
   ]
  },
  {
   "cell_type": "code",
   "execution_count": 106,
   "metadata": {},
   "outputs": [],
   "source": [
    "#drop nan\n",
    "df2 = df2.dropna()"
   ]
  },
  {
   "cell_type": "code",
   "execution_count": 107,
   "metadata": {},
   "outputs": [
    {
     "name": "stdout",
     "output_type": "stream",
     "text": [
      "<class 'pandas.core.frame.DataFrame'>\n",
      "Int64Index: 43944 entries, 0 to 46399\n",
      "Data columns (total 7 columns):\n",
      " #   Column             Non-Null Count  Dtype  \n",
      "---  ------             --------------  -----  \n",
      " 0   odometer           43944 non-null  float64\n",
      " 1   Manufacturer_name  43944 non-null  object \n",
      " 2   fuel               43944 non-null  object \n",
      " 3   gear               43944 non-null  object \n",
      " 4   year               43944 non-null  int64  \n",
      " 5   Country            43944 non-null  object \n",
      " 6   Price ($)          43944 non-null  int64  \n",
      "dtypes: float64(1), int64(2), object(4)\n",
      "memory usage: 2.7+ MB\n"
     ]
    }
   ],
   "source": [
    "#get info\n",
    "df2.info()"
   ]
  },
  {
   "cell_type": "code",
   "execution_count": 108,
   "metadata": {},
   "outputs": [
    {
     "data": {
      "text/html": [
       "<div>\n",
       "<style scoped>\n",
       "    .dataframe tbody tr th:only-of-type {\n",
       "        vertical-align: middle;\n",
       "    }\n",
       "\n",
       "    .dataframe tbody tr th {\n",
       "        vertical-align: top;\n",
       "    }\n",
       "\n",
       "    .dataframe thead th {\n",
       "        text-align: right;\n",
       "    }\n",
       "</style>\n",
       "<table border=\"1\" class=\"dataframe\">\n",
       "  <thead>\n",
       "    <tr style=\"text-align: right;\">\n",
       "      <th></th>\n",
       "      <th>odometer</th>\n",
       "      <th>Manufacturer_name</th>\n",
       "      <th>fuel</th>\n",
       "      <th>gear</th>\n",
       "      <th>year</th>\n",
       "      <th>Country</th>\n",
       "      <th>Price ($)</th>\n",
       "    </tr>\n",
       "  </thead>\n",
       "  <tbody>\n",
       "    <tr>\n",
       "      <th>0</th>\n",
       "      <td>235000.0</td>\n",
       "      <td>bmw</td>\n",
       "      <td>Diesel</td>\n",
       "      <td>Manual</td>\n",
       "      <td>2011</td>\n",
       "      <td>Germany</td>\n",
       "      <td>8024</td>\n",
       "    </tr>\n",
       "    <tr>\n",
       "      <th>1</th>\n",
       "      <td>92800.0</td>\n",
       "      <td>volkswagen</td>\n",
       "      <td>Gasoline</td>\n",
       "      <td>Manual</td>\n",
       "      <td>2011</td>\n",
       "      <td>Germany</td>\n",
       "      <td>8114</td>\n",
       "    </tr>\n",
       "    <tr>\n",
       "      <th>2</th>\n",
       "      <td>149300.0</td>\n",
       "      <td>seat</td>\n",
       "      <td>Gasoline</td>\n",
       "      <td>Manual</td>\n",
       "      <td>2011</td>\n",
       "      <td>Germany</td>\n",
       "      <td>8142</td>\n",
       "    </tr>\n",
       "    <tr>\n",
       "      <th>3</th>\n",
       "      <td>96200.0</td>\n",
       "      <td>renault</td>\n",
       "      <td>Gasoline</td>\n",
       "      <td>Manual</td>\n",
       "      <td>2011</td>\n",
       "      <td>Germany</td>\n",
       "      <td>8201</td>\n",
       "    </tr>\n",
       "    <tr>\n",
       "      <th>4</th>\n",
       "      <td>156000.0</td>\n",
       "      <td>peugeot</td>\n",
       "      <td>Gasoline</td>\n",
       "      <td>Manual</td>\n",
       "      <td>2011</td>\n",
       "      <td>Germany</td>\n",
       "      <td>8201</td>\n",
       "    </tr>\n",
       "  </tbody>\n",
       "</table>\n",
       "</div>"
      ],
      "text/plain": [
       "   odometer Manufacturer_name      fuel    gear  year  Country  Price ($)\n",
       "0  235000.0               bmw    Diesel  Manual  2011  Germany       8024\n",
       "1   92800.0        volkswagen  Gasoline  Manual  2011  Germany       8114\n",
       "2  149300.0              seat  Gasoline  Manual  2011  Germany       8142\n",
       "3   96200.0           renault  Gasoline  Manual  2011  Germany       8201\n",
       "4  156000.0           peugeot  Gasoline  Manual  2011  Germany       8201"
      ]
     },
     "execution_count": 108,
     "metadata": {},
     "output_type": "execute_result"
    }
   ],
   "source": [
    "df2.head()"
   ]
  },
  {
   "cell_type": "code",
   "execution_count": 110,
   "metadata": {},
   "outputs": [],
   "source": [
    "#Re arrange the columns\n",
    "new_columns = ['Manufacturer_name', 'gear', 'odometer', 'year', 'fuel', 'Price ($)', 'Country']\n",
    "df2 = df2[new_columns]\n",
    "\n"
   ]
  },
  {
   "cell_type": "code",
   "execution_count": 111,
   "metadata": {},
   "outputs": [
    {
     "data": {
      "text/html": [
       "<div>\n",
       "<style scoped>\n",
       "    .dataframe tbody tr th:only-of-type {\n",
       "        vertical-align: middle;\n",
       "    }\n",
       "\n",
       "    .dataframe tbody tr th {\n",
       "        vertical-align: top;\n",
       "    }\n",
       "\n",
       "    .dataframe thead th {\n",
       "        text-align: right;\n",
       "    }\n",
       "</style>\n",
       "<table border=\"1\" class=\"dataframe\">\n",
       "  <thead>\n",
       "    <tr style=\"text-align: right;\">\n",
       "      <th></th>\n",
       "      <th>Manufacturer_name</th>\n",
       "      <th>gear</th>\n",
       "      <th>odometer</th>\n",
       "      <th>year</th>\n",
       "      <th>fuel</th>\n",
       "      <th>Price ($)</th>\n",
       "      <th>Country</th>\n",
       "    </tr>\n",
       "  </thead>\n",
       "  <tbody>\n",
       "    <tr>\n",
       "      <th>0</th>\n",
       "      <td>bmw</td>\n",
       "      <td>Manual</td>\n",
       "      <td>235000.0</td>\n",
       "      <td>2011</td>\n",
       "      <td>Diesel</td>\n",
       "      <td>8024</td>\n",
       "      <td>Germany</td>\n",
       "    </tr>\n",
       "    <tr>\n",
       "      <th>1</th>\n",
       "      <td>volkswagen</td>\n",
       "      <td>Manual</td>\n",
       "      <td>92800.0</td>\n",
       "      <td>2011</td>\n",
       "      <td>Gasoline</td>\n",
       "      <td>8114</td>\n",
       "      <td>Germany</td>\n",
       "    </tr>\n",
       "    <tr>\n",
       "      <th>2</th>\n",
       "      <td>seat</td>\n",
       "      <td>Manual</td>\n",
       "      <td>149300.0</td>\n",
       "      <td>2011</td>\n",
       "      <td>Gasoline</td>\n",
       "      <td>8142</td>\n",
       "      <td>Germany</td>\n",
       "    </tr>\n",
       "    <tr>\n",
       "      <th>3</th>\n",
       "      <td>renault</td>\n",
       "      <td>Manual</td>\n",
       "      <td>96200.0</td>\n",
       "      <td>2011</td>\n",
       "      <td>Gasoline</td>\n",
       "      <td>8201</td>\n",
       "      <td>Germany</td>\n",
       "    </tr>\n",
       "    <tr>\n",
       "      <th>4</th>\n",
       "      <td>peugeot</td>\n",
       "      <td>Manual</td>\n",
       "      <td>156000.0</td>\n",
       "      <td>2011</td>\n",
       "      <td>Gasoline</td>\n",
       "      <td>8201</td>\n",
       "      <td>Germany</td>\n",
       "    </tr>\n",
       "  </tbody>\n",
       "</table>\n",
       "</div>"
      ],
      "text/plain": [
       "  Manufacturer_name    gear  odometer  year      fuel  Price ($)  Country\n",
       "0               bmw  Manual  235000.0  2011    Diesel       8024  Germany\n",
       "1        volkswagen  Manual   92800.0  2011  Gasoline       8114  Germany\n",
       "2              seat  Manual  149300.0  2011  Gasoline       8142  Germany\n",
       "3           renault  Manual   96200.0  2011  Gasoline       8201  Germany\n",
       "4           peugeot  Manual  156000.0  2011  Gasoline       8201  Germany"
      ]
     },
     "execution_count": 111,
     "metadata": {},
     "output_type": "execute_result"
    }
   ],
   "source": [
    "df2.head()"
   ]
  },
  {
   "cell_type": "code",
   "execution_count": 112,
   "metadata": {},
   "outputs": [],
   "source": [
    "df2.to_csv('Autoscout_cleaned.csv',sep=',')"
   ]
  },
  {
   "cell_type": "code",
   "execution_count": 136,
   "metadata": {},
   "outputs": [
    {
     "data": {
      "text/html": [
       "<div>\n",
       "<style scoped>\n",
       "    .dataframe tbody tr th:only-of-type {\n",
       "        vertical-align: middle;\n",
       "    }\n",
       "\n",
       "    .dataframe tbody tr th {\n",
       "        vertical-align: top;\n",
       "    }\n",
       "\n",
       "    .dataframe thead th {\n",
       "        text-align: right;\n",
       "    }\n",
       "</style>\n",
       "<table border=\"1\" class=\"dataframe\">\n",
       "  <thead>\n",
       "    <tr style=\"text-align: right;\">\n",
       "      <th></th>\n",
       "      <th>Manufacturer_name</th>\n",
       "      <th>gear</th>\n",
       "      <th>Odometer (kms)</th>\n",
       "      <th>year</th>\n",
       "      <th>fuel</th>\n",
       "      <th>Price ($)</th>\n",
       "      <th>Country</th>\n",
       "    </tr>\n",
       "  </thead>\n",
       "  <tbody>\n",
       "    <tr>\n",
       "      <th>0</th>\n",
       "      <td>maruti</td>\n",
       "      <td>Manual</td>\n",
       "      <td>120000.0</td>\n",
       "      <td>2012</td>\n",
       "      <td>Petrol</td>\n",
       "      <td>1680</td>\n",
       "      <td>India</td>\n",
       "    </tr>\n",
       "    <tr>\n",
       "      <th>1</th>\n",
       "      <td>hyundai</td>\n",
       "      <td>Manual</td>\n",
       "      <td>20000.0</td>\n",
       "      <td>2016</td>\n",
       "      <td>Petrol</td>\n",
       "      <td>7700</td>\n",
       "      <td>India</td>\n",
       "    </tr>\n",
       "    <tr>\n",
       "      <th>2</th>\n",
       "      <td>hyundai</td>\n",
       "      <td>Manual</td>\n",
       "      <td>60000.0</td>\n",
       "      <td>2010</td>\n",
       "      <td>Petrol</td>\n",
       "      <td>3010</td>\n",
       "      <td>India</td>\n",
       "    </tr>\n",
       "    <tr>\n",
       "      <th>3</th>\n",
       "      <td>maruti</td>\n",
       "      <td>Manual</td>\n",
       "      <td>37000.0</td>\n",
       "      <td>2012</td>\n",
       "      <td>Petrol</td>\n",
       "      <td>3164</td>\n",
       "      <td>India</td>\n",
       "    </tr>\n",
       "    <tr>\n",
       "      <th>4</th>\n",
       "      <td>ford</td>\n",
       "      <td>Manual</td>\n",
       "      <td>30000.0</td>\n",
       "      <td>2015</td>\n",
       "      <td>Diesel</td>\n",
       "      <td>7980</td>\n",
       "      <td>India</td>\n",
       "    </tr>\n",
       "  </tbody>\n",
       "</table>\n",
       "</div>"
      ],
      "text/plain": [
       "  Manufacturer_name    gear  Odometer (kms)  year    fuel  Price ($) Country\n",
       "0            maruti  Manual        120000.0  2012  Petrol       1680   India\n",
       "1           hyundai  Manual         20000.0  2016  Petrol       7700   India\n",
       "2           hyundai  Manual         60000.0  2010  Petrol       3010   India\n",
       "3            maruti  Manual         37000.0  2012  Petrol       3164   India\n",
       "4              ford  Manual         30000.0  2015  Diesel       7980   India"
      ]
     },
     "execution_count": 136,
     "metadata": {},
     "output_type": "execute_result"
    }
   ],
   "source": [
    "df1.head()"
   ]
  },
  {
   "cell_type": "code",
   "execution_count": 137,
   "metadata": {},
   "outputs": [
    {
     "data": {
      "text/html": [
       "<div>\n",
       "<style scoped>\n",
       "    .dataframe tbody tr th:only-of-type {\n",
       "        vertical-align: middle;\n",
       "    }\n",
       "\n",
       "    .dataframe tbody tr th {\n",
       "        vertical-align: top;\n",
       "    }\n",
       "\n",
       "    .dataframe thead th {\n",
       "        text-align: right;\n",
       "    }\n",
       "</style>\n",
       "<table border=\"1\" class=\"dataframe\">\n",
       "  <thead>\n",
       "    <tr style=\"text-align: right;\">\n",
       "      <th></th>\n",
       "      <th>Manufacturer_name</th>\n",
       "      <th>gear</th>\n",
       "      <th>odometer</th>\n",
       "      <th>year</th>\n",
       "      <th>fuel</th>\n",
       "      <th>Price ($)</th>\n",
       "      <th>Country</th>\n",
       "    </tr>\n",
       "  </thead>\n",
       "  <tbody>\n",
       "    <tr>\n",
       "      <th>0</th>\n",
       "      <td>bmw</td>\n",
       "      <td>Manual</td>\n",
       "      <td>235000.0</td>\n",
       "      <td>2011</td>\n",
       "      <td>Diesel</td>\n",
       "      <td>8024</td>\n",
       "      <td>Germany</td>\n",
       "    </tr>\n",
       "    <tr>\n",
       "      <th>1</th>\n",
       "      <td>volkswagen</td>\n",
       "      <td>Manual</td>\n",
       "      <td>92800.0</td>\n",
       "      <td>2011</td>\n",
       "      <td>Gasoline</td>\n",
       "      <td>8114</td>\n",
       "      <td>Germany</td>\n",
       "    </tr>\n",
       "    <tr>\n",
       "      <th>2</th>\n",
       "      <td>seat</td>\n",
       "      <td>Manual</td>\n",
       "      <td>149300.0</td>\n",
       "      <td>2011</td>\n",
       "      <td>Gasoline</td>\n",
       "      <td>8142</td>\n",
       "      <td>Germany</td>\n",
       "    </tr>\n",
       "    <tr>\n",
       "      <th>3</th>\n",
       "      <td>renault</td>\n",
       "      <td>Manual</td>\n",
       "      <td>96200.0</td>\n",
       "      <td>2011</td>\n",
       "      <td>Gasoline</td>\n",
       "      <td>8201</td>\n",
       "      <td>Germany</td>\n",
       "    </tr>\n",
       "    <tr>\n",
       "      <th>4</th>\n",
       "      <td>peugeot</td>\n",
       "      <td>Manual</td>\n",
       "      <td>156000.0</td>\n",
       "      <td>2011</td>\n",
       "      <td>Gasoline</td>\n",
       "      <td>8201</td>\n",
       "      <td>Germany</td>\n",
       "    </tr>\n",
       "  </tbody>\n",
       "</table>\n",
       "</div>"
      ],
      "text/plain": [
       "  Manufacturer_name    gear  odometer  year      fuel  Price ($)  Country\n",
       "0               bmw  Manual  235000.0  2011    Diesel       8024  Germany\n",
       "1        volkswagen  Manual   92800.0  2011  Gasoline       8114  Germany\n",
       "2              seat  Manual  149300.0  2011  Gasoline       8142  Germany\n",
       "3           renault  Manual   96200.0  2011  Gasoline       8201  Germany\n",
       "4           peugeot  Manual  156000.0  2011  Gasoline       8201  Germany"
      ]
     },
     "execution_count": 137,
     "metadata": {},
     "output_type": "execute_result"
    }
   ],
   "source": [
    "df2.head()"
   ]
  },
  {
   "cell_type": "code",
   "execution_count": 142,
   "metadata": {},
   "outputs": [],
   "source": [
    "df3 = pd.read_csv(\"Cardheko_Corrected.csv\")\n",
    "df4 = pd.read_csv(\"Autoscout_cleaned.csv\")"
   ]
  },
  {
   "cell_type": "code",
   "execution_count": 143,
   "metadata": {},
   "outputs": [
    {
     "data": {
      "text/html": [
       "<div>\n",
       "<style scoped>\n",
       "    .dataframe tbody tr th:only-of-type {\n",
       "        vertical-align: middle;\n",
       "    }\n",
       "\n",
       "    .dataframe tbody tr th {\n",
       "        vertical-align: top;\n",
       "    }\n",
       "\n",
       "    .dataframe thead th {\n",
       "        text-align: right;\n",
       "    }\n",
       "</style>\n",
       "<table border=\"1\" class=\"dataframe\">\n",
       "  <thead>\n",
       "    <tr style=\"text-align: right;\">\n",
       "      <th></th>\n",
       "      <th>Unnamed: 0</th>\n",
       "      <th>Manufacturer_name</th>\n",
       "      <th>Gear</th>\n",
       "      <th>Odometer (km)</th>\n",
       "      <th>year</th>\n",
       "      <th>Fuel</th>\n",
       "      <th>Price ($)</th>\n",
       "      <th>Country</th>\n",
       "    </tr>\n",
       "  </thead>\n",
       "  <tbody>\n",
       "    <tr>\n",
       "      <th>0</th>\n",
       "      <td>0</td>\n",
       "      <td>maruti</td>\n",
       "      <td>Manual</td>\n",
       "      <td>120000</td>\n",
       "      <td>2012</td>\n",
       "      <td>Petrol</td>\n",
       "      <td>1680</td>\n",
       "      <td>India</td>\n",
       "    </tr>\n",
       "    <tr>\n",
       "      <th>1</th>\n",
       "      <td>1</td>\n",
       "      <td>hyundai</td>\n",
       "      <td>Manual</td>\n",
       "      <td>20000</td>\n",
       "      <td>2016</td>\n",
       "      <td>Petrol</td>\n",
       "      <td>7700</td>\n",
       "      <td>India</td>\n",
       "    </tr>\n",
       "    <tr>\n",
       "      <th>2</th>\n",
       "      <td>2</td>\n",
       "      <td>hyundai</td>\n",
       "      <td>Manual</td>\n",
       "      <td>60000</td>\n",
       "      <td>2010</td>\n",
       "      <td>Petrol</td>\n",
       "      <td>3010</td>\n",
       "      <td>India</td>\n",
       "    </tr>\n",
       "    <tr>\n",
       "      <th>3</th>\n",
       "      <td>3</td>\n",
       "      <td>maruti</td>\n",
       "      <td>Manual</td>\n",
       "      <td>37000</td>\n",
       "      <td>2012</td>\n",
       "      <td>Petrol</td>\n",
       "      <td>3164</td>\n",
       "      <td>India</td>\n",
       "    </tr>\n",
       "    <tr>\n",
       "      <th>4</th>\n",
       "      <td>4</td>\n",
       "      <td>ford</td>\n",
       "      <td>Manual</td>\n",
       "      <td>30000</td>\n",
       "      <td>2015</td>\n",
       "      <td>Diesel</td>\n",
       "      <td>7980</td>\n",
       "      <td>India</td>\n",
       "    </tr>\n",
       "    <tr>\n",
       "      <th>5</th>\n",
       "      <td>5</td>\n",
       "      <td>maruti</td>\n",
       "      <td>Manual</td>\n",
       "      <td>35000</td>\n",
       "      <td>2013</td>\n",
       "      <td>Petrol</td>\n",
       "      <td>4900</td>\n",
       "      <td>India</td>\n",
       "    </tr>\n",
       "    <tr>\n",
       "      <th>6</th>\n",
       "      <td>6</td>\n",
       "      <td>hyundai</td>\n",
       "      <td>Manual</td>\n",
       "      <td>40000</td>\n",
       "      <td>2013</td>\n",
       "      <td>Petrol</td>\n",
       "      <td>4410</td>\n",
       "      <td>India</td>\n",
       "    </tr>\n",
       "    <tr>\n",
       "      <th>7</th>\n",
       "      <td>7</td>\n",
       "      <td>maruti</td>\n",
       "      <td>Manual</td>\n",
       "      <td>17512</td>\n",
       "      <td>2018</td>\n",
       "      <td>Petrol</td>\n",
       "      <td>5740</td>\n",
       "      <td>India</td>\n",
       "    </tr>\n",
       "    <tr>\n",
       "      <th>8</th>\n",
       "      <td>8</td>\n",
       "      <td>hyundai</td>\n",
       "      <td>Automatic</td>\n",
       "      <td>20000</td>\n",
       "      <td>2019</td>\n",
       "      <td>Petrol</td>\n",
       "      <td>14700</td>\n",
       "      <td>India</td>\n",
       "    </tr>\n",
       "    <tr>\n",
       "      <th>9</th>\n",
       "      <td>9</td>\n",
       "      <td>mahindra</td>\n",
       "      <td>Manual</td>\n",
       "      <td>70000</td>\n",
       "      <td>2017</td>\n",
       "      <td>Diesel</td>\n",
       "      <td>8050</td>\n",
       "      <td>India</td>\n",
       "    </tr>\n",
       "  </tbody>\n",
       "</table>\n",
       "</div>"
      ],
      "text/plain": [
       "   Unnamed: 0 Manufacturer_name       Gear  Odometer (km)  year    Fuel  \\\n",
       "0           0            maruti     Manual         120000  2012  Petrol   \n",
       "1           1           hyundai     Manual          20000  2016  Petrol   \n",
       "2           2           hyundai     Manual          60000  2010  Petrol   \n",
       "3           3            maruti     Manual          37000  2012  Petrol   \n",
       "4           4              ford     Manual          30000  2015  Diesel   \n",
       "5           5            maruti     Manual          35000  2013  Petrol   \n",
       "6           6           hyundai     Manual          40000  2013  Petrol   \n",
       "7           7            maruti     Manual          17512  2018  Petrol   \n",
       "8           8           hyundai  Automatic          20000  2019  Petrol   \n",
       "9           9          mahindra     Manual          70000  2017  Diesel   \n",
       "\n",
       "   Price ($) Country  \n",
       "0       1680   India  \n",
       "1       7700   India  \n",
       "2       3010   India  \n",
       "3       3164   India  \n",
       "4       7980   India  \n",
       "5       4900   India  \n",
       "6       4410   India  \n",
       "7       5740   India  \n",
       "8      14700   India  \n",
       "9       8050   India  "
      ]
     },
     "execution_count": 143,
     "metadata": {},
     "output_type": "execute_result"
    }
   ],
   "source": [
    "df5=pd.concat([df3,df4], ignore_index=True)\n",
    "df5.head(10)"
   ]
  },
  {
   "cell_type": "code",
   "execution_count": 144,
   "metadata": {},
   "outputs": [],
   "source": [
    "df5.to_csv('Cardheko_Autoscout_cleaned.csv',sep=',')"
   ]
  },
  {
   "cell_type": "code",
   "execution_count": 148,
   "metadata": {},
   "outputs": [],
   "source": [
    "df6 = pd.read_csv(\"vehicles+cars_clean_merged.csv\")\n",
    "df7 = pd.read_csv(\"Cardheko_Autoscout_cleaned.csv\")\n"
   ]
  },
  {
   "cell_type": "code",
   "execution_count": 149,
   "metadata": {},
   "outputs": [
    {
     "data": {
      "text/html": [
       "<div>\n",
       "<style scoped>\n",
       "    .dataframe tbody tr th:only-of-type {\n",
       "        vertical-align: middle;\n",
       "    }\n",
       "\n",
       "    .dataframe tbody tr th {\n",
       "        vertical-align: top;\n",
       "    }\n",
       "\n",
       "    .dataframe thead th {\n",
       "        text-align: right;\n",
       "    }\n",
       "</style>\n",
       "<table border=\"1\" class=\"dataframe\">\n",
       "  <thead>\n",
       "    <tr style=\"text-align: right;\">\n",
       "      <th></th>\n",
       "      <th>Manufacturer_name</th>\n",
       "      <th>Gear</th>\n",
       "      <th>Odometer (km)</th>\n",
       "      <th>year</th>\n",
       "      <th>Fuel</th>\n",
       "      <th>Price ($)</th>\n",
       "      <th>Country</th>\n",
       "    </tr>\n",
       "  </thead>\n",
       "  <tbody>\n",
       "    <tr>\n",
       "      <th>0</th>\n",
       "      <td>subaru</td>\n",
       "      <td>manual</td>\n",
       "      <td>280000.0</td>\n",
       "      <td>2003</td>\n",
       "      <td>gasoline</td>\n",
       "      <td>6900.0</td>\n",
       "      <td>Belarus</td>\n",
       "    </tr>\n",
       "    <tr>\n",
       "      <th>1</th>\n",
       "      <td>subaru</td>\n",
       "      <td>manual</td>\n",
       "      <td>321000.0</td>\n",
       "      <td>2002</td>\n",
       "      <td>gasoline</td>\n",
       "      <td>4300.0</td>\n",
       "      <td>Belarus</td>\n",
       "    </tr>\n",
       "    <tr>\n",
       "      <th>2</th>\n",
       "      <td>subaru</td>\n",
       "      <td>manual</td>\n",
       "      <td>191000.0</td>\n",
       "      <td>2005</td>\n",
       "      <td>gasoline</td>\n",
       "      <td>10950.0</td>\n",
       "      <td>Belarus</td>\n",
       "    </tr>\n",
       "    <tr>\n",
       "      <th>3</th>\n",
       "      <td>subaru</td>\n",
       "      <td>automatic</td>\n",
       "      <td>417000.0</td>\n",
       "      <td>1997</td>\n",
       "      <td>gasoline</td>\n",
       "      <td>1850.0</td>\n",
       "      <td>Belarus</td>\n",
       "    </tr>\n",
       "    <tr>\n",
       "      <th>4</th>\n",
       "      <td>subaru</td>\n",
       "      <td>manual</td>\n",
       "      <td>340000.0</td>\n",
       "      <td>1993</td>\n",
       "      <td>gasoline</td>\n",
       "      <td>2000.0</td>\n",
       "      <td>Belarus</td>\n",
       "    </tr>\n",
       "  </tbody>\n",
       "</table>\n",
       "</div>"
      ],
      "text/plain": [
       "  Manufacturer_name       Gear  Odometer (km)  year      Fuel  Price ($)  \\\n",
       "0            subaru     manual       280000.0  2003  gasoline     6900.0   \n",
       "1            subaru     manual       321000.0  2002  gasoline     4300.0   \n",
       "2            subaru     manual       191000.0  2005  gasoline    10950.0   \n",
       "3            subaru  automatic       417000.0  1997  gasoline     1850.0   \n",
       "4            subaru     manual       340000.0  1993  gasoline     2000.0   \n",
       "\n",
       "   Country  \n",
       "0  Belarus  \n",
       "1  Belarus  \n",
       "2  Belarus  \n",
       "3  Belarus  \n",
       "4  Belarus  "
      ]
     },
     "execution_count": 149,
     "metadata": {},
     "output_type": "execute_result"
    }
   ],
   "source": [
    "df6.head(5)"
   ]
  },
  {
   "cell_type": "code",
   "execution_count": 150,
   "metadata": {},
   "outputs": [
    {
     "data": {
      "text/html": [
       "<div>\n",
       "<style scoped>\n",
       "    .dataframe tbody tr th:only-of-type {\n",
       "        vertical-align: middle;\n",
       "    }\n",
       "\n",
       "    .dataframe tbody tr th {\n",
       "        vertical-align: top;\n",
       "    }\n",
       "\n",
       "    .dataframe thead th {\n",
       "        text-align: right;\n",
       "    }\n",
       "</style>\n",
       "<table border=\"1\" class=\"dataframe\">\n",
       "  <thead>\n",
       "    <tr style=\"text-align: right;\">\n",
       "      <th></th>\n",
       "      <th>Manufacturer_name</th>\n",
       "      <th>Gear</th>\n",
       "      <th>Odometer (km)</th>\n",
       "      <th>year</th>\n",
       "      <th>Fuel</th>\n",
       "      <th>Price ($)</th>\n",
       "      <th>Country</th>\n",
       "    </tr>\n",
       "  </thead>\n",
       "  <tbody>\n",
       "    <tr>\n",
       "      <th>0</th>\n",
       "      <td>maruti</td>\n",
       "      <td>Manual</td>\n",
       "      <td>120000</td>\n",
       "      <td>2012</td>\n",
       "      <td>Petrol</td>\n",
       "      <td>1680</td>\n",
       "      <td>India</td>\n",
       "    </tr>\n",
       "    <tr>\n",
       "      <th>1</th>\n",
       "      <td>hyundai</td>\n",
       "      <td>Manual</td>\n",
       "      <td>20000</td>\n",
       "      <td>2016</td>\n",
       "      <td>Petrol</td>\n",
       "      <td>7700</td>\n",
       "      <td>India</td>\n",
       "    </tr>\n",
       "    <tr>\n",
       "      <th>2</th>\n",
       "      <td>hyundai</td>\n",
       "      <td>Manual</td>\n",
       "      <td>60000</td>\n",
       "      <td>2010</td>\n",
       "      <td>Petrol</td>\n",
       "      <td>3010</td>\n",
       "      <td>India</td>\n",
       "    </tr>\n",
       "    <tr>\n",
       "      <th>3</th>\n",
       "      <td>maruti</td>\n",
       "      <td>Manual</td>\n",
       "      <td>37000</td>\n",
       "      <td>2012</td>\n",
       "      <td>Petrol</td>\n",
       "      <td>3164</td>\n",
       "      <td>India</td>\n",
       "    </tr>\n",
       "    <tr>\n",
       "      <th>4</th>\n",
       "      <td>ford</td>\n",
       "      <td>Manual</td>\n",
       "      <td>30000</td>\n",
       "      <td>2015</td>\n",
       "      <td>Diesel</td>\n",
       "      <td>7980</td>\n",
       "      <td>India</td>\n",
       "    </tr>\n",
       "  </tbody>\n",
       "</table>\n",
       "</div>"
      ],
      "text/plain": [
       "  Manufacturer_name    Gear  Odometer (km)  year    Fuel  Price ($) Country\n",
       "0            maruti  Manual         120000  2012  Petrol       1680   India\n",
       "1           hyundai  Manual          20000  2016  Petrol       7700   India\n",
       "2           hyundai  Manual          60000  2010  Petrol       3010   India\n",
       "3            maruti  Manual          37000  2012  Petrol       3164   India\n",
       "4              ford  Manual          30000  2015  Diesel       7980   India"
      ]
     },
     "execution_count": 150,
     "metadata": {},
     "output_type": "execute_result"
    }
   ],
   "source": [
    "df7.head(5)"
   ]
  },
  {
   "cell_type": "code",
   "execution_count": 151,
   "metadata": {},
   "outputs": [
    {
     "data": {
      "text/html": [
       "<div>\n",
       "<style scoped>\n",
       "    .dataframe tbody tr th:only-of-type {\n",
       "        vertical-align: middle;\n",
       "    }\n",
       "\n",
       "    .dataframe tbody tr th {\n",
       "        vertical-align: top;\n",
       "    }\n",
       "\n",
       "    .dataframe thead th {\n",
       "        text-align: right;\n",
       "    }\n",
       "</style>\n",
       "<table border=\"1\" class=\"dataframe\">\n",
       "  <thead>\n",
       "    <tr style=\"text-align: right;\">\n",
       "      <th></th>\n",
       "      <th>Manufacturer_name</th>\n",
       "      <th>Gear</th>\n",
       "      <th>Odometer (km)</th>\n",
       "      <th>year</th>\n",
       "      <th>Fuel</th>\n",
       "      <th>Price ($)</th>\n",
       "      <th>Country</th>\n",
       "    </tr>\n",
       "  </thead>\n",
       "  <tbody>\n",
       "    <tr>\n",
       "      <th>0</th>\n",
       "      <td>subaru</td>\n",
       "      <td>manual</td>\n",
       "      <td>280000.0</td>\n",
       "      <td>2003</td>\n",
       "      <td>gasoline</td>\n",
       "      <td>6900.0</td>\n",
       "      <td>Belarus</td>\n",
       "    </tr>\n",
       "    <tr>\n",
       "      <th>1</th>\n",
       "      <td>subaru</td>\n",
       "      <td>manual</td>\n",
       "      <td>321000.0</td>\n",
       "      <td>2002</td>\n",
       "      <td>gasoline</td>\n",
       "      <td>4300.0</td>\n",
       "      <td>Belarus</td>\n",
       "    </tr>\n",
       "    <tr>\n",
       "      <th>2</th>\n",
       "      <td>subaru</td>\n",
       "      <td>manual</td>\n",
       "      <td>191000.0</td>\n",
       "      <td>2005</td>\n",
       "      <td>gasoline</td>\n",
       "      <td>10950.0</td>\n",
       "      <td>Belarus</td>\n",
       "    </tr>\n",
       "    <tr>\n",
       "      <th>3</th>\n",
       "      <td>subaru</td>\n",
       "      <td>automatic</td>\n",
       "      <td>417000.0</td>\n",
       "      <td>1997</td>\n",
       "      <td>gasoline</td>\n",
       "      <td>1850.0</td>\n",
       "      <td>Belarus</td>\n",
       "    </tr>\n",
       "    <tr>\n",
       "      <th>4</th>\n",
       "      <td>subaru</td>\n",
       "      <td>manual</td>\n",
       "      <td>340000.0</td>\n",
       "      <td>1993</td>\n",
       "      <td>gasoline</td>\n",
       "      <td>2000.0</td>\n",
       "      <td>Belarus</td>\n",
       "    </tr>\n",
       "  </tbody>\n",
       "</table>\n",
       "</div>"
      ],
      "text/plain": [
       "  Manufacturer_name       Gear  Odometer (km)  year      Fuel  Price ($)  \\\n",
       "0            subaru     manual       280000.0  2003  gasoline     6900.0   \n",
       "1            subaru     manual       321000.0  2002  gasoline     4300.0   \n",
       "2            subaru     manual       191000.0  2005  gasoline    10950.0   \n",
       "3            subaru  automatic       417000.0  1997  gasoline     1850.0   \n",
       "4            subaru     manual       340000.0  1993  gasoline     2000.0   \n",
       "\n",
       "   Country  \n",
       "0  Belarus  \n",
       "1  Belarus  \n",
       "2  Belarus  \n",
       "3  Belarus  \n",
       "4  Belarus  "
      ]
     },
     "execution_count": 151,
     "metadata": {},
     "output_type": "execute_result"
    }
   ],
   "source": [
    "df8=pd.concat([df6,df7], ignore_index=True)\n",
    "df8.head(5)"
   ]
  },
  {
   "cell_type": "code",
   "execution_count": 152,
   "metadata": {},
   "outputs": [],
   "source": [
    "df8.to_csv('Group6_Cars.csv',sep=',')"
   ]
  },
  {
   "cell_type": "code",
   "execution_count": 173,
   "metadata": {},
   "outputs": [],
   "source": [
    "df = pd.read_csv(\"Group6_Cars.csv\")"
   ]
  },
  {
   "cell_type": "code",
   "execution_count": 174,
   "metadata": {},
   "outputs": [
    {
     "data": {
      "text/plain": [
       "array(['subaru', 'lada', 'dodge', 'уаз', 'kia', 'opel', 'alfa romeo',\n",
       "       'acura', 'dacia', 'lexus', 'mitsubishi', 'lancia', 'citroen',\n",
       "       'mini', 'ssangyong', 'daewoo', 'geely', 'ваз', 'fiat', 'ford',\n",
       "       'renault', 'seat', 'rover', 'volkswagen', 'lifan', 'jeep', 'audi',\n",
       "       'заз', 'toyota', 'газ', 'volvo', 'chevrolet', 'great wall',\n",
       "       'buick', 'pontiac', 'hyundai', 'nissan', 'suzuki', 'bmw', 'mazda',\n",
       "       'land rover', 'iveco', 'skoda', 'saab', 'chery', 'honda',\n",
       "       'mercedes-benz', 'peugeot', 'chrysler', 'gmc', 'ram', 'cadillac',\n",
       "       'jaguar', 'infiniti', 'lincoln', 'alfa-romeo', 'porsche', 'tesla',\n",
       "       'saturn', 'mercury', 'harley-davidson', 'aston-martin', 'morgan',\n",
       "       'ferrari', 'maruti', 'mahindra', 'tata', 'ambassador', 'datsun',\n",
       "       'land', 'bentley', 'mg', 'isuzu', 'premier', 'maserati', 'force',\n",
       "       'lamborghini', 'opelcorsa', 'mercedes-amg', 'dc', 'rolls-royce',\n",
       "       'smart', 'cupra', 'others', 'alfa', 'microcar', 'baic', '9ff',\n",
       "       'mclaren', 'aston', 'abarth', 'ds', 'daihatsu', 'ligier',\n",
       "       'caravans-wohnm', 'aixam', 'alpine', 'zhidou', 'maybach', 'alpina',\n",
       "       'polestar', 'brilliance', 'piaggio', 'fisker', 'corvette', 'dfsk',\n",
       "       'estrima'], dtype=object)"
      ]
     },
     "execution_count": 174,
     "metadata": {},
     "output_type": "execute_result"
    }
   ],
   "source": [
    "df['Manufacturer_name'] = df['Manufacturer_name'].str.lower()\n",
    "df['Manufacturer_name'].unique()\n"
   ]
  },
  {
   "cell_type": "code",
   "execution_count": 175,
   "metadata": {},
   "outputs": [
    {
     "data": {
      "text/plain": [
       "array(['gasoline', 'diesel', 'hybrid-petrol', 'electric', 'gas', 'other',\n",
       "       'hybrid', 'petrol', 'cng', 'lpg', 'electric/gasoline', 'otherss',\n",
       "       'electric/diesel', 'others', 'hydrogen', 'ethanol'], dtype=object)"
      ]
     },
     "execution_count": 175,
     "metadata": {},
     "output_type": "execute_result"
    }
   ],
   "source": [
    "df['Fuel'] = df['Fuel'].str.lower()\n",
    "df['Fuel'].unique()"
   ]
  },
  {
   "cell_type": "code",
   "execution_count": 176,
   "metadata": {},
   "outputs": [
    {
     "data": {
      "text/plain": [
       "array(['manual', 'automatic', 'other', 'semi-automatic'], dtype=object)"
      ]
     },
     "execution_count": 176,
     "metadata": {},
     "output_type": "execute_result"
    }
   ],
   "source": [
    "df['Gear'] = df['Gear'].str.lower()\n",
    "df['Gear'].unique()"
   ]
  },
  {
   "cell_type": "code",
   "execution_count": 177,
   "metadata": {},
   "outputs": [
    {
     "data": {
      "text/html": [
       "<div>\n",
       "<style scoped>\n",
       "    .dataframe tbody tr th:only-of-type {\n",
       "        vertical-align: middle;\n",
       "    }\n",
       "\n",
       "    .dataframe tbody tr th {\n",
       "        vertical-align: top;\n",
       "    }\n",
       "\n",
       "    .dataframe thead th {\n",
       "        text-align: right;\n",
       "    }\n",
       "</style>\n",
       "<table border=\"1\" class=\"dataframe\">\n",
       "  <thead>\n",
       "    <tr style=\"text-align: right;\">\n",
       "      <th></th>\n",
       "      <th>Index</th>\n",
       "      <th>Odometer (km)</th>\n",
       "      <th>year</th>\n",
       "      <th>Price ($)</th>\n",
       "    </tr>\n",
       "  </thead>\n",
       "  <tbody>\n",
       "    <tr>\n",
       "      <th>count</th>\n",
       "      <td>407552.000000</td>\n",
       "      <td>4.075520e+05</td>\n",
       "      <td>407552.000000</td>\n",
       "      <td>4.075520e+05</td>\n",
       "    </tr>\n",
       "    <tr>\n",
       "      <th>mean</th>\n",
       "      <td>203775.500000</td>\n",
       "      <td>1.401383e+05</td>\n",
       "      <td>2012.661862</td>\n",
       "      <td>1.798468e+04</td>\n",
       "    </tr>\n",
       "    <tr>\n",
       "      <th>std</th>\n",
       "      <td>117650.272791</td>\n",
       "      <td>9.951946e+04</td>\n",
       "      <td>5.528372</td>\n",
       "      <td>1.430996e+04</td>\n",
       "    </tr>\n",
       "    <tr>\n",
       "      <th>min</th>\n",
       "      <td>0.000000</td>\n",
       "      <td>0.000000e+00</td>\n",
       "      <td>1982.000000</td>\n",
       "      <td>1.000000e+03</td>\n",
       "    </tr>\n",
       "    <tr>\n",
       "      <th>25%</th>\n",
       "      <td>101887.750000</td>\n",
       "      <td>5.475000e+04</td>\n",
       "      <td>2010.000000</td>\n",
       "      <td>7.499000e+03</td>\n",
       "    </tr>\n",
       "    <tr>\n",
       "      <th>50%</th>\n",
       "      <td>203775.500000</td>\n",
       "      <td>1.271057e+05</td>\n",
       "      <td>2014.000000</td>\n",
       "      <td>1.445000e+04</td>\n",
       "    </tr>\n",
       "    <tr>\n",
       "      <th>75%</th>\n",
       "      <td>305663.250000</td>\n",
       "      <td>2.092142e+05</td>\n",
       "      <td>2017.000000</td>\n",
       "      <td>2.599500e+04</td>\n",
       "    </tr>\n",
       "    <tr>\n",
       "      <th>max</th>\n",
       "      <td>407551.000000</td>\n",
       "      <td>3.800000e+06</td>\n",
       "      <td>2022.000000</td>\n",
       "      <td>1.415882e+06</td>\n",
       "    </tr>\n",
       "  </tbody>\n",
       "</table>\n",
       "</div>"
      ],
      "text/plain": [
       "               Index  Odometer (km)           year     Price ($)\n",
       "count  407552.000000   4.075520e+05  407552.000000  4.075520e+05\n",
       "mean   203775.500000   1.401383e+05    2012.661862  1.798468e+04\n",
       "std    117650.272791   9.951946e+04       5.528372  1.430996e+04\n",
       "min         0.000000   0.000000e+00    1982.000000  1.000000e+03\n",
       "25%    101887.750000   5.475000e+04    2010.000000  7.499000e+03\n",
       "50%    203775.500000   1.271057e+05    2014.000000  1.445000e+04\n",
       "75%    305663.250000   2.092142e+05    2017.000000  2.599500e+04\n",
       "max    407551.000000   3.800000e+06    2022.000000  1.415882e+06"
      ]
     },
     "execution_count": 177,
     "metadata": {},
     "output_type": "execute_result"
    }
   ],
   "source": [
    "df.describe()"
   ]
  },
  {
   "cell_type": "code",
   "execution_count": 178,
   "metadata": {},
   "outputs": [
    {
     "data": {
      "text/plain": [
       "Text(0.5, 0, 'Fuel')"
      ]
     },
     "execution_count": 178,
     "metadata": {},
     "output_type": "execute_result"
    },
    {
     "data": {
      "image/png": "[encoded data removed]",
      "text/plain": [
       "<Figure size 1008x576 with 1 Axes>"
      ]
     },
     "metadata": {
      "needs_background": "light"
     },
     "output_type": "display_data"
    }
   ],
   "source": [
    "#distribution bar chart --> Manufacturers/sales adverts\n",
    "ax = df['Fuel'].value_counts().plot(kind='bar',\n",
    "                                    figsize=(14,8),\n",
    "                                    title=\"Counts of Fuel \")\n",
    "ax.set_xlabel(\"Fuel\")\n",
    "\n"
   ]
  },
  {
   "cell_type": "code",
   "execution_count": 181,
   "metadata": {},
   "outputs": [],
   "source": [
    "df['Fuel'] = df['Fuel'].str.replace('electric/gasoline','hybrid')\n",
    "df['Fuel'] = df['Fuel'].str.replace('cng','gas')\n",
    "df['Fuel'] = df['Fuel'].str.replace('hybrid-petrol','hybrid')\n",
    "df['Fuel'] = df['Fuel'].str.replace('electric/diesel','hybrid')\n",
    "df['Fuel'] = df['Fuel'].str.replace('others','other')\n",
    "df['Fuel'] = df['Fuel'].str.replace('otherss','other')\n",
    "df['Fuel'] = df['Fuel'].str.replace('lpg','gas')"
   ]
  },
  {
   "cell_type": "code",
   "execution_count": 167,
   "metadata": {},
   "outputs": [],
   "source": []
  },
  {
   "cell_type": "code",
   "execution_count": 170,
   "metadata": {},
   "outputs": [],
   "source": [
    "df['Fuel'] = df['Fuel'].str.strip()"
   ]
  },
  {
   "cell_type": "code",
   "execution_count": 155,
   "metadata": {},
   "outputs": [],
   "source": [
    "#Drop zero \n",
    "df = df[df['Odometer (km)'] >=1]"
   ]
  },
  {
   "cell_type": "code",
   "execution_count": 182,
   "metadata": {},
   "outputs": [
    {
     "data": {
      "text/plain": [
       "Text(0.5, 0, 'Fuel')"
      ]
     },
     "execution_count": 182,
     "metadata": {},
     "output_type": "execute_result"
    },
    {
     "data": {
      "image/png": "[encoded data removed]",
      "text/plain": [
       "<Figure size 1008x576 with 1 Axes>"
      ]
     },
     "metadata": {
      "needs_background": "light"
     },
     "output_type": "display_data"
    }
   ],
   "source": [
    "#distribution bar chart --> Manufacturers/sales adverts\n",
    "ax = df['Fuel'].value_counts().plot(kind='bar',\n",
    "                                    figsize=(14,8),\n",
    "                                    title=\"Counts of Fuel \")\n",
    "ax.set_xlabel(\"Fuel\")\n"
   ]
  },
  {
   "cell_type": "code",
   "execution_count": 183,
   "metadata": {},
   "outputs": [
    {
     "data": {
      "text/html": [
       "<div>\n",
       "<style scoped>\n",
       "    .dataframe tbody tr th:only-of-type {\n",
       "        vertical-align: middle;\n",
       "    }\n",
       "\n",
       "    .dataframe tbody tr th {\n",
       "        vertical-align: top;\n",
       "    }\n",
       "\n",
       "    .dataframe thead th {\n",
       "        text-align: right;\n",
       "    }\n",
       "</style>\n",
       "<table border=\"1\" class=\"dataframe\">\n",
       "  <thead>\n",
       "    <tr style=\"text-align: right;\">\n",
       "      <th></th>\n",
       "      <th>Index</th>\n",
       "      <th>Odometer (km)</th>\n",
       "      <th>year</th>\n",
       "      <th>Price ($)</th>\n",
       "    </tr>\n",
       "  </thead>\n",
       "  <tbody>\n",
       "    <tr>\n",
       "      <th>count</th>\n",
       "      <td>407552.000000</td>\n",
       "      <td>4.075520e+05</td>\n",
       "      <td>407552.000000</td>\n",
       "      <td>4.075520e+05</td>\n",
       "    </tr>\n",
       "    <tr>\n",
       "      <th>mean</th>\n",
       "      <td>203775.500000</td>\n",
       "      <td>1.401383e+05</td>\n",
       "      <td>2012.661862</td>\n",
       "      <td>1.798468e+04</td>\n",
       "    </tr>\n",
       "    <tr>\n",
       "      <th>std</th>\n",
       "      <td>117650.272791</td>\n",
       "      <td>9.951946e+04</td>\n",
       "      <td>5.528372</td>\n",
       "      <td>1.430996e+04</td>\n",
       "    </tr>\n",
       "    <tr>\n",
       "      <th>min</th>\n",
       "      <td>0.000000</td>\n",
       "      <td>0.000000e+00</td>\n",
       "      <td>1982.000000</td>\n",
       "      <td>1.000000e+03</td>\n",
       "    </tr>\n",
       "    <tr>\n",
       "      <th>25%</th>\n",
       "      <td>101887.750000</td>\n",
       "      <td>5.475000e+04</td>\n",
       "      <td>2010.000000</td>\n",
       "      <td>7.499000e+03</td>\n",
       "    </tr>\n",
       "    <tr>\n",
       "      <th>50%</th>\n",
       "      <td>203775.500000</td>\n",
       "      <td>1.271057e+05</td>\n",
       "      <td>2014.000000</td>\n",
       "      <td>1.445000e+04</td>\n",
       "    </tr>\n",
       "    <tr>\n",
       "      <th>75%</th>\n",
       "      <td>305663.250000</td>\n",
       "      <td>2.092142e+05</td>\n",
       "      <td>2017.000000</td>\n",
       "      <td>2.599500e+04</td>\n",
       "    </tr>\n",
       "    <tr>\n",
       "      <th>max</th>\n",
       "      <td>407551.000000</td>\n",
       "      <td>3.800000e+06</td>\n",
       "      <td>2022.000000</td>\n",
       "      <td>1.415882e+06</td>\n",
       "    </tr>\n",
       "  </tbody>\n",
       "</table>\n",
       "</div>"
      ],
      "text/plain": [
       "               Index  Odometer (km)           year     Price ($)\n",
       "count  407552.000000   4.075520e+05  407552.000000  4.075520e+05\n",
       "mean   203775.500000   1.401383e+05    2012.661862  1.798468e+04\n",
       "std    117650.272791   9.951946e+04       5.528372  1.430996e+04\n",
       "min         0.000000   0.000000e+00    1982.000000  1.000000e+03\n",
       "25%    101887.750000   5.475000e+04    2010.000000  7.499000e+03\n",
       "50%    203775.500000   1.271057e+05    2014.000000  1.445000e+04\n",
       "75%    305663.250000   2.092142e+05    2017.000000  2.599500e+04\n",
       "max    407551.000000   3.800000e+06    2022.000000  1.415882e+06"
      ]
     },
     "execution_count": 183,
     "metadata": {},
     "output_type": "execute_result"
    }
   ],
   "source": [
    "df.describe()"
   ]
  },
  {
   "cell_type": "code",
   "execution_count": 184,
   "metadata": {},
   "outputs": [
    {
     "data": {
      "text/plain": [
       "array(['manual', 'automatic', 'other', 'semi-automatic'], dtype=object)"
      ]
     },
     "execution_count": 184,
     "metadata": {},
     "output_type": "execute_result"
    }
   ],
   "source": [
    "df['Gear'].unique()"
   ]
  },
  {
   "cell_type": "code",
   "execution_count": 185,
   "metadata": {},
   "outputs": [
    {
     "data": {
      "text/plain": [
       "array(['gasoline', 'diesel', 'hybrid', 'electric', 'gas', 'other',\n",
       "       'petrol', 'hydrogen', 'ethanol'], dtype=object)"
      ]
     },
     "execution_count": 185,
     "metadata": {},
     "output_type": "execute_result"
    }
   ],
   "source": [
    "df['Fuel'].unique()"
   ]
  },
  {
   "cell_type": "code",
   "execution_count": 186,
   "metadata": {},
   "outputs": [],
   "source": [
    "df.to_csv('Group6_Cars_Edited.csv',sep=',')"
   ]
  },
  {
   "cell_type": "code",
   "execution_count": null,
   "metadata": {},
   "outputs": [],
   "source": []
  }
 ],
 "metadata": {
  "kernelspec": {
   "display_name": "Python 3",
   "language": "python",
   "name": "python3"
  },
  "language_info": {
   "codemirror_mode": {
    "name": "ipython",
    "version": 3
   },
   "file_extension": ".py",
   "mimetype": "text/x-python",
   "name": "python",
   "nbconvert_exporter": "python",
   "pygments_lexer": "ipython3",
   "version": "3.8.5"
  }
 },
 "nbformat": 4,
 "nbformat_minor": 4
}
