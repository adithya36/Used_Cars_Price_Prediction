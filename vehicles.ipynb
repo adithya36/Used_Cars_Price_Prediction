{
  "nbformat": 4,
  "nbformat_minor": 0,
  "metadata": {
    "colab": {
      "name": "vehicles.ipynb",
      "provenance": [],
      "collapsed_sections": [],
      "authorship_tag": "ABX9TyNXTXKIbVmXz22N6rMOnd4V",
      "include_colab_link": true
    },
    "kernelspec": {
      "display_name": "Python 3",
      "name": "python3"
    },
    "language_info": {
      "name": "python"
    }
  },
  "cells": [
    {
      "cell_type": "markdown",
      "metadata": {
        "id": "view-in-github",
        "colab_type": "text"
      },
      "source": [
        "<a href=\"https://colab.research.google.com/github/adithya36/Used_Cars_Price_Prediction/blob/Data_cleaning/vehicles.ipynb\" target=\"_parent\"><img src=\"https://colab.research.google.com/assets/colab-badge.svg\" alt=\"Open In Colab\"/></a>"
      ]
    },
    {
      "cell_type": "markdown",
      "metadata": {
        "id": "zffwJh0ENnaR"
      },
      "source": [
        "# Import\n",
        "*   libraries\n",
        "*   drive\n",
        "*   df"
      ]
    },
    {
      "cell_type": "code",
      "metadata": {
        "colab": {
          "base_uri": "https://localhost:8080/"
        },
        "id": "jwLs3TgoN-r0",
        "outputId": "1a5e797b-32a0-4f6f-ed05-501d53969870"
      },
      "source": [
        "#import package\n",
        "import pandas as pd\n",
        "import numpy as np\n",
        "import seaborn as sns\n",
        "\n",
        "!pip install fuzzywuzzy[speedup]\n",
        "from fuzzywuzzy import fuzz\n",
        "from fuzzywuzzy import process"
      ],
      "execution_count": null,
      "outputs": [
        {
          "output_type": "stream",
          "name": "stdout",
          "text": [
            "Requirement already satisfied: fuzzywuzzy[speedup] in /usr/local/lib/python3.7/dist-packages (0.18.0)\n",
            "Requirement already satisfied: python-levenshtein>=0.12 in /usr/local/lib/python3.7/dist-packages (from fuzzywuzzy[speedup]) (0.12.2)\n",
            "Requirement already satisfied: setuptools in /usr/local/lib/python3.7/dist-packages (from python-levenshtein>=0.12->fuzzywuzzy[speedup]) (57.4.0)\n"
          ]
        }
      ]
    },
    {
      "cell_type": "code",
      "metadata": {
        "colab": {
          "base_uri": "https://localhost:8080/"
        },
        "id": "vgbQLiqu7wuM",
        "outputId": "4998674b-78e8-45c3-89b4-a09e594a748e"
      },
      "source": [
        "import matplotlib.pyplot as plt\n",
        "!pip install plotly\n",
        "!pip install cufflinks\n",
        "import plotly.express as px\n",
        "import tqdm\n",
        "from tqdm._tqdm_notebook import tqdm_notebook"
      ],
      "execution_count": null,
      "outputs": [
        {
          "output_type": "stream",
          "name": "stdout",
          "text": [
            "Requirement already satisfied: plotly in /usr/local/lib/python3.7/dist-packages (4.4.1)\n",
            "Requirement already satisfied: six in /usr/local/lib/python3.7/dist-packages (from plotly) (1.15.0)\n",
            "Requirement already satisfied: retrying>=1.3.3 in /usr/local/lib/python3.7/dist-packages (from plotly) (1.3.3)\n",
            "Requirement already satisfied: cufflinks in /usr/local/lib/python3.7/dist-packages (0.17.3)\n",
            "Requirement already satisfied: ipython>=5.3.0 in /usr/local/lib/python3.7/dist-packages (from cufflinks) (5.5.0)\n",
            "Requirement already satisfied: pandas>=0.19.2 in /usr/local/lib/python3.7/dist-packages (from cufflinks) (1.1.5)\n",
            "Requirement already satisfied: numpy>=1.9.2 in /usr/local/lib/python3.7/dist-packages (from cufflinks) (1.19.5)\n",
            "Requirement already satisfied: six>=1.9.0 in /usr/local/lib/python3.7/dist-packages (from cufflinks) (1.15.0)\n",
            "Requirement already satisfied: setuptools>=34.4.1 in /usr/local/lib/python3.7/dist-packages (from cufflinks) (57.4.0)\n",
            "Requirement already satisfied: plotly>=4.1.1 in /usr/local/lib/python3.7/dist-packages (from cufflinks) (4.4.1)\n",
            "Requirement already satisfied: ipywidgets>=7.0.0 in /usr/local/lib/python3.7/dist-packages (from cufflinks) (7.6.3)\n",
            "Requirement already satisfied: colorlover>=0.2.1 in /usr/local/lib/python3.7/dist-packages (from cufflinks) (0.3.0)\n",
            "Requirement already satisfied: pexpect in /usr/local/lib/python3.7/dist-packages (from ipython>=5.3.0->cufflinks) (4.8.0)\n",
            "Requirement already satisfied: pickleshare in /usr/local/lib/python3.7/dist-packages (from ipython>=5.3.0->cufflinks) (0.7.5)\n",
            "Requirement already satisfied: traitlets>=4.2 in /usr/local/lib/python3.7/dist-packages (from ipython>=5.3.0->cufflinks) (5.0.5)\n",
            "Requirement already satisfied: pygments in /usr/local/lib/python3.7/dist-packages (from ipython>=5.3.0->cufflinks) (2.6.1)\n",
            "Requirement already satisfied: decorator in /usr/local/lib/python3.7/dist-packages (from ipython>=5.3.0->cufflinks) (4.4.2)\n",
            "Requirement already satisfied: simplegeneric>0.8 in /usr/local/lib/python3.7/dist-packages (from ipython>=5.3.0->cufflinks) (0.8.1)\n",
            "Requirement already satisfied: prompt-toolkit<2.0.0,>=1.0.4 in /usr/local/lib/python3.7/dist-packages (from ipython>=5.3.0->cufflinks) (1.0.18)\n",
            "Requirement already satisfied: widgetsnbextension~=3.5.0 in /usr/local/lib/python3.7/dist-packages (from ipywidgets>=7.0.0->cufflinks) (3.5.1)\n",
            "Requirement already satisfied: nbformat>=4.2.0 in /usr/local/lib/python3.7/dist-packages (from ipywidgets>=7.0.0->cufflinks) (5.1.3)\n",
            "Requirement already satisfied: ipykernel>=4.5.1 in /usr/local/lib/python3.7/dist-packages (from ipywidgets>=7.0.0->cufflinks) (4.10.1)\n",
            "Requirement already satisfied: jupyterlab-widgets>=1.0.0 in /usr/local/lib/python3.7/dist-packages (from ipywidgets>=7.0.0->cufflinks) (1.0.0)\n",
            "Requirement already satisfied: jupyter-client in /usr/local/lib/python3.7/dist-packages (from ipykernel>=4.5.1->ipywidgets>=7.0.0->cufflinks) (5.3.5)\n",
            "Requirement already satisfied: tornado>=4.0 in /usr/local/lib/python3.7/dist-packages (from ipykernel>=4.5.1->ipywidgets>=7.0.0->cufflinks) (5.1.1)\n",
            "Requirement already satisfied: ipython-genutils in /usr/local/lib/python3.7/dist-packages (from nbformat>=4.2.0->ipywidgets>=7.0.0->cufflinks) (0.2.0)\n",
            "Requirement already satisfied: jupyter-core in /usr/local/lib/python3.7/dist-packages (from nbformat>=4.2.0->ipywidgets>=7.0.0->cufflinks) (4.7.1)\n",
            "Requirement already satisfied: jsonschema!=2.5.0,>=2.4 in /usr/local/lib/python3.7/dist-packages (from nbformat>=4.2.0->ipywidgets>=7.0.0->cufflinks) (2.6.0)\n",
            "Requirement already satisfied: python-dateutil>=2.7.3 in /usr/local/lib/python3.7/dist-packages (from pandas>=0.19.2->cufflinks) (2.8.2)\n",
            "Requirement already satisfied: pytz>=2017.2 in /usr/local/lib/python3.7/dist-packages (from pandas>=0.19.2->cufflinks) (2018.9)\n",
            "Requirement already satisfied: retrying>=1.3.3 in /usr/local/lib/python3.7/dist-packages (from plotly>=4.1.1->cufflinks) (1.3.3)\n",
            "Requirement already satisfied: wcwidth in /usr/local/lib/python3.7/dist-packages (from prompt-toolkit<2.0.0,>=1.0.4->ipython>=5.3.0->cufflinks) (0.2.5)\n",
            "Requirement already satisfied: notebook>=4.4.1 in /usr/local/lib/python3.7/dist-packages (from widgetsnbextension~=3.5.0->ipywidgets>=7.0.0->cufflinks) (5.3.1)\n",
            "Requirement already satisfied: jinja2 in /usr/local/lib/python3.7/dist-packages (from notebook>=4.4.1->widgetsnbextension~=3.5.0->ipywidgets>=7.0.0->cufflinks) (2.11.3)\n",
            "Requirement already satisfied: nbconvert in /usr/local/lib/python3.7/dist-packages (from notebook>=4.4.1->widgetsnbextension~=3.5.0->ipywidgets>=7.0.0->cufflinks) (5.6.1)\n",
            "Requirement already satisfied: Send2Trash in /usr/local/lib/python3.7/dist-packages (from notebook>=4.4.1->widgetsnbextension~=3.5.0->ipywidgets>=7.0.0->cufflinks) (1.8.0)\n",
            "Requirement already satisfied: terminado>=0.8.1 in /usr/local/lib/python3.7/dist-packages (from notebook>=4.4.1->widgetsnbextension~=3.5.0->ipywidgets>=7.0.0->cufflinks) (0.11.0)\n",
            "Requirement already satisfied: pyzmq>=13 in /usr/local/lib/python3.7/dist-packages (from jupyter-client->ipykernel>=4.5.1->ipywidgets>=7.0.0->cufflinks) (22.2.1)\n",
            "Requirement already satisfied: ptyprocess in /usr/local/lib/python3.7/dist-packages (from terminado>=0.8.1->notebook>=4.4.1->widgetsnbextension~=3.5.0->ipywidgets>=7.0.0->cufflinks) (0.7.0)\n",
            "Requirement already satisfied: MarkupSafe>=0.23 in /usr/local/lib/python3.7/dist-packages (from jinja2->notebook>=4.4.1->widgetsnbextension~=3.5.0->ipywidgets>=7.0.0->cufflinks) (2.0.1)\n",
            "Requirement already satisfied: mistune<2,>=0.8.1 in /usr/local/lib/python3.7/dist-packages (from nbconvert->notebook>=4.4.1->widgetsnbextension~=3.5.0->ipywidgets>=7.0.0->cufflinks) (0.8.4)\n",
            "Requirement already satisfied: entrypoints>=0.2.2 in /usr/local/lib/python3.7/dist-packages (from nbconvert->notebook>=4.4.1->widgetsnbextension~=3.5.0->ipywidgets>=7.0.0->cufflinks) (0.3)\n",
            "Requirement already satisfied: pandocfilters>=1.4.1 in /usr/local/lib/python3.7/dist-packages (from nbconvert->notebook>=4.4.1->widgetsnbextension~=3.5.0->ipywidgets>=7.0.0->cufflinks) (1.4.3)\n",
            "Requirement already satisfied: testpath in /usr/local/lib/python3.7/dist-packages (from nbconvert->notebook>=4.4.1->widgetsnbextension~=3.5.0->ipywidgets>=7.0.0->cufflinks) (0.5.0)\n",
            "Requirement already satisfied: bleach in /usr/local/lib/python3.7/dist-packages (from nbconvert->notebook>=4.4.1->widgetsnbextension~=3.5.0->ipywidgets>=7.0.0->cufflinks) (4.0.0)\n",
            "Requirement already satisfied: defusedxml in /usr/local/lib/python3.7/dist-packages (from nbconvert->notebook>=4.4.1->widgetsnbextension~=3.5.0->ipywidgets>=7.0.0->cufflinks) (0.7.1)\n",
            "Requirement already satisfied: webencodings in /usr/local/lib/python3.7/dist-packages (from bleach->nbconvert->notebook>=4.4.1->widgetsnbextension~=3.5.0->ipywidgets>=7.0.0->cufflinks) (0.5.1)\n",
            "Requirement already satisfied: packaging in /usr/local/lib/python3.7/dist-packages (from bleach->nbconvert->notebook>=4.4.1->widgetsnbextension~=3.5.0->ipywidgets>=7.0.0->cufflinks) (21.0)\n",
            "Requirement already satisfied: pyparsing>=2.0.2 in /usr/local/lib/python3.7/dist-packages (from packaging->bleach->nbconvert->notebook>=4.4.1->widgetsnbextension~=3.5.0->ipywidgets>=7.0.0->cufflinks) (2.4.7)\n"
          ]
        }
      ]
    },
    {
      "cell_type": "code",
      "metadata": {
        "colab": {
          "base_uri": "https://localhost:8080/"
        },
        "id": "P7bHoMsW76lk",
        "outputId": "285982a8-b367-4ca8-c703-bea9af7df13f"
      },
      "source": [
        "!pip install geopandas\n",
        "import geopy\n",
        "from geopy.geocoders import Nominatim\n",
        "from geopy.extra.rate_limiter import RateLimiter"
      ],
      "execution_count": null,
      "outputs": [
        {
          "output_type": "stream",
          "name": "stdout",
          "text": [
            "Requirement already satisfied: geopandas in /usr/local/lib/python3.7/dist-packages (0.9.0)\n",
            "Requirement already satisfied: pandas>=0.24.0 in /usr/local/lib/python3.7/dist-packages (from geopandas) (1.1.5)\n",
            "Requirement already satisfied: shapely>=1.6 in /usr/local/lib/python3.7/dist-packages (from geopandas) (1.7.1)\n",
            "Requirement already satisfied: fiona>=1.8 in /usr/local/lib/python3.7/dist-packages (from geopandas) (1.8.20)\n",
            "Requirement already satisfied: pyproj>=2.2.0 in /usr/local/lib/python3.7/dist-packages (from geopandas) (3.2.0)\n",
            "Requirement already satisfied: click-plugins>=1.0 in /usr/local/lib/python3.7/dist-packages (from fiona>=1.8->geopandas) (1.1.1)\n",
            "Requirement already satisfied: setuptools in /usr/local/lib/python3.7/dist-packages (from fiona>=1.8->geopandas) (57.4.0)\n",
            "Requirement already satisfied: six>=1.7 in /usr/local/lib/python3.7/dist-packages (from fiona>=1.8->geopandas) (1.15.0)\n",
            "Requirement already satisfied: certifi in /usr/local/lib/python3.7/dist-packages (from fiona>=1.8->geopandas) (2021.5.30)\n",
            "Requirement already satisfied: cligj>=0.5 in /usr/local/lib/python3.7/dist-packages (from fiona>=1.8->geopandas) (0.7.2)\n",
            "Requirement already satisfied: munch in /usr/local/lib/python3.7/dist-packages (from fiona>=1.8->geopandas) (2.5.0)\n",
            "Requirement already satisfied: click>=4.0 in /usr/local/lib/python3.7/dist-packages (from fiona>=1.8->geopandas) (7.1.2)\n",
            "Requirement already satisfied: attrs>=17 in /usr/local/lib/python3.7/dist-packages (from fiona>=1.8->geopandas) (21.2.0)\n",
            "Requirement already satisfied: numpy>=1.15.4 in /usr/local/lib/python3.7/dist-packages (from pandas>=0.24.0->geopandas) (1.19.5)\n",
            "Requirement already satisfied: pytz>=2017.2 in /usr/local/lib/python3.7/dist-packages (from pandas>=0.24.0->geopandas) (2018.9)\n",
            "Requirement already satisfied: python-dateutil>=2.7.3 in /usr/local/lib/python3.7/dist-packages (from pandas>=0.24.0->geopandas) (2.8.2)\n"
          ]
        }
      ]
    },
    {
      "cell_type": "code",
      "metadata": {
        "colab": {
          "base_uri": "https://localhost:8080/"
        },
        "id": "hfFzIQD-TWTr",
        "outputId": "9ac95266-6061-40df-f805-5b456b99d5db"
      },
      "source": [
        "#import drive\n",
        "from google.colab import drive\n",
        "drive.mount('/content/drive')"
      ],
      "execution_count": null,
      "outputs": [
        {
          "output_type": "stream",
          "name": "stdout",
          "text": [
            "Drive already mounted at /content/drive; to attempt to forcibly remount, call drive.mount(\"/content/drive\", force_remount=True).\n"
          ]
        }
      ]
    },
    {
      "cell_type": "code",
      "metadata": {
        "id": "qwts1tZQR1tU"
      },
      "source": [
        "#df = pd.read_csv(\"filepath_or_buffer\", index_col=None)\n",
        "df1 = pd.read_csv(\"/content/drive/MyDrive/Colab Notebooks/data/vehicles.csv\", index_col=0)\n",
        "#df2 = pd.read_csv(\"/content/drive/MyDrive/Colab Notebooks/data/cars.csv\", index_col=0)"
      ],
      "execution_count": null,
      "outputs": []
    },
    {
      "cell_type": "markdown",
      "metadata": {
        "id": "qEEFdA7LegN8"
      },
      "source": [
        "# df1: **vehicles.csv**\n",
        "*   describe\n",
        "*   clean\n",
        "\n",
        "\n",
        "\n"
      ]
    },
    {
      "cell_type": "code",
      "metadata": {
        "id": "Jl2EqzIpe3mn"
      },
      "source": [
        "df = df1"
      ],
      "execution_count": null,
      "outputs": []
    },
    {
      "cell_type": "code",
      "metadata": {
        "id": "MD1mVdjajS_l",
        "colab": {
          "base_uri": "https://localhost:8080/"
        },
        "outputId": "ba186514-2bd7-434c-a135-694214f06d2e"
      },
      "source": [
        "#get number of rows & cols\n",
        "df.shape"
      ],
      "execution_count": null,
      "outputs": [
        {
          "output_type": "execute_result",
          "data": {
            "text/plain": [
              "(426880, 25)"
            ]
          },
          "metadata": {},
          "execution_count": 62
        }
      ]
    },
    {
      "cell_type": "code",
      "metadata": {
        "id": "-AM_fAzzkJbB",
        "colab": {
          "base_uri": "https://localhost:8080/"
        },
        "outputId": "e61b7346-d2d4-47bb-f562-319030d2128c"
      },
      "source": [
        "#get number of elements\n",
        "df.size"
      ],
      "execution_count": null,
      "outputs": [
        {
          "output_type": "execute_result",
          "data": {
            "text/plain": [
              "10672000"
            ]
          },
          "metadata": {},
          "execution_count": 63
        }
      ]
    },
    {
      "cell_type": "code",
      "metadata": {
        "id": "lLcnRPWlksVd",
        "colab": {
          "base_uri": "https://localhost:8080/",
          "height": 289
        },
        "outputId": "3809464c-be9e-4589-90e6-70d3c05f86b2"
      },
      "source": [
        "#get head\n",
        "df.head(n=5)"
      ],
      "execution_count": null,
      "outputs": [
        {
          "output_type": "execute_result",
          "data": {
            "text/html": [
              "<div>\n",
              "<style scoped>\n",
              "    .dataframe tbody tr th:only-of-type {\n",
              "        vertical-align: middle;\n",
              "    }\n",
              "\n",
              "    .dataframe tbody tr th {\n",
              "        vertical-align: top;\n",
              "    }\n",
              "\n",
              "    .dataframe thead th {\n",
              "        text-align: right;\n",
              "    }\n",
              "</style>\n",
              "<table border=\"1\" class=\"dataframe\">\n",
              "  <thead>\n",
              "    <tr style=\"text-align: right;\">\n",
              "      <th></th>\n",
              "      <th>url</th>\n",
              "      <th>region</th>\n",
              "      <th>region_url</th>\n",
              "      <th>price</th>\n",
              "      <th>year</th>\n",
              "      <th>manufacturer</th>\n",
              "      <th>model</th>\n",
              "      <th>condition</th>\n",
              "      <th>cylinders</th>\n",
              "      <th>fuel</th>\n",
              "      <th>odometer</th>\n",
              "      <th>title_status</th>\n",
              "      <th>transmission</th>\n",
              "      <th>VIN</th>\n",
              "      <th>drive</th>\n",
              "      <th>size</th>\n",
              "      <th>type</th>\n",
              "      <th>paint_color</th>\n",
              "      <th>image_url</th>\n",
              "      <th>description</th>\n",
              "      <th>county</th>\n",
              "      <th>state</th>\n",
              "      <th>lat</th>\n",
              "      <th>long</th>\n",
              "      <th>posting_date</th>\n",
              "    </tr>\n",
              "    <tr>\n",
              "      <th>id</th>\n",
              "      <th></th>\n",
              "      <th></th>\n",
              "      <th></th>\n",
              "      <th></th>\n",
              "      <th></th>\n",
              "      <th></th>\n",
              "      <th></th>\n",
              "      <th></th>\n",
              "      <th></th>\n",
              "      <th></th>\n",
              "      <th></th>\n",
              "      <th></th>\n",
              "      <th></th>\n",
              "      <th></th>\n",
              "      <th></th>\n",
              "      <th></th>\n",
              "      <th></th>\n",
              "      <th></th>\n",
              "      <th></th>\n",
              "      <th></th>\n",
              "      <th></th>\n",
              "      <th></th>\n",
              "      <th></th>\n",
              "      <th></th>\n",
              "      <th></th>\n",
              "    </tr>\n",
              "  </thead>\n",
              "  <tbody>\n",
              "    <tr>\n",
              "      <th>7222695916</th>\n",
              "      <td>https://prescott.craigslist.org/cto/d/prescott...</td>\n",
              "      <td>prescott</td>\n",
              "      <td>https://prescott.craigslist.org</td>\n",
              "      <td>6000</td>\n",
              "      <td>NaN</td>\n",
              "      <td>NaN</td>\n",
              "      <td>NaN</td>\n",
              "      <td>NaN</td>\n",
              "      <td>NaN</td>\n",
              "      <td>NaN</td>\n",
              "      <td>NaN</td>\n",
              "      <td>NaN</td>\n",
              "      <td>NaN</td>\n",
              "      <td>NaN</td>\n",
              "      <td>NaN</td>\n",
              "      <td>NaN</td>\n",
              "      <td>NaN</td>\n",
              "      <td>NaN</td>\n",
              "      <td>NaN</td>\n",
              "      <td>NaN</td>\n",
              "      <td>NaN</td>\n",
              "      <td>az</td>\n",
              "      <td>NaN</td>\n",
              "      <td>NaN</td>\n",
              "      <td>NaN</td>\n",
              "    </tr>\n",
              "    <tr>\n",
              "      <th>7218891961</th>\n",
              "      <td>https://fayar.craigslist.org/ctd/d/bentonville...</td>\n",
              "      <td>fayetteville</td>\n",
              "      <td>https://fayar.craigslist.org</td>\n",
              "      <td>11900</td>\n",
              "      <td>NaN</td>\n",
              "      <td>NaN</td>\n",
              "      <td>NaN</td>\n",
              "      <td>NaN</td>\n",
              "      <td>NaN</td>\n",
              "      <td>NaN</td>\n",
              "      <td>NaN</td>\n",
              "      <td>NaN</td>\n",
              "      <td>NaN</td>\n",
              "      <td>NaN</td>\n",
              "      <td>NaN</td>\n",
              "      <td>NaN</td>\n",
              "      <td>NaN</td>\n",
              "      <td>NaN</td>\n",
              "      <td>NaN</td>\n",
              "      <td>NaN</td>\n",
              "      <td>NaN</td>\n",
              "      <td>ar</td>\n",
              "      <td>NaN</td>\n",
              "      <td>NaN</td>\n",
              "      <td>NaN</td>\n",
              "    </tr>\n",
              "    <tr>\n",
              "      <th>7221797935</th>\n",
              "      <td>https://keys.craigslist.org/cto/d/summerland-k...</td>\n",
              "      <td>florida keys</td>\n",
              "      <td>https://keys.craigslist.org</td>\n",
              "      <td>21000</td>\n",
              "      <td>NaN</td>\n",
              "      <td>NaN</td>\n",
              "      <td>NaN</td>\n",
              "      <td>NaN</td>\n",
              "      <td>NaN</td>\n",
              "      <td>NaN</td>\n",
              "      <td>NaN</td>\n",
              "      <td>NaN</td>\n",
              "      <td>NaN</td>\n",
              "      <td>NaN</td>\n",
              "      <td>NaN</td>\n",
              "      <td>NaN</td>\n",
              "      <td>NaN</td>\n",
              "      <td>NaN</td>\n",
              "      <td>NaN</td>\n",
              "      <td>NaN</td>\n",
              "      <td>NaN</td>\n",
              "      <td>fl</td>\n",
              "      <td>NaN</td>\n",
              "      <td>NaN</td>\n",
              "      <td>NaN</td>\n",
              "    </tr>\n",
              "    <tr>\n",
              "      <th>7222270760</th>\n",
              "      <td>https://worcester.craigslist.org/cto/d/west-br...</td>\n",
              "      <td>worcester / central MA</td>\n",
              "      <td>https://worcester.craigslist.org</td>\n",
              "      <td>1500</td>\n",
              "      <td>NaN</td>\n",
              "      <td>NaN</td>\n",
              "      <td>NaN</td>\n",
              "      <td>NaN</td>\n",
              "      <td>NaN</td>\n",
              "      <td>NaN</td>\n",
              "      <td>NaN</td>\n",
              "      <td>NaN</td>\n",
              "      <td>NaN</td>\n",
              "      <td>NaN</td>\n",
              "      <td>NaN</td>\n",
              "      <td>NaN</td>\n",
              "      <td>NaN</td>\n",
              "      <td>NaN</td>\n",
              "      <td>NaN</td>\n",
              "      <td>NaN</td>\n",
              "      <td>NaN</td>\n",
              "      <td>ma</td>\n",
              "      <td>NaN</td>\n",
              "      <td>NaN</td>\n",
              "      <td>NaN</td>\n",
              "    </tr>\n",
              "    <tr>\n",
              "      <th>7210384030</th>\n",
              "      <td>https://greensboro.craigslist.org/cto/d/trinit...</td>\n",
              "      <td>greensboro</td>\n",
              "      <td>https://greensboro.craigslist.org</td>\n",
              "      <td>4900</td>\n",
              "      <td>NaN</td>\n",
              "      <td>NaN</td>\n",
              "      <td>NaN</td>\n",
              "      <td>NaN</td>\n",
              "      <td>NaN</td>\n",
              "      <td>NaN</td>\n",
              "      <td>NaN</td>\n",
              "      <td>NaN</td>\n",
              "      <td>NaN</td>\n",
              "      <td>NaN</td>\n",
              "      <td>NaN</td>\n",
              "      <td>NaN</td>\n",
              "      <td>NaN</td>\n",
              "      <td>NaN</td>\n",
              "      <td>NaN</td>\n",
              "      <td>NaN</td>\n",
              "      <td>NaN</td>\n",
              "      <td>nc</td>\n",
              "      <td>NaN</td>\n",
              "      <td>NaN</td>\n",
              "      <td>NaN</td>\n",
              "    </tr>\n",
              "  </tbody>\n",
              "</table>\n",
              "</div>"
            ],
            "text/plain": [
              "                                                          url  ... posting_date\n",
              "id                                                             ...             \n",
              "7222695916  https://prescott.craigslist.org/cto/d/prescott...  ...          NaN\n",
              "7218891961  https://fayar.craigslist.org/ctd/d/bentonville...  ...          NaN\n",
              "7221797935  https://keys.craigslist.org/cto/d/summerland-k...  ...          NaN\n",
              "7222270760  https://worcester.craigslist.org/cto/d/west-br...  ...          NaN\n",
              "7210384030  https://greensboro.craigslist.org/cto/d/trinit...  ...          NaN\n",
              "\n",
              "[5 rows x 25 columns]"
            ]
          },
          "metadata": {},
          "execution_count": 64
        }
      ]
    },
    {
      "cell_type": "code",
      "metadata": {
        "id": "HzpJK34BkeOK",
        "colab": {
          "base_uri": "https://localhost:8080/"
        },
        "outputId": "eb93bc9e-3499-4d1c-f47b-65a212f3bd8c"
      },
      "source": [
        "#get info\n",
        "df.info()"
      ],
      "execution_count": null,
      "outputs": [
        {
          "output_type": "stream",
          "name": "stdout",
          "text": [
            "<class 'pandas.core.frame.DataFrame'>\n",
            "Int64Index: 426880 entries, 7222695916 to 7301591129\n",
            "Data columns (total 25 columns):\n",
            " #   Column        Non-Null Count   Dtype  \n",
            "---  ------        --------------   -----  \n",
            " 0   url           426880 non-null  object \n",
            " 1   region        426880 non-null  object \n",
            " 2   region_url    426880 non-null  object \n",
            " 3   price         426880 non-null  int64  \n",
            " 4   year          425675 non-null  float64\n",
            " 5   manufacturer  409234 non-null  object \n",
            " 6   model         421603 non-null  object \n",
            " 7   condition     252776 non-null  object \n",
            " 8   cylinders     249202 non-null  object \n",
            " 9   fuel          423867 non-null  object \n",
            " 10  odometer      422480 non-null  float64\n",
            " 11  title_status  418638 non-null  object \n",
            " 12  transmission  424324 non-null  object \n",
            " 13  VIN           265838 non-null  object \n",
            " 14  drive         296313 non-null  object \n",
            " 15  size          120519 non-null  object \n",
            " 16  type          334022 non-null  object \n",
            " 17  paint_color   296677 non-null  object \n",
            " 18  image_url     426812 non-null  object \n",
            " 19  description   426810 non-null  object \n",
            " 20  county        0 non-null       float64\n",
            " 21  state         426880 non-null  object \n",
            " 22  lat           420331 non-null  float64\n",
            " 23  long          420331 non-null  float64\n",
            " 24  posting_date  426812 non-null  object \n",
            "dtypes: float64(5), int64(1), object(19)\n",
            "memory usage: 84.7+ MB\n"
          ]
        }
      ]
    },
    {
      "cell_type": "code",
      "metadata": {
        "id": "55RffBRjnqxI",
        "colab": {
          "base_uri": "https://localhost:8080/",
          "height": 297
        },
        "outputId": "8a0419ff-2ba6-42c2-a348-70f4b10c0c3a"
      },
      "source": [
        "#get descriptive stats\n",
        "df.describe()"
      ],
      "execution_count": null,
      "outputs": [
        {
          "output_type": "execute_result",
          "data": {
            "text/html": [
              "<div>\n",
              "<style scoped>\n",
              "    .dataframe tbody tr th:only-of-type {\n",
              "        vertical-align: middle;\n",
              "    }\n",
              "\n",
              "    .dataframe tbody tr th {\n",
              "        vertical-align: top;\n",
              "    }\n",
              "\n",
              "    .dataframe thead th {\n",
              "        text-align: right;\n",
              "    }\n",
              "</style>\n",
              "<table border=\"1\" class=\"dataframe\">\n",
              "  <thead>\n",
              "    <tr style=\"text-align: right;\">\n",
              "      <th></th>\n",
              "      <th>price</th>\n",
              "      <th>year</th>\n",
              "      <th>odometer</th>\n",
              "      <th>county</th>\n",
              "      <th>lat</th>\n",
              "      <th>long</th>\n",
              "    </tr>\n",
              "  </thead>\n",
              "  <tbody>\n",
              "    <tr>\n",
              "      <th>count</th>\n",
              "      <td>4.268800e+05</td>\n",
              "      <td>425675.000000</td>\n",
              "      <td>4.224800e+05</td>\n",
              "      <td>0.0</td>\n",
              "      <td>420331.000000</td>\n",
              "      <td>420331.000000</td>\n",
              "    </tr>\n",
              "    <tr>\n",
              "      <th>mean</th>\n",
              "      <td>7.519903e+04</td>\n",
              "      <td>2011.235191</td>\n",
              "      <td>9.804333e+04</td>\n",
              "      <td>NaN</td>\n",
              "      <td>38.493940</td>\n",
              "      <td>-94.748599</td>\n",
              "    </tr>\n",
              "    <tr>\n",
              "      <th>std</th>\n",
              "      <td>1.218228e+07</td>\n",
              "      <td>9.452120</td>\n",
              "      <td>2.138815e+05</td>\n",
              "      <td>NaN</td>\n",
              "      <td>5.841533</td>\n",
              "      <td>18.365462</td>\n",
              "    </tr>\n",
              "    <tr>\n",
              "      <th>min</th>\n",
              "      <td>0.000000e+00</td>\n",
              "      <td>1900.000000</td>\n",
              "      <td>0.000000e+00</td>\n",
              "      <td>NaN</td>\n",
              "      <td>-84.122245</td>\n",
              "      <td>-159.827728</td>\n",
              "    </tr>\n",
              "    <tr>\n",
              "      <th>25%</th>\n",
              "      <td>5.900000e+03</td>\n",
              "      <td>2008.000000</td>\n",
              "      <td>3.770400e+04</td>\n",
              "      <td>NaN</td>\n",
              "      <td>34.601900</td>\n",
              "      <td>-111.939847</td>\n",
              "    </tr>\n",
              "    <tr>\n",
              "      <th>50%</th>\n",
              "      <td>1.395000e+04</td>\n",
              "      <td>2013.000000</td>\n",
              "      <td>8.554800e+04</td>\n",
              "      <td>NaN</td>\n",
              "      <td>39.150100</td>\n",
              "      <td>-88.432600</td>\n",
              "    </tr>\n",
              "    <tr>\n",
              "      <th>75%</th>\n",
              "      <td>2.648575e+04</td>\n",
              "      <td>2017.000000</td>\n",
              "      <td>1.335425e+05</td>\n",
              "      <td>NaN</td>\n",
              "      <td>42.398900</td>\n",
              "      <td>-80.832039</td>\n",
              "    </tr>\n",
              "    <tr>\n",
              "      <th>max</th>\n",
              "      <td>3.736929e+09</td>\n",
              "      <td>2022.000000</td>\n",
              "      <td>1.000000e+07</td>\n",
              "      <td>NaN</td>\n",
              "      <td>82.390818</td>\n",
              "      <td>173.885502</td>\n",
              "    </tr>\n",
              "  </tbody>\n",
              "</table>\n",
              "</div>"
            ],
            "text/plain": [
              "              price           year  ...            lat           long\n",
              "count  4.268800e+05  425675.000000  ...  420331.000000  420331.000000\n",
              "mean   7.519903e+04    2011.235191  ...      38.493940     -94.748599\n",
              "std    1.218228e+07       9.452120  ...       5.841533      18.365462\n",
              "min    0.000000e+00    1900.000000  ...     -84.122245    -159.827728\n",
              "25%    5.900000e+03    2008.000000  ...      34.601900    -111.939847\n",
              "50%    1.395000e+04    2013.000000  ...      39.150100     -88.432600\n",
              "75%    2.648575e+04    2017.000000  ...      42.398900     -80.832039\n",
              "max    3.736929e+09    2022.000000  ...      82.390818     173.885502\n",
              "\n",
              "[8 rows x 6 columns]"
            ]
          },
          "metadata": {},
          "execution_count": 66
        }
      ]
    },
    {
      "cell_type": "code",
      "metadata": {
        "id": "vW6yAxptpChY",
        "colab": {
          "base_uri": "https://localhost:8080/"
        },
        "outputId": "bb4e2169-bd59-48ad-9ec2-1f2c5c0e8491"
      },
      "source": [
        "#get sum nan\n",
        "df.isna().sum()"
      ],
      "execution_count": null,
      "outputs": [
        {
          "output_type": "execute_result",
          "data": {
            "text/plain": [
              "url                  0\n",
              "region               0\n",
              "region_url           0\n",
              "price                0\n",
              "year              1205\n",
              "manufacturer     17646\n",
              "model             5277\n",
              "condition       174104\n",
              "cylinders       177678\n",
              "fuel              3013\n",
              "odometer          4400\n",
              "title_status      8242\n",
              "transmission      2556\n",
              "VIN             161042\n",
              "drive           130567\n",
              "size            306361\n",
              "type             92858\n",
              "paint_color     130203\n",
              "image_url           68\n",
              "description         70\n",
              "county          426880\n",
              "state                0\n",
              "lat               6549\n",
              "long              6549\n",
              "posting_date        68\n",
              "dtype: int64"
            ]
          },
          "metadata": {},
          "execution_count": 67
        }
      ]
    },
    {
      "cell_type": "code",
      "metadata": {
        "id": "meBUBitrqc6m",
        "colab": {
          "base_uri": "https://localhost:8080/"
        },
        "outputId": "a159c00b-203f-4d25-d95b-4a040a0bfeeb"
      },
      "source": [
        "#get sum non nan\n",
        "df.notnull().sum()"
      ],
      "execution_count": null,
      "outputs": [
        {
          "output_type": "execute_result",
          "data": {
            "text/plain": [
              "url             426880\n",
              "region          426880\n",
              "region_url      426880\n",
              "price           426880\n",
              "year            425675\n",
              "manufacturer    409234\n",
              "model           421603\n",
              "condition       252776\n",
              "cylinders       249202\n",
              "fuel            423867\n",
              "odometer        422480\n",
              "title_status    418638\n",
              "transmission    424324\n",
              "VIN             265838\n",
              "drive           296313\n",
              "size            120519\n",
              "type            334022\n",
              "paint_color     296677\n",
              "image_url       426812\n",
              "description     426810\n",
              "county               0\n",
              "state           426880\n",
              "lat             420331\n",
              "long            420331\n",
              "posting_date    426812\n",
              "dtype: int64"
            ]
          },
          "metadata": {},
          "execution_count": 68
        }
      ]
    },
    {
      "cell_type": "code",
      "metadata": {
        "id": "IZZfaRxIsvqh",
        "colab": {
          "base_uri": "https://localhost:8080/",
          "height": 527
        },
        "outputId": "11cc85a4-e9fb-4de2-aec1-5044412641c1"
      },
      "source": [
        "#drop rows: sum nan <19\n",
        "df = df[df.isnull().sum(axis=1) < 19]\n",
        "df.head()"
      ],
      "execution_count": null,
      "outputs": [
        {
          "output_type": "execute_result",
          "data": {
            "text/html": [
              "<div>\n",
              "<style scoped>\n",
              "    .dataframe tbody tr th:only-of-type {\n",
              "        vertical-align: middle;\n",
              "    }\n",
              "\n",
              "    .dataframe tbody tr th {\n",
              "        vertical-align: top;\n",
              "    }\n",
              "\n",
              "    .dataframe thead th {\n",
              "        text-align: right;\n",
              "    }\n",
              "</style>\n",
              "<table border=\"1\" class=\"dataframe\">\n",
              "  <thead>\n",
              "    <tr style=\"text-align: right;\">\n",
              "      <th></th>\n",
              "      <th>url</th>\n",
              "      <th>region</th>\n",
              "      <th>region_url</th>\n",
              "      <th>price</th>\n",
              "      <th>year</th>\n",
              "      <th>manufacturer</th>\n",
              "      <th>model</th>\n",
              "      <th>condition</th>\n",
              "      <th>cylinders</th>\n",
              "      <th>fuel</th>\n",
              "      <th>odometer</th>\n",
              "      <th>title_status</th>\n",
              "      <th>transmission</th>\n",
              "      <th>VIN</th>\n",
              "      <th>drive</th>\n",
              "      <th>size</th>\n",
              "      <th>type</th>\n",
              "      <th>paint_color</th>\n",
              "      <th>image_url</th>\n",
              "      <th>description</th>\n",
              "      <th>county</th>\n",
              "      <th>state</th>\n",
              "      <th>lat</th>\n",
              "      <th>long</th>\n",
              "      <th>posting_date</th>\n",
              "    </tr>\n",
              "    <tr>\n",
              "      <th>id</th>\n",
              "      <th></th>\n",
              "      <th></th>\n",
              "      <th></th>\n",
              "      <th></th>\n",
              "      <th></th>\n",
              "      <th></th>\n",
              "      <th></th>\n",
              "      <th></th>\n",
              "      <th></th>\n",
              "      <th></th>\n",
              "      <th></th>\n",
              "      <th></th>\n",
              "      <th></th>\n",
              "      <th></th>\n",
              "      <th></th>\n",
              "      <th></th>\n",
              "      <th></th>\n",
              "      <th></th>\n",
              "      <th></th>\n",
              "      <th></th>\n",
              "      <th></th>\n",
              "      <th></th>\n",
              "      <th></th>\n",
              "      <th></th>\n",
              "      <th></th>\n",
              "    </tr>\n",
              "  </thead>\n",
              "  <tbody>\n",
              "    <tr>\n",
              "      <th>7316814884</th>\n",
              "      <td>https://auburn.craigslist.org/ctd/d/auburn-uni...</td>\n",
              "      <td>auburn</td>\n",
              "      <td>https://auburn.craigslist.org</td>\n",
              "      <td>33590</td>\n",
              "      <td>2014.0</td>\n",
              "      <td>gmc</td>\n",
              "      <td>sierra 1500 crew cab slt</td>\n",
              "      <td>good</td>\n",
              "      <td>8 cylinders</td>\n",
              "      <td>gas</td>\n",
              "      <td>57923.0</td>\n",
              "      <td>clean</td>\n",
              "      <td>other</td>\n",
              "      <td>3GTP1VEC4EG551563</td>\n",
              "      <td>NaN</td>\n",
              "      <td>NaN</td>\n",
              "      <td>pickup</td>\n",
              "      <td>white</td>\n",
              "      <td>https://images.craigslist.org/00R0R_lwWjXSEWNa...</td>\n",
              "      <td>Carvana is the safer way to buy a car During t...</td>\n",
              "      <td>NaN</td>\n",
              "      <td>al</td>\n",
              "      <td>32.590</td>\n",
              "      <td>-85.4800</td>\n",
              "      <td>2021-05-04T12:31:18-0500</td>\n",
              "    </tr>\n",
              "    <tr>\n",
              "      <th>7316814758</th>\n",
              "      <td>https://auburn.craigslist.org/ctd/d/auburn-uni...</td>\n",
              "      <td>auburn</td>\n",
              "      <td>https://auburn.craigslist.org</td>\n",
              "      <td>22590</td>\n",
              "      <td>2010.0</td>\n",
              "      <td>chevrolet</td>\n",
              "      <td>silverado 1500</td>\n",
              "      <td>good</td>\n",
              "      <td>8 cylinders</td>\n",
              "      <td>gas</td>\n",
              "      <td>71229.0</td>\n",
              "      <td>clean</td>\n",
              "      <td>other</td>\n",
              "      <td>1GCSCSE06AZ123805</td>\n",
              "      <td>NaN</td>\n",
              "      <td>NaN</td>\n",
              "      <td>pickup</td>\n",
              "      <td>blue</td>\n",
              "      <td>https://images.craigslist.org/00R0R_lwWjXSEWNa...</td>\n",
              "      <td>Carvana is the safer way to buy a car During t...</td>\n",
              "      <td>NaN</td>\n",
              "      <td>al</td>\n",
              "      <td>32.590</td>\n",
              "      <td>-85.4800</td>\n",
              "      <td>2021-05-04T12:31:08-0500</td>\n",
              "    </tr>\n",
              "    <tr>\n",
              "      <th>7316814989</th>\n",
              "      <td>https://auburn.craigslist.org/ctd/d/auburn-uni...</td>\n",
              "      <td>auburn</td>\n",
              "      <td>https://auburn.craigslist.org</td>\n",
              "      <td>39590</td>\n",
              "      <td>2020.0</td>\n",
              "      <td>chevrolet</td>\n",
              "      <td>silverado 1500 crew</td>\n",
              "      <td>good</td>\n",
              "      <td>8 cylinders</td>\n",
              "      <td>gas</td>\n",
              "      <td>19160.0</td>\n",
              "      <td>clean</td>\n",
              "      <td>other</td>\n",
              "      <td>3GCPWCED5LG130317</td>\n",
              "      <td>NaN</td>\n",
              "      <td>NaN</td>\n",
              "      <td>pickup</td>\n",
              "      <td>red</td>\n",
              "      <td>https://images.craigslist.org/01212_jjirIWa0y0...</td>\n",
              "      <td>Carvana is the safer way to buy a car During t...</td>\n",
              "      <td>NaN</td>\n",
              "      <td>al</td>\n",
              "      <td>32.590</td>\n",
              "      <td>-85.4800</td>\n",
              "      <td>2021-05-04T12:31:25-0500</td>\n",
              "    </tr>\n",
              "    <tr>\n",
              "      <th>7316743432</th>\n",
              "      <td>https://auburn.craigslist.org/ctd/d/auburn-uni...</td>\n",
              "      <td>auburn</td>\n",
              "      <td>https://auburn.craigslist.org</td>\n",
              "      <td>30990</td>\n",
              "      <td>2017.0</td>\n",
              "      <td>toyota</td>\n",
              "      <td>tundra double cab sr</td>\n",
              "      <td>good</td>\n",
              "      <td>8 cylinders</td>\n",
              "      <td>gas</td>\n",
              "      <td>41124.0</td>\n",
              "      <td>clean</td>\n",
              "      <td>other</td>\n",
              "      <td>5TFRM5F17HX120972</td>\n",
              "      <td>NaN</td>\n",
              "      <td>NaN</td>\n",
              "      <td>pickup</td>\n",
              "      <td>red</td>\n",
              "      <td>https://images.craigslist.org/00x0x_1y9kIOzGCF...</td>\n",
              "      <td>Carvana is the safer way to buy a car During t...</td>\n",
              "      <td>NaN</td>\n",
              "      <td>al</td>\n",
              "      <td>32.590</td>\n",
              "      <td>-85.4800</td>\n",
              "      <td>2021-05-04T10:41:31-0500</td>\n",
              "    </tr>\n",
              "    <tr>\n",
              "      <th>7316356412</th>\n",
              "      <td>https://auburn.craigslist.org/cto/d/auburn-uni...</td>\n",
              "      <td>auburn</td>\n",
              "      <td>https://auburn.craigslist.org</td>\n",
              "      <td>15000</td>\n",
              "      <td>2013.0</td>\n",
              "      <td>ford</td>\n",
              "      <td>f-150 xlt</td>\n",
              "      <td>excellent</td>\n",
              "      <td>6 cylinders</td>\n",
              "      <td>gas</td>\n",
              "      <td>128000.0</td>\n",
              "      <td>clean</td>\n",
              "      <td>automatic</td>\n",
              "      <td>NaN</td>\n",
              "      <td>rwd</td>\n",
              "      <td>full-size</td>\n",
              "      <td>truck</td>\n",
              "      <td>black</td>\n",
              "      <td>https://images.craigslist.org/00404_l4loxHvdQe...</td>\n",
              "      <td>2013 F-150 XLT V6 4 Door. Good condition. Leve...</td>\n",
              "      <td>NaN</td>\n",
              "      <td>al</td>\n",
              "      <td>32.592</td>\n",
              "      <td>-85.5189</td>\n",
              "      <td>2021-05-03T14:02:03-0500</td>\n",
              "    </tr>\n",
              "  </tbody>\n",
              "</table>\n",
              "</div>"
            ],
            "text/plain": [
              "                                                          url  ...              posting_date\n",
              "id                                                             ...                          \n",
              "7316814884  https://auburn.craigslist.org/ctd/d/auburn-uni...  ...  2021-05-04T12:31:18-0500\n",
              "7316814758  https://auburn.craigslist.org/ctd/d/auburn-uni...  ...  2021-05-04T12:31:08-0500\n",
              "7316814989  https://auburn.craigslist.org/ctd/d/auburn-uni...  ...  2021-05-04T12:31:25-0500\n",
              "7316743432  https://auburn.craigslist.org/ctd/d/auburn-uni...  ...  2021-05-04T10:41:31-0500\n",
              "7316356412  https://auburn.craigslist.org/cto/d/auburn-uni...  ...  2021-05-03T14:02:03-0500\n",
              "\n",
              "[5 rows x 25 columns]"
            ]
          },
          "metadata": {},
          "execution_count": 69
        }
      ]
    },
    {
      "cell_type": "code",
      "metadata": {
        "id": "_iKBQ4uIBWYk",
        "colab": {
          "base_uri": "https://localhost:8080/"
        },
        "outputId": "b12864f1-2cdb-4cf1-b178-070a1f0eae0a"
      },
      "source": [
        "#float to int: year\n",
        "df['year'] = df['year'].astype('Int32') \n",
        "df['year'] = df['year'].astype('Int64') \n",
        "assert df['year'].dtype == 'Int64'"
      ],
      "execution_count": null,
      "outputs": [
        {
          "output_type": "stream",
          "name": "stderr",
          "text": [
            "/usr/local/lib/python3.7/dist-packages/ipykernel_launcher.py:2: SettingWithCopyWarning:\n",
            "\n",
            "\n",
            "A value is trying to be set on a copy of a slice from a DataFrame.\n",
            "Try using .loc[row_indexer,col_indexer] = value instead\n",
            "\n",
            "See the caveats in the documentation: https://pandas.pydata.org/pandas-docs/stable/user_guide/indexing.html#returning-a-view-versus-a-copy\n",
            "\n",
            "/usr/local/lib/python3.7/dist-packages/ipykernel_launcher.py:3: SettingWithCopyWarning:\n",
            "\n",
            "\n",
            "A value is trying to be set on a copy of a slice from a DataFrame.\n",
            "Try using .loc[row_indexer,col_indexer] = value instead\n",
            "\n",
            "See the caveats in the documentation: https://pandas.pydata.org/pandas-docs/stable/user_guide/indexing.html#returning-a-view-versus-a-copy\n",
            "\n"
          ]
        }
      ]
    },
    {
      "cell_type": "code",
      "metadata": {
        "id": "pi86Gv24Hw5L",
        "colab": {
          "base_uri": "https://localhost:8080/"
        },
        "outputId": "f53c4c7a-8fd1-4172-b47c-873327a35204"
      },
      "source": [
        "#str to int: cylinder\n",
        "df['cylinders'] = df['cylinders'].str.replace('cylinders',' ')\n",
        "df['cylinders'] = df['cylinders'].str.strip()\n",
        "df['cylinders'] = df['cylinders'].replace('nan',np.nan)\n",
        "df['cylinders'] = df['cylinders'].replace('other', np.nan) #--> merge nan and other\n",
        "df['cylinders'] = df['cylinders'].astype('float') \n",
        "df['cylinders'] = df['cylinders'].astype('Int32')\n",
        "df['cylinders'].unique()"
      ],
      "execution_count": null,
      "outputs": [
        {
          "output_type": "stream",
          "name": "stderr",
          "text": [
            "/usr/local/lib/python3.7/dist-packages/ipykernel_launcher.py:2: SettingWithCopyWarning:\n",
            "\n",
            "\n",
            "A value is trying to be set on a copy of a slice from a DataFrame.\n",
            "Try using .loc[row_indexer,col_indexer] = value instead\n",
            "\n",
            "See the caveats in the documentation: https://pandas.pydata.org/pandas-docs/stable/user_guide/indexing.html#returning-a-view-versus-a-copy\n",
            "\n",
            "/usr/local/lib/python3.7/dist-packages/ipykernel_launcher.py:3: SettingWithCopyWarning:\n",
            "\n",
            "\n",
            "A value is trying to be set on a copy of a slice from a DataFrame.\n",
            "Try using .loc[row_indexer,col_indexer] = value instead\n",
            "\n",
            "See the caveats in the documentation: https://pandas.pydata.org/pandas-docs/stable/user_guide/indexing.html#returning-a-view-versus-a-copy\n",
            "\n",
            "/usr/local/lib/python3.7/dist-packages/ipykernel_launcher.py:4: SettingWithCopyWarning:\n",
            "\n",
            "\n",
            "A value is trying to be set on a copy of a slice from a DataFrame.\n",
            "Try using .loc[row_indexer,col_indexer] = value instead\n",
            "\n",
            "See the caveats in the documentation: https://pandas.pydata.org/pandas-docs/stable/user_guide/indexing.html#returning-a-view-versus-a-copy\n",
            "\n",
            "/usr/local/lib/python3.7/dist-packages/ipykernel_launcher.py:5: SettingWithCopyWarning:\n",
            "\n",
            "\n",
            "A value is trying to be set on a copy of a slice from a DataFrame.\n",
            "Try using .loc[row_indexer,col_indexer] = value instead\n",
            "\n",
            "See the caveats in the documentation: https://pandas.pydata.org/pandas-docs/stable/user_guide/indexing.html#returning-a-view-versus-a-copy\n",
            "\n",
            "/usr/local/lib/python3.7/dist-packages/ipykernel_launcher.py:6: SettingWithCopyWarning:\n",
            "\n",
            "\n",
            "A value is trying to be set on a copy of a slice from a DataFrame.\n",
            "Try using .loc[row_indexer,col_indexer] = value instead\n",
            "\n",
            "See the caveats in the documentation: https://pandas.pydata.org/pandas-docs/stable/user_guide/indexing.html#returning-a-view-versus-a-copy\n",
            "\n",
            "/usr/local/lib/python3.7/dist-packages/ipykernel_launcher.py:7: SettingWithCopyWarning:\n",
            "\n",
            "\n",
            "A value is trying to be set on a copy of a slice from a DataFrame.\n",
            "Try using .loc[row_indexer,col_indexer] = value instead\n",
            "\n",
            "See the caveats in the documentation: https://pandas.pydata.org/pandas-docs/stable/user_guide/indexing.html#returning-a-view-versus-a-copy\n",
            "\n"
          ]
        },
        {
          "output_type": "execute_result",
          "data": {
            "text/plain": [
              "<IntegerArray>\n",
              "[8, 6, <NA>, 4, 5, 3, 10, 12]\n",
              "Length: 8, dtype: Int32"
            ]
          },
          "metadata": {},
          "execution_count": 71
        }
      ]
    },
    {
      "cell_type": "code",
      "metadata": {
        "id": "XOlK997CiqoX",
        "colab": {
          "base_uri": "https://localhost:8080/"
        },
        "outputId": "1fcaad3b-7c11-4aa1-d843-0ecf120229f2"
      },
      "source": [
        "#remove duplicate rows\n",
        "df.duplicated().sum()\n",
        "df.drop_duplicates(inplace=True)\n",
        "df.shape"
      ],
      "execution_count": null,
      "outputs": [
        {
          "output_type": "stream",
          "name": "stderr",
          "text": [
            "/usr/local/lib/python3.7/dist-packages/ipykernel_launcher.py:3: SettingWithCopyWarning:\n",
            "\n",
            "\n",
            "A value is trying to be set on a copy of a slice from a DataFrame\n",
            "\n",
            "See the caveats in the documentation: https://pandas.pydata.org/pandas-docs/stable/user_guide/indexing.html#returning-a-view-versus-a-copy\n",
            "\n"
          ]
        },
        {
          "output_type": "execute_result",
          "data": {
            "text/plain": [
              "(426812, 25)"
            ]
          },
          "metadata": {},
          "execution_count": 72
        }
      ]
    },
    {
      "cell_type": "code",
      "metadata": {
        "id": "_mozuWlE1Mqo",
        "colab": {
          "base_uri": "https://localhost:8080/"
        },
        "outputId": "e0031886-d1d8-4194-a70e-9180b48fdae2"
      },
      "source": [
        "print(df['price'].max())\n",
        "print(df['price'].min())\n",
        "print(df['price'].mean())\n",
        "print(df['price'].median())"
      ],
      "execution_count": null,
      "outputs": [
        {
          "output_type": "stream",
          "name": "stdout",
          "text": [
            "3736928711\n",
            "0\n",
            "75209.27384422181\n",
            "13950.0\n"
          ]
        }
      ]
    },
    {
      "cell_type": "code",
      "metadata": {
        "id": "4O0oTHToBhUF"
      },
      "source": [
        "df = df[df['condition'] != 'salvage'] "
      ],
      "execution_count": null,
      "outputs": []
    },
    {
      "cell_type": "code",
      "metadata": {
        "id": "g4f-p_cB_m_r",
        "colab": {
          "base_uri": "https://localhost:8080/"
        },
        "outputId": "2b76d259-3f78-47d8-95db-635bcb834f78"
      },
      "source": [
        "def condition_to_numeric(x):\n",
        "  if x=='new': return 5\n",
        "  if x=='like new': return 4\n",
        "  if x=='excellent': return 3\n",
        "  if x=='good': return 2\n",
        "  if x=='fair': return 1\n",
        "  #if x=='salvage': return 0 #--> ditch\n",
        "  if x=='nan': return np.nan\n",
        "\n",
        "df['condition_num'] = df['condition'].apply(condition_to_numeric)\n",
        "df['condition_num'].unique()"
      ],
      "execution_count": null,
      "outputs": [
        {
          "output_type": "execute_result",
          "data": {
            "text/plain": [
              "array([ 2.,  3.,  1., nan,  4.,  5.])"
            ]
          },
          "metadata": {},
          "execution_count": 75
        }
      ]
    },
    {
      "cell_type": "code",
      "metadata": {
        "id": "Lu9qlzlfIsr0",
        "colab": {
          "base_uri": "https://localhost:8080/",
          "height": 1000
        },
        "outputId": "a84c27c9-620c-458a-ca94-5d39f7f9346a"
      },
      "source": [
        "df.pivot_table(values='price', index='state',aggfunc=[np.mean, np.median, np.max, np.min])"
      ],
      "execution_count": null,
      "outputs": [
        {
          "output_type": "execute_result",
          "data": {
            "text/html": [
              "<div>\n",
              "<style scoped>\n",
              "    .dataframe tbody tr th:only-of-type {\n",
              "        vertical-align: middle;\n",
              "    }\n",
              "\n",
              "    .dataframe tbody tr th {\n",
              "        vertical-align: top;\n",
              "    }\n",
              "\n",
              "    .dataframe thead tr th {\n",
              "        text-align: left;\n",
              "    }\n",
              "\n",
              "    .dataframe thead tr:last-of-type th {\n",
              "        text-align: right;\n",
              "    }\n",
              "</style>\n",
              "<table border=\"1\" class=\"dataframe\">\n",
              "  <thead>\n",
              "    <tr>\n",
              "      <th></th>\n",
              "      <th>mean</th>\n",
              "      <th>median</th>\n",
              "      <th>amax</th>\n",
              "      <th>amin</th>\n",
              "    </tr>\n",
              "    <tr>\n",
              "      <th></th>\n",
              "      <th>price</th>\n",
              "      <th>price</th>\n",
              "      <th>price</th>\n",
              "      <th>price</th>\n",
              "    </tr>\n",
              "    <tr>\n",
              "      <th>state</th>\n",
              "      <th></th>\n",
              "      <th></th>\n",
              "      <th></th>\n",
              "      <th></th>\n",
              "    </tr>\n",
              "  </thead>\n",
              "  <tbody>\n",
              "    <tr>\n",
              "      <th>ak</th>\n",
              "      <td>2.376763e+04</td>\n",
              "      <td>21999.0</td>\n",
              "      <td>145000</td>\n",
              "      <td>0</td>\n",
              "    </tr>\n",
              "    <tr>\n",
              "      <th>al</th>\n",
              "      <td>2.396907e+05</td>\n",
              "      <td>18989.0</td>\n",
              "      <td>987654321</td>\n",
              "      <td>0</td>\n",
              "    </tr>\n",
              "    <tr>\n",
              "      <th>ar</th>\n",
              "      <td>1.808590e+04</td>\n",
              "      <td>14546.0</td>\n",
              "      <td>163540</td>\n",
              "      <td>0</td>\n",
              "    </tr>\n",
              "    <tr>\n",
              "      <th>az</th>\n",
              "      <td>1.951215e+04</td>\n",
              "      <td>15990.0</td>\n",
              "      <td>239995</td>\n",
              "      <td>0</td>\n",
              "    </tr>\n",
              "    <tr>\n",
              "      <th>ca</th>\n",
              "      <td>1.203648e+05</td>\n",
              "      <td>12995.0</td>\n",
              "      <td>3009548743</td>\n",
              "      <td>0</td>\n",
              "    </tr>\n",
              "    <tr>\n",
              "      <th>co</th>\n",
              "      <td>1.814396e+04</td>\n",
              "      <td>14999.0</td>\n",
              "      <td>655000</td>\n",
              "      <td>0</td>\n",
              "    </tr>\n",
              "    <tr>\n",
              "      <th>ct</th>\n",
              "      <td>1.505717e+04</td>\n",
              "      <td>9995.0</td>\n",
              "      <td>1000000</td>\n",
              "      <td>0</td>\n",
              "    </tr>\n",
              "    <tr>\n",
              "      <th>dc</th>\n",
              "      <td>1.449162e+04</td>\n",
              "      <td>10999.5</td>\n",
              "      <td>304995</td>\n",
              "      <td>0</td>\n",
              "    </tr>\n",
              "    <tr>\n",
              "      <th>de</th>\n",
              "      <td>3.205056e+06</td>\n",
              "      <td>9795.0</td>\n",
              "      <td>3024942282</td>\n",
              "      <td>0</td>\n",
              "    </tr>\n",
              "    <tr>\n",
              "      <th>fl</th>\n",
              "      <td>1.786835e+04</td>\n",
              "      <td>13995.0</td>\n",
              "      <td>6995495</td>\n",
              "      <td>0</td>\n",
              "    </tr>\n",
              "    <tr>\n",
              "      <th>ga</th>\n",
              "      <td>1.594646e+05</td>\n",
              "      <td>16590.0</td>\n",
              "      <td>987654321</td>\n",
              "      <td>0</td>\n",
              "    </tr>\n",
              "    <tr>\n",
              "      <th>hi</th>\n",
              "      <td>1.977402e+04</td>\n",
              "      <td>17990.0</td>\n",
              "      <td>289995</td>\n",
              "      <td>0</td>\n",
              "    </tr>\n",
              "    <tr>\n",
              "      <th>ia</th>\n",
              "      <td>1.619325e+04</td>\n",
              "      <td>12995.0</td>\n",
              "      <td>215000</td>\n",
              "      <td>0</td>\n",
              "    </tr>\n",
              "    <tr>\n",
              "      <th>id</th>\n",
              "      <td>3.569846e+04</td>\n",
              "      <td>14995.0</td>\n",
              "      <td>123456789</td>\n",
              "      <td>0</td>\n",
              "    </tr>\n",
              "    <tr>\n",
              "      <th>il</th>\n",
              "      <td>1.657456e+04</td>\n",
              "      <td>12995.0</td>\n",
              "      <td>260995</td>\n",
              "      <td>0</td>\n",
              "    </tr>\n",
              "    <tr>\n",
              "      <th>in</th>\n",
              "      <td>2.359879e+05</td>\n",
              "      <td>15999.5</td>\n",
              "      <td>1234567890</td>\n",
              "      <td>0</td>\n",
              "    </tr>\n",
              "    <tr>\n",
              "      <th>ks</th>\n",
              "      <td>1.897357e+04</td>\n",
              "      <td>15950.0</td>\n",
              "      <td>163540</td>\n",
              "      <td>0</td>\n",
              "    </tr>\n",
              "    <tr>\n",
              "      <th>ky</th>\n",
              "      <td>1.910319e+04</td>\n",
              "      <td>16900.0</td>\n",
              "      <td>123456</td>\n",
              "      <td>0</td>\n",
              "    </tr>\n",
              "    <tr>\n",
              "      <th>la</th>\n",
              "      <td>1.795743e+04</td>\n",
              "      <td>15000.0</td>\n",
              "      <td>299991</td>\n",
              "      <td>0</td>\n",
              "    </tr>\n",
              "    <tr>\n",
              "      <th>ma</th>\n",
              "      <td>1.560414e+04</td>\n",
              "      <td>11850.0</td>\n",
              "      <td>139950</td>\n",
              "      <td>0</td>\n",
              "    </tr>\n",
              "    <tr>\n",
              "      <th>md</th>\n",
              "      <td>3.126593e+05</td>\n",
              "      <td>14500.0</td>\n",
              "      <td>1410065407</td>\n",
              "      <td>0</td>\n",
              "    </tr>\n",
              "    <tr>\n",
              "      <th>me</th>\n",
              "      <td>1.380934e+04</td>\n",
              "      <td>9995.0</td>\n",
              "      <td>175000</td>\n",
              "      <td>0</td>\n",
              "    </tr>\n",
              "    <tr>\n",
              "      <th>mi</th>\n",
              "      <td>3.011486e+04</td>\n",
              "      <td>10995.0</td>\n",
              "      <td>123456789</td>\n",
              "      <td>0</td>\n",
              "    </tr>\n",
              "    <tr>\n",
              "      <th>mn</th>\n",
              "      <td>1.607058e+04</td>\n",
              "      <td>13472.0</td>\n",
              "      <td>1111111</td>\n",
              "      <td>0</td>\n",
              "    </tr>\n",
              "    <tr>\n",
              "      <th>mo</th>\n",
              "      <td>2.088966e+04</td>\n",
              "      <td>17995.0</td>\n",
              "      <td>299500</td>\n",
              "      <td>0</td>\n",
              "    </tr>\n",
              "    <tr>\n",
              "      <th>ms</th>\n",
              "      <td>1.770128e+04</td>\n",
              "      <td>13000.0</td>\n",
              "      <td>1111111</td>\n",
              "      <td>0</td>\n",
              "    </tr>\n",
              "    <tr>\n",
              "      <th>mt</th>\n",
              "      <td>2.354759e+04</td>\n",
              "      <td>21995.0</td>\n",
              "      <td>163540</td>\n",
              "      <td>0</td>\n",
              "    </tr>\n",
              "    <tr>\n",
              "      <th>nc</th>\n",
              "      <td>3.288413e+04</td>\n",
              "      <td>13463.0</td>\n",
              "      <td>135008900</td>\n",
              "      <td>0</td>\n",
              "    </tr>\n",
              "    <tr>\n",
              "      <th>nd</th>\n",
              "      <td>2.242525e+04</td>\n",
              "      <td>15990.0</td>\n",
              "      <td>1666666</td>\n",
              "      <td>0</td>\n",
              "    </tr>\n",
              "    <tr>\n",
              "      <th>ne</th>\n",
              "      <td>1.871783e+04</td>\n",
              "      <td>13900.0</td>\n",
              "      <td>124900</td>\n",
              "      <td>0</td>\n",
              "    </tr>\n",
              "    <tr>\n",
              "      <th>nh</th>\n",
              "      <td>1.766653e+04</td>\n",
              "      <td>12750.0</td>\n",
              "      <td>5000000</td>\n",
              "      <td>0</td>\n",
              "    </tr>\n",
              "    <tr>\n",
              "      <th>nj</th>\n",
              "      <td>3.258211e+05</td>\n",
              "      <td>10800.0</td>\n",
              "      <td>3024942282</td>\n",
              "      <td>0</td>\n",
              "    </tr>\n",
              "    <tr>\n",
              "      <th>nm</th>\n",
              "      <td>1.907202e+04</td>\n",
              "      <td>15990.0</td>\n",
              "      <td>163540</td>\n",
              "      <td>0</td>\n",
              "    </tr>\n",
              "    <tr>\n",
              "      <th>nv</th>\n",
              "      <td>2.058598e+04</td>\n",
              "      <td>16999.0</td>\n",
              "      <td>179888</td>\n",
              "      <td>0</td>\n",
              "    </tr>\n",
              "    <tr>\n",
              "      <th>ny</th>\n",
              "      <td>1.698831e+04</td>\n",
              "      <td>13500.0</td>\n",
              "      <td>261895</td>\n",
              "      <td>0</td>\n",
              "    </tr>\n",
              "    <tr>\n",
              "      <th>oh</th>\n",
              "      <td>2.686498e+04</td>\n",
              "      <td>10950.0</td>\n",
              "      <td>123456789</td>\n",
              "      <td>0</td>\n",
              "    </tr>\n",
              "    <tr>\n",
              "      <th>ok</th>\n",
              "      <td>3.622094e+04</td>\n",
              "      <td>14800.0</td>\n",
              "      <td>123456789</td>\n",
              "      <td>0</td>\n",
              "    </tr>\n",
              "    <tr>\n",
              "      <th>or</th>\n",
              "      <td>2.345359e+05</td>\n",
              "      <td>9995.0</td>\n",
              "      <td>3736928711</td>\n",
              "      <td>0</td>\n",
              "    </tr>\n",
              "    <tr>\n",
              "      <th>pa</th>\n",
              "      <td>1.556764e+04</td>\n",
              "      <td>10500.0</td>\n",
              "      <td>3226714</td>\n",
              "      <td>0</td>\n",
              "    </tr>\n",
              "    <tr>\n",
              "      <th>ri</th>\n",
              "      <td>1.642411e+04</td>\n",
              "      <td>11995.0</td>\n",
              "      <td>129500</td>\n",
              "      <td>0</td>\n",
              "    </tr>\n",
              "    <tr>\n",
              "      <th>sc</th>\n",
              "      <td>1.883435e+04</td>\n",
              "      <td>16488.0</td>\n",
              "      <td>117995</td>\n",
              "      <td>0</td>\n",
              "    </tr>\n",
              "    <tr>\n",
              "      <th>sd</th>\n",
              "      <td>1.840537e+04</td>\n",
              "      <td>14750.0</td>\n",
              "      <td>125000</td>\n",
              "      <td>0</td>\n",
              "    </tr>\n",
              "    <tr>\n",
              "      <th>tn</th>\n",
              "      <td>3.698787e+05</td>\n",
              "      <td>17500.0</td>\n",
              "      <td>3736928711</td>\n",
              "      <td>0</td>\n",
              "    </tr>\n",
              "    <tr>\n",
              "      <th>tx</th>\n",
              "      <td>2.137500e+04</td>\n",
              "      <td>16990.0</td>\n",
              "      <td>25003000</td>\n",
              "      <td>0</td>\n",
              "    </tr>\n",
              "    <tr>\n",
              "      <th>ut</th>\n",
              "      <td>2.511965e+04</td>\n",
              "      <td>19900.0</td>\n",
              "      <td>160000</td>\n",
              "      <td>0</td>\n",
              "    </tr>\n",
              "    <tr>\n",
              "      <th>va</th>\n",
              "      <td>1.388536e+04</td>\n",
              "      <td>8990.0</td>\n",
              "      <td>304995</td>\n",
              "      <td>0</td>\n",
              "    </tr>\n",
              "    <tr>\n",
              "      <th>vt</th>\n",
              "      <td>1.659158e+04</td>\n",
              "      <td>13995.0</td>\n",
              "      <td>120000</td>\n",
              "      <td>0</td>\n",
              "    </tr>\n",
              "    <tr>\n",
              "      <th>wa</th>\n",
              "      <td>2.224468e+04</td>\n",
              "      <td>16888.0</td>\n",
              "      <td>239900</td>\n",
              "      <td>0</td>\n",
              "    </tr>\n",
              "    <tr>\n",
              "      <th>wi</th>\n",
              "      <td>1.654569e+04</td>\n",
              "      <td>13495.0</td>\n",
              "      <td>999999</td>\n",
              "      <td>0</td>\n",
              "    </tr>\n",
              "    <tr>\n",
              "      <th>wv</th>\n",
              "      <td>2.441922e+04</td>\n",
              "      <td>24990.0</td>\n",
              "      <td>163540</td>\n",
              "      <td>0</td>\n",
              "    </tr>\n",
              "    <tr>\n",
              "      <th>wy</th>\n",
              "      <td>2.112395e+04</td>\n",
              "      <td>18590.0</td>\n",
              "      <td>125000</td>\n",
              "      <td>0</td>\n",
              "    </tr>\n",
              "  </tbody>\n",
              "</table>\n",
              "</div>"
            ],
            "text/plain": [
              "               mean   median        amax  amin\n",
              "              price    price       price price\n",
              "state                                         \n",
              "ak     2.376763e+04  21999.0      145000     0\n",
              "al     2.396907e+05  18989.0   987654321     0\n",
              "ar     1.808590e+04  14546.0      163540     0\n",
              "az     1.951215e+04  15990.0      239995     0\n",
              "ca     1.203648e+05  12995.0  3009548743     0\n",
              "co     1.814396e+04  14999.0      655000     0\n",
              "ct     1.505717e+04   9995.0     1000000     0\n",
              "dc     1.449162e+04  10999.5      304995     0\n",
              "de     3.205056e+06   9795.0  3024942282     0\n",
              "fl     1.786835e+04  13995.0     6995495     0\n",
              "ga     1.594646e+05  16590.0   987654321     0\n",
              "hi     1.977402e+04  17990.0      289995     0\n",
              "ia     1.619325e+04  12995.0      215000     0\n",
              "id     3.569846e+04  14995.0   123456789     0\n",
              "il     1.657456e+04  12995.0      260995     0\n",
              "in     2.359879e+05  15999.5  1234567890     0\n",
              "ks     1.897357e+04  15950.0      163540     0\n",
              "ky     1.910319e+04  16900.0      123456     0\n",
              "la     1.795743e+04  15000.0      299991     0\n",
              "ma     1.560414e+04  11850.0      139950     0\n",
              "md     3.126593e+05  14500.0  1410065407     0\n",
              "me     1.380934e+04   9995.0      175000     0\n",
              "mi     3.011486e+04  10995.0   123456789     0\n",
              "mn     1.607058e+04  13472.0     1111111     0\n",
              "mo     2.088966e+04  17995.0      299500     0\n",
              "ms     1.770128e+04  13000.0     1111111     0\n",
              "mt     2.354759e+04  21995.0      163540     0\n",
              "nc     3.288413e+04  13463.0   135008900     0\n",
              "nd     2.242525e+04  15990.0     1666666     0\n",
              "ne     1.871783e+04  13900.0      124900     0\n",
              "nh     1.766653e+04  12750.0     5000000     0\n",
              "nj     3.258211e+05  10800.0  3024942282     0\n",
              "nm     1.907202e+04  15990.0      163540     0\n",
              "nv     2.058598e+04  16999.0      179888     0\n",
              "ny     1.698831e+04  13500.0      261895     0\n",
              "oh     2.686498e+04  10950.0   123456789     0\n",
              "ok     3.622094e+04  14800.0   123456789     0\n",
              "or     2.345359e+05   9995.0  3736928711     0\n",
              "pa     1.556764e+04  10500.0     3226714     0\n",
              "ri     1.642411e+04  11995.0      129500     0\n",
              "sc     1.883435e+04  16488.0      117995     0\n",
              "sd     1.840537e+04  14750.0      125000     0\n",
              "tn     3.698787e+05  17500.0  3736928711     0\n",
              "tx     2.137500e+04  16990.0    25003000     0\n",
              "ut     2.511965e+04  19900.0      160000     0\n",
              "va     1.388536e+04   8990.0      304995     0\n",
              "vt     1.659158e+04  13995.0      120000     0\n",
              "wa     2.224468e+04  16888.0      239900     0\n",
              "wi     1.654569e+04  13495.0      999999     0\n",
              "wv     2.441922e+04  24990.0      163540     0\n",
              "wy     2.112395e+04  18590.0      125000     0"
            ]
          },
          "metadata": {},
          "execution_count": 76
        }
      ]
    },
    {
      "cell_type": "code",
      "metadata": {
        "id": "_rNQSs_dBQ1U",
        "colab": {
          "base_uri": "https://localhost:8080/",
          "height": 1000
        },
        "outputId": "c5463c2a-d264-472c-8a2a-26ccc8bc4f85"
      },
      "source": [
        "df = df[df['price'] >=1000] #-->e.g.\n",
        "df.pivot_table(values='price', index='state',aggfunc=[np.mean, np.median, np.max, np.min])"
      ],
      "execution_count": null,
      "outputs": [
        {
          "output_type": "execute_result",
          "data": {
            "text/html": [
              "<div>\n",
              "<style scoped>\n",
              "    .dataframe tbody tr th:only-of-type {\n",
              "        vertical-align: middle;\n",
              "    }\n",
              "\n",
              "    .dataframe tbody tr th {\n",
              "        vertical-align: top;\n",
              "    }\n",
              "\n",
              "    .dataframe thead tr th {\n",
              "        text-align: left;\n",
              "    }\n",
              "\n",
              "    .dataframe thead tr:last-of-type th {\n",
              "        text-align: right;\n",
              "    }\n",
              "</style>\n",
              "<table border=\"1\" class=\"dataframe\">\n",
              "  <thead>\n",
              "    <tr>\n",
              "      <th></th>\n",
              "      <th>mean</th>\n",
              "      <th>median</th>\n",
              "      <th>amax</th>\n",
              "      <th>amin</th>\n",
              "    </tr>\n",
              "    <tr>\n",
              "      <th></th>\n",
              "      <th>price</th>\n",
              "      <th>price</th>\n",
              "      <th>price</th>\n",
              "      <th>price</th>\n",
              "    </tr>\n",
              "    <tr>\n",
              "      <th>state</th>\n",
              "      <th></th>\n",
              "      <th></th>\n",
              "      <th></th>\n",
              "      <th></th>\n",
              "    </tr>\n",
              "  </thead>\n",
              "  <tbody>\n",
              "    <tr>\n",
              "      <th>ak</th>\n",
              "      <td>2.425320e+04</td>\n",
              "      <td>22995.0</td>\n",
              "      <td>145000</td>\n",
              "      <td>1000</td>\n",
              "    </tr>\n",
              "    <tr>\n",
              "      <th>al</th>\n",
              "      <td>2.554669e+05</td>\n",
              "      <td>20590.0</td>\n",
              "      <td>987654321</td>\n",
              "      <td>1000</td>\n",
              "    </tr>\n",
              "    <tr>\n",
              "      <th>ar</th>\n",
              "      <td>2.284584e+04</td>\n",
              "      <td>19117.0</td>\n",
              "      <td>163540</td>\n",
              "      <td>1000</td>\n",
              "    </tr>\n",
              "    <tr>\n",
              "      <th>az</th>\n",
              "      <td>2.113734e+04</td>\n",
              "      <td>17000.0</td>\n",
              "      <td>239995</td>\n",
              "      <td>1000</td>\n",
              "    </tr>\n",
              "    <tr>\n",
              "      <th>ca</th>\n",
              "      <td>1.397961e+05</td>\n",
              "      <td>15590.0</td>\n",
              "      <td>3009548743</td>\n",
              "      <td>1000</td>\n",
              "    </tr>\n",
              "    <tr>\n",
              "      <th>co</th>\n",
              "      <td>1.947881e+04</td>\n",
              "      <td>16494.0</td>\n",
              "      <td>655000</td>\n",
              "      <td>1000</td>\n",
              "    </tr>\n",
              "    <tr>\n",
              "      <th>ct</th>\n",
              "      <td>1.587744e+04</td>\n",
              "      <td>10950.0</td>\n",
              "      <td>1000000</td>\n",
              "      <td>1000</td>\n",
              "    </tr>\n",
              "    <tr>\n",
              "      <th>dc</th>\n",
              "      <td>1.627223e+04</td>\n",
              "      <td>13000.0</td>\n",
              "      <td>304995</td>\n",
              "      <td>1000</td>\n",
              "    </tr>\n",
              "    <tr>\n",
              "      <th>de</th>\n",
              "      <td>3.444616e+06</td>\n",
              "      <td>10500.0</td>\n",
              "      <td>3024942282</td>\n",
              "      <td>1000</td>\n",
              "    </tr>\n",
              "    <tr>\n",
              "      <th>fl</th>\n",
              "      <td>1.981785e+04</td>\n",
              "      <td>15900.0</td>\n",
              "      <td>6995495</td>\n",
              "      <td>1000</td>\n",
              "    </tr>\n",
              "    <tr>\n",
              "      <th>ga</th>\n",
              "      <td>1.793601e+05</td>\n",
              "      <td>18990.0</td>\n",
              "      <td>987654321</td>\n",
              "      <td>1000</td>\n",
              "    </tr>\n",
              "    <tr>\n",
              "      <th>hi</th>\n",
              "      <td>2.333688e+04</td>\n",
              "      <td>19999.0</td>\n",
              "      <td>289995</td>\n",
              "      <td>1000</td>\n",
              "    </tr>\n",
              "    <tr>\n",
              "      <th>ia</th>\n",
              "      <td>1.733278e+04</td>\n",
              "      <td>13995.0</td>\n",
              "      <td>215000</td>\n",
              "      <td>1000</td>\n",
              "    </tr>\n",
              "    <tr>\n",
              "      <th>id</th>\n",
              "      <td>4.111232e+04</td>\n",
              "      <td>17995.0</td>\n",
              "      <td>123456789</td>\n",
              "      <td>1000</td>\n",
              "    </tr>\n",
              "    <tr>\n",
              "      <th>il</th>\n",
              "      <td>1.836445e+04</td>\n",
              "      <td>15000.0</td>\n",
              "      <td>260995</td>\n",
              "      <td>1000</td>\n",
              "    </tr>\n",
              "    <tr>\n",
              "      <th>in</th>\n",
              "      <td>2.484024e+05</td>\n",
              "      <td>17250.0</td>\n",
              "      <td>1234567890</td>\n",
              "      <td>1000</td>\n",
              "    </tr>\n",
              "    <tr>\n",
              "      <th>ks</th>\n",
              "      <td>1.995128e+04</td>\n",
              "      <td>16590.0</td>\n",
              "      <td>163540</td>\n",
              "      <td>1000</td>\n",
              "    </tr>\n",
              "    <tr>\n",
              "      <th>ky</th>\n",
              "      <td>1.968558e+04</td>\n",
              "      <td>17000.0</td>\n",
              "      <td>123456</td>\n",
              "      <td>1000</td>\n",
              "    </tr>\n",
              "    <tr>\n",
              "      <th>la</th>\n",
              "      <td>2.123233e+04</td>\n",
              "      <td>17995.0</td>\n",
              "      <td>299991</td>\n",
              "      <td>1000</td>\n",
              "    </tr>\n",
              "    <tr>\n",
              "      <th>ma</th>\n",
              "      <td>1.681686e+04</td>\n",
              "      <td>12995.0</td>\n",
              "      <td>139950</td>\n",
              "      <td>1000</td>\n",
              "    </tr>\n",
              "    <tr>\n",
              "      <th>md</th>\n",
              "      <td>3.497275e+05</td>\n",
              "      <td>16590.0</td>\n",
              "      <td>1410065407</td>\n",
              "      <td>1000</td>\n",
              "    </tr>\n",
              "    <tr>\n",
              "      <th>me</th>\n",
              "      <td>1.707248e+04</td>\n",
              "      <td>12995.0</td>\n",
              "      <td>175000</td>\n",
              "      <td>1000</td>\n",
              "    </tr>\n",
              "    <tr>\n",
              "      <th>mi</th>\n",
              "      <td>3.195510e+04</td>\n",
              "      <td>11995.0</td>\n",
              "      <td>123456789</td>\n",
              "      <td>1000</td>\n",
              "    </tr>\n",
              "    <tr>\n",
              "      <th>mn</th>\n",
              "      <td>1.725396e+04</td>\n",
              "      <td>14599.5</td>\n",
              "      <td>1111111</td>\n",
              "      <td>1000</td>\n",
              "    </tr>\n",
              "    <tr>\n",
              "      <th>mo</th>\n",
              "      <td>2.316908e+04</td>\n",
              "      <td>19990.0</td>\n",
              "      <td>299500</td>\n",
              "      <td>1000</td>\n",
              "    </tr>\n",
              "    <tr>\n",
              "      <th>ms</th>\n",
              "      <td>1.889114e+04</td>\n",
              "      <td>14500.0</td>\n",
              "      <td>1111111</td>\n",
              "      <td>1000</td>\n",
              "    </tr>\n",
              "    <tr>\n",
              "      <th>mt</th>\n",
              "      <td>2.503656e+04</td>\n",
              "      <td>22998.0</td>\n",
              "      <td>163540</td>\n",
              "      <td>1000</td>\n",
              "    </tr>\n",
              "    <tr>\n",
              "      <th>nc</th>\n",
              "      <td>4.034065e+04</td>\n",
              "      <td>17499.0</td>\n",
              "      <td>135008900</td>\n",
              "      <td>1000</td>\n",
              "    </tr>\n",
              "    <tr>\n",
              "      <th>nd</th>\n",
              "      <td>2.364032e+04</td>\n",
              "      <td>16990.0</td>\n",
              "      <td>1666666</td>\n",
              "      <td>1290</td>\n",
              "    </tr>\n",
              "    <tr>\n",
              "      <th>ne</th>\n",
              "      <td>1.915866e+04</td>\n",
              "      <td>13995.0</td>\n",
              "      <td>124900</td>\n",
              "      <td>1000</td>\n",
              "    </tr>\n",
              "    <tr>\n",
              "      <th>nh</th>\n",
              "      <td>1.961612e+04</td>\n",
              "      <td>14500.0</td>\n",
              "      <td>5000000</td>\n",
              "      <td>1000</td>\n",
              "    </tr>\n",
              "    <tr>\n",
              "      <th>nj</th>\n",
              "      <td>3.462386e+05</td>\n",
              "      <td>11995.0</td>\n",
              "      <td>3024942282</td>\n",
              "      <td>1000</td>\n",
              "    </tr>\n",
              "    <tr>\n",
              "      <th>nm</th>\n",
              "      <td>2.245572e+04</td>\n",
              "      <td>18995.0</td>\n",
              "      <td>163540</td>\n",
              "      <td>1000</td>\n",
              "    </tr>\n",
              "    <tr>\n",
              "      <th>nv</th>\n",
              "      <td>2.171101e+04</td>\n",
              "      <td>17995.0</td>\n",
              "      <td>179888</td>\n",
              "      <td>1000</td>\n",
              "    </tr>\n",
              "    <tr>\n",
              "      <th>ny</th>\n",
              "      <td>1.877212e+04</td>\n",
              "      <td>15400.0</td>\n",
              "      <td>261895</td>\n",
              "      <td>1000</td>\n",
              "    </tr>\n",
              "    <tr>\n",
              "      <th>oh</th>\n",
              "      <td>2.967507e+04</td>\n",
              "      <td>12900.0</td>\n",
              "      <td>123456789</td>\n",
              "      <td>1000</td>\n",
              "    </tr>\n",
              "    <tr>\n",
              "      <th>ok</th>\n",
              "      <td>4.421661e+04</td>\n",
              "      <td>18498.0</td>\n",
              "      <td>123456789</td>\n",
              "      <td>1000</td>\n",
              "    </tr>\n",
              "    <tr>\n",
              "      <th>or</th>\n",
              "      <td>3.228897e+05</td>\n",
              "      <td>16000.0</td>\n",
              "      <td>3736928711</td>\n",
              "      <td>1000</td>\n",
              "    </tr>\n",
              "    <tr>\n",
              "      <th>pa</th>\n",
              "      <td>1.686143e+04</td>\n",
              "      <td>11995.0</td>\n",
              "      <td>3226714</td>\n",
              "      <td>1000</td>\n",
              "    </tr>\n",
              "    <tr>\n",
              "      <th>ri</th>\n",
              "      <td>1.692913e+04</td>\n",
              "      <td>12500.0</td>\n",
              "      <td>129500</td>\n",
              "      <td>1000</td>\n",
              "    </tr>\n",
              "    <tr>\n",
              "      <th>sc</th>\n",
              "      <td>2.121430e+04</td>\n",
              "      <td>18969.0</td>\n",
              "      <td>117995</td>\n",
              "      <td>1000</td>\n",
              "    </tr>\n",
              "    <tr>\n",
              "      <th>sd</th>\n",
              "      <td>1.955914e+04</td>\n",
              "      <td>15901.0</td>\n",
              "      <td>125000</td>\n",
              "      <td>1000</td>\n",
              "    </tr>\n",
              "    <tr>\n",
              "      <th>tn</th>\n",
              "      <td>3.934844e+05</td>\n",
              "      <td>18500.0</td>\n",
              "      <td>3736928711</td>\n",
              "      <td>1000</td>\n",
              "    </tr>\n",
              "    <tr>\n",
              "      <th>tx</th>\n",
              "      <td>2.354628e+04</td>\n",
              "      <td>18991.0</td>\n",
              "      <td>25003000</td>\n",
              "      <td>1000</td>\n",
              "    </tr>\n",
              "    <tr>\n",
              "      <th>ut</th>\n",
              "      <td>2.585816e+04</td>\n",
              "      <td>20000.0</td>\n",
              "      <td>160000</td>\n",
              "      <td>1000</td>\n",
              "    </tr>\n",
              "    <tr>\n",
              "      <th>va</th>\n",
              "      <td>1.715516e+04</td>\n",
              "      <td>12995.0</td>\n",
              "      <td>304995</td>\n",
              "      <td>1000</td>\n",
              "    </tr>\n",
              "    <tr>\n",
              "      <th>vt</th>\n",
              "      <td>1.785745e+04</td>\n",
              "      <td>14995.0</td>\n",
              "      <td>120000</td>\n",
              "      <td>1000</td>\n",
              "    </tr>\n",
              "    <tr>\n",
              "      <th>wa</th>\n",
              "      <td>2.646311e+04</td>\n",
              "      <td>21999.0</td>\n",
              "      <td>239900</td>\n",
              "      <td>1000</td>\n",
              "    </tr>\n",
              "    <tr>\n",
              "      <th>wi</th>\n",
              "      <td>1.724141e+04</td>\n",
              "      <td>13995.0</td>\n",
              "      <td>999999</td>\n",
              "      <td>1000</td>\n",
              "    </tr>\n",
              "    <tr>\n",
              "      <th>wv</th>\n",
              "      <td>2.574502e+04</td>\n",
              "      <td>25990.0</td>\n",
              "      <td>163540</td>\n",
              "      <td>1000</td>\n",
              "    </tr>\n",
              "    <tr>\n",
              "      <th>wy</th>\n",
              "      <td>2.264372e+04</td>\n",
              "      <td>19990.0</td>\n",
              "      <td>125000</td>\n",
              "      <td>1000</td>\n",
              "    </tr>\n",
              "  </tbody>\n",
              "</table>\n",
              "</div>"
            ],
            "text/plain": [
              "               mean   median        amax  amin\n",
              "              price    price       price price\n",
              "state                                         \n",
              "ak     2.425320e+04  22995.0      145000  1000\n",
              "al     2.554669e+05  20590.0   987654321  1000\n",
              "ar     2.284584e+04  19117.0      163540  1000\n",
              "az     2.113734e+04  17000.0      239995  1000\n",
              "ca     1.397961e+05  15590.0  3009548743  1000\n",
              "co     1.947881e+04  16494.0      655000  1000\n",
              "ct     1.587744e+04  10950.0     1000000  1000\n",
              "dc     1.627223e+04  13000.0      304995  1000\n",
              "de     3.444616e+06  10500.0  3024942282  1000\n",
              "fl     1.981785e+04  15900.0     6995495  1000\n",
              "ga     1.793601e+05  18990.0   987654321  1000\n",
              "hi     2.333688e+04  19999.0      289995  1000\n",
              "ia     1.733278e+04  13995.0      215000  1000\n",
              "id     4.111232e+04  17995.0   123456789  1000\n",
              "il     1.836445e+04  15000.0      260995  1000\n",
              "in     2.484024e+05  17250.0  1234567890  1000\n",
              "ks     1.995128e+04  16590.0      163540  1000\n",
              "ky     1.968558e+04  17000.0      123456  1000\n",
              "la     2.123233e+04  17995.0      299991  1000\n",
              "ma     1.681686e+04  12995.0      139950  1000\n",
              "md     3.497275e+05  16590.0  1410065407  1000\n",
              "me     1.707248e+04  12995.0      175000  1000\n",
              "mi     3.195510e+04  11995.0   123456789  1000\n",
              "mn     1.725396e+04  14599.5     1111111  1000\n",
              "mo     2.316908e+04  19990.0      299500  1000\n",
              "ms     1.889114e+04  14500.0     1111111  1000\n",
              "mt     2.503656e+04  22998.0      163540  1000\n",
              "nc     4.034065e+04  17499.0   135008900  1000\n",
              "nd     2.364032e+04  16990.0     1666666  1290\n",
              "ne     1.915866e+04  13995.0      124900  1000\n",
              "nh     1.961612e+04  14500.0     5000000  1000\n",
              "nj     3.462386e+05  11995.0  3024942282  1000\n",
              "nm     2.245572e+04  18995.0      163540  1000\n",
              "nv     2.171101e+04  17995.0      179888  1000\n",
              "ny     1.877212e+04  15400.0      261895  1000\n",
              "oh     2.967507e+04  12900.0   123456789  1000\n",
              "ok     4.421661e+04  18498.0   123456789  1000\n",
              "or     3.228897e+05  16000.0  3736928711  1000\n",
              "pa     1.686143e+04  11995.0     3226714  1000\n",
              "ri     1.692913e+04  12500.0      129500  1000\n",
              "sc     2.121430e+04  18969.0      117995  1000\n",
              "sd     1.955914e+04  15901.0      125000  1000\n",
              "tn     3.934844e+05  18500.0  3736928711  1000\n",
              "tx     2.354628e+04  18991.0    25003000  1000\n",
              "ut     2.585816e+04  20000.0      160000  1000\n",
              "va     1.715516e+04  12995.0      304995  1000\n",
              "vt     1.785745e+04  14995.0      120000  1000\n",
              "wa     2.646311e+04  21999.0      239900  1000\n",
              "wi     1.724141e+04  13995.0      999999  1000\n",
              "wv     2.574502e+04  25990.0      163540  1000\n",
              "wy     2.264372e+04  19990.0      125000  1000"
            ]
          },
          "metadata": {},
          "execution_count": 77
        }
      ]
    },
    {
      "cell_type": "code",
      "metadata": {
        "id": "o9Ne4WhxO4UH",
        "colab": {
          "base_uri": "https://localhost:8080/",
          "height": 536
        },
        "outputId": "b2d70630-3203-48a4-f391-af33d0e040ea"
      },
      "source": [
        "#distribution bar chart --> state/sales adverts\n",
        "plt = df['state'].value_counts().plot(kind='bar',\n",
        "                                    figsize=(14,8),\n",
        "                                    title=\"Number of Used Cars Sales Adverts per State\")\n",
        "plt.set_xlabel(\"State\")\n",
        "plt.set_ylabel(\"Sales adverts\")"
      ],
      "execution_count": null,
      "outputs": [
        {
          "output_type": "execute_result",
          "data": {
            "text/plain": [
              "Text(0, 0.5, 'Sales adverts')"
            ]
          },
          "metadata": {},
          "execution_count": 78
        },
        {
          "output_type": "display_data",
          "data": {
            "image/png": "[encoded data removed]",
            "text/plain": [
              "<Figure size 1008x576 with 1 Axes>"
            ]
          },
          "metadata": {
            "needs_background": "light"
          }
        }
      ]
    },
    {
      "cell_type": "code",
      "metadata": {
        "id": "wl5EnrCRYbbg",
        "colab": {
          "base_uri": "https://localhost:8080/",
          "height": 600
        },
        "outputId": "f33a21f3-36fd-431c-b769-9c7f7c8e1c74"
      },
      "source": [
        "#distribution bar chart --> brand/sales adverts\n",
        "ax = df['manufacturer'].value_counts().plot(kind='bar',\n",
        "                                    figsize=(14,8),\n",
        "                                    title=\"Number of Used Cars Sales Adverts per Manufacturer\")\n",
        "ax.set_xlabel(\"Manufacturer\")\n",
        "ax.set_ylabel(\"Sales adverts\")"
      ],
      "execution_count": null,
      "outputs": [
        {
          "output_type": "execute_result",
          "data": {
            "text/plain": [
              "Text(0, 0.5, 'Sales adverts')"
            ]
          },
          "metadata": {},
          "execution_count": 79
        },
        {
          "output_type": "display_data",
          "data": {
            "image/png": "[encoded data removed]",
            "text/plain": [
              "<Figure size 1008x576 with 1 Axes>"
            ]
          },
          "metadata": {
            "needs_background": "light"
          }
        }
      ]
    },
    {
      "cell_type": "code",
      "metadata": {
        "id": "1qKR1pI_DTfC",
        "colab": {
          "base_uri": "https://localhost:8080/",
          "height": 1000
        },
        "outputId": "10dc0135-4e16-4015-8133-873b19a4a566"
      },
      "source": [
        "#distribution bar chart --> state/ASP\n",
        "print(df.groupby('state', as_index=True)['price'].mean())\n",
        "plt2 = sns.barplot('state', 'price', data=df, ci=False)"
      ],
      "execution_count": null,
      "outputs": [
        {
          "output_type": "stream",
          "name": "stdout",
          "text": [
            "state\n",
            "ak    2.425320e+04\n",
            "al    2.554669e+05\n",
            "ar    2.284584e+04\n",
            "az    2.113734e+04\n",
            "ca    1.397961e+05\n",
            "co    1.947881e+04\n",
            "ct    1.587744e+04\n",
            "dc    1.627223e+04\n",
            "de    3.444616e+06\n",
            "fl    1.981785e+04\n",
            "ga    1.793601e+05\n",
            "hi    2.333688e+04\n",
            "ia    1.733278e+04\n",
            "id    4.111232e+04\n",
            "il    1.836445e+04\n",
            "in    2.484024e+05\n",
            "ks    1.995128e+04\n",
            "ky    1.968558e+04\n",
            "la    2.123233e+04\n",
            "ma    1.681686e+04\n",
            "md    3.497275e+05\n",
            "me    1.707248e+04\n",
            "mi    3.195510e+04\n",
            "mn    1.725396e+04\n",
            "mo    2.316908e+04\n",
            "ms    1.889114e+04\n",
            "mt    2.503656e+04\n",
            "nc    4.034065e+04\n",
            "nd    2.364032e+04\n",
            "ne    1.915866e+04\n",
            "nh    1.961612e+04\n",
            "nj    3.462386e+05\n",
            "nm    2.245572e+04\n",
            "nv    2.171101e+04\n",
            "ny    1.877212e+04\n",
            "oh    2.967507e+04\n",
            "ok    4.421661e+04\n",
            "or    3.228897e+05\n",
            "pa    1.686143e+04\n",
            "ri    1.692913e+04\n",
            "sc    2.121430e+04\n",
            "sd    1.955914e+04\n",
            "tn    3.934844e+05\n",
            "tx    2.354628e+04\n",
            "ut    2.585816e+04\n",
            "va    1.715516e+04\n",
            "vt    1.785745e+04\n",
            "wa    2.646311e+04\n",
            "wi    1.724141e+04\n",
            "wv    2.574502e+04\n",
            "wy    2.264372e+04\n",
            "Name: price, dtype: float64\n"
          ]
        },
        {
          "output_type": "stream",
          "name": "stderr",
          "text": [
            "/usr/local/lib/python3.7/dist-packages/seaborn/_decorators.py:43: FutureWarning:\n",
            "\n",
            "Pass the following variables as keyword args: x, y. From version 0.12, the only valid positional argument will be `data`, and passing other arguments without an explicit keyword will result in an error or misinterpretation.\n",
            "\n"
          ]
        },
        {
          "output_type": "display_data",
          "data": {
            "image/png": "[encoded data removed]",
            "text/plain": [
              "<Figure size 432x288 with 1 Axes>"
            ]
          },
          "metadata": {
            "needs_background": "light"
          }
        }
      ]
    },
    {
      "cell_type": "code",
      "metadata": {
        "id": "Lmk9KBe0Yy-a",
        "colab": {
          "base_uri": "https://localhost:8080/",
          "height": 1000
        },
        "outputId": "32405b91-afa3-4620-ccef-f6d77b9d69f9"
      },
      "source": [
        "#distribution bar chart --> manufacturer/ASP\n",
        "print(df.groupby('manufacturer', as_index=False)['price'].mean()) #check ferrari etc. 100k > subset drop and graph\n",
        "plt2 = sns.barplot('manufacturer', 'price', data=df, ci=False)"
      ],
      "execution_count": null,
      "outputs": [
        {
          "output_type": "stream",
          "name": "stdout",
          "text": [
            "       manufacturer          price\n",
            "0             acura   21467.922673\n",
            "1        alfa-romeo   29553.809802\n",
            "2      aston-martin   61136.619048\n",
            "3              audi   25617.969997\n",
            "4               bmw   29685.363204\n",
            "5             buick   40198.017886\n",
            "6          cadillac   21362.952208\n",
            "7         chevrolet  129742.205773\n",
            "8          chrysler   11530.505319\n",
            "9            datsun   16403.258621\n",
            "10            dodge   17817.482426\n",
            "11          ferrari  127583.487500\n",
            "12             fiat   12897.722908\n",
            "13             ford   40867.101688\n",
            "14              gmc   33826.219761\n",
            "15  harley-davidson   13643.191176\n",
            "16            honda   11887.445885\n",
            "17          hyundai   12266.738032\n",
            "18         infiniti   21442.647636\n",
            "19           jaguar   27735.673469\n",
            "20             jeep  173028.561655\n",
            "21              kia   12974.705752\n",
            "22       land rover   15103.000000\n",
            "23            lexus   20827.433448\n",
            "24          lincoln   20974.836806\n",
            "25            mazda   13681.055794\n",
            "26    mercedes-benz  628495.549265\n",
            "27          mercury    6098.473088\n",
            "28             mini   15207.320524\n",
            "29       mitsubishi   15183.300739\n",
            "30           morgan   13100.000000\n",
            "31           nissan   21534.809598\n",
            "32          pontiac    8615.917859\n",
            "33          porsche   34749.308176\n",
            "34              ram   31941.011625\n",
            "35            rover   30206.652632\n",
            "36           saturn    7258.239806\n",
            "37           subaru   14227.631422\n",
            "38            tesla   41044.432099\n",
            "39           toyota  261549.327752\n",
            "40       volkswagen   13850.520540\n",
            "41            volvo  403224.374961\n"
          ]
        },
        {
          "output_type": "stream",
          "name": "stderr",
          "text": [
            "/usr/local/lib/python3.7/dist-packages/seaborn/_decorators.py:43: FutureWarning:\n",
            "\n",
            "Pass the following variables as keyword args: x, y. From version 0.12, the only valid positional argument will be `data`, and passing other arguments without an explicit keyword will result in an error or misinterpretation.\n",
            "\n"
          ]
        },
        {
          "output_type": "display_data",
          "data": {
            "image/png": "[encoded data removed]",
            "text/plain": [
              "<Figure size 432x288 with 1 Axes>"
            ]
          },
          "metadata": {
            "needs_background": "light"
          }
        }
      ]
    },
    {
      "cell_type": "code",
      "metadata": {
        "id": "IhoQ-tnMyonH",
        "colab": {
          "base_uri": "https://localhost:8080/",
          "height": 296
        },
        "outputId": "ca9e8bcf-594a-4bab-84e2-ea8d206cba24"
      },
      "source": [
        "#detect and remove outliers\n",
        "sns.boxplot(x=df['price'])"
      ],
      "execution_count": null,
      "outputs": [
        {
          "output_type": "execute_result",
          "data": {
            "text/plain": [
              "<matplotlib.axes._subplots.AxesSubplot at 0x7fcee8e9d890>"
            ]
          },
          "metadata": {},
          "execution_count": 82
        },
        {
          "output_type": "display_data",
          "data": {
            "image/png": "[encoded data removed]",
            "text/plain": [
              "<Figure size 432x288 with 1 Axes>"
            ]
          },
          "metadata": {
            "needs_background": "light"
          }
        }
      ]
    },
    {
      "cell_type": "code",
      "metadata": {
        "id": "7P10rtG0Fziy",
        "colab": {
          "base_uri": "https://localhost:8080/"
        },
        "outputId": "3627001a-5389-45e7-80af-fbfb40fb8724"
      },
      "source": [
        "Q1 = df.quantile(0.25)\n",
        "Q3 = df.quantile(0.75)\n",
        "IQR = Q3 - Q1\n",
        "print(IQR)"
      ],
      "execution_count": null,
      "outputs": [
        {
          "output_type": "stream",
          "name": "stdout",
          "text": [
            "price              20000\n",
            "year                   9\n",
            "cylinders              4\n",
            "odometer           97862\n",
            "county               NaN\n",
            "lat              7.65379\n",
            "long             30.0929\n",
            "condition_num          1\n",
            "dtype: object\n"
          ]
        }
      ]
    },
    {
      "cell_type": "code",
      "metadata": {
        "id": "0oPy3TNQHocI",
        "colab": {
          "base_uri": "https://localhost:8080/"
        },
        "outputId": "9fc5eaa7-60cb-4185-ef3b-a9686295679a"
      },
      "source": [
        "print(df < (Q1 - 1.5 * IQR))"
      ],
      "execution_count": null,
      "outputs": [
        {
          "output_type": "stream",
          "name": "stdout",
          "text": [
            "              VIN  condition  condition_num  ...   type    url   year\n",
            "id                                           ...                     \n",
            "7316814884  False      False          False  ...  False  False  False\n",
            "7316814758  False      False          False  ...  False  False  False\n",
            "7316814989  False      False          False  ...  False  False  False\n",
            "7316743432  False      False          False  ...  False  False  False\n",
            "7316356412  False      False          False  ...  False  False  False\n",
            "...           ...        ...            ...  ...    ...    ...    ...\n",
            "7301591192  False      False          False  ...  False  False  False\n",
            "7301591187  False      False          False  ...  False  False  False\n",
            "7301591147  False      False          False  ...  False  False  False\n",
            "7301591140  False      False          False  ...  False  False  False\n",
            "7301591129  False      False          False  ...  False  False  False\n",
            "\n",
            "[380070 rows x 26 columns]\n"
          ]
        }
      ]
    },
    {
      "cell_type": "code",
      "metadata": {
        "id": "YEWYZQwALAGY",
        "colab": {
          "base_uri": "https://localhost:8080/"
        },
        "outputId": "770aa8d8-1d04-481d-9677-6f19ed4ad3c5"
      },
      "source": [
        "print(df > (Q3 + 1.5 * IQR))"
      ],
      "execution_count": null,
      "outputs": [
        {
          "output_type": "stream",
          "name": "stdout",
          "text": [
            "              VIN  condition  condition_num  ...   type    url   year\n",
            "id                                           ...                     \n",
            "7316814884  False      False          False  ...  False  False  False\n",
            "7316814758  False      False          False  ...  False  False  False\n",
            "7316814989  False      False          False  ...  False  False  False\n",
            "7316743432  False      False          False  ...  False  False  False\n",
            "7316356412  False      False          False  ...  False  False  False\n",
            "...           ...        ...            ...  ...    ...    ...    ...\n",
            "7301591192  False      False          False  ...  False  False  False\n",
            "7301591187  False      False          False  ...  False  False  False\n",
            "7301591147  False      False          False  ...  False  False  False\n",
            "7301591140  False      False          False  ...  False  False  False\n",
            "7301591129  False      False          False  ...  False  False  False\n",
            "\n",
            "[380070 rows x 26 columns]\n"
          ]
        }
      ]
    },
    {
      "cell_type": "code",
      "metadata": {
        "id": "TYt3Qx5lKNlA"
      },
      "source": [
        "df_out = df[~((df < (Q1 - 1.5 * IQR)) |(df > (Q3 + 1.5 * IQR))).any(axis=1)]"
      ],
      "execution_count": null,
      "outputs": []
    },
    {
      "cell_type": "code",
      "metadata": {
        "id": "Zz6-mxdcKW-F",
        "colab": {
          "base_uri": "https://localhost:8080/"
        },
        "outputId": "985d28bd-580e-420e-c289-fcdbe85953ac"
      },
      "source": [
        "df_out.shape"
      ],
      "execution_count": null,
      "outputs": [
        {
          "output_type": "execute_result",
          "data": {
            "text/plain": [
              "(348309, 26)"
            ]
          },
          "metadata": {},
          "execution_count": 87
        }
      ]
    },
    {
      "cell_type": "code",
      "metadata": {
        "id": "qE4Pg6gaKovY",
        "colab": {
          "base_uri": "https://localhost:8080/",
          "height": 296
        },
        "outputId": "755e885b-3508-402d-daea-5be7dd205deb"
      },
      "source": [
        "sns.boxplot(x=df_out['price'])"
      ],
      "execution_count": null,
      "outputs": [
        {
          "output_type": "execute_result",
          "data": {
            "text/plain": [
              "<matplotlib.axes._subplots.AxesSubplot at 0x7fcee8dc3b10>"
            ]
          },
          "metadata": {},
          "execution_count": 88
        },
        {
          "output_type": "display_data",
          "data": {
            "image/png": "[encoded data removed]",
            "text/plain": [
              "<Figure size 432x288 with 1 Axes>"
            ]
          },
          "metadata": {
            "needs_background": "light"
          }
        }
      ]
    },
    {
      "cell_type": "code",
      "metadata": {
        "id": "b7QR8-EULOxM",
        "colab": {
          "base_uri": "https://localhost:8080/",
          "height": 1000
        },
        "outputId": "da20eb20-3a23-48b9-f2aa-8182f1ff8411"
      },
      "source": [
        "print(df_out.groupby('manufacturer', as_index=False)['price'].mean()) \n",
        "plt2 = sns.barplot('manufacturer', 'price', data=df_out, ci=False)"
      ],
      "execution_count": null,
      "outputs": [
        {
          "output_type": "stream",
          "name": "stdout",
          "text": [
            "       manufacturer         price\n",
            "0             acura  21377.195311\n",
            "1        alfa-romeo  30083.987531\n",
            "2      aston-martin  27834.818182\n",
            "3              audi  23988.763170\n",
            "4               bmw  20598.209279\n",
            "5             buick  15650.026534\n",
            "6          cadillac  20871.802164\n",
            "7         chevrolet  19435.804477\n",
            "8          chrysler  11058.143568\n",
            "9             dodge  16297.423030\n",
            "10          ferrari   5263.500000\n",
            "11             fiat  13149.869501\n",
            "12             ford  20217.834425\n",
            "13              gmc  23624.659363\n",
            "14  harley-davidson  13314.218487\n",
            "15            honda  11845.688125\n",
            "16          hyundai  12209.693227\n",
            "17         infiniti  21433.230663\n",
            "18           jaguar  28136.014343\n",
            "19             jeep  20668.692632\n",
            "20              kia  12716.859028\n",
            "21       land rover  11113.300000\n",
            "22            lexus  20675.274374\n",
            "23          lincoln  20421.788508\n",
            "24            mazda  13762.209089\n",
            "25    mercedes-benz  21356.745231\n",
            "26          mercury   4666.857466\n",
            "27             mini  14947.523855\n",
            "28       mitsubishi  15175.996116\n",
            "29           morgan   1400.000000\n",
            "30           nissan  13214.144005\n",
            "31          pontiac   6090.490983\n",
            "32          porsche  27877.463968\n",
            "33              ram  29174.159920\n",
            "34            rover  26487.032124\n",
            "35           saturn   5336.928291\n",
            "36           subaru  14060.465133\n",
            "37            tesla  37644.121170\n",
            "38           toyota  17387.202671\n",
            "39       volkswagen  13828.155148\n",
            "40            volvo  17979.727148\n"
          ]
        },
        {
          "output_type": "stream",
          "name": "stderr",
          "text": [
            "/usr/local/lib/python3.7/dist-packages/seaborn/_decorators.py:43: FutureWarning:\n",
            "\n",
            "Pass the following variables as keyword args: x, y. From version 0.12, the only valid positional argument will be `data`, and passing other arguments without an explicit keyword will result in an error or misinterpretation.\n",
            "\n"
          ]
        },
        {
          "output_type": "display_data",
          "data": {
            "image/png": "[encoded data removed]",
            "text/plain": [
              "<Figure size 432x288 with 1 Axes>"
            ]
          },
          "metadata": {
            "needs_background": "light"
          }
        }
      ]
    },
    {
      "cell_type": "code",
      "metadata": {
        "id": "oH58sVUtLvYc",
        "colab": {
          "base_uri": "https://localhost:8080/"
        },
        "outputId": "22e4ff3d-e8c8-40b3-f54f-4b1d845bef43"
      },
      "source": [
        "print(df_out['price'].max())\n",
        "print(df_out['price'].min())\n",
        "print(df_out['price'].mean())\n",
        "print(df_out['price'].median())"
      ],
      "execution_count": null,
      "outputs": [
        {
          "output_type": "stream",
          "name": "stdout",
          "text": [
            "57990\n",
            "1000\n",
            "18600.380992165003\n",
            "15990.0\n"
          ]
        }
      ]
    },
    {
      "cell_type": "code",
      "metadata": {
        "id": "8pDc2urTeM8S"
      },
      "source": [
        "#drop columns\n",
        "#keep: fuel, transmission(gear), year, odometer, price, manufacturer\n",
        "df_out = df_out.drop(['url','condition_num','region','region_url', 'model','condition','cylinders','title_status','VIN','drive','size','type','paint_color','image_url','description','county','state','lat','long','posting_date'],axis=1)\n",
        "df = df_out"
      ],
      "execution_count": null,
      "outputs": []
    },
    {
      "cell_type": "code",
      "metadata": {
        "id": "orSoUXvrUZEx"
      },
      "source": [
        "#change col names\n",
        "df = df.rename(columns={'transmission': 'gear', 'manufacturer' : 'manufacturer_name'})"
      ],
      "execution_count": null,
      "outputs": []
    },
    {
      "cell_type": "code",
      "metadata": {
        "id": "y-4Zc7Pg-h4b"
      },
      "source": [
        "#add country col\n",
        "df['country'] = 'US'"
      ],
      "execution_count": null,
      "outputs": []
    },
    {
      "cell_type": "code",
      "metadata": {
        "id": "2OjrUJ9ReCdJ",
        "colab": {
          "base_uri": "https://localhost:8080/",
          "height": 235
        },
        "outputId": "2b4841ce-36b7-49f2-f2c3-5018b9300e84"
      },
      "source": [
        "df.head()"
      ],
      "execution_count": null,
      "outputs": [
        {
          "output_type": "execute_result",
          "data": {
            "text/html": [
              "<div>\n",
              "<style scoped>\n",
              "    .dataframe tbody tr th:only-of-type {\n",
              "        vertical-align: middle;\n",
              "    }\n",
              "\n",
              "    .dataframe tbody tr th {\n",
              "        vertical-align: top;\n",
              "    }\n",
              "\n",
              "    .dataframe thead th {\n",
              "        text-align: right;\n",
              "    }\n",
              "</style>\n",
              "<table border=\"1\" class=\"dataframe\">\n",
              "  <thead>\n",
              "    <tr style=\"text-align: right;\">\n",
              "      <th></th>\n",
              "      <th>price</th>\n",
              "      <th>year</th>\n",
              "      <th>manufacturer_name</th>\n",
              "      <th>fuel</th>\n",
              "      <th>odometer</th>\n",
              "      <th>gear</th>\n",
              "      <th>country</th>\n",
              "    </tr>\n",
              "    <tr>\n",
              "      <th>id</th>\n",
              "      <th></th>\n",
              "      <th></th>\n",
              "      <th></th>\n",
              "      <th></th>\n",
              "      <th></th>\n",
              "      <th></th>\n",
              "      <th></th>\n",
              "    </tr>\n",
              "  </thead>\n",
              "  <tbody>\n",
              "    <tr>\n",
              "      <th>7316814884</th>\n",
              "      <td>33590</td>\n",
              "      <td>2014</td>\n",
              "      <td>gmc</td>\n",
              "      <td>gas</td>\n",
              "      <td>57923.0</td>\n",
              "      <td>other</td>\n",
              "      <td>US</td>\n",
              "    </tr>\n",
              "    <tr>\n",
              "      <th>7316814758</th>\n",
              "      <td>22590</td>\n",
              "      <td>2010</td>\n",
              "      <td>chevrolet</td>\n",
              "      <td>gas</td>\n",
              "      <td>71229.0</td>\n",
              "      <td>other</td>\n",
              "      <td>US</td>\n",
              "    </tr>\n",
              "    <tr>\n",
              "      <th>7316814989</th>\n",
              "      <td>39590</td>\n",
              "      <td>2020</td>\n",
              "      <td>chevrolet</td>\n",
              "      <td>gas</td>\n",
              "      <td>19160.0</td>\n",
              "      <td>other</td>\n",
              "      <td>US</td>\n",
              "    </tr>\n",
              "    <tr>\n",
              "      <th>7316743432</th>\n",
              "      <td>30990</td>\n",
              "      <td>2017</td>\n",
              "      <td>toyota</td>\n",
              "      <td>gas</td>\n",
              "      <td>41124.0</td>\n",
              "      <td>other</td>\n",
              "      <td>US</td>\n",
              "    </tr>\n",
              "    <tr>\n",
              "      <th>7316356412</th>\n",
              "      <td>15000</td>\n",
              "      <td>2013</td>\n",
              "      <td>ford</td>\n",
              "      <td>gas</td>\n",
              "      <td>128000.0</td>\n",
              "      <td>automatic</td>\n",
              "      <td>US</td>\n",
              "    </tr>\n",
              "  </tbody>\n",
              "</table>\n",
              "</div>"
            ],
            "text/plain": [
              "            price  year manufacturer_name fuel  odometer       gear country\n",
              "id                                                                         \n",
              "7316814884  33590  2014               gmc  gas   57923.0      other      US\n",
              "7316814758  22590  2010         chevrolet  gas   71229.0      other      US\n",
              "7316814989  39590  2020         chevrolet  gas   19160.0      other      US\n",
              "7316743432  30990  2017            toyota  gas   41124.0      other      US\n",
              "7316356412  15000  2013              ford  gas  128000.0  automatic      US"
            ]
          },
          "metadata": {},
          "execution_count": 94
        }
      ]
    },
    {
      "cell_type": "code",
      "metadata": {
        "id": "uMCp06k0YLIc",
        "colab": {
          "base_uri": "https://localhost:8080/"
        },
        "outputId": "55cad1c7-5e45-488c-e007-55f7378d3101"
      },
      "source": [
        "#miles to KM\n",
        "df['odometer'].head()"
      ],
      "execution_count": null,
      "outputs": [
        {
          "output_type": "execute_result",
          "data": {
            "text/plain": [
              "id\n",
              "7316814884     57923.0\n",
              "7316814758     71229.0\n",
              "7316814989     19160.0\n",
              "7316743432     41124.0\n",
              "7316356412    128000.0\n",
              "Name: odometer, dtype: float64"
            ]
          },
          "metadata": {},
          "execution_count": 95
        }
      ]
    },
    {
      "cell_type": "code",
      "metadata": {
        "id": "rWYZmm7Pgo15",
        "colab": {
          "base_uri": "https://localhost:8080/"
        },
        "outputId": "ff8a4468-aa4b-4a76-c53c-938e51381b8b"
      },
      "source": [
        "df = df[~(df.odometer > 500000)]\n",
        "df.shape"
      ],
      "execution_count": null,
      "outputs": [
        {
          "output_type": "execute_result",
          "data": {
            "text/plain": [
              "(348309, 7)"
            ]
          },
          "metadata": {},
          "execution_count": 96
        }
      ]
    },
    {
      "cell_type": "code",
      "metadata": {
        "id": "uOvUsOvegvoM",
        "colab": {
          "base_uri": "https://localhost:8080/"
        },
        "outputId": "0e45b86a-d337-470e-c899-47766e236c2d"
      },
      "source": [
        "df['odometer'].head()"
      ],
      "execution_count": null,
      "outputs": [
        {
          "output_type": "execute_result",
          "data": {
            "text/plain": [
              "id\n",
              "7316814884     57923.0\n",
              "7316814758     71229.0\n",
              "7316814989     19160.0\n",
              "7316743432     41124.0\n",
              "7316356412    128000.0\n",
              "Name: odometer, dtype: float64"
            ]
          },
          "metadata": {},
          "execution_count": 97
        }
      ]
    },
    {
      "cell_type": "code",
      "metadata": {
        "colab": {
          "base_uri": "https://localhost:8080/"
        },
        "id": "8GealQ5WdwRg",
        "outputId": "d6122280-442e-4968-cebe-9262a854bf2f"
      },
      "source": [
        "df['odometer'] = df['odometer'] * 1.60934\n",
        "df['odometer'].head()"
      ],
      "execution_count": null,
      "outputs": [
        {
          "output_type": "execute_result",
          "data": {
            "text/plain": [
              "id\n",
              "7316814884     93217.80082\n",
              "7316814758    114631.67886\n",
              "7316814989     30834.95440\n",
              "7316743432     66182.49816\n",
              "7316356412    205995.52000\n",
              "Name: odometer, dtype: float64"
            ]
          },
          "metadata": {},
          "execution_count": 98
        }
      ]
    },
    {
      "cell_type": "code",
      "metadata": {
        "id": "Jo8LUpGyqVVH",
        "colab": {
          "base_uri": "https://localhost:8080/"
        },
        "outputId": "4cf352c4-7cc7-4732-9586-00f13951583e"
      },
      "source": [
        "#get info\n",
        "df.info()"
      ],
      "execution_count": null,
      "outputs": [
        {
          "output_type": "stream",
          "name": "stdout",
          "text": [
            "<class 'pandas.core.frame.DataFrame'>\n",
            "Int64Index: 348309 entries, 7316814884 to 7301591129\n",
            "Data columns (total 7 columns):\n",
            " #   Column             Non-Null Count   Dtype  \n",
            "---  ------             --------------   -----  \n",
            " 0   price              348309 non-null  int64  \n",
            " 1   year               347425 non-null  Int64  \n",
            " 2   manufacturer_name  337188 non-null  object \n",
            " 3   fuel               345980 non-null  object \n",
            " 4   odometer           346407 non-null  float64\n",
            " 5   gear               346729 non-null  object \n",
            " 6   country            348309 non-null  object \n",
            "dtypes: Int64(1), float64(1), int64(1), object(4)\n",
            "memory usage: 21.6+ MB\n"
          ]
        }
      ]
    },
    {
      "cell_type": "code",
      "metadata": {
        "id": "j5SvyXJay4Vp",
        "colab": {
          "base_uri": "https://localhost:8080/"
        },
        "outputId": "8e0aa459-7e4d-4aec-b5d7-89c9ed60d96a"
      },
      "source": [
        "df['gear'].unique()"
      ],
      "execution_count": null,
      "outputs": [
        {
          "output_type": "execute_result",
          "data": {
            "text/plain": [
              "array(['other', 'automatic', 'manual', nan], dtype=object)"
            ]
          },
          "metadata": {},
          "execution_count": 100
        }
      ]
    },
    {
      "cell_type": "code",
      "metadata": {
        "id": "cHSdSsy9y-s6",
        "colab": {
          "base_uri": "https://localhost:8080/"
        },
        "outputId": "00f8079d-6aba-45e5-93fc-b77affafc5b7"
      },
      "source": [
        "df['fuel'].unique()"
      ],
      "execution_count": null,
      "outputs": [
        {
          "output_type": "execute_result",
          "data": {
            "text/plain": [
              "array(['gas', 'other', 'diesel', 'hybrid', nan, 'electric'], dtype=object)"
            ]
          },
          "metadata": {},
          "execution_count": 101
        }
      ]
    },
    {
      "cell_type": "code",
      "metadata": {
        "id": "U3h82OU5AlRq",
        "colab": {
          "base_uri": "https://localhost:8080/"
        },
        "outputId": "d23575a4-d01e-4e9c-86d5-e8ff97ee58b1"
      },
      "source": [
        "df['manufacturer_name'] = df['manufacturer_name'].str.lower()\n",
        "df['manufacturer_name'].unique()"
      ],
      "execution_count": null,
      "outputs": [
        {
          "output_type": "execute_result",
          "data": {
            "text/plain": [
              "array(['gmc', 'chevrolet', 'toyota', 'ford', 'jeep', 'nissan', 'ram',\n",
              "       'mazda', 'cadillac', 'honda', 'dodge', 'lexus', 'jaguar', 'buick',\n",
              "       'chrysler', 'volvo', 'audi', 'infiniti', 'lincoln', 'alfa-romeo',\n",
              "       'subaru', nan, 'acura', 'hyundai', 'mercedes-benz', 'bmw',\n",
              "       'mitsubishi', 'volkswagen', 'porsche', 'kia', 'rover', 'mini',\n",
              "       'pontiac', 'fiat', 'tesla', 'saturn', 'mercury', 'harley-davidson',\n",
              "       'aston-martin', 'land rover', 'morgan', 'ferrari'], dtype=object)"
            ]
          },
          "metadata": {},
          "execution_count": 102
        }
      ]
    },
    {
      "cell_type": "code",
      "metadata": {
        "id": "OGaLU4GgXluC"
      },
      "source": [
        "#drop nan\n",
        "df = df.dropna()"
      ],
      "execution_count": null,
      "outputs": []
    },
    {
      "cell_type": "code",
      "metadata": {
        "colab": {
          "base_uri": "https://localhost:8080/"
        },
        "id": "bBWrKHmmhYE6",
        "outputId": "51a46501-950c-4a95-e197-605674282a54"
      },
      "source": [
        "#get info\n",
        "df.info()"
      ],
      "execution_count": null,
      "outputs": [
        {
          "output_type": "stream",
          "name": "stdout",
          "text": [
            "<class 'pandas.core.frame.DataFrame'>\n",
            "Int64Index: 332279 entries, 7316814884 to 7301591129\n",
            "Data columns (total 7 columns):\n",
            " #   Column             Non-Null Count   Dtype  \n",
            "---  ------             --------------   -----  \n",
            " 0   price              332279 non-null  int64  \n",
            " 1   year               332279 non-null  Int64  \n",
            " 2   manufacturer_name  332279 non-null  object \n",
            " 3   fuel               332279 non-null  object \n",
            " 4   odometer           332279 non-null  float64\n",
            " 5   gear               332279 non-null  object \n",
            " 6   country            332279 non-null  object \n",
            "dtypes: Int64(1), float64(1), int64(1), object(4)\n",
            "memory usage: 20.6+ MB\n"
          ]
        }
      ]
    },
    {
      "cell_type": "code",
      "metadata": {
        "id": "fTUl1rTH2kg1"
      },
      "source": [
        "#corr matrix\n",
        "#print(df.corr())\n",
        "#corr_matrix = df.corr()\n",
        "#sns.heatmap(corr_matrix, annot=True)\n",
        "#plt.show()"
      ],
      "execution_count": null,
      "outputs": []
    },
    {
      "cell_type": "code",
      "metadata": {
        "id": "r9z9_WEm-sEz"
      },
      "source": [
        "#corr p-value check\n",
        "#pearsonr(df['year'], df['condition_num'])"
      ],
      "execution_count": null,
      "outputs": []
    },
    {
      "cell_type": "code",
      "metadata": {
        "id": "ELeZuJNW9xGL"
      },
      "source": [
        "#corr p-value\n",
        "#from scipy.stats import pearsonr\n",
        "#def calculate_pvalues(df):\n",
        "    #df = df.dropna()._get_numeric_data()\n",
        "    #dfcols = pd.DataFrame(columns=df.columns)\n",
        "    #pvalues = dfcols.transpose().join(dfcols, how='outer')\n",
        "    #for r in df.columns:\n",
        "        #for c in df.columns:\n",
        "            #pvalues[r][c] = round(pearsonr(df[r], df[c])[1], 4)\n",
        "    #return pvalues\n",
        "#calculate_pvalues(df)"
      ],
      "execution_count": null,
      "outputs": []
    },
    {
      "cell_type": "code",
      "metadata": {
        "colab": {
          "base_uri": "https://localhost:8080/"
        },
        "id": "pW2o2hOlcQdp",
        "outputId": "7f4f45eb-950b-43f3-c80e-7f1346b9aadc"
      },
      "source": [
        "print(df['price'].max())\n",
        "print(df['price'].min())\n",
        "print(df['price'].mean())\n",
        "print(df['price'].median())"
      ],
      "execution_count": null,
      "outputs": [
        {
          "output_type": "stream",
          "name": "stdout",
          "text": [
            "57990\n",
            "1000\n",
            "18605.937350840708\n",
            "15990.0\n"
          ]
        }
      ]
    },
    {
      "cell_type": "code",
      "metadata": {
        "colab": {
          "base_uri": "https://localhost:8080/"
        },
        "id": "2EPIlLRRitOp",
        "outputId": "8055f8e1-2d9e-4d98-8b3a-996040990149"
      },
      "source": [
        "print(df['odometer'].max())\n",
        "print(df['odometer'].min())\n",
        "print(df['odometer'].mean())\n",
        "print(df['odometer'].median())"
      ],
      "execution_count": null,
      "outputs": [
        {
          "output_type": "stream",
          "name": "stdout",
          "text": [
            "454879.951\n",
            "1001.0094799999999\n",
            "152216.9484744739\n",
            "146449.94\n"
          ]
        }
      ]
    },
    {
      "cell_type": "code",
      "metadata": {
        "colab": {
          "base_uri": "https://localhost:8080/"
        },
        "id": "uZihXPN4da6b",
        "outputId": "e09cd310-0624-4efa-a24c-8b616e10160f"
      },
      "source": [
        "df.shape"
      ],
      "execution_count": null,
      "outputs": [
        {
          "output_type": "execute_result",
          "data": {
            "text/plain": [
              "(332279, 7)"
            ]
          },
          "metadata": {},
          "execution_count": 111
        }
      ]
    },
    {
      "cell_type": "code",
      "metadata": {
        "id": "V9RE790tMv_G"
      },
      "source": [
        "df.to_csv(r'/content/drive/MyDrive/Colab Notebooks/data/vehicles_clean.csv', index = False)"
      ],
      "execution_count": null,
      "outputs": []
    }
  ]
}