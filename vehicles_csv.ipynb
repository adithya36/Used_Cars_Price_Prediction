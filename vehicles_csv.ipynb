{
  "nbformat": 4,
  "nbformat_minor": 0,
  "metadata": {
    "colab": {
      "name": "vehicles.csv.ipynb",
      "provenance": [],
      "collapsed_sections": [],
      "authorship_tag": "ABX9TyPRVToQQyVikj5i9WobEtu0",
      "include_colab_link": true
    },
    "kernelspec": {
      "display_name": "Python 3",
      "name": "python3"
    },
    "language_info": {
      "name": "python"
    }
  },
  "cells": [
    {
      "cell_type": "markdown",
      "metadata": {
        "id": "view-in-github",
        "colab_type": "text"
      },
      "source": [
        "<a href=\"https://colab.research.google.com/github/adithya36/Used_Cars_Price_Prediction/blob/main/vehicles_csv.ipynb\" target=\"_parent\"><img src=\"https://colab.research.google.com/assets/colab-badge.svg\" alt=\"Open In Colab\"/></a>"
      ]
    },
    {
      "cell_type": "markdown",
      "metadata": {
        "id": "zffwJh0ENnaR"
      },
      "source": [
        "# Import\n",
        "*   libraries\n",
        "*   drive\n",
        "*   df"
      ]
    },
    {
      "cell_type": "code",
      "metadata": {
        "colab": {
          "base_uri": "https://localhost:8080/"
        },
        "id": "jwLs3TgoN-r0",
        "outputId": "d849d8f7-3ffa-420d-812a-bfd30ebbaa58"
      },
      "source": [
        "#import package\n",
        "import pandas as pd\n",
        "import numpy as np\n",
        "import seaborn as sns\n",
        "\n",
        "!pip install fuzzywuzzy[speedup]\n",
        "from fuzzywuzzy import fuzz\n",
        "from fuzzywuzzy import process"
      ],
      "execution_count": null,
      "outputs": [
        {
          "output_type": "stream",
          "text": [
            "Requirement already satisfied: fuzzywuzzy[speedup] in /usr/local/lib/python3.7/dist-packages (0.18.0)\n",
            "Requirement already satisfied: python-levenshtein>=0.12 in /usr/local/lib/python3.7/dist-packages (from fuzzywuzzy[speedup]) (0.12.2)\n",
            "Requirement already satisfied: setuptools in /usr/local/lib/python3.7/dist-packages (from python-levenshtein>=0.12->fuzzywuzzy[speedup]) (57.4.0)\n"
          ],
          "name": "stdout"
        }
      ]
    },
    {
      "cell_type": "code",
      "metadata": {
        "colab": {
          "base_uri": "https://localhost:8080/"
        },
        "id": "vgbQLiqu7wuM",
        "outputId": "759f877f-eb5d-4595-fd8f-aaeb2ea1c550"
      },
      "source": [
        "import matplotlib.pyplot as plt\n",
        "!pip install plotly\n",
        "!pip install cufflinks\n",
        "import plotly.express as px\n",
        "import tqdm\n",
        "from tqdm._tqdm_notebook import tqdm_notebook"
      ],
      "execution_count": null,
      "outputs": [
        {
          "output_type": "stream",
          "text": [
            "Requirement already satisfied: plotly in /usr/local/lib/python3.7/dist-packages (4.4.1)\n",
            "Requirement already satisfied: retrying>=1.3.3 in /usr/local/lib/python3.7/dist-packages (from plotly) (1.3.3)\n",
            "Requirement already satisfied: six in /usr/local/lib/python3.7/dist-packages (from plotly) (1.15.0)\n",
            "Requirement already satisfied: cufflinks in /usr/local/lib/python3.7/dist-packages (0.17.3)\n",
            "Requirement already satisfied: plotly>=4.1.1 in /usr/local/lib/python3.7/dist-packages (from cufflinks) (4.4.1)\n",
            "Requirement already satisfied: six>=1.9.0 in /usr/local/lib/python3.7/dist-packages (from cufflinks) (1.15.0)\n",
            "Requirement already satisfied: colorlover>=0.2.1 in /usr/local/lib/python3.7/dist-packages (from cufflinks) (0.3.0)\n",
            "Requirement already satisfied: numpy>=1.9.2 in /usr/local/lib/python3.7/dist-packages (from cufflinks) (1.19.5)\n",
            "Requirement already satisfied: pandas>=0.19.2 in /usr/local/lib/python3.7/dist-packages (from cufflinks) (1.1.5)\n",
            "Requirement already satisfied: ipython>=5.3.0 in /usr/local/lib/python3.7/dist-packages (from cufflinks) (5.5.0)\n",
            "Requirement already satisfied: ipywidgets>=7.0.0 in /usr/local/lib/python3.7/dist-packages (from cufflinks) (7.6.3)\n",
            "Requirement already satisfied: setuptools>=34.4.1 in /usr/local/lib/python3.7/dist-packages (from cufflinks) (57.4.0)\n",
            "Requirement already satisfied: simplegeneric>0.8 in /usr/local/lib/python3.7/dist-packages (from ipython>=5.3.0->cufflinks) (0.8.1)\n",
            "Requirement already satisfied: pexpect in /usr/local/lib/python3.7/dist-packages (from ipython>=5.3.0->cufflinks) (4.8.0)\n",
            "Requirement already satisfied: traitlets>=4.2 in /usr/local/lib/python3.7/dist-packages (from ipython>=5.3.0->cufflinks) (5.0.5)\n",
            "Requirement already satisfied: pygments in /usr/local/lib/python3.7/dist-packages (from ipython>=5.3.0->cufflinks) (2.6.1)\n",
            "Requirement already satisfied: decorator in /usr/local/lib/python3.7/dist-packages (from ipython>=5.3.0->cufflinks) (4.4.2)\n",
            "Requirement already satisfied: prompt-toolkit<2.0.0,>=1.0.4 in /usr/local/lib/python3.7/dist-packages (from ipython>=5.3.0->cufflinks) (1.0.18)\n",
            "Requirement already satisfied: pickleshare in /usr/local/lib/python3.7/dist-packages (from ipython>=5.3.0->cufflinks) (0.7.5)\n",
            "Requirement already satisfied: widgetsnbextension~=3.5.0 in /usr/local/lib/python3.7/dist-packages (from ipywidgets>=7.0.0->cufflinks) (3.5.1)\n",
            "Requirement already satisfied: jupyterlab-widgets>=1.0.0 in /usr/local/lib/python3.7/dist-packages (from ipywidgets>=7.0.0->cufflinks) (1.0.0)\n",
            "Requirement already satisfied: nbformat>=4.2.0 in /usr/local/lib/python3.7/dist-packages (from ipywidgets>=7.0.0->cufflinks) (5.1.3)\n",
            "Requirement already satisfied: ipykernel>=4.5.1 in /usr/local/lib/python3.7/dist-packages (from ipywidgets>=7.0.0->cufflinks) (4.10.1)\n",
            "Requirement already satisfied: tornado>=4.0 in /usr/local/lib/python3.7/dist-packages (from ipykernel>=4.5.1->ipywidgets>=7.0.0->cufflinks) (5.1.1)\n",
            "Requirement already satisfied: jupyter-client in /usr/local/lib/python3.7/dist-packages (from ipykernel>=4.5.1->ipywidgets>=7.0.0->cufflinks) (5.3.5)\n",
            "Requirement already satisfied: jsonschema!=2.5.0,>=2.4 in /usr/local/lib/python3.7/dist-packages (from nbformat>=4.2.0->ipywidgets>=7.0.0->cufflinks) (2.6.0)\n",
            "Requirement already satisfied: ipython-genutils in /usr/local/lib/python3.7/dist-packages (from nbformat>=4.2.0->ipywidgets>=7.0.0->cufflinks) (0.2.0)\n",
            "Requirement already satisfied: jupyter-core in /usr/local/lib/python3.7/dist-packages (from nbformat>=4.2.0->ipywidgets>=7.0.0->cufflinks) (4.7.1)\n",
            "Requirement already satisfied: python-dateutil>=2.7.3 in /usr/local/lib/python3.7/dist-packages (from pandas>=0.19.2->cufflinks) (2.8.2)\n",
            "Requirement already satisfied: pytz>=2017.2 in /usr/local/lib/python3.7/dist-packages (from pandas>=0.19.2->cufflinks) (2018.9)\n",
            "Requirement already satisfied: retrying>=1.3.3 in /usr/local/lib/python3.7/dist-packages (from plotly>=4.1.1->cufflinks) (1.3.3)\n",
            "Requirement already satisfied: wcwidth in /usr/local/lib/python3.7/dist-packages (from prompt-toolkit<2.0.0,>=1.0.4->ipython>=5.3.0->cufflinks) (0.2.5)\n",
            "Requirement already satisfied: notebook>=4.4.1 in /usr/local/lib/python3.7/dist-packages (from widgetsnbextension~=3.5.0->ipywidgets>=7.0.0->cufflinks) (5.3.1)\n",
            "Requirement already satisfied: nbconvert in /usr/local/lib/python3.7/dist-packages (from notebook>=4.4.1->widgetsnbextension~=3.5.0->ipywidgets>=7.0.0->cufflinks) (5.6.1)\n",
            "Requirement already satisfied: Send2Trash in /usr/local/lib/python3.7/dist-packages (from notebook>=4.4.1->widgetsnbextension~=3.5.0->ipywidgets>=7.0.0->cufflinks) (1.8.0)\n",
            "Requirement already satisfied: jinja2 in /usr/local/lib/python3.7/dist-packages (from notebook>=4.4.1->widgetsnbextension~=3.5.0->ipywidgets>=7.0.0->cufflinks) (2.11.3)\n",
            "Requirement already satisfied: terminado>=0.8.1 in /usr/local/lib/python3.7/dist-packages (from notebook>=4.4.1->widgetsnbextension~=3.5.0->ipywidgets>=7.0.0->cufflinks) (0.11.0)\n",
            "Requirement already satisfied: pyzmq>=13 in /usr/local/lib/python3.7/dist-packages (from jupyter-client->ipykernel>=4.5.1->ipywidgets>=7.0.0->cufflinks) (22.2.1)\n",
            "Requirement already satisfied: ptyprocess in /usr/local/lib/python3.7/dist-packages (from terminado>=0.8.1->notebook>=4.4.1->widgetsnbextension~=3.5.0->ipywidgets>=7.0.0->cufflinks) (0.7.0)\n",
            "Requirement already satisfied: MarkupSafe>=0.23 in /usr/local/lib/python3.7/dist-packages (from jinja2->notebook>=4.4.1->widgetsnbextension~=3.5.0->ipywidgets>=7.0.0->cufflinks) (2.0.1)\n",
            "Requirement already satisfied: entrypoints>=0.2.2 in /usr/local/lib/python3.7/dist-packages (from nbconvert->notebook>=4.4.1->widgetsnbextension~=3.5.0->ipywidgets>=7.0.0->cufflinks) (0.3)\n",
            "Requirement already satisfied: defusedxml in /usr/local/lib/python3.7/dist-packages (from nbconvert->notebook>=4.4.1->widgetsnbextension~=3.5.0->ipywidgets>=7.0.0->cufflinks) (0.7.1)\n",
            "Requirement already satisfied: pandocfilters>=1.4.1 in /usr/local/lib/python3.7/dist-packages (from nbconvert->notebook>=4.4.1->widgetsnbextension~=3.5.0->ipywidgets>=7.0.0->cufflinks) (1.4.3)\n",
            "Requirement already satisfied: mistune<2,>=0.8.1 in /usr/local/lib/python3.7/dist-packages (from nbconvert->notebook>=4.4.1->widgetsnbextension~=3.5.0->ipywidgets>=7.0.0->cufflinks) (0.8.4)\n",
            "Requirement already satisfied: testpath in /usr/local/lib/python3.7/dist-packages (from nbconvert->notebook>=4.4.1->widgetsnbextension~=3.5.0->ipywidgets>=7.0.0->cufflinks) (0.5.0)\n",
            "Requirement already satisfied: bleach in /usr/local/lib/python3.7/dist-packages (from nbconvert->notebook>=4.4.1->widgetsnbextension~=3.5.0->ipywidgets>=7.0.0->cufflinks) (4.0.0)\n",
            "Requirement already satisfied: packaging in /usr/local/lib/python3.7/dist-packages (from bleach->nbconvert->notebook>=4.4.1->widgetsnbextension~=3.5.0->ipywidgets>=7.0.0->cufflinks) (21.0)\n",
            "Requirement already satisfied: webencodings in /usr/local/lib/python3.7/dist-packages (from bleach->nbconvert->notebook>=4.4.1->widgetsnbextension~=3.5.0->ipywidgets>=7.0.0->cufflinks) (0.5.1)\n",
            "Requirement already satisfied: pyparsing>=2.0.2 in /usr/local/lib/python3.7/dist-packages (from packaging->bleach->nbconvert->notebook>=4.4.1->widgetsnbextension~=3.5.0->ipywidgets>=7.0.0->cufflinks) (2.4.7)\n"
          ],
          "name": "stdout"
        },
        {
          "output_type": "stream",
          "text": [
            "/usr/local/lib/python3.7/dist-packages/ipykernel_launcher.py:6: TqdmDeprecationWarning:\n",
            "\n",
            "This function will be removed in tqdm==5.0.0\n",
            "Please use `tqdm.notebook.*` instead of `tqdm._tqdm_notebook.*`\n",
            "\n"
          ],
          "name": "stderr"
        }
      ]
    },
    {
      "cell_type": "code",
      "metadata": {
        "colab": {
          "base_uri": "https://localhost:8080/"
        },
        "id": "P7bHoMsW76lk",
        "outputId": "3ac8e909-d624-42d2-a59f-289a9e22a2b6"
      },
      "source": [
        "!pip install geopandas\n",
        "import geopy\n",
        "from geopy.geocoders import Nominatim\n",
        "from geopy.extra.rate_limiter import RateLimiter"
      ],
      "execution_count": null,
      "outputs": [
        {
          "output_type": "stream",
          "text": [
            "Requirement already satisfied: geopandas in /usr/local/lib/python3.7/dist-packages (0.9.0)\n",
            "Requirement already satisfied: pandas>=0.24.0 in /usr/local/lib/python3.7/dist-packages (from geopandas) (1.1.5)\n",
            "Requirement already satisfied: shapely>=1.6 in /usr/local/lib/python3.7/dist-packages (from geopandas) (1.7.1)\n",
            "Requirement already satisfied: fiona>=1.8 in /usr/local/lib/python3.7/dist-packages (from geopandas) (1.8.20)\n",
            "Requirement already satisfied: pyproj>=2.2.0 in /usr/local/lib/python3.7/dist-packages (from geopandas) (3.1.0)\n",
            "Requirement already satisfied: click-plugins>=1.0 in /usr/local/lib/python3.7/dist-packages (from fiona>=1.8->geopandas) (1.1.1)\n",
            "Requirement already satisfied: six>=1.7 in /usr/local/lib/python3.7/dist-packages (from fiona>=1.8->geopandas) (1.15.0)\n",
            "Requirement already satisfied: click>=4.0 in /usr/local/lib/python3.7/dist-packages (from fiona>=1.8->geopandas) (7.1.2)\n",
            "Requirement already satisfied: cligj>=0.5 in /usr/local/lib/python3.7/dist-packages (from fiona>=1.8->geopandas) (0.7.2)\n",
            "Requirement already satisfied: attrs>=17 in /usr/local/lib/python3.7/dist-packages (from fiona>=1.8->geopandas) (21.2.0)\n",
            "Requirement already satisfied: munch in /usr/local/lib/python3.7/dist-packages (from fiona>=1.8->geopandas) (2.5.0)\n",
            "Requirement already satisfied: certifi in /usr/local/lib/python3.7/dist-packages (from fiona>=1.8->geopandas) (2021.5.30)\n",
            "Requirement already satisfied: setuptools in /usr/local/lib/python3.7/dist-packages (from fiona>=1.8->geopandas) (57.4.0)\n",
            "Requirement already satisfied: pytz>=2017.2 in /usr/local/lib/python3.7/dist-packages (from pandas>=0.24.0->geopandas) (2018.9)\n",
            "Requirement already satisfied: numpy>=1.15.4 in /usr/local/lib/python3.7/dist-packages (from pandas>=0.24.0->geopandas) (1.19.5)\n",
            "Requirement already satisfied: python-dateutil>=2.7.3 in /usr/local/lib/python3.7/dist-packages (from pandas>=0.24.0->geopandas) (2.8.2)\n"
          ],
          "name": "stdout"
        }
      ]
    },
    {
      "cell_type": "code",
      "metadata": {
        "colab": {
          "base_uri": "https://localhost:8080/"
        },
        "id": "hfFzIQD-TWTr",
        "outputId": "058f5273-1258-40a8-bb6a-6b6242c41c0d"
      },
      "source": [
        "#import drive\n",
        "from google.colab import drive\n",
        "drive.mount('/content/drive')"
      ],
      "execution_count": null,
      "outputs": [
        {
          "output_type": "stream",
          "text": [
            "Drive already mounted at /content/drive; to attempt to forcibly remount, call drive.mount(\"/content/drive\", force_remount=True).\n"
          ],
          "name": "stdout"
        }
      ]
    },
    {
      "cell_type": "code",
      "metadata": {
        "id": "qwts1tZQR1tU"
      },
      "source": [
        "#df = pd.read_csv(\"filepath_or_buffer\", index_col=None)\n",
        "df1 = pd.read_csv(\"/content/drive/MyDrive/Colab Notebooks/data/vehicles.csv\", index_col=0)\n",
        "#df2 = pd.read_csv(\"/content/drive/MyDrive/Colab Notebooks/data/cars.csv\", index_col=0)"
      ],
      "execution_count": null,
      "outputs": []
    },
    {
      "cell_type": "markdown",
      "metadata": {
        "id": "qEEFdA7LegN8"
      },
      "source": [
        "# df1: **vehicles.csv**\n",
        "*   describe\n",
        "*   clean\n",
        "\n",
        "\n",
        "\n"
      ]
    },
    {
      "cell_type": "code",
      "metadata": {
        "id": "Jl2EqzIpe3mn"
      },
      "source": [
        "df = df1"
      ],
      "execution_count": null,
      "outputs": []
    },
    {
      "cell_type": "code",
      "metadata": {
        "colab": {
          "base_uri": "https://localhost:8080/"
        },
        "id": "MD1mVdjajS_l",
        "outputId": "3fe6b86d-d510-441f-860b-77c562415698"
      },
      "source": [
        "#get number of rows & cols\n",
        "df.shape"
      ],
      "execution_count": null,
      "outputs": [
        {
          "output_type": "execute_result",
          "data": {
            "text/plain": [
              "(426880, 25)"
            ]
          },
          "metadata": {},
          "execution_count": 7
        }
      ]
    },
    {
      "cell_type": "code",
      "metadata": {
        "colab": {
          "base_uri": "https://localhost:8080/"
        },
        "id": "-AM_fAzzkJbB",
        "outputId": "86df0ea3-45d1-43fe-b11f-144093f3e72d"
      },
      "source": [
        "#get number of elements\n",
        "df.size"
      ],
      "execution_count": null,
      "outputs": [
        {
          "output_type": "execute_result",
          "data": {
            "text/plain": [
              "10672000"
            ]
          },
          "metadata": {},
          "execution_count": 8
        }
      ]
    },
    {
      "cell_type": "code",
      "metadata": {
        "colab": {
          "base_uri": "https://localhost:8080/",
          "height": 289
        },
        "id": "lLcnRPWlksVd",
        "outputId": "c15b762b-3f0c-41e8-a231-18c3f0787efd"
      },
      "source": [
        "#get head\n",
        "df.head(n=5)"
      ],
      "execution_count": null,
      "outputs": [
        {
          "output_type": "execute_result",
          "data": {
            "text/html": [
              "<div>\n",
              "<style scoped>\n",
              "    .dataframe tbody tr th:only-of-type {\n",
              "        vertical-align: middle;\n",
              "    }\n",
              "\n",
              "    .dataframe tbody tr th {\n",
              "        vertical-align: top;\n",
              "    }\n",
              "\n",
              "    .dataframe thead th {\n",
              "        text-align: right;\n",
              "    }\n",
              "</style>\n",
              "<table border=\"1\" class=\"dataframe\">\n",
              "  <thead>\n",
              "    <tr style=\"text-align: right;\">\n",
              "      <th></th>\n",
              "      <th>url</th>\n",
              "      <th>region</th>\n",
              "      <th>region_url</th>\n",
              "      <th>price</th>\n",
              "      <th>year</th>\n",
              "      <th>manufacturer</th>\n",
              "      <th>model</th>\n",
              "      <th>condition</th>\n",
              "      <th>cylinders</th>\n",
              "      <th>fuel</th>\n",
              "      <th>odometer</th>\n",
              "      <th>title_status</th>\n",
              "      <th>transmission</th>\n",
              "      <th>VIN</th>\n",
              "      <th>drive</th>\n",
              "      <th>size</th>\n",
              "      <th>type</th>\n",
              "      <th>paint_color</th>\n",
              "      <th>image_url</th>\n",
              "      <th>description</th>\n",
              "      <th>county</th>\n",
              "      <th>state</th>\n",
              "      <th>lat</th>\n",
              "      <th>long</th>\n",
              "      <th>posting_date</th>\n",
              "    </tr>\n",
              "    <tr>\n",
              "      <th>id</th>\n",
              "      <th></th>\n",
              "      <th></th>\n",
              "      <th></th>\n",
              "      <th></th>\n",
              "      <th></th>\n",
              "      <th></th>\n",
              "      <th></th>\n",
              "      <th></th>\n",
              "      <th></th>\n",
              "      <th></th>\n",
              "      <th></th>\n",
              "      <th></th>\n",
              "      <th></th>\n",
              "      <th></th>\n",
              "      <th></th>\n",
              "      <th></th>\n",
              "      <th></th>\n",
              "      <th></th>\n",
              "      <th></th>\n",
              "      <th></th>\n",
              "      <th></th>\n",
              "      <th></th>\n",
              "      <th></th>\n",
              "      <th></th>\n",
              "      <th></th>\n",
              "    </tr>\n",
              "  </thead>\n",
              "  <tbody>\n",
              "    <tr>\n",
              "      <th>7222695916</th>\n",
              "      <td>https://prescott.craigslist.org/cto/d/prescott...</td>\n",
              "      <td>prescott</td>\n",
              "      <td>https://prescott.craigslist.org</td>\n",
              "      <td>6000</td>\n",
              "      <td>NaN</td>\n",
              "      <td>NaN</td>\n",
              "      <td>NaN</td>\n",
              "      <td>NaN</td>\n",
              "      <td>NaN</td>\n",
              "      <td>NaN</td>\n",
              "      <td>NaN</td>\n",
              "      <td>NaN</td>\n",
              "      <td>NaN</td>\n",
              "      <td>NaN</td>\n",
              "      <td>NaN</td>\n",
              "      <td>NaN</td>\n",
              "      <td>NaN</td>\n",
              "      <td>NaN</td>\n",
              "      <td>NaN</td>\n",
              "      <td>NaN</td>\n",
              "      <td>NaN</td>\n",
              "      <td>az</td>\n",
              "      <td>NaN</td>\n",
              "      <td>NaN</td>\n",
              "      <td>NaN</td>\n",
              "    </tr>\n",
              "    <tr>\n",
              "      <th>7218891961</th>\n",
              "      <td>https://fayar.craigslist.org/ctd/d/bentonville...</td>\n",
              "      <td>fayetteville</td>\n",
              "      <td>https://fayar.craigslist.org</td>\n",
              "      <td>11900</td>\n",
              "      <td>NaN</td>\n",
              "      <td>NaN</td>\n",
              "      <td>NaN</td>\n",
              "      <td>NaN</td>\n",
              "      <td>NaN</td>\n",
              "      <td>NaN</td>\n",
              "      <td>NaN</td>\n",
              "      <td>NaN</td>\n",
              "      <td>NaN</td>\n",
              "      <td>NaN</td>\n",
              "      <td>NaN</td>\n",
              "      <td>NaN</td>\n",
              "      <td>NaN</td>\n",
              "      <td>NaN</td>\n",
              "      <td>NaN</td>\n",
              "      <td>NaN</td>\n",
              "      <td>NaN</td>\n",
              "      <td>ar</td>\n",
              "      <td>NaN</td>\n",
              "      <td>NaN</td>\n",
              "      <td>NaN</td>\n",
              "    </tr>\n",
              "    <tr>\n",
              "      <th>7221797935</th>\n",
              "      <td>https://keys.craigslist.org/cto/d/summerland-k...</td>\n",
              "      <td>florida keys</td>\n",
              "      <td>https://keys.craigslist.org</td>\n",
              "      <td>21000</td>\n",
              "      <td>NaN</td>\n",
              "      <td>NaN</td>\n",
              "      <td>NaN</td>\n",
              "      <td>NaN</td>\n",
              "      <td>NaN</td>\n",
              "      <td>NaN</td>\n",
              "      <td>NaN</td>\n",
              "      <td>NaN</td>\n",
              "      <td>NaN</td>\n",
              "      <td>NaN</td>\n",
              "      <td>NaN</td>\n",
              "      <td>NaN</td>\n",
              "      <td>NaN</td>\n",
              "      <td>NaN</td>\n",
              "      <td>NaN</td>\n",
              "      <td>NaN</td>\n",
              "      <td>NaN</td>\n",
              "      <td>fl</td>\n",
              "      <td>NaN</td>\n",
              "      <td>NaN</td>\n",
              "      <td>NaN</td>\n",
              "    </tr>\n",
              "    <tr>\n",
              "      <th>7222270760</th>\n",
              "      <td>https://worcester.craigslist.org/cto/d/west-br...</td>\n",
              "      <td>worcester / central MA</td>\n",
              "      <td>https://worcester.craigslist.org</td>\n",
              "      <td>1500</td>\n",
              "      <td>NaN</td>\n",
              "      <td>NaN</td>\n",
              "      <td>NaN</td>\n",
              "      <td>NaN</td>\n",
              "      <td>NaN</td>\n",
              "      <td>NaN</td>\n",
              "      <td>NaN</td>\n",
              "      <td>NaN</td>\n",
              "      <td>NaN</td>\n",
              "      <td>NaN</td>\n",
              "      <td>NaN</td>\n",
              "      <td>NaN</td>\n",
              "      <td>NaN</td>\n",
              "      <td>NaN</td>\n",
              "      <td>NaN</td>\n",
              "      <td>NaN</td>\n",
              "      <td>NaN</td>\n",
              "      <td>ma</td>\n",
              "      <td>NaN</td>\n",
              "      <td>NaN</td>\n",
              "      <td>NaN</td>\n",
              "    </tr>\n",
              "    <tr>\n",
              "      <th>7210384030</th>\n",
              "      <td>https://greensboro.craigslist.org/cto/d/trinit...</td>\n",
              "      <td>greensboro</td>\n",
              "      <td>https://greensboro.craigslist.org</td>\n",
              "      <td>4900</td>\n",
              "      <td>NaN</td>\n",
              "      <td>NaN</td>\n",
              "      <td>NaN</td>\n",
              "      <td>NaN</td>\n",
              "      <td>NaN</td>\n",
              "      <td>NaN</td>\n",
              "      <td>NaN</td>\n",
              "      <td>NaN</td>\n",
              "      <td>NaN</td>\n",
              "      <td>NaN</td>\n",
              "      <td>NaN</td>\n",
              "      <td>NaN</td>\n",
              "      <td>NaN</td>\n",
              "      <td>NaN</td>\n",
              "      <td>NaN</td>\n",
              "      <td>NaN</td>\n",
              "      <td>NaN</td>\n",
              "      <td>nc</td>\n",
              "      <td>NaN</td>\n",
              "      <td>NaN</td>\n",
              "      <td>NaN</td>\n",
              "    </tr>\n",
              "  </tbody>\n",
              "</table>\n",
              "</div>"
            ],
            "text/plain": [
              "                                                          url  ... posting_date\n",
              "id                                                             ...             \n",
              "7222695916  https://prescott.craigslist.org/cto/d/prescott...  ...          NaN\n",
              "7218891961  https://fayar.craigslist.org/ctd/d/bentonville...  ...          NaN\n",
              "7221797935  https://keys.craigslist.org/cto/d/summerland-k...  ...          NaN\n",
              "7222270760  https://worcester.craigslist.org/cto/d/west-br...  ...          NaN\n",
              "7210384030  https://greensboro.craigslist.org/cto/d/trinit...  ...          NaN\n",
              "\n",
              "[5 rows x 25 columns]"
            ]
          },
          "metadata": {},
          "execution_count": 9
        }
      ]
    },
    {
      "cell_type": "code",
      "metadata": {
        "colab": {
          "base_uri": "https://localhost:8080/"
        },
        "id": "HzpJK34BkeOK",
        "outputId": "41669b48-3e4a-4d7a-b420-ee6a142e1105"
      },
      "source": [
        "#get info\n",
        "df.info()"
      ],
      "execution_count": null,
      "outputs": [
        {
          "output_type": "stream",
          "text": [
            "<class 'pandas.core.frame.DataFrame'>\n",
            "Int64Index: 426880 entries, 7222695916 to 7301591129\n",
            "Data columns (total 25 columns):\n",
            " #   Column        Non-Null Count   Dtype  \n",
            "---  ------        --------------   -----  \n",
            " 0   url           426880 non-null  object \n",
            " 1   region        426880 non-null  object \n",
            " 2   region_url    426880 non-null  object \n",
            " 3   price         426880 non-null  int64  \n",
            " 4   year          425675 non-null  float64\n",
            " 5   manufacturer  409234 non-null  object \n",
            " 6   model         421603 non-null  object \n",
            " 7   condition     252776 non-null  object \n",
            " 8   cylinders     249202 non-null  object \n",
            " 9   fuel          423867 non-null  object \n",
            " 10  odometer      422480 non-null  float64\n",
            " 11  title_status  418638 non-null  object \n",
            " 12  transmission  424324 non-null  object \n",
            " 13  VIN           265838 non-null  object \n",
            " 14  drive         296313 non-null  object \n",
            " 15  size          120519 non-null  object \n",
            " 16  type          334022 non-null  object \n",
            " 17  paint_color   296677 non-null  object \n",
            " 18  image_url     426812 non-null  object \n",
            " 19  description   426810 non-null  object \n",
            " 20  county        0 non-null       float64\n",
            " 21  state         426880 non-null  object \n",
            " 22  lat           420331 non-null  float64\n",
            " 23  long          420331 non-null  float64\n",
            " 24  posting_date  426812 non-null  object \n",
            "dtypes: float64(5), int64(1), object(19)\n",
            "memory usage: 84.7+ MB\n"
          ],
          "name": "stdout"
        }
      ]
    },
    {
      "cell_type": "code",
      "metadata": {
        "colab": {
          "base_uri": "https://localhost:8080/",
          "height": 297
        },
        "id": "55RffBRjnqxI",
        "outputId": "12d962e9-a2eb-4e23-d5fc-4745dfffdb49"
      },
      "source": [
        "#get descriptive stats\n",
        "df.describe()"
      ],
      "execution_count": null,
      "outputs": [
        {
          "output_type": "execute_result",
          "data": {
            "text/html": [
              "<div>\n",
              "<style scoped>\n",
              "    .dataframe tbody tr th:only-of-type {\n",
              "        vertical-align: middle;\n",
              "    }\n",
              "\n",
              "    .dataframe tbody tr th {\n",
              "        vertical-align: top;\n",
              "    }\n",
              "\n",
              "    .dataframe thead th {\n",
              "        text-align: right;\n",
              "    }\n",
              "</style>\n",
              "<table border=\"1\" class=\"dataframe\">\n",
              "  <thead>\n",
              "    <tr style=\"text-align: right;\">\n",
              "      <th></th>\n",
              "      <th>price</th>\n",
              "      <th>year</th>\n",
              "      <th>odometer</th>\n",
              "      <th>county</th>\n",
              "      <th>lat</th>\n",
              "      <th>long</th>\n",
              "    </tr>\n",
              "  </thead>\n",
              "  <tbody>\n",
              "    <tr>\n",
              "      <th>count</th>\n",
              "      <td>4.268800e+05</td>\n",
              "      <td>425675.000000</td>\n",
              "      <td>4.224800e+05</td>\n",
              "      <td>0.0</td>\n",
              "      <td>420331.000000</td>\n",
              "      <td>420331.000000</td>\n",
              "    </tr>\n",
              "    <tr>\n",
              "      <th>mean</th>\n",
              "      <td>7.519903e+04</td>\n",
              "      <td>2011.235191</td>\n",
              "      <td>9.804333e+04</td>\n",
              "      <td>NaN</td>\n",
              "      <td>38.493940</td>\n",
              "      <td>-94.748599</td>\n",
              "    </tr>\n",
              "    <tr>\n",
              "      <th>std</th>\n",
              "      <td>1.218228e+07</td>\n",
              "      <td>9.452120</td>\n",
              "      <td>2.138815e+05</td>\n",
              "      <td>NaN</td>\n",
              "      <td>5.841533</td>\n",
              "      <td>18.365462</td>\n",
              "    </tr>\n",
              "    <tr>\n",
              "      <th>min</th>\n",
              "      <td>0.000000e+00</td>\n",
              "      <td>1900.000000</td>\n",
              "      <td>0.000000e+00</td>\n",
              "      <td>NaN</td>\n",
              "      <td>-84.122245</td>\n",
              "      <td>-159.827728</td>\n",
              "    </tr>\n",
              "    <tr>\n",
              "      <th>25%</th>\n",
              "      <td>5.900000e+03</td>\n",
              "      <td>2008.000000</td>\n",
              "      <td>3.770400e+04</td>\n",
              "      <td>NaN</td>\n",
              "      <td>34.601900</td>\n",
              "      <td>-111.939847</td>\n",
              "    </tr>\n",
              "    <tr>\n",
              "      <th>50%</th>\n",
              "      <td>1.395000e+04</td>\n",
              "      <td>2013.000000</td>\n",
              "      <td>8.554800e+04</td>\n",
              "      <td>NaN</td>\n",
              "      <td>39.150100</td>\n",
              "      <td>-88.432600</td>\n",
              "    </tr>\n",
              "    <tr>\n",
              "      <th>75%</th>\n",
              "      <td>2.648575e+04</td>\n",
              "      <td>2017.000000</td>\n",
              "      <td>1.335425e+05</td>\n",
              "      <td>NaN</td>\n",
              "      <td>42.398900</td>\n",
              "      <td>-80.832039</td>\n",
              "    </tr>\n",
              "    <tr>\n",
              "      <th>max</th>\n",
              "      <td>3.736929e+09</td>\n",
              "      <td>2022.000000</td>\n",
              "      <td>1.000000e+07</td>\n",
              "      <td>NaN</td>\n",
              "      <td>82.390818</td>\n",
              "      <td>173.885502</td>\n",
              "    </tr>\n",
              "  </tbody>\n",
              "</table>\n",
              "</div>"
            ],
            "text/plain": [
              "              price           year  ...            lat           long\n",
              "count  4.268800e+05  425675.000000  ...  420331.000000  420331.000000\n",
              "mean   7.519903e+04    2011.235191  ...      38.493940     -94.748599\n",
              "std    1.218228e+07       9.452120  ...       5.841533      18.365462\n",
              "min    0.000000e+00    1900.000000  ...     -84.122245    -159.827728\n",
              "25%    5.900000e+03    2008.000000  ...      34.601900    -111.939847\n",
              "50%    1.395000e+04    2013.000000  ...      39.150100     -88.432600\n",
              "75%    2.648575e+04    2017.000000  ...      42.398900     -80.832039\n",
              "max    3.736929e+09    2022.000000  ...      82.390818     173.885502\n",
              "\n",
              "[8 rows x 6 columns]"
            ]
          },
          "metadata": {},
          "execution_count": 11
        }
      ]
    },
    {
      "cell_type": "code",
      "metadata": {
        "colab": {
          "base_uri": "https://localhost:8080/"
        },
        "id": "vW6yAxptpChY",
        "outputId": "39790a15-706e-4ca5-a40f-d6a7db4f813b"
      },
      "source": [
        "#get sum nan\n",
        "df.isna().sum()"
      ],
      "execution_count": null,
      "outputs": [
        {
          "output_type": "execute_result",
          "data": {
            "text/plain": [
              "url                  0\n",
              "region               0\n",
              "region_url           0\n",
              "price                0\n",
              "year              1205\n",
              "manufacturer     17646\n",
              "model             5277\n",
              "condition       174104\n",
              "cylinders       177678\n",
              "fuel              3013\n",
              "odometer          4400\n",
              "title_status      8242\n",
              "transmission      2556\n",
              "VIN             161042\n",
              "drive           130567\n",
              "size            306361\n",
              "type             92858\n",
              "paint_color     130203\n",
              "image_url           68\n",
              "description         70\n",
              "county          426880\n",
              "state                0\n",
              "lat               6549\n",
              "long              6549\n",
              "posting_date        68\n",
              "dtype: int64"
            ]
          },
          "metadata": {},
          "execution_count": 12
        }
      ]
    },
    {
      "cell_type": "code",
      "metadata": {
        "colab": {
          "base_uri": "https://localhost:8080/"
        },
        "id": "meBUBitrqc6m",
        "outputId": "82365677-da17-484e-c758-cdf2a0eac2e7"
      },
      "source": [
        "#get sum non nan\n",
        "df.notnull().sum()"
      ],
      "execution_count": null,
      "outputs": [
        {
          "output_type": "execute_result",
          "data": {
            "text/plain": [
              "url             426880\n",
              "region          426880\n",
              "region_url      426880\n",
              "price           426880\n",
              "year            425675\n",
              "manufacturer    409234\n",
              "model           421603\n",
              "condition       252776\n",
              "cylinders       249202\n",
              "fuel            423867\n",
              "odometer        422480\n",
              "title_status    418638\n",
              "transmission    424324\n",
              "VIN             265838\n",
              "drive           296313\n",
              "size            120519\n",
              "type            334022\n",
              "paint_color     296677\n",
              "image_url       426812\n",
              "description     426810\n",
              "county               0\n",
              "state           426880\n",
              "lat             420331\n",
              "long            420331\n",
              "posting_date    426812\n",
              "dtype: int64"
            ]
          },
          "metadata": {},
          "execution_count": 13
        }
      ]
    },
    {
      "cell_type": "code",
      "metadata": {
        "colab": {
          "base_uri": "https://localhost:8080/",
          "height": 527
        },
        "id": "IZZfaRxIsvqh",
        "outputId": "493e0029-b00a-4359-d3a6-9eff8b19c0ca"
      },
      "source": [
        "#drop rows: sum nan <19\n",
        "df = df[df.isnull().sum(axis=1) < 19]\n",
        "df.head()"
      ],
      "execution_count": null,
      "outputs": [
        {
          "output_type": "execute_result",
          "data": {
            "text/html": [
              "<div>\n",
              "<style scoped>\n",
              "    .dataframe tbody tr th:only-of-type {\n",
              "        vertical-align: middle;\n",
              "    }\n",
              "\n",
              "    .dataframe tbody tr th {\n",
              "        vertical-align: top;\n",
              "    }\n",
              "\n",
              "    .dataframe thead th {\n",
              "        text-align: right;\n",
              "    }\n",
              "</style>\n",
              "<table border=\"1\" class=\"dataframe\">\n",
              "  <thead>\n",
              "    <tr style=\"text-align: right;\">\n",
              "      <th></th>\n",
              "      <th>url</th>\n",
              "      <th>region</th>\n",
              "      <th>region_url</th>\n",
              "      <th>price</th>\n",
              "      <th>year</th>\n",
              "      <th>manufacturer</th>\n",
              "      <th>model</th>\n",
              "      <th>condition</th>\n",
              "      <th>cylinders</th>\n",
              "      <th>fuel</th>\n",
              "      <th>odometer</th>\n",
              "      <th>title_status</th>\n",
              "      <th>transmission</th>\n",
              "      <th>VIN</th>\n",
              "      <th>drive</th>\n",
              "      <th>size</th>\n",
              "      <th>type</th>\n",
              "      <th>paint_color</th>\n",
              "      <th>image_url</th>\n",
              "      <th>description</th>\n",
              "      <th>county</th>\n",
              "      <th>state</th>\n",
              "      <th>lat</th>\n",
              "      <th>long</th>\n",
              "      <th>posting_date</th>\n",
              "    </tr>\n",
              "    <tr>\n",
              "      <th>id</th>\n",
              "      <th></th>\n",
              "      <th></th>\n",
              "      <th></th>\n",
              "      <th></th>\n",
              "      <th></th>\n",
              "      <th></th>\n",
              "      <th></th>\n",
              "      <th></th>\n",
              "      <th></th>\n",
              "      <th></th>\n",
              "      <th></th>\n",
              "      <th></th>\n",
              "      <th></th>\n",
              "      <th></th>\n",
              "      <th></th>\n",
              "      <th></th>\n",
              "      <th></th>\n",
              "      <th></th>\n",
              "      <th></th>\n",
              "      <th></th>\n",
              "      <th></th>\n",
              "      <th></th>\n",
              "      <th></th>\n",
              "      <th></th>\n",
              "      <th></th>\n",
              "    </tr>\n",
              "  </thead>\n",
              "  <tbody>\n",
              "    <tr>\n",
              "      <th>7316814884</th>\n",
              "      <td>https://auburn.craigslist.org/ctd/d/auburn-uni...</td>\n",
              "      <td>auburn</td>\n",
              "      <td>https://auburn.craigslist.org</td>\n",
              "      <td>33590</td>\n",
              "      <td>2014.0</td>\n",
              "      <td>gmc</td>\n",
              "      <td>sierra 1500 crew cab slt</td>\n",
              "      <td>good</td>\n",
              "      <td>8 cylinders</td>\n",
              "      <td>gas</td>\n",
              "      <td>57923.0</td>\n",
              "      <td>clean</td>\n",
              "      <td>other</td>\n",
              "      <td>3GTP1VEC4EG551563</td>\n",
              "      <td>NaN</td>\n",
              "      <td>NaN</td>\n",
              "      <td>pickup</td>\n",
              "      <td>white</td>\n",
              "      <td>https://images.craigslist.org/00R0R_lwWjXSEWNa...</td>\n",
              "      <td>Carvana is the safer way to buy a car During t...</td>\n",
              "      <td>NaN</td>\n",
              "      <td>al</td>\n",
              "      <td>32.590</td>\n",
              "      <td>-85.4800</td>\n",
              "      <td>2021-05-04T12:31:18-0500</td>\n",
              "    </tr>\n",
              "    <tr>\n",
              "      <th>7316814758</th>\n",
              "      <td>https://auburn.craigslist.org/ctd/d/auburn-uni...</td>\n",
              "      <td>auburn</td>\n",
              "      <td>https://auburn.craigslist.org</td>\n",
              "      <td>22590</td>\n",
              "      <td>2010.0</td>\n",
              "      <td>chevrolet</td>\n",
              "      <td>silverado 1500</td>\n",
              "      <td>good</td>\n",
              "      <td>8 cylinders</td>\n",
              "      <td>gas</td>\n",
              "      <td>71229.0</td>\n",
              "      <td>clean</td>\n",
              "      <td>other</td>\n",
              "      <td>1GCSCSE06AZ123805</td>\n",
              "      <td>NaN</td>\n",
              "      <td>NaN</td>\n",
              "      <td>pickup</td>\n",
              "      <td>blue</td>\n",
              "      <td>https://images.craigslist.org/00R0R_lwWjXSEWNa...</td>\n",
              "      <td>Carvana is the safer way to buy a car During t...</td>\n",
              "      <td>NaN</td>\n",
              "      <td>al</td>\n",
              "      <td>32.590</td>\n",
              "      <td>-85.4800</td>\n",
              "      <td>2021-05-04T12:31:08-0500</td>\n",
              "    </tr>\n",
              "    <tr>\n",
              "      <th>7316814989</th>\n",
              "      <td>https://auburn.craigslist.org/ctd/d/auburn-uni...</td>\n",
              "      <td>auburn</td>\n",
              "      <td>https://auburn.craigslist.org</td>\n",
              "      <td>39590</td>\n",
              "      <td>2020.0</td>\n",
              "      <td>chevrolet</td>\n",
              "      <td>silverado 1500 crew</td>\n",
              "      <td>good</td>\n",
              "      <td>8 cylinders</td>\n",
              "      <td>gas</td>\n",
              "      <td>19160.0</td>\n",
              "      <td>clean</td>\n",
              "      <td>other</td>\n",
              "      <td>3GCPWCED5LG130317</td>\n",
              "      <td>NaN</td>\n",
              "      <td>NaN</td>\n",
              "      <td>pickup</td>\n",
              "      <td>red</td>\n",
              "      <td>https://images.craigslist.org/01212_jjirIWa0y0...</td>\n",
              "      <td>Carvana is the safer way to buy a car During t...</td>\n",
              "      <td>NaN</td>\n",
              "      <td>al</td>\n",
              "      <td>32.590</td>\n",
              "      <td>-85.4800</td>\n",
              "      <td>2021-05-04T12:31:25-0500</td>\n",
              "    </tr>\n",
              "    <tr>\n",
              "      <th>7316743432</th>\n",
              "      <td>https://auburn.craigslist.org/ctd/d/auburn-uni...</td>\n",
              "      <td>auburn</td>\n",
              "      <td>https://auburn.craigslist.org</td>\n",
              "      <td>30990</td>\n",
              "      <td>2017.0</td>\n",
              "      <td>toyota</td>\n",
              "      <td>tundra double cab sr</td>\n",
              "      <td>good</td>\n",
              "      <td>8 cylinders</td>\n",
              "      <td>gas</td>\n",
              "      <td>41124.0</td>\n",
              "      <td>clean</td>\n",
              "      <td>other</td>\n",
              "      <td>5TFRM5F17HX120972</td>\n",
              "      <td>NaN</td>\n",
              "      <td>NaN</td>\n",
              "      <td>pickup</td>\n",
              "      <td>red</td>\n",
              "      <td>https://images.craigslist.org/00x0x_1y9kIOzGCF...</td>\n",
              "      <td>Carvana is the safer way to buy a car During t...</td>\n",
              "      <td>NaN</td>\n",
              "      <td>al</td>\n",
              "      <td>32.590</td>\n",
              "      <td>-85.4800</td>\n",
              "      <td>2021-05-04T10:41:31-0500</td>\n",
              "    </tr>\n",
              "    <tr>\n",
              "      <th>7316356412</th>\n",
              "      <td>https://auburn.craigslist.org/cto/d/auburn-uni...</td>\n",
              "      <td>auburn</td>\n",
              "      <td>https://auburn.craigslist.org</td>\n",
              "      <td>15000</td>\n",
              "      <td>2013.0</td>\n",
              "      <td>ford</td>\n",
              "      <td>f-150 xlt</td>\n",
              "      <td>excellent</td>\n",
              "      <td>6 cylinders</td>\n",
              "      <td>gas</td>\n",
              "      <td>128000.0</td>\n",
              "      <td>clean</td>\n",
              "      <td>automatic</td>\n",
              "      <td>NaN</td>\n",
              "      <td>rwd</td>\n",
              "      <td>full-size</td>\n",
              "      <td>truck</td>\n",
              "      <td>black</td>\n",
              "      <td>https://images.craigslist.org/00404_l4loxHvdQe...</td>\n",
              "      <td>2013 F-150 XLT V6 4 Door. Good condition. Leve...</td>\n",
              "      <td>NaN</td>\n",
              "      <td>al</td>\n",
              "      <td>32.592</td>\n",
              "      <td>-85.5189</td>\n",
              "      <td>2021-05-03T14:02:03-0500</td>\n",
              "    </tr>\n",
              "  </tbody>\n",
              "</table>\n",
              "</div>"
            ],
            "text/plain": [
              "                                                          url  ...              posting_date\n",
              "id                                                             ...                          \n",
              "7316814884  https://auburn.craigslist.org/ctd/d/auburn-uni...  ...  2021-05-04T12:31:18-0500\n",
              "7316814758  https://auburn.craigslist.org/ctd/d/auburn-uni...  ...  2021-05-04T12:31:08-0500\n",
              "7316814989  https://auburn.craigslist.org/ctd/d/auburn-uni...  ...  2021-05-04T12:31:25-0500\n",
              "7316743432  https://auburn.craigslist.org/ctd/d/auburn-uni...  ...  2021-05-04T10:41:31-0500\n",
              "7316356412  https://auburn.craigslist.org/cto/d/auburn-uni...  ...  2021-05-03T14:02:03-0500\n",
              "\n",
              "[5 rows x 25 columns]"
            ]
          },
          "metadata": {},
          "execution_count": 14
        }
      ]
    },
    {
      "cell_type": "code",
      "metadata": {
        "colab": {
          "base_uri": "https://localhost:8080/",
          "height": 561
        },
        "id": "spk99s3L85XB",
        "outputId": "b6c63354-6a10-495d-cca6-ceb4dbc70c0a"
      },
      "source": [
        "#drop cols: county, url, region_url, image_url, description\n",
        "df.drop('county', axis=1, inplace=True)\n",
        "df.drop('url', axis=1, inplace=True)\n",
        "df.drop('region_url', axis=1, inplace=True)\n",
        "df.drop('image_url', axis=1, inplace=True)\n",
        "df.drop('VIN', axis=1, inplace=True)\n",
        "df.drop('description', axis=1, inplace=True)\n",
        "df.head()"
      ],
      "execution_count": null,
      "outputs": [
        {
          "output_type": "stream",
          "text": [
            "/usr/local/lib/python3.7/dist-packages/pandas/core/frame.py:4174: SettingWithCopyWarning:\n",
            "\n",
            "\n",
            "A value is trying to be set on a copy of a slice from a DataFrame\n",
            "\n",
            "See the caveats in the documentation: https://pandas.pydata.org/pandas-docs/stable/user_guide/indexing.html#returning-a-view-versus-a-copy\n",
            "\n"
          ],
          "name": "stderr"
        },
        {
          "output_type": "execute_result",
          "data": {
            "text/html": [
              "<div>\n",
              "<style scoped>\n",
              "    .dataframe tbody tr th:only-of-type {\n",
              "        vertical-align: middle;\n",
              "    }\n",
              "\n",
              "    .dataframe tbody tr th {\n",
              "        vertical-align: top;\n",
              "    }\n",
              "\n",
              "    .dataframe thead th {\n",
              "        text-align: right;\n",
              "    }\n",
              "</style>\n",
              "<table border=\"1\" class=\"dataframe\">\n",
              "  <thead>\n",
              "    <tr style=\"text-align: right;\">\n",
              "      <th></th>\n",
              "      <th>region</th>\n",
              "      <th>price</th>\n",
              "      <th>year</th>\n",
              "      <th>manufacturer</th>\n",
              "      <th>model</th>\n",
              "      <th>condition</th>\n",
              "      <th>cylinders</th>\n",
              "      <th>fuel</th>\n",
              "      <th>odometer</th>\n",
              "      <th>title_status</th>\n",
              "      <th>transmission</th>\n",
              "      <th>drive</th>\n",
              "      <th>size</th>\n",
              "      <th>type</th>\n",
              "      <th>paint_color</th>\n",
              "      <th>state</th>\n",
              "      <th>lat</th>\n",
              "      <th>long</th>\n",
              "      <th>posting_date</th>\n",
              "    </tr>\n",
              "    <tr>\n",
              "      <th>id</th>\n",
              "      <th></th>\n",
              "      <th></th>\n",
              "      <th></th>\n",
              "      <th></th>\n",
              "      <th></th>\n",
              "      <th></th>\n",
              "      <th></th>\n",
              "      <th></th>\n",
              "      <th></th>\n",
              "      <th></th>\n",
              "      <th></th>\n",
              "      <th></th>\n",
              "      <th></th>\n",
              "      <th></th>\n",
              "      <th></th>\n",
              "      <th></th>\n",
              "      <th></th>\n",
              "      <th></th>\n",
              "      <th></th>\n",
              "    </tr>\n",
              "  </thead>\n",
              "  <tbody>\n",
              "    <tr>\n",
              "      <th>7316814884</th>\n",
              "      <td>auburn</td>\n",
              "      <td>33590</td>\n",
              "      <td>2014.0</td>\n",
              "      <td>gmc</td>\n",
              "      <td>sierra 1500 crew cab slt</td>\n",
              "      <td>good</td>\n",
              "      <td>8 cylinders</td>\n",
              "      <td>gas</td>\n",
              "      <td>57923.0</td>\n",
              "      <td>clean</td>\n",
              "      <td>other</td>\n",
              "      <td>NaN</td>\n",
              "      <td>NaN</td>\n",
              "      <td>pickup</td>\n",
              "      <td>white</td>\n",
              "      <td>al</td>\n",
              "      <td>32.590</td>\n",
              "      <td>-85.4800</td>\n",
              "      <td>2021-05-04T12:31:18-0500</td>\n",
              "    </tr>\n",
              "    <tr>\n",
              "      <th>7316814758</th>\n",
              "      <td>auburn</td>\n",
              "      <td>22590</td>\n",
              "      <td>2010.0</td>\n",
              "      <td>chevrolet</td>\n",
              "      <td>silverado 1500</td>\n",
              "      <td>good</td>\n",
              "      <td>8 cylinders</td>\n",
              "      <td>gas</td>\n",
              "      <td>71229.0</td>\n",
              "      <td>clean</td>\n",
              "      <td>other</td>\n",
              "      <td>NaN</td>\n",
              "      <td>NaN</td>\n",
              "      <td>pickup</td>\n",
              "      <td>blue</td>\n",
              "      <td>al</td>\n",
              "      <td>32.590</td>\n",
              "      <td>-85.4800</td>\n",
              "      <td>2021-05-04T12:31:08-0500</td>\n",
              "    </tr>\n",
              "    <tr>\n",
              "      <th>7316814989</th>\n",
              "      <td>auburn</td>\n",
              "      <td>39590</td>\n",
              "      <td>2020.0</td>\n",
              "      <td>chevrolet</td>\n",
              "      <td>silverado 1500 crew</td>\n",
              "      <td>good</td>\n",
              "      <td>8 cylinders</td>\n",
              "      <td>gas</td>\n",
              "      <td>19160.0</td>\n",
              "      <td>clean</td>\n",
              "      <td>other</td>\n",
              "      <td>NaN</td>\n",
              "      <td>NaN</td>\n",
              "      <td>pickup</td>\n",
              "      <td>red</td>\n",
              "      <td>al</td>\n",
              "      <td>32.590</td>\n",
              "      <td>-85.4800</td>\n",
              "      <td>2021-05-04T12:31:25-0500</td>\n",
              "    </tr>\n",
              "    <tr>\n",
              "      <th>7316743432</th>\n",
              "      <td>auburn</td>\n",
              "      <td>30990</td>\n",
              "      <td>2017.0</td>\n",
              "      <td>toyota</td>\n",
              "      <td>tundra double cab sr</td>\n",
              "      <td>good</td>\n",
              "      <td>8 cylinders</td>\n",
              "      <td>gas</td>\n",
              "      <td>41124.0</td>\n",
              "      <td>clean</td>\n",
              "      <td>other</td>\n",
              "      <td>NaN</td>\n",
              "      <td>NaN</td>\n",
              "      <td>pickup</td>\n",
              "      <td>red</td>\n",
              "      <td>al</td>\n",
              "      <td>32.590</td>\n",
              "      <td>-85.4800</td>\n",
              "      <td>2021-05-04T10:41:31-0500</td>\n",
              "    </tr>\n",
              "    <tr>\n",
              "      <th>7316356412</th>\n",
              "      <td>auburn</td>\n",
              "      <td>15000</td>\n",
              "      <td>2013.0</td>\n",
              "      <td>ford</td>\n",
              "      <td>f-150 xlt</td>\n",
              "      <td>excellent</td>\n",
              "      <td>6 cylinders</td>\n",
              "      <td>gas</td>\n",
              "      <td>128000.0</td>\n",
              "      <td>clean</td>\n",
              "      <td>automatic</td>\n",
              "      <td>rwd</td>\n",
              "      <td>full-size</td>\n",
              "      <td>truck</td>\n",
              "      <td>black</td>\n",
              "      <td>al</td>\n",
              "      <td>32.592</td>\n",
              "      <td>-85.5189</td>\n",
              "      <td>2021-05-03T14:02:03-0500</td>\n",
              "    </tr>\n",
              "  </tbody>\n",
              "</table>\n",
              "</div>"
            ],
            "text/plain": [
              "            region  price    year  ...     lat     long              posting_date\n",
              "id                                 ...                                           \n",
              "7316814884  auburn  33590  2014.0  ...  32.590 -85.4800  2021-05-04T12:31:18-0500\n",
              "7316814758  auburn  22590  2010.0  ...  32.590 -85.4800  2021-05-04T12:31:08-0500\n",
              "7316814989  auburn  39590  2020.0  ...  32.590 -85.4800  2021-05-04T12:31:25-0500\n",
              "7316743432  auburn  30990  2017.0  ...  32.590 -85.4800  2021-05-04T10:41:31-0500\n",
              "7316356412  auburn  15000  2013.0  ...  32.592 -85.5189  2021-05-03T14:02:03-0500\n",
              "\n",
              "[5 rows x 19 columns]"
            ]
          },
          "metadata": {},
          "execution_count": 15
        }
      ]
    },
    {
      "cell_type": "code",
      "metadata": {
        "colab": {
          "base_uri": "https://localhost:8080/"
        },
        "id": "_iKBQ4uIBWYk",
        "outputId": "156adc08-8407-47bb-c7a8-b5818d8ed014"
      },
      "source": [
        "#float to int: year\n",
        "df['year'] = df['year'].astype('Int32') \n",
        "assert df['year'].dtype == 'Int32'"
      ],
      "execution_count": null,
      "outputs": [
        {
          "output_type": "stream",
          "text": [
            "/usr/local/lib/python3.7/dist-packages/ipykernel_launcher.py:2: SettingWithCopyWarning:\n",
            "\n",
            "\n",
            "A value is trying to be set on a copy of a slice from a DataFrame.\n",
            "Try using .loc[row_indexer,col_indexer] = value instead\n",
            "\n",
            "See the caveats in the documentation: https://pandas.pydata.org/pandas-docs/stable/user_guide/indexing.html#returning-a-view-versus-a-copy\n",
            "\n"
          ],
          "name": "stderr"
        }
      ]
    },
    {
      "cell_type": "code",
      "metadata": {
        "colab": {
          "base_uri": "https://localhost:8080/"
        },
        "id": "pi86Gv24Hw5L",
        "outputId": "3fb1c91e-fd63-4328-a981-a7ae418a74bf"
      },
      "source": [
        "#str to int: cylinder\n",
        "df['cylinders'] = df['cylinders'].str.replace('cylinders',' ')\n",
        "df['cylinders'] = df['cylinders'].str.strip()\n",
        "df['cylinders'] = df['cylinders'].replace('nan',np.nan)\n",
        "df['cylinders'] = df['cylinders'].replace('other', np.nan) #--> merge nan and other\n",
        "df['cylinders'] = df['cylinders'].astype('float') \n",
        "df['cylinders'] = df['cylinders'].astype('Int32')\n",
        "df['cylinders'].unique()"
      ],
      "execution_count": null,
      "outputs": [
        {
          "output_type": "stream",
          "text": [
            "/usr/local/lib/python3.7/dist-packages/ipykernel_launcher.py:2: SettingWithCopyWarning:\n",
            "\n",
            "\n",
            "A value is trying to be set on a copy of a slice from a DataFrame.\n",
            "Try using .loc[row_indexer,col_indexer] = value instead\n",
            "\n",
            "See the caveats in the documentation: https://pandas.pydata.org/pandas-docs/stable/user_guide/indexing.html#returning-a-view-versus-a-copy\n",
            "\n",
            "/usr/local/lib/python3.7/dist-packages/ipykernel_launcher.py:3: SettingWithCopyWarning:\n",
            "\n",
            "\n",
            "A value is trying to be set on a copy of a slice from a DataFrame.\n",
            "Try using .loc[row_indexer,col_indexer] = value instead\n",
            "\n",
            "See the caveats in the documentation: https://pandas.pydata.org/pandas-docs/stable/user_guide/indexing.html#returning-a-view-versus-a-copy\n",
            "\n",
            "/usr/local/lib/python3.7/dist-packages/ipykernel_launcher.py:4: SettingWithCopyWarning:\n",
            "\n",
            "\n",
            "A value is trying to be set on a copy of a slice from a DataFrame.\n",
            "Try using .loc[row_indexer,col_indexer] = value instead\n",
            "\n",
            "See the caveats in the documentation: https://pandas.pydata.org/pandas-docs/stable/user_guide/indexing.html#returning-a-view-versus-a-copy\n",
            "\n",
            "/usr/local/lib/python3.7/dist-packages/ipykernel_launcher.py:5: SettingWithCopyWarning:\n",
            "\n",
            "\n",
            "A value is trying to be set on a copy of a slice from a DataFrame.\n",
            "Try using .loc[row_indexer,col_indexer] = value instead\n",
            "\n",
            "See the caveats in the documentation: https://pandas.pydata.org/pandas-docs/stable/user_guide/indexing.html#returning-a-view-versus-a-copy\n",
            "\n",
            "/usr/local/lib/python3.7/dist-packages/ipykernel_launcher.py:6: SettingWithCopyWarning:\n",
            "\n",
            "\n",
            "A value is trying to be set on a copy of a slice from a DataFrame.\n",
            "Try using .loc[row_indexer,col_indexer] = value instead\n",
            "\n",
            "See the caveats in the documentation: https://pandas.pydata.org/pandas-docs/stable/user_guide/indexing.html#returning-a-view-versus-a-copy\n",
            "\n",
            "/usr/local/lib/python3.7/dist-packages/ipykernel_launcher.py:7: SettingWithCopyWarning:\n",
            "\n",
            "\n",
            "A value is trying to be set on a copy of a slice from a DataFrame.\n",
            "Try using .loc[row_indexer,col_indexer] = value instead\n",
            "\n",
            "See the caveats in the documentation: https://pandas.pydata.org/pandas-docs/stable/user_guide/indexing.html#returning-a-view-versus-a-copy\n",
            "\n"
          ],
          "name": "stderr"
        },
        {
          "output_type": "execute_result",
          "data": {
            "text/plain": [
              "<IntegerArray>\n",
              "[8, 6, <NA>, 4, 5, 3, 10, 12]\n",
              "Length: 8, dtype: Int32"
            ]
          },
          "metadata": {},
          "execution_count": 17
        }
      ]
    },
    {
      "cell_type": "code",
      "metadata": {
        "colab": {
          "base_uri": "https://localhost:8080/"
        },
        "id": "XOlK997CiqoX",
        "outputId": "a8e3022d-1fef-4659-a3bd-e2dbc444755e"
      },
      "source": [
        "#remove duplicate rows\n",
        "df.duplicated().sum()\n",
        "df.drop_duplicates(inplace=True)\n",
        "df.shape"
      ],
      "execution_count": null,
      "outputs": [
        {
          "output_type": "stream",
          "text": [
            "/usr/local/lib/python3.7/dist-packages/ipykernel_launcher.py:3: SettingWithCopyWarning:\n",
            "\n",
            "\n",
            "A value is trying to be set on a copy of a slice from a DataFrame\n",
            "\n",
            "See the caveats in the documentation: https://pandas.pydata.org/pandas-docs/stable/user_guide/indexing.html#returning-a-view-versus-a-copy\n",
            "\n"
          ],
          "name": "stderr"
        },
        {
          "output_type": "execute_result",
          "data": {
            "text/plain": [
              "(426786, 19)"
            ]
          },
          "metadata": {},
          "execution_count": 18
        }
      ]
    },
    {
      "cell_type": "code",
      "metadata": {
        "colab": {
          "base_uri": "https://localhost:8080/"
        },
        "id": "ZdXsAatDplKS",
        "outputId": "d9d14855-ee84-4a82-e2d3-018e2ad3e747"
      },
      "source": [
        "#categorize nan\n",
        "df['manufacturer'] = df['manufacturer'].replace('nan',np.nan)\n",
        "df['model'] = df['model'].replace('nan',np.nan)\n",
        "df['condition'] = df['condition'].replace('nan',np.nan)\n",
        "df['fuel'] = df['fuel'].replace('nan',np.nan)\n",
        "df['title_status'] = df['title_status'].replace('nan',np.nan)\n",
        "df['transmission'] = df['transmission'].replace('nan',np.nan)"
      ],
      "execution_count": null,
      "outputs": [
        {
          "output_type": "stream",
          "text": [
            "/usr/local/lib/python3.7/dist-packages/ipykernel_launcher.py:2: SettingWithCopyWarning:\n",
            "\n",
            "\n",
            "A value is trying to be set on a copy of a slice from a DataFrame.\n",
            "Try using .loc[row_indexer,col_indexer] = value instead\n",
            "\n",
            "See the caveats in the documentation: https://pandas.pydata.org/pandas-docs/stable/user_guide/indexing.html#returning-a-view-versus-a-copy\n",
            "\n",
            "/usr/local/lib/python3.7/dist-packages/ipykernel_launcher.py:3: SettingWithCopyWarning:\n",
            "\n",
            "\n",
            "A value is trying to be set on a copy of a slice from a DataFrame.\n",
            "Try using .loc[row_indexer,col_indexer] = value instead\n",
            "\n",
            "See the caveats in the documentation: https://pandas.pydata.org/pandas-docs/stable/user_guide/indexing.html#returning-a-view-versus-a-copy\n",
            "\n",
            "/usr/local/lib/python3.7/dist-packages/ipykernel_launcher.py:4: SettingWithCopyWarning:\n",
            "\n",
            "\n",
            "A value is trying to be set on a copy of a slice from a DataFrame.\n",
            "Try using .loc[row_indexer,col_indexer] = value instead\n",
            "\n",
            "See the caveats in the documentation: https://pandas.pydata.org/pandas-docs/stable/user_guide/indexing.html#returning-a-view-versus-a-copy\n",
            "\n",
            "/usr/local/lib/python3.7/dist-packages/ipykernel_launcher.py:5: SettingWithCopyWarning:\n",
            "\n",
            "\n",
            "A value is trying to be set on a copy of a slice from a DataFrame.\n",
            "Try using .loc[row_indexer,col_indexer] = value instead\n",
            "\n",
            "See the caveats in the documentation: https://pandas.pydata.org/pandas-docs/stable/user_guide/indexing.html#returning-a-view-versus-a-copy\n",
            "\n",
            "/usr/local/lib/python3.7/dist-packages/ipykernel_launcher.py:6: SettingWithCopyWarning:\n",
            "\n",
            "\n",
            "A value is trying to be set on a copy of a slice from a DataFrame.\n",
            "Try using .loc[row_indexer,col_indexer] = value instead\n",
            "\n",
            "See the caveats in the documentation: https://pandas.pydata.org/pandas-docs/stable/user_guide/indexing.html#returning-a-view-versus-a-copy\n",
            "\n",
            "/usr/local/lib/python3.7/dist-packages/ipykernel_launcher.py:7: SettingWithCopyWarning:\n",
            "\n",
            "\n",
            "A value is trying to be set on a copy of a slice from a DataFrame.\n",
            "Try using .loc[row_indexer,col_indexer] = value instead\n",
            "\n",
            "See the caveats in the documentation: https://pandas.pydata.org/pandas-docs/stable/user_guide/indexing.html#returning-a-view-versus-a-copy\n",
            "\n"
          ],
          "name": "stderr"
        }
      ]
    },
    {
      "cell_type": "code",
      "metadata": {
        "colab": {
          "base_uri": "https://localhost:8080/"
        },
        "id": "_mozuWlE1Mqo",
        "outputId": "a60cd74f-ee51-4781-d9ab-c50745ec6cd1"
      },
      "source": [
        "print(df['price'].max())\n",
        "print(df['price'].min())\n",
        "print(df['price'].mean())\n",
        "print(df['price'].median())"
      ],
      "execution_count": null,
      "outputs": [
        {
          "output_type": "stream",
          "text": [
            "3736928711\n",
            "0\n",
            "75212.57492513812\n",
            "13950.0\n"
          ],
          "name": "stdout"
        }
      ]
    },
    {
      "cell_type": "code",
      "metadata": {
        "id": "4O0oTHToBhUF"
      },
      "source": [
        "df = df[df['condition'] != 'salvage'] "
      ],
      "execution_count": null,
      "outputs": []
    },
    {
      "cell_type": "code",
      "metadata": {
        "colab": {
          "base_uri": "https://localhost:8080/"
        },
        "id": "g4f-p_cB_m_r",
        "outputId": "2ea60499-01f2-401f-c5da-56d42a7b7710"
      },
      "source": [
        "def condition_to_numeric(x):\n",
        "  if x=='new': return 5\n",
        "  if x=='like new': return 4\n",
        "  if x=='excellent': return 3\n",
        "  if x=='good': return 2\n",
        "  if x=='fair': return 1\n",
        "  #if x=='salvage': return 0 #--> ditch\n",
        "  if x=='nan': return np.nan\n",
        "\n",
        "df['condition_num'] = df['condition'].apply(condition_to_numeric)\n",
        "df['condition_num'].unique()"
      ],
      "execution_count": null,
      "outputs": [
        {
          "output_type": "execute_result",
          "data": {
            "text/plain": [
              "array([ 2.,  3.,  1., nan,  4.,  5.])"
            ]
          },
          "metadata": {},
          "execution_count": 22
        }
      ]
    },
    {
      "cell_type": "code",
      "metadata": {
        "colab": {
          "base_uri": "https://localhost:8080/",
          "height": 503
        },
        "id": "fTUl1rTH2kg1",
        "outputId": "9d24f2d0-75a0-413e-a771-54ebf089e768"
      },
      "source": [
        "#corr matrix\n",
        "df = df.dropna()\n",
        "print(df.corr())\n",
        "corr_matrix = df.corr()\n",
        "sns.heatmap(corr_matrix, annot=True)\n",
        "plt.show()"
      ],
      "execution_count": null,
      "outputs": [
        {
          "output_type": "stream",
          "text": [
            "                  price      year  cylinders  ...       lat      long  condition_num\n",
            "price          1.000000 -0.001559   0.005966  ...  0.004002 -0.008107       0.000458\n",
            "year          -0.001559  1.000000  -0.198727  ... -0.011522  0.029539       0.261701\n",
            "cylinders      0.005966 -0.198727   1.000000  ... -0.034914  0.020283      -0.072406\n",
            "odometer       0.000631 -0.089536   0.040204  ... -0.008524 -0.000673      -0.094204\n",
            "lat            0.004002 -0.011522  -0.034914  ...  1.000000 -0.044249      -0.068716\n",
            "long          -0.008107  0.029539   0.020283  ... -0.044249  1.000000      -0.026266\n",
            "condition_num  0.000458  0.261701  -0.072406  ... -0.068716 -0.026266       1.000000\n",
            "\n",
            "[7 rows x 7 columns]\n"
          ],
          "name": "stdout"
        },
        {
          "output_type": "display_data",
          "data": {
            "image/png": "[encoded data removed]",
            "text/plain": [
              "<Figure size 432x288 with 2 Axes>"
            ]
          },
          "metadata": {
            "needs_background": "light"
          }
        }
      ]
    },
    {
      "cell_type": "code",
      "metadata": {
        "colab": {
          "base_uri": "https://localhost:8080/",
          "height": 266
        },
        "id": "ELeZuJNW9xGL",
        "outputId": "d2dc7b38-0d85-4a59-c6b2-5d532474cc19"
      },
      "source": [
        "#corr p-value\n",
        "from scipy.stats import pearsonr\n",
        "def calculate_pvalues(df):\n",
        "    df = df.dropna()._get_numeric_data()\n",
        "    dfcols = pd.DataFrame(columns=df.columns)\n",
        "    pvalues = dfcols.transpose().join(dfcols, how='outer')\n",
        "    for r in df.columns:\n",
        "        for c in df.columns:\n",
        "            pvalues[r][c] = round(pearsonr(df[r], df[c])[1], 4)\n",
        "    return pvalues\n",
        "calculate_pvalues(df)"
      ],
      "execution_count": null,
      "outputs": [
        {
          "output_type": "execute_result",
          "data": {
            "text/html": [
              "<div>\n",
              "<style scoped>\n",
              "    .dataframe tbody tr th:only-of-type {\n",
              "        vertical-align: middle;\n",
              "    }\n",
              "\n",
              "    .dataframe tbody tr th {\n",
              "        vertical-align: top;\n",
              "    }\n",
              "\n",
              "    .dataframe thead th {\n",
              "        text-align: right;\n",
              "    }\n",
              "</style>\n",
              "<table border=\"1\" class=\"dataframe\">\n",
              "  <thead>\n",
              "    <tr style=\"text-align: right;\">\n",
              "      <th></th>\n",
              "      <th>price</th>\n",
              "      <th>year</th>\n",
              "      <th>cylinders</th>\n",
              "      <th>odometer</th>\n",
              "      <th>lat</th>\n",
              "      <th>long</th>\n",
              "      <th>condition_num</th>\n",
              "    </tr>\n",
              "  </thead>\n",
              "  <tbody>\n",
              "    <tr>\n",
              "      <th>price</th>\n",
              "      <td>0</td>\n",
              "      <td>0.6622</td>\n",
              "      <td>0.0945</td>\n",
              "      <td>0.8596</td>\n",
              "      <td>0.2621</td>\n",
              "      <td>0.0231</td>\n",
              "      <td>0.8979</td>\n",
              "    </tr>\n",
              "    <tr>\n",
              "      <th>year</th>\n",
              "      <td>0.6622</td>\n",
              "      <td>0</td>\n",
              "      <td>0</td>\n",
              "      <td>0</td>\n",
              "      <td>0.0012</td>\n",
              "      <td>0</td>\n",
              "      <td>0</td>\n",
              "    </tr>\n",
              "    <tr>\n",
              "      <th>cylinders</th>\n",
              "      <td>0.0945</td>\n",
              "      <td>0</td>\n",
              "      <td>0</td>\n",
              "      <td>0</td>\n",
              "      <td>0</td>\n",
              "      <td>0</td>\n",
              "      <td>0</td>\n",
              "    </tr>\n",
              "    <tr>\n",
              "      <th>odometer</th>\n",
              "      <td>0.8596</td>\n",
              "      <td>0</td>\n",
              "      <td>0</td>\n",
              "      <td>0</td>\n",
              "      <td>0.0169</td>\n",
              "      <td>0.8504</td>\n",
              "      <td>0</td>\n",
              "    </tr>\n",
              "    <tr>\n",
              "      <th>lat</th>\n",
              "      <td>0.2621</td>\n",
              "      <td>0.0012</td>\n",
              "      <td>0</td>\n",
              "      <td>0.0169</td>\n",
              "      <td>0</td>\n",
              "      <td>0</td>\n",
              "      <td>0</td>\n",
              "    </tr>\n",
              "    <tr>\n",
              "      <th>long</th>\n",
              "      <td>0.0231</td>\n",
              "      <td>0</td>\n",
              "      <td>0</td>\n",
              "      <td>0.8504</td>\n",
              "      <td>0</td>\n",
              "      <td>0</td>\n",
              "      <td>0</td>\n",
              "    </tr>\n",
              "    <tr>\n",
              "      <th>condition_num</th>\n",
              "      <td>0.8979</td>\n",
              "      <td>0</td>\n",
              "      <td>0</td>\n",
              "      <td>0</td>\n",
              "      <td>0</td>\n",
              "      <td>0</td>\n",
              "      <td>0</td>\n",
              "    </tr>\n",
              "  </tbody>\n",
              "</table>\n",
              "</div>"
            ],
            "text/plain": [
              "                price    year cylinders odometer     lat    long condition_num\n",
              "price               0  0.6622    0.0945   0.8596  0.2621  0.0231        0.8979\n",
              "year           0.6622       0         0        0  0.0012       0             0\n",
              "cylinders      0.0945       0         0        0       0       0             0\n",
              "odometer       0.8596       0         0        0  0.0169  0.8504             0\n",
              "lat            0.2621  0.0012         0   0.0169       0       0             0\n",
              "long           0.0231       0         0   0.8504       0       0             0\n",
              "condition_num  0.8979       0         0        0       0       0             0"
            ]
          },
          "metadata": {},
          "execution_count": 24
        }
      ]
    },
    {
      "cell_type": "code",
      "metadata": {
        "colab": {
          "base_uri": "https://localhost:8080/"
        },
        "id": "r9z9_WEm-sEz",
        "outputId": "1a42dcb9-a4f3-4c2b-afac-5fd5c37f5ba8"
      },
      "source": [
        "#corr p-value check\n",
        "pearsonr(df['year'], df['condition_num'])"
      ],
      "execution_count": null,
      "outputs": [
        {
          "output_type": "execute_result",
          "data": {
            "text/plain": [
              "(0.2617006297540252, 0.0)"
            ]
          },
          "metadata": {},
          "execution_count": 25
        }
      ]
    },
    {
      "cell_type": "code",
      "metadata": {
        "colab": {
          "base_uri": "https://localhost:8080/",
          "height": 1000
        },
        "id": "Lu9qlzlfIsr0",
        "outputId": "17be5f42-6948-4cb2-d4eb-9ef1f6174e3e"
      },
      "source": [
        "df.pivot_table(values='price', index='state',aggfunc=[np.mean, np.median, np.max, np.min])"
      ],
      "execution_count": null,
      "outputs": [
        {
          "output_type": "execute_result",
          "data": {
            "text/html": [
              "<div>\n",
              "<style scoped>\n",
              "    .dataframe tbody tr th:only-of-type {\n",
              "        vertical-align: middle;\n",
              "    }\n",
              "\n",
              "    .dataframe tbody tr th {\n",
              "        vertical-align: top;\n",
              "    }\n",
              "\n",
              "    .dataframe thead tr th {\n",
              "        text-align: left;\n",
              "    }\n",
              "\n",
              "    .dataframe thead tr:last-of-type th {\n",
              "        text-align: right;\n",
              "    }\n",
              "</style>\n",
              "<table border=\"1\" class=\"dataframe\">\n",
              "  <thead>\n",
              "    <tr>\n",
              "      <th></th>\n",
              "      <th>mean</th>\n",
              "      <th>median</th>\n",
              "      <th>amax</th>\n",
              "      <th>amin</th>\n",
              "    </tr>\n",
              "    <tr>\n",
              "      <th></th>\n",
              "      <th>price</th>\n",
              "      <th>price</th>\n",
              "      <th>price</th>\n",
              "      <th>price</th>\n",
              "    </tr>\n",
              "    <tr>\n",
              "      <th>state</th>\n",
              "      <th></th>\n",
              "      <th></th>\n",
              "      <th></th>\n",
              "      <th></th>\n",
              "    </tr>\n",
              "  </thead>\n",
              "  <tbody>\n",
              "    <tr>\n",
              "      <th>ak</th>\n",
              "      <td>2.417406e+04</td>\n",
              "      <td>20500.0</td>\n",
              "      <td>116000</td>\n",
              "      <td>0</td>\n",
              "    </tr>\n",
              "    <tr>\n",
              "      <th>al</th>\n",
              "      <td>1.549109e+04</td>\n",
              "      <td>10950.0</td>\n",
              "      <td>140000</td>\n",
              "      <td>0</td>\n",
              "    </tr>\n",
              "    <tr>\n",
              "      <th>ar</th>\n",
              "      <td>1.175422e+04</td>\n",
              "      <td>7500.0</td>\n",
              "      <td>87700</td>\n",
              "      <td>0</td>\n",
              "    </tr>\n",
              "    <tr>\n",
              "      <th>az</th>\n",
              "      <td>1.359250e+04</td>\n",
              "      <td>10000.0</td>\n",
              "      <td>123456</td>\n",
              "      <td>0</td>\n",
              "    </tr>\n",
              "    <tr>\n",
              "      <th>ca</th>\n",
              "      <td>1.464905e+05</td>\n",
              "      <td>9399.5</td>\n",
              "      <td>1111111111</td>\n",
              "      <td>0</td>\n",
              "    </tr>\n",
              "    <tr>\n",
              "      <th>co</th>\n",
              "      <td>1.206931e+04</td>\n",
              "      <td>8995.0</td>\n",
              "      <td>150000</td>\n",
              "      <td>0</td>\n",
              "    </tr>\n",
              "    <tr>\n",
              "      <th>ct</th>\n",
              "      <td>9.747179e+03</td>\n",
              "      <td>6495.0</td>\n",
              "      <td>76000</td>\n",
              "      <td>0</td>\n",
              "    </tr>\n",
              "    <tr>\n",
              "      <th>dc</th>\n",
              "      <td>1.022728e+04</td>\n",
              "      <td>7495.0</td>\n",
              "      <td>89000</td>\n",
              "      <td>1</td>\n",
              "    </tr>\n",
              "    <tr>\n",
              "      <th>de</th>\n",
              "      <td>1.441263e+04</td>\n",
              "      <td>8147.5</td>\n",
              "      <td>150000</td>\n",
              "      <td>0</td>\n",
              "    </tr>\n",
              "    <tr>\n",
              "      <th>fl</th>\n",
              "      <td>1.243184e+04</td>\n",
              "      <td>8535.0</td>\n",
              "      <td>169999</td>\n",
              "      <td>0</td>\n",
              "    </tr>\n",
              "    <tr>\n",
              "      <th>ga</th>\n",
              "      <td>1.225052e+04</td>\n",
              "      <td>7400.0</td>\n",
              "      <td>98900</td>\n",
              "      <td>0</td>\n",
              "    </tr>\n",
              "    <tr>\n",
              "      <th>hi</th>\n",
              "      <td>1.809146e+04</td>\n",
              "      <td>16995.0</td>\n",
              "      <td>99990</td>\n",
              "      <td>0</td>\n",
              "    </tr>\n",
              "    <tr>\n",
              "      <th>ia</th>\n",
              "      <td>1.414643e+04</td>\n",
              "      <td>10990.0</td>\n",
              "      <td>90978</td>\n",
              "      <td>0</td>\n",
              "    </tr>\n",
              "    <tr>\n",
              "      <th>id</th>\n",
              "      <td>1.096195e+05</td>\n",
              "      <td>9995.0</td>\n",
              "      <td>123456789</td>\n",
              "      <td>0</td>\n",
              "    </tr>\n",
              "    <tr>\n",
              "      <th>il</th>\n",
              "      <td>1.142311e+04</td>\n",
              "      <td>8000.0</td>\n",
              "      <td>89950</td>\n",
              "      <td>0</td>\n",
              "    </tr>\n",
              "    <tr>\n",
              "      <th>in</th>\n",
              "      <td>1.256783e+04</td>\n",
              "      <td>8000.0</td>\n",
              "      <td>1234567</td>\n",
              "      <td>0</td>\n",
              "    </tr>\n",
              "    <tr>\n",
              "      <th>ks</th>\n",
              "      <td>1.167845e+04</td>\n",
              "      <td>8450.0</td>\n",
              "      <td>124900</td>\n",
              "      <td>0</td>\n",
              "    </tr>\n",
              "    <tr>\n",
              "      <th>ky</th>\n",
              "      <td>1.531040e+04</td>\n",
              "      <td>12900.0</td>\n",
              "      <td>123456</td>\n",
              "      <td>0</td>\n",
              "    </tr>\n",
              "    <tr>\n",
              "      <th>la</th>\n",
              "      <td>9.143970e+03</td>\n",
              "      <td>6000.0</td>\n",
              "      <td>68000</td>\n",
              "      <td>0</td>\n",
              "    </tr>\n",
              "    <tr>\n",
              "      <th>ma</th>\n",
              "      <td>1.159030e+04</td>\n",
              "      <td>7995.0</td>\n",
              "      <td>129995</td>\n",
              "      <td>0</td>\n",
              "    </tr>\n",
              "    <tr>\n",
              "      <th>md</th>\n",
              "      <td>1.119983e+04</td>\n",
              "      <td>7000.0</td>\n",
              "      <td>92000</td>\n",
              "      <td>0</td>\n",
              "    </tr>\n",
              "    <tr>\n",
              "      <th>me</th>\n",
              "      <td>1.413976e+04</td>\n",
              "      <td>10500.0</td>\n",
              "      <td>87500</td>\n",
              "      <td>0</td>\n",
              "    </tr>\n",
              "    <tr>\n",
              "      <th>mi</th>\n",
              "      <td>1.557192e+04</td>\n",
              "      <td>10995.0</td>\n",
              "      <td>195000</td>\n",
              "      <td>0</td>\n",
              "    </tr>\n",
              "    <tr>\n",
              "      <th>mn</th>\n",
              "      <td>1.407961e+04</td>\n",
              "      <td>11490.0</td>\n",
              "      <td>85999</td>\n",
              "      <td>0</td>\n",
              "    </tr>\n",
              "    <tr>\n",
              "      <th>mo</th>\n",
              "      <td>1.380486e+04</td>\n",
              "      <td>11900.5</td>\n",
              "      <td>67900</td>\n",
              "      <td>0</td>\n",
              "    </tr>\n",
              "    <tr>\n",
              "      <th>ms</th>\n",
              "      <td>1.786139e+04</td>\n",
              "      <td>9844.0</td>\n",
              "      <td>1111111</td>\n",
              "      <td>0</td>\n",
              "    </tr>\n",
              "    <tr>\n",
              "      <th>mt</th>\n",
              "      <td>1.789535e+04</td>\n",
              "      <td>14500.0</td>\n",
              "      <td>112500</td>\n",
              "      <td>0</td>\n",
              "    </tr>\n",
              "    <tr>\n",
              "      <th>nc</th>\n",
              "      <td>6.241876e+04</td>\n",
              "      <td>9950.0</td>\n",
              "      <td>135008900</td>\n",
              "      <td>0</td>\n",
              "    </tr>\n",
              "    <tr>\n",
              "      <th>nd</th>\n",
              "      <td>1.821780e+04</td>\n",
              "      <td>16990.0</td>\n",
              "      <td>79950</td>\n",
              "      <td>0</td>\n",
              "    </tr>\n",
              "    <tr>\n",
              "      <th>ne</th>\n",
              "      <td>1.521127e+04</td>\n",
              "      <td>10500.0</td>\n",
              "      <td>124900</td>\n",
              "      <td>0</td>\n",
              "    </tr>\n",
              "    <tr>\n",
              "      <th>nh</th>\n",
              "      <td>1.234080e+04</td>\n",
              "      <td>9200.0</td>\n",
              "      <td>114995</td>\n",
              "      <td>1</td>\n",
              "    </tr>\n",
              "    <tr>\n",
              "      <th>nj</th>\n",
              "      <td>1.078682e+04</td>\n",
              "      <td>7499.5</td>\n",
              "      <td>79000</td>\n",
              "      <td>0</td>\n",
              "    </tr>\n",
              "    <tr>\n",
              "      <th>nm</th>\n",
              "      <td>1.415080e+04</td>\n",
              "      <td>10500.0</td>\n",
              "      <td>120706</td>\n",
              "      <td>0</td>\n",
              "    </tr>\n",
              "    <tr>\n",
              "      <th>nv</th>\n",
              "      <td>1.245371e+04</td>\n",
              "      <td>8995.0</td>\n",
              "      <td>98500</td>\n",
              "      <td>0</td>\n",
              "    </tr>\n",
              "    <tr>\n",
              "      <th>ny</th>\n",
              "      <td>1.321541e+04</td>\n",
              "      <td>9000.0</td>\n",
              "      <td>140000</td>\n",
              "      <td>0</td>\n",
              "    </tr>\n",
              "    <tr>\n",
              "      <th>oh</th>\n",
              "      <td>9.224136e+03</td>\n",
              "      <td>6495.0</td>\n",
              "      <td>110000</td>\n",
              "      <td>0</td>\n",
              "    </tr>\n",
              "    <tr>\n",
              "      <th>ok</th>\n",
              "      <td>8.632660e+04</td>\n",
              "      <td>6499.5</td>\n",
              "      <td>123456789</td>\n",
              "      <td>0</td>\n",
              "    </tr>\n",
              "    <tr>\n",
              "      <th>or</th>\n",
              "      <td>1.738390e+06</td>\n",
              "      <td>8995.0</td>\n",
              "      <td>3736928711</td>\n",
              "      <td>0</td>\n",
              "    </tr>\n",
              "    <tr>\n",
              "      <th>pa</th>\n",
              "      <td>1.084054e+04</td>\n",
              "      <td>7995.0</td>\n",
              "      <td>95000</td>\n",
              "      <td>0</td>\n",
              "    </tr>\n",
              "    <tr>\n",
              "      <th>ri</th>\n",
              "      <td>1.071243e+04</td>\n",
              "      <td>8350.0</td>\n",
              "      <td>69500</td>\n",
              "      <td>0</td>\n",
              "    </tr>\n",
              "    <tr>\n",
              "      <th>sc</th>\n",
              "      <td>1.338552e+04</td>\n",
              "      <td>8900.0</td>\n",
              "      <td>98900</td>\n",
              "      <td>0</td>\n",
              "    </tr>\n",
              "    <tr>\n",
              "      <th>sd</th>\n",
              "      <td>1.719845e+04</td>\n",
              "      <td>12500.0</td>\n",
              "      <td>79950</td>\n",
              "      <td>0</td>\n",
              "    </tr>\n",
              "    <tr>\n",
              "      <th>tn</th>\n",
              "      <td>1.786666e+04</td>\n",
              "      <td>14632.0</td>\n",
              "      <td>131500</td>\n",
              "      <td>0</td>\n",
              "    </tr>\n",
              "    <tr>\n",
              "      <th>tx</th>\n",
              "      <td>1.302985e+04</td>\n",
              "      <td>8990.0</td>\n",
              "      <td>150000</td>\n",
              "      <td>0</td>\n",
              "    </tr>\n",
              "    <tr>\n",
              "      <th>ut</th>\n",
              "      <td>1.963114e+04</td>\n",
              "      <td>14995.0</td>\n",
              "      <td>91500</td>\n",
              "      <td>0</td>\n",
              "    </tr>\n",
              "    <tr>\n",
              "      <th>va</th>\n",
              "      <td>1.276474e+04</td>\n",
              "      <td>7990.0</td>\n",
              "      <td>81000</td>\n",
              "      <td>0</td>\n",
              "    </tr>\n",
              "    <tr>\n",
              "      <th>vt</th>\n",
              "      <td>1.689780e+04</td>\n",
              "      <td>14998.0</td>\n",
              "      <td>85867</td>\n",
              "      <td>0</td>\n",
              "    </tr>\n",
              "    <tr>\n",
              "      <th>wa</th>\n",
              "      <td>1.131704e+04</td>\n",
              "      <td>7500.0</td>\n",
              "      <td>119999</td>\n",
              "      <td>0</td>\n",
              "    </tr>\n",
              "    <tr>\n",
              "      <th>wi</th>\n",
              "      <td>1.488588e+04</td>\n",
              "      <td>11995.0</td>\n",
              "      <td>125000</td>\n",
              "      <td>0</td>\n",
              "    </tr>\n",
              "    <tr>\n",
              "      <th>wv</th>\n",
              "      <td>1.590797e+04</td>\n",
              "      <td>11800.0</td>\n",
              "      <td>49990</td>\n",
              "      <td>1</td>\n",
              "    </tr>\n",
              "    <tr>\n",
              "      <th>wy</th>\n",
              "      <td>1.903372e+04</td>\n",
              "      <td>15999.0</td>\n",
              "      <td>65995</td>\n",
              "      <td>0</td>\n",
              "    </tr>\n",
              "  </tbody>\n",
              "</table>\n",
              "</div>"
            ],
            "text/plain": [
              "               mean   median        amax  amin\n",
              "              price    price       price price\n",
              "state                                         \n",
              "ak     2.417406e+04  20500.0      116000     0\n",
              "al     1.549109e+04  10950.0      140000     0\n",
              "ar     1.175422e+04   7500.0       87700     0\n",
              "az     1.359250e+04  10000.0      123456     0\n",
              "ca     1.464905e+05   9399.5  1111111111     0\n",
              "co     1.206931e+04   8995.0      150000     0\n",
              "ct     9.747179e+03   6495.0       76000     0\n",
              "dc     1.022728e+04   7495.0       89000     1\n",
              "de     1.441263e+04   8147.5      150000     0\n",
              "fl     1.243184e+04   8535.0      169999     0\n",
              "ga     1.225052e+04   7400.0       98900     0\n",
              "hi     1.809146e+04  16995.0       99990     0\n",
              "ia     1.414643e+04  10990.0       90978     0\n",
              "id     1.096195e+05   9995.0   123456789     0\n",
              "il     1.142311e+04   8000.0       89950     0\n",
              "in     1.256783e+04   8000.0     1234567     0\n",
              "ks     1.167845e+04   8450.0      124900     0\n",
              "ky     1.531040e+04  12900.0      123456     0\n",
              "la     9.143970e+03   6000.0       68000     0\n",
              "ma     1.159030e+04   7995.0      129995     0\n",
              "md     1.119983e+04   7000.0       92000     0\n",
              "me     1.413976e+04  10500.0       87500     0\n",
              "mi     1.557192e+04  10995.0      195000     0\n",
              "mn     1.407961e+04  11490.0       85999     0\n",
              "mo     1.380486e+04  11900.5       67900     0\n",
              "ms     1.786139e+04   9844.0     1111111     0\n",
              "mt     1.789535e+04  14500.0      112500     0\n",
              "nc     6.241876e+04   9950.0   135008900     0\n",
              "nd     1.821780e+04  16990.0       79950     0\n",
              "ne     1.521127e+04  10500.0      124900     0\n",
              "nh     1.234080e+04   9200.0      114995     1\n",
              "nj     1.078682e+04   7499.5       79000     0\n",
              "nm     1.415080e+04  10500.0      120706     0\n",
              "nv     1.245371e+04   8995.0       98500     0\n",
              "ny     1.321541e+04   9000.0      140000     0\n",
              "oh     9.224136e+03   6495.0      110000     0\n",
              "ok     8.632660e+04   6499.5   123456789     0\n",
              "or     1.738390e+06   8995.0  3736928711     0\n",
              "pa     1.084054e+04   7995.0       95000     0\n",
              "ri     1.071243e+04   8350.0       69500     0\n",
              "sc     1.338552e+04   8900.0       98900     0\n",
              "sd     1.719845e+04  12500.0       79950     0\n",
              "tn     1.786666e+04  14632.0      131500     0\n",
              "tx     1.302985e+04   8990.0      150000     0\n",
              "ut     1.963114e+04  14995.0       91500     0\n",
              "va     1.276474e+04   7990.0       81000     0\n",
              "vt     1.689780e+04  14998.0       85867     0\n",
              "wa     1.131704e+04   7500.0      119999     0\n",
              "wi     1.488588e+04  11995.0      125000     0\n",
              "wv     1.590797e+04  11800.0       49990     1\n",
              "wy     1.903372e+04  15999.0       65995     0"
            ]
          },
          "metadata": {},
          "execution_count": 26
        }
      ]
    },
    {
      "cell_type": "code",
      "metadata": {
        "colab": {
          "base_uri": "https://localhost:8080/",
          "height": 1000
        },
        "id": "_rNQSs_dBQ1U",
        "outputId": "0059b1d3-3a94-4d00-97eb-f8284beb3609"
      },
      "source": [
        "df = df[df['price'] >=50] #-->e.g.\n",
        "df.pivot_table(values='price', index='state',aggfunc=[np.mean, np.median, np.max, np.min])"
      ],
      "execution_count": null,
      "outputs": [
        {
          "output_type": "execute_result",
          "data": {
            "text/html": [
              "<div>\n",
              "<style scoped>\n",
              "    .dataframe tbody tr th:only-of-type {\n",
              "        vertical-align: middle;\n",
              "    }\n",
              "\n",
              "    .dataframe tbody tr th {\n",
              "        vertical-align: top;\n",
              "    }\n",
              "\n",
              "    .dataframe thead tr th {\n",
              "        text-align: left;\n",
              "    }\n",
              "\n",
              "    .dataframe thead tr:last-of-type th {\n",
              "        text-align: right;\n",
              "    }\n",
              "</style>\n",
              "<table border=\"1\" class=\"dataframe\">\n",
              "  <thead>\n",
              "    <tr>\n",
              "      <th></th>\n",
              "      <th>mean</th>\n",
              "      <th>median</th>\n",
              "      <th>amax</th>\n",
              "      <th>amin</th>\n",
              "    </tr>\n",
              "    <tr>\n",
              "      <th></th>\n",
              "      <th>price</th>\n",
              "      <th>price</th>\n",
              "      <th>price</th>\n",
              "      <th>price</th>\n",
              "    </tr>\n",
              "    <tr>\n",
              "      <th>state</th>\n",
              "      <th></th>\n",
              "      <th></th>\n",
              "      <th></th>\n",
              "      <th></th>\n",
              "    </tr>\n",
              "  </thead>\n",
              "  <tbody>\n",
              "    <tr>\n",
              "      <th>ak</th>\n",
              "      <td>2.436744e+04</td>\n",
              "      <td>20999.0</td>\n",
              "      <td>116000</td>\n",
              "      <td>450</td>\n",
              "    </tr>\n",
              "    <tr>\n",
              "      <th>al</th>\n",
              "      <td>1.664285e+04</td>\n",
              "      <td>11990.0</td>\n",
              "      <td>140000</td>\n",
              "      <td>300</td>\n",
              "    </tr>\n",
              "    <tr>\n",
              "      <th>ar</th>\n",
              "      <td>1.513833e+04</td>\n",
              "      <td>10500.0</td>\n",
              "      <td>87700</td>\n",
              "      <td>499</td>\n",
              "    </tr>\n",
              "    <tr>\n",
              "      <th>az</th>\n",
              "      <td>1.366908e+04</td>\n",
              "      <td>10000.0</td>\n",
              "      <td>123456</td>\n",
              "      <td>100</td>\n",
              "    </tr>\n",
              "    <tr>\n",
              "      <th>ca</th>\n",
              "      <td>1.538481e+05</td>\n",
              "      <td>9962.5</td>\n",
              "      <td>1111111111</td>\n",
              "      <td>55</td>\n",
              "    </tr>\n",
              "    <tr>\n",
              "      <th>co</th>\n",
              "      <td>1.221331e+04</td>\n",
              "      <td>9000.0</td>\n",
              "      <td>150000</td>\n",
              "      <td>500</td>\n",
              "    </tr>\n",
              "    <tr>\n",
              "      <th>ct</th>\n",
              "      <td>1.071855e+04</td>\n",
              "      <td>6995.0</td>\n",
              "      <td>76000</td>\n",
              "      <td>600</td>\n",
              "    </tr>\n",
              "    <tr>\n",
              "      <th>dc</th>\n",
              "      <td>1.024859e+04</td>\n",
              "      <td>7495.0</td>\n",
              "      <td>89000</td>\n",
              "      <td>65</td>\n",
              "    </tr>\n",
              "    <tr>\n",
              "      <th>de</th>\n",
              "      <td>1.454017e+04</td>\n",
              "      <td>8375.0</td>\n",
              "      <td>150000</td>\n",
              "      <td>55</td>\n",
              "    </tr>\n",
              "    <tr>\n",
              "      <th>fl</th>\n",
              "      <td>1.457008e+04</td>\n",
              "      <td>10400.0</td>\n",
              "      <td>169999</td>\n",
              "      <td>85</td>\n",
              "    </tr>\n",
              "    <tr>\n",
              "      <th>ga</th>\n",
              "      <td>1.367658e+04</td>\n",
              "      <td>8500.0</td>\n",
              "      <td>98900</td>\n",
              "      <td>93</td>\n",
              "    </tr>\n",
              "    <tr>\n",
              "      <th>hi</th>\n",
              "      <td>1.872997e+04</td>\n",
              "      <td>17700.0</td>\n",
              "      <td>99990</td>\n",
              "      <td>80</td>\n",
              "    </tr>\n",
              "    <tr>\n",
              "      <th>ia</th>\n",
              "      <td>1.474016e+04</td>\n",
              "      <td>10999.0</td>\n",
              "      <td>90978</td>\n",
              "      <td>300</td>\n",
              "    </tr>\n",
              "    <tr>\n",
              "      <th>id</th>\n",
              "      <td>1.171987e+05</td>\n",
              "      <td>10988.0</td>\n",
              "      <td>123456789</td>\n",
              "      <td>170</td>\n",
              "    </tr>\n",
              "    <tr>\n",
              "      <th>il</th>\n",
              "      <td>1.203556e+04</td>\n",
              "      <td>8900.0</td>\n",
              "      <td>89950</td>\n",
              "      <td>123</td>\n",
              "    </tr>\n",
              "    <tr>\n",
              "      <th>in</th>\n",
              "      <td>1.265876e+04</td>\n",
              "      <td>8100.0</td>\n",
              "      <td>1234567</td>\n",
              "      <td>199</td>\n",
              "    </tr>\n",
              "    <tr>\n",
              "      <th>ks</th>\n",
              "      <td>1.307595e+04</td>\n",
              "      <td>9500.0</td>\n",
              "      <td>124900</td>\n",
              "      <td>245</td>\n",
              "    </tr>\n",
              "    <tr>\n",
              "      <th>ky</th>\n",
              "      <td>1.541606e+04</td>\n",
              "      <td>12900.0</td>\n",
              "      <td>123456</td>\n",
              "      <td>1000</td>\n",
              "    </tr>\n",
              "    <tr>\n",
              "      <th>la</th>\n",
              "      <td>1.208111e+04</td>\n",
              "      <td>8500.0</td>\n",
              "      <td>68000</td>\n",
              "      <td>323</td>\n",
              "    </tr>\n",
              "    <tr>\n",
              "      <th>ma</th>\n",
              "      <td>1.240314e+04</td>\n",
              "      <td>8925.0</td>\n",
              "      <td>129995</td>\n",
              "      <td>65</td>\n",
              "    </tr>\n",
              "    <tr>\n",
              "      <th>md</th>\n",
              "      <td>1.171237e+04</td>\n",
              "      <td>7500.0</td>\n",
              "      <td>92000</td>\n",
              "      <td>800</td>\n",
              "    </tr>\n",
              "    <tr>\n",
              "      <th>me</th>\n",
              "      <td>1.550567e+04</td>\n",
              "      <td>11500.0</td>\n",
              "      <td>87500</td>\n",
              "      <td>500</td>\n",
              "    </tr>\n",
              "    <tr>\n",
              "      <th>mi</th>\n",
              "      <td>1.589344e+04</td>\n",
              "      <td>11450.0</td>\n",
              "      <td>195000</td>\n",
              "      <td>338</td>\n",
              "    </tr>\n",
              "    <tr>\n",
              "      <th>mn</th>\n",
              "      <td>1.420911e+04</td>\n",
              "      <td>11500.0</td>\n",
              "      <td>85999</td>\n",
              "      <td>50</td>\n",
              "    </tr>\n",
              "    <tr>\n",
              "      <th>mo</th>\n",
              "      <td>1.562962e+04</td>\n",
              "      <td>13900.0</td>\n",
              "      <td>67900</td>\n",
              "      <td>175</td>\n",
              "    </tr>\n",
              "    <tr>\n",
              "      <th>ms</th>\n",
              "      <td>1.856874e+04</td>\n",
              "      <td>9984.0</td>\n",
              "      <td>1111111</td>\n",
              "      <td>1000</td>\n",
              "    </tr>\n",
              "    <tr>\n",
              "      <th>mt</th>\n",
              "      <td>1.812053e+04</td>\n",
              "      <td>14625.0</td>\n",
              "      <td>112500</td>\n",
              "      <td>400</td>\n",
              "    </tr>\n",
              "    <tr>\n",
              "      <th>nc</th>\n",
              "      <td>6.568202e+04</td>\n",
              "      <td>10850.0</td>\n",
              "      <td>135008900</td>\n",
              "      <td>50</td>\n",
              "    </tr>\n",
              "    <tr>\n",
              "      <th>nd</th>\n",
              "      <td>1.856480e+04</td>\n",
              "      <td>16990.0</td>\n",
              "      <td>79950</td>\n",
              "      <td>700</td>\n",
              "    </tr>\n",
              "    <tr>\n",
              "      <th>ne</th>\n",
              "      <td>1.532738e+04</td>\n",
              "      <td>10525.0</td>\n",
              "      <td>124900</td>\n",
              "      <td>1200</td>\n",
              "    </tr>\n",
              "    <tr>\n",
              "      <th>nh</th>\n",
              "      <td>1.236299e+04</td>\n",
              "      <td>9247.5</td>\n",
              "      <td>114995</td>\n",
              "      <td>235</td>\n",
              "    </tr>\n",
              "    <tr>\n",
              "      <th>nj</th>\n",
              "      <td>1.091648e+04</td>\n",
              "      <td>7500.0</td>\n",
              "      <td>79000</td>\n",
              "      <td>79</td>\n",
              "    </tr>\n",
              "    <tr>\n",
              "      <th>nm</th>\n",
              "      <td>1.532211e+04</td>\n",
              "      <td>11300.0</td>\n",
              "      <td>120706</td>\n",
              "      <td>500</td>\n",
              "    </tr>\n",
              "    <tr>\n",
              "      <th>nv</th>\n",
              "      <td>1.270475e+04</td>\n",
              "      <td>8995.0</td>\n",
              "      <td>98500</td>\n",
              "      <td>95</td>\n",
              "    </tr>\n",
              "    <tr>\n",
              "      <th>ny</th>\n",
              "      <td>1.333508e+04</td>\n",
              "      <td>9479.0</td>\n",
              "      <td>140000</td>\n",
              "      <td>246</td>\n",
              "    </tr>\n",
              "    <tr>\n",
              "      <th>oh</th>\n",
              "      <td>1.003372e+04</td>\n",
              "      <td>6995.0</td>\n",
              "      <td>110000</td>\n",
              "      <td>100</td>\n",
              "    </tr>\n",
              "    <tr>\n",
              "      <th>ok</th>\n",
              "      <td>1.215349e+05</td>\n",
              "      <td>11350.0</td>\n",
              "      <td>123456789</td>\n",
              "      <td>499</td>\n",
              "    </tr>\n",
              "    <tr>\n",
              "      <th>or</th>\n",
              "      <td>1.780328e+06</td>\n",
              "      <td>9050.0</td>\n",
              "      <td>3736928711</td>\n",
              "      <td>70</td>\n",
              "    </tr>\n",
              "    <tr>\n",
              "      <th>pa</th>\n",
              "      <td>1.090844e+04</td>\n",
              "      <td>7995.0</td>\n",
              "      <td>95000</td>\n",
              "      <td>100</td>\n",
              "    </tr>\n",
              "    <tr>\n",
              "      <th>ri</th>\n",
              "      <td>1.113217e+04</td>\n",
              "      <td>8500.0</td>\n",
              "      <td>69500</td>\n",
              "      <td>750</td>\n",
              "    </tr>\n",
              "    <tr>\n",
              "      <th>sc</th>\n",
              "      <td>1.490195e+04</td>\n",
              "      <td>9999.0</td>\n",
              "      <td>98900</td>\n",
              "      <td>600</td>\n",
              "    </tr>\n",
              "    <tr>\n",
              "      <th>sd</th>\n",
              "      <td>1.791049e+04</td>\n",
              "      <td>12971.0</td>\n",
              "      <td>79950</td>\n",
              "      <td>500</td>\n",
              "    </tr>\n",
              "    <tr>\n",
              "      <th>tn</th>\n",
              "      <td>1.840367e+04</td>\n",
              "      <td>14997.0</td>\n",
              "      <td>131500</td>\n",
              "      <td>123</td>\n",
              "    </tr>\n",
              "    <tr>\n",
              "      <th>tx</th>\n",
              "      <td>1.377406e+04</td>\n",
              "      <td>9500.0</td>\n",
              "      <td>150000</td>\n",
              "      <td>50</td>\n",
              "    </tr>\n",
              "    <tr>\n",
              "      <th>ut</th>\n",
              "      <td>2.007528e+04</td>\n",
              "      <td>15991.0</td>\n",
              "      <td>91500</td>\n",
              "      <td>500</td>\n",
              "    </tr>\n",
              "    <tr>\n",
              "      <th>va</th>\n",
              "      <td>1.293593e+04</td>\n",
              "      <td>7995.0</td>\n",
              "      <td>81000</td>\n",
              "      <td>400</td>\n",
              "    </tr>\n",
              "    <tr>\n",
              "      <th>vt</th>\n",
              "      <td>1.726590e+04</td>\n",
              "      <td>15695.0</td>\n",
              "      <td>85867</td>\n",
              "      <td>500</td>\n",
              "    </tr>\n",
              "    <tr>\n",
              "      <th>wa</th>\n",
              "      <td>1.138361e+04</td>\n",
              "      <td>7500.0</td>\n",
              "      <td>119999</td>\n",
              "      <td>250</td>\n",
              "    </tr>\n",
              "    <tr>\n",
              "      <th>wi</th>\n",
              "      <td>1.498340e+04</td>\n",
              "      <td>12000.0</td>\n",
              "      <td>125000</td>\n",
              "      <td>123</td>\n",
              "    </tr>\n",
              "    <tr>\n",
              "      <th>wv</th>\n",
              "      <td>1.614707e+04</td>\n",
              "      <td>12000.0</td>\n",
              "      <td>49990</td>\n",
              "      <td>1000</td>\n",
              "    </tr>\n",
              "    <tr>\n",
              "      <th>wy</th>\n",
              "      <td>1.943870e+04</td>\n",
              "      <td>15999.0</td>\n",
              "      <td>65995</td>\n",
              "      <td>600</td>\n",
              "    </tr>\n",
              "  </tbody>\n",
              "</table>\n",
              "</div>"
            ],
            "text/plain": [
              "               mean   median        amax  amin\n",
              "              price    price       price price\n",
              "state                                         \n",
              "ak     2.436744e+04  20999.0      116000   450\n",
              "al     1.664285e+04  11990.0      140000   300\n",
              "ar     1.513833e+04  10500.0       87700   499\n",
              "az     1.366908e+04  10000.0      123456   100\n",
              "ca     1.538481e+05   9962.5  1111111111    55\n",
              "co     1.221331e+04   9000.0      150000   500\n",
              "ct     1.071855e+04   6995.0       76000   600\n",
              "dc     1.024859e+04   7495.0       89000    65\n",
              "de     1.454017e+04   8375.0      150000    55\n",
              "fl     1.457008e+04  10400.0      169999    85\n",
              "ga     1.367658e+04   8500.0       98900    93\n",
              "hi     1.872997e+04  17700.0       99990    80\n",
              "ia     1.474016e+04  10999.0       90978   300\n",
              "id     1.171987e+05  10988.0   123456789   170\n",
              "il     1.203556e+04   8900.0       89950   123\n",
              "in     1.265876e+04   8100.0     1234567   199\n",
              "ks     1.307595e+04   9500.0      124900   245\n",
              "ky     1.541606e+04  12900.0      123456  1000\n",
              "la     1.208111e+04   8500.0       68000   323\n",
              "ma     1.240314e+04   8925.0      129995    65\n",
              "md     1.171237e+04   7500.0       92000   800\n",
              "me     1.550567e+04  11500.0       87500   500\n",
              "mi     1.589344e+04  11450.0      195000   338\n",
              "mn     1.420911e+04  11500.0       85999    50\n",
              "mo     1.562962e+04  13900.0       67900   175\n",
              "ms     1.856874e+04   9984.0     1111111  1000\n",
              "mt     1.812053e+04  14625.0      112500   400\n",
              "nc     6.568202e+04  10850.0   135008900    50\n",
              "nd     1.856480e+04  16990.0       79950   700\n",
              "ne     1.532738e+04  10525.0      124900  1200\n",
              "nh     1.236299e+04   9247.5      114995   235\n",
              "nj     1.091648e+04   7500.0       79000    79\n",
              "nm     1.532211e+04  11300.0      120706   500\n",
              "nv     1.270475e+04   8995.0       98500    95\n",
              "ny     1.333508e+04   9479.0      140000   246\n",
              "oh     1.003372e+04   6995.0      110000   100\n",
              "ok     1.215349e+05  11350.0   123456789   499\n",
              "or     1.780328e+06   9050.0  3736928711    70\n",
              "pa     1.090844e+04   7995.0       95000   100\n",
              "ri     1.113217e+04   8500.0       69500   750\n",
              "sc     1.490195e+04   9999.0       98900   600\n",
              "sd     1.791049e+04  12971.0       79950   500\n",
              "tn     1.840367e+04  14997.0      131500   123\n",
              "tx     1.377406e+04   9500.0      150000    50\n",
              "ut     2.007528e+04  15991.0       91500   500\n",
              "va     1.293593e+04   7995.0       81000   400\n",
              "vt     1.726590e+04  15695.0       85867   500\n",
              "wa     1.138361e+04   7500.0      119999   250\n",
              "wi     1.498340e+04  12000.0      125000   123\n",
              "wv     1.614707e+04  12000.0       49990  1000\n",
              "wy     1.943870e+04  15999.0       65995   600"
            ]
          },
          "metadata": {},
          "execution_count": 27
        }
      ]
    },
    {
      "cell_type": "code",
      "metadata": {
        "colab": {
          "base_uri": "https://localhost:8080/",
          "height": 536
        },
        "id": "o9Ne4WhxO4UH",
        "outputId": "305cd03f-b091-428d-ff63-3ac3bf37dc99"
      },
      "source": [
        "#distribution bar chart --> state/sales adverts\n",
        "plt = df['state'].value_counts().plot(kind='bar',\n",
        "                                    figsize=(14,8),\n",
        "                                    title=\"Number of Used Cars Sales Adverts per State\")\n",
        "plt.set_xlabel(\"State\")\n",
        "plt.set_ylabel(\"Sales adverts\")"
      ],
      "execution_count": null,
      "outputs": [
        {
          "output_type": "execute_result",
          "data": {
            "text/plain": [
              "Text(0, 0.5, 'Sales adverts')"
            ]
          },
          "metadata": {},
          "execution_count": 28
        },
        {
          "output_type": "display_data",
          "data": {
            "image/png": "[encoded data removed]",
            "text/plain": [
              "<Figure size 1008x576 with 1 Axes>"
            ]
          },
          "metadata": {
            "needs_background": "light"
          }
        }
      ]
    },
    {
      "cell_type": "code",
      "metadata": {
        "colab": {
          "base_uri": "https://localhost:8080/",
          "height": 600
        },
        "id": "wl5EnrCRYbbg",
        "outputId": "8f709d19-28d2-437d-9a4c-f77c849d54c7"
      },
      "source": [
        "#distribution bar chart --> brand/sales adverts\n",
        "ax = df['manufacturer'].value_counts().plot(kind='bar',\n",
        "                                    figsize=(14,8),\n",
        "                                    title=\"Number of Used Cars Sales Adverts per Manufacturer\")\n",
        "ax.set_xlabel(\"Manufacturer\")\n",
        "ax.set_ylabel(\"Sales adverts\")"
      ],
      "execution_count": null,
      "outputs": [
        {
          "output_type": "execute_result",
          "data": {
            "text/plain": [
              "Text(0, 0.5, 'Sales adverts')"
            ]
          },
          "metadata": {},
          "execution_count": 29
        },
        {
          "output_type": "display_data",
          "data": {
            "image/png": "[encoded data removed]",
            "text/plain": [
              "<Figure size 1008x576 with 1 Axes>"
            ]
          },
          "metadata": {
            "needs_background": "light"
          }
        }
      ]
    },
    {
      "cell_type": "code",
      "metadata": {
        "colab": {
          "base_uri": "https://localhost:8080/",
          "height": 1000
        },
        "id": "1qKR1pI_DTfC",
        "outputId": "8ce284f9-69f5-4f6a-eafd-88ef6319ff83"
      },
      "source": [
        "#distribution bar chart --> state/ASP\n",
        "print(df.groupby('state', as_index=True)['price'].mean())\n",
        "plt2 = sns.barplot('state', 'price', data=df, ci=False)"
      ],
      "execution_count": null,
      "outputs": [
        {
          "output_type": "stream",
          "text": [
            "state\n",
            "ak    2.436744e+04\n",
            "al    1.664285e+04\n",
            "ar    1.513833e+04\n",
            "az    1.366908e+04\n",
            "ca    1.538481e+05\n",
            "co    1.221331e+04\n",
            "ct    1.071855e+04\n",
            "dc    1.024859e+04\n",
            "de    1.454017e+04\n",
            "fl    1.457008e+04\n",
            "ga    1.367658e+04\n",
            "hi    1.872997e+04\n",
            "ia    1.474016e+04\n",
            "id    1.171987e+05\n",
            "il    1.203556e+04\n",
            "in    1.265876e+04\n",
            "ks    1.307595e+04\n",
            "ky    1.541606e+04\n",
            "la    1.208111e+04\n",
            "ma    1.240314e+04\n",
            "md    1.171237e+04\n",
            "me    1.550567e+04\n",
            "mi    1.589344e+04\n",
            "mn    1.420911e+04\n",
            "mo    1.562962e+04\n",
            "ms    1.856874e+04\n",
            "mt    1.812053e+04\n",
            "nc    6.568202e+04\n",
            "nd    1.856480e+04\n",
            "ne    1.532738e+04\n",
            "nh    1.236299e+04\n",
            "nj    1.091648e+04\n",
            "nm    1.532211e+04\n",
            "nv    1.270475e+04\n",
            "ny    1.333508e+04\n",
            "oh    1.003372e+04\n",
            "ok    1.215349e+05\n",
            "or    1.780328e+06\n",
            "pa    1.090844e+04\n",
            "ri    1.113217e+04\n",
            "sc    1.490195e+04\n",
            "sd    1.791049e+04\n",
            "tn    1.840367e+04\n",
            "tx    1.377406e+04\n",
            "ut    2.007528e+04\n",
            "va    1.293593e+04\n",
            "vt    1.726590e+04\n",
            "wa    1.138361e+04\n",
            "wi    1.498340e+04\n",
            "wv    1.614707e+04\n",
            "wy    1.943870e+04\n",
            "Name: price, dtype: float64\n"
          ],
          "name": "stdout"
        },
        {
          "output_type": "stream",
          "text": [
            "/usr/local/lib/python3.7/dist-packages/seaborn/_decorators.py:43: FutureWarning:\n",
            "\n",
            "Pass the following variables as keyword args: x, y. From version 0.12, the only valid positional argument will be `data`, and passing other arguments without an explicit keyword will result in an error or misinterpretation.\n",
            "\n"
          ],
          "name": "stderr"
        },
        {
          "output_type": "display_data",
          "data": {
            "image/png": "[encoded data removed]",
            "text/plain": [
              "<Figure size 432x288 with 1 Axes>"
            ]
          },
          "metadata": {
            "needs_background": "light"
          }
        }
      ]
    },
    {
      "cell_type": "code",
      "metadata": {
        "colab": {
          "base_uri": "https://localhost:8080/",
          "height": 1000
        },
        "id": "Lmk9KBe0Yy-a",
        "outputId": "e35d3bf3-be54-4985-9b1e-8c8945b74229"
      },
      "source": [
        "#distribution bar chart --> manufacturer/ASP\n",
        "print(df.groupby('manufacturer', as_index=False)['price'].mean()) #check ferrari etc. 100k > subset drop and graph\n",
        "plt2 = sns.barplot('manufacturer', 'price', data=df, ci=False)"
      ],
      "execution_count": null,
      "outputs": [
        {
          "output_type": "stream",
          "text": [
            "       manufacturer          price\n",
            "0             acura    9755.484115\n",
            "1        alfa-romeo   21795.964286\n",
            "2      aston-martin   53367.000000\n",
            "3              audi   14410.392065\n",
            "4               bmw   13511.438939\n",
            "5             buick  133436.023139\n",
            "6          cadillac   12517.028597\n",
            "7         chevrolet   15782.675234\n",
            "8          chrysler    7926.808903\n",
            "9            datsun   14237.615385\n",
            "10            dodge   11595.129427\n",
            "11          ferrari  102163.666667\n",
            "12             fiat    9177.891667\n",
            "13             ford   93037.468914\n",
            "14              gmc   61461.688110\n",
            "15  harley-davidson   14975.333333\n",
            "16            honda    8926.062554\n",
            "17          hyundai    8277.931614\n",
            "18         infiniti   12639.224109\n",
            "19           jaguar   14753.126829\n",
            "20             jeep   14628.017845\n",
            "21              kia    8603.468654\n",
            "22       land rover   18116.875000\n",
            "23            lexus   13781.096354\n",
            "24          lincoln   10983.658842\n",
            "25            mazda    8486.379459\n",
            "26    mercedes-benz   15099.656863\n",
            "27          mercury    5675.439791\n",
            "28             mini    9261.968675\n",
            "29       mitsubishi   13724.975737\n",
            "30           nissan   46082.619303\n",
            "31          pontiac    8572.245690\n",
            "32          porsche   28865.820717\n",
            "33              ram   31027.800153\n",
            "34            rover   22032.847751\n",
            "35           saturn   10427.628743\n",
            "36           subaru   10477.151659\n",
            "37            tesla   84999.000000\n",
            "38           toyota  581400.200365\n",
            "39       volkswagen    9309.175676\n",
            "40            volvo    9077.692177\n"
          ],
          "name": "stdout"
        },
        {
          "output_type": "stream",
          "text": [
            "/usr/local/lib/python3.7/dist-packages/seaborn/_decorators.py:43: FutureWarning:\n",
            "\n",
            "Pass the following variables as keyword args: x, y. From version 0.12, the only valid positional argument will be `data`, and passing other arguments without an explicit keyword will result in an error or misinterpretation.\n",
            "\n"
          ],
          "name": "stderr"
        },
        {
          "output_type": "display_data",
          "data": {
            "image/png": "[encoded data removed]",
            "text/plain": [
              "<Figure size 432x288 with 1 Axes>"
            ]
          },
          "metadata": {
            "needs_background": "light"
          }
        }
      ]
    },
    {
      "cell_type": "code",
      "metadata": {
        "colab": {
          "base_uri": "https://localhost:8080/",
          "height": 296
        },
        "id": "IhoQ-tnMyonH",
        "outputId": "86919d42-6b64-4d15-9bc1-c55312ae5ed1"
      },
      "source": [
        "#detect and remove outliers\n",
        "sns.boxplot(x=df['price'])"
      ],
      "execution_count": null,
      "outputs": [
        {
          "output_type": "execute_result",
          "data": {
            "text/plain": [
              "<matplotlib.axes._subplots.AxesSubplot at 0x7f97770e3750>"
            ]
          },
          "metadata": {},
          "execution_count": 32
        },
        {
          "output_type": "display_data",
          "data": {
            "image/png": "[encoded data removed]",
            "text/plain": [
              "<Figure size 432x288 with 1 Axes>"
            ]
          },
          "metadata": {
            "needs_background": "light"
          }
        }
      ]
    },
    {
      "cell_type": "code",
      "metadata": {
        "colab": {
          "base_uri": "https://localhost:8080/"
        },
        "id": "7P10rtG0Fziy",
        "outputId": "38da3034-2453-41e3-b2b6-57149544520d"
      },
      "source": [
        "Q1 = df.quantile(0.25)\n",
        "Q3 = df.quantile(0.75)\n",
        "IQR = Q3 - Q1\n",
        "print(IQR)"
      ],
      "execution_count": null,
      "outputs": [
        {
          "output_type": "stream",
          "text": [
            "price              12500\n",
            "year                   9\n",
            "cylinders              4\n",
            "odometer           81266\n",
            "lat              7.21685\n",
            "long             25.0668\n",
            "condition_num          1\n",
            "dtype: object\n"
          ],
          "name": "stdout"
        }
      ]
    },
    {
      "cell_type": "code",
      "metadata": {
        "colab": {
          "base_uri": "https://localhost:8080/"
        },
        "id": "0oPy3TNQHocI",
        "outputId": "fb45e5f9-a5de-45d9-dca5-b018e251b805"
      },
      "source": [
        "print(df < (Q1 - 1.5 * IQR))"
      ],
      "execution_count": null,
      "outputs": [
        {
          "output_type": "stream",
          "text": [
            "            condition  condition_num  cylinders  ...  transmission   type   year\n",
            "id                                               ...                            \n",
            "7316356412      False          False      False  ...         False  False  False\n",
            "7314560853      False          False      False  ...         False  False  False\n",
            "7313406529      False          False      False  ...         False  False  False\n",
            "7312847466      False          False      False  ...         False  False  False\n",
            "7312144944      False          False      False  ...         False  False  False\n",
            "...               ...            ...        ...  ...           ...    ...    ...\n",
            "7303112347      False          False      False  ...         False  False  False\n",
            "7302963673      False          False      False  ...         False  False  False\n",
            "7302963273      False          False      False  ...         False  False   True\n",
            "7302384818      False          False      False  ...         False  False   True\n",
            "7302338378      False          False      False  ...         False  False  False\n",
            "\n",
            "[74208 rows x 20 columns]\n"
          ],
          "name": "stdout"
        }
      ]
    },
    {
      "cell_type": "code",
      "metadata": {
        "colab": {
          "base_uri": "https://localhost:8080/"
        },
        "id": "YEWYZQwALAGY",
        "outputId": "e0b2b2cc-7b8f-4c7b-cf36-a1e9d1d924d6"
      },
      "source": [
        "print(df > (Q3 + 1.5 * IQR))"
      ],
      "execution_count": null,
      "outputs": [
        {
          "output_type": "stream",
          "text": [
            "            condition  condition_num  cylinders  ...  transmission   type   year\n",
            "id                                               ...                            \n",
            "7316356412      False          False      False  ...         False  False  False\n",
            "7314560853      False          False      False  ...         False  False  False\n",
            "7313406529      False          False      False  ...         False  False  False\n",
            "7312847466      False          False      False  ...         False  False  False\n",
            "7312144944      False          False      False  ...         False  False  False\n",
            "...               ...            ...        ...  ...           ...    ...    ...\n",
            "7303112347      False          False      False  ...         False  False  False\n",
            "7302963673      False          False      False  ...         False  False  False\n",
            "7302963273      False          False      False  ...         False  False  False\n",
            "7302384818      False          False      False  ...         False  False  False\n",
            "7302338378      False          False      False  ...         False  False  False\n",
            "\n",
            "[74208 rows x 20 columns]\n"
          ],
          "name": "stdout"
        }
      ]
    },
    {
      "cell_type": "code",
      "metadata": {
        "id": "TYt3Qx5lKNlA"
      },
      "source": [
        "df_out = df[~((df < (Q1 - 1.5 * IQR)) |(df > (Q3 + 1.5 * IQR))).any(axis=1)]"
      ],
      "execution_count": null,
      "outputs": []
    },
    {
      "cell_type": "code",
      "metadata": {
        "colab": {
          "base_uri": "https://localhost:8080/"
        },
        "id": "Zz6-mxdcKW-F",
        "outputId": "6169c622-20b8-49f8-83cf-cba2ca3161a7"
      },
      "source": [
        "df_out.shape"
      ],
      "execution_count": null,
      "outputs": [
        {
          "output_type": "execute_result",
          "data": {
            "text/plain": [
              "(64503, 20)"
            ]
          },
          "metadata": {},
          "execution_count": 37
        }
      ]
    },
    {
      "cell_type": "code",
      "metadata": {
        "colab": {
          "base_uri": "https://localhost:8080/",
          "height": 296
        },
        "id": "qE4Pg6gaKovY",
        "outputId": "d3cccdf6-d900-4bd3-b26f-0735d3a8a900"
      },
      "source": [
        "sns.boxplot(x=df_out['price'])"
      ],
      "execution_count": null,
      "outputs": [
        {
          "output_type": "execute_result",
          "data": {
            "text/plain": [
              "<matplotlib.axes._subplots.AxesSubplot at 0x7f9776eb93d0>"
            ]
          },
          "metadata": {},
          "execution_count": 38
        },
        {
          "output_type": "display_data",
          "data": {
            "image/png": "[encoded data removed]",
            "text/plain": [
              "<Figure size 432x288 with 1 Axes>"
            ]
          },
          "metadata": {
            "needs_background": "light"
          }
        }
      ]
    },
    {
      "cell_type": "code",
      "metadata": {
        "colab": {
          "base_uri": "https://localhost:8080/",
          "height": 1000
        },
        "id": "b7QR8-EULOxM",
        "outputId": "354f41c1-2565-4734-ed73-2f00accdf2bd"
      },
      "source": [
        "print(df_out.groupby('manufacturer', as_index=False)['price'].mean()) \n",
        "plt2 = sns.barplot('manufacturer', 'price', data=df_out, ci=False)"
      ],
      "execution_count": null,
      "outputs": [
        {
          "output_type": "stream",
          "text": [
            "       manufacturer         price\n",
            "0             acura   9220.546326\n",
            "1        alfa-romeo  27974.062500\n",
            "2      aston-martin  32900.000000\n",
            "3              audi  12701.591022\n",
            "4               bmw  11790.087662\n",
            "5             buick   8508.660571\n",
            "6          cadillac  10734.482030\n",
            "7         chevrolet  13109.769231\n",
            "8          chrysler   7511.527823\n",
            "9             dodge   9532.337302\n",
            "10             fiat   8666.783505\n",
            "11             ford  13849.711204\n",
            "12              gmc  15816.981320\n",
            "13  harley-davidson  14821.150000\n",
            "14            honda   8742.202020\n",
            "15          hyundai   8129.555419\n",
            "16         infiniti  11729.321555\n",
            "17           jaguar  10848.739394\n",
            "18             jeep  13008.784387\n",
            "19              kia   8319.646178\n",
            "20       land rover   6990.000000\n",
            "21            lexus  12720.188732\n",
            "22          lincoln   9906.559567\n",
            "23            mazda   8561.431946\n",
            "24    mercedes-benz  12484.216370\n",
            "25          mercury   4188.946032\n",
            "26             mini   8986.989924\n",
            "27       mitsubishi  12085.126894\n",
            "28           nissan   9433.506753\n",
            "29          pontiac   5951.327778\n",
            "30          porsche  18224.926829\n",
            "31              ram  18908.501287\n",
            "32            rover  15861.646809\n",
            "33           saturn   4435.206687\n",
            "34           subaru  10167.839237\n",
            "35           toyota  10996.904495\n",
            "36       volkswagen   8836.278431\n",
            "37            volvo   7451.905303\n"
          ],
          "name": "stdout"
        },
        {
          "output_type": "stream",
          "text": [
            "/usr/local/lib/python3.7/dist-packages/seaborn/_decorators.py:43: FutureWarning:\n",
            "\n",
            "Pass the following variables as keyword args: x, y. From version 0.12, the only valid positional argument will be `data`, and passing other arguments without an explicit keyword will result in an error or misinterpretation.\n",
            "\n"
          ],
          "name": "stderr"
        },
        {
          "output_type": "display_data",
          "data": {
            "image/png": "[encoded data removed]",
            "text/plain": [
              "<Figure size 432x288 with 1 Axes>"
            ]
          },
          "metadata": {
            "needs_background": "light"
          }
        }
      ]
    },
    {
      "cell_type": "code",
      "metadata": {
        "colab": {
          "base_uri": "https://localhost:8080/"
        },
        "id": "oH58sVUtLvYc",
        "outputId": "b694970a-88d4-49b9-df97-043877feaf75"
      },
      "source": [
        "print(df_out['price'].max())\n",
        "print(df_out['price'].min())\n",
        "print(df_out['price'].mean())\n",
        "print(df_out['price'].median())"
      ],
      "execution_count": null,
      "outputs": [
        {
          "output_type": "stream",
          "text": [
            "36739\n",
            "50\n",
            "11685.65181464428\n",
            "8999.0\n"
          ],
          "name": "stdout"
        }
      ]
    },
    {
      "cell_type": "code",
      "metadata": {
        "id": "8pDc2urTeM8S"
      },
      "source": [
        "#drop columns\n",
        "#keep: fuel, gear, year, odometer, price, manufacturer\n",
        "df = df_out.drop(['region', 'model','condition','cylinders','title_status','drive','size','type','size','paint_color','state','lat','long','posting_date','condition_num'], axis=1)"
      ],
      "execution_count": null,
      "outputs": []
    },
    {
      "cell_type": "code",
      "metadata": {
        "id": "orSoUXvrUZEx"
      },
      "source": [
        "#change col names\n",
        "df = df.rename(columns={'transmission': 'gear', 'manufacturer' : 'manufacturer_name'})"
      ],
      "execution_count": null,
      "outputs": []
    },
    {
      "cell_type": "code",
      "metadata": {
        "id": "y-4Zc7Pg-h4b"
      },
      "source": [
        "df['country'] = 'US'"
      ],
      "execution_count": null,
      "outputs": []
    },
    {
      "cell_type": "code",
      "metadata": {
        "colab": {
          "base_uri": "https://localhost:8080/"
        },
        "id": "Jo8LUpGyqVVH",
        "outputId": "ebf0c443-ef44-423a-ea0f-2f8fd9fcca88"
      },
      "source": [
        "#get final info\n",
        "df.info()"
      ],
      "execution_count": null,
      "outputs": [
        {
          "output_type": "stream",
          "text": [
            "<class 'pandas.core.frame.DataFrame'>\n",
            "Int64Index: 64503 entries, 7316356412 to 7302338378\n",
            "Data columns (total 7 columns):\n",
            " #   Column             Non-Null Count  Dtype  \n",
            "---  ------             --------------  -----  \n",
            " 0   price              64503 non-null  int64  \n",
            " 1   year               64503 non-null  Int32  \n",
            " 2   manufacturer_name  64503 non-null  object \n",
            " 3   fuel               64503 non-null  object \n",
            " 4   odometer           64503 non-null  float64\n",
            " 5   gear               64503 non-null  object \n",
            " 6   country            64503 non-null  object \n",
            "dtypes: Int32(1), float64(1), int64(1), object(4)\n",
            "memory usage: 6.3+ MB\n"
          ],
          "name": "stdout"
        }
      ]
    },
    {
      "cell_type": "code",
      "metadata": {
        "colab": {
          "base_uri": "https://localhost:8080/"
        },
        "id": "j5SvyXJay4Vp",
        "outputId": "a384d9f1-2eb1-4650-bece-aefb3a4b6d7d"
      },
      "source": [
        "df['gear'].unique()"
      ],
      "execution_count": null,
      "outputs": [
        {
          "output_type": "execute_result",
          "data": {
            "text/plain": [
              "array(['automatic', 'manual', 'other'], dtype=object)"
            ]
          },
          "metadata": {},
          "execution_count": 45
        }
      ]
    },
    {
      "cell_type": "code",
      "metadata": {
        "colab": {
          "base_uri": "https://localhost:8080/"
        },
        "id": "cHSdSsy9y-s6",
        "outputId": "e937c95c-9bdc-4542-bdb1-3b626f2ad035"
      },
      "source": [
        "df['fuel'].unique()"
      ],
      "execution_count": null,
      "outputs": [
        {
          "output_type": "execute_result",
          "data": {
            "text/plain": [
              "array(['gas', 'diesel', 'hybrid', 'other', 'electric'], dtype=object)"
            ]
          },
          "metadata": {},
          "execution_count": 46
        }
      ]
    },
    {
      "cell_type": "code",
      "metadata": {
        "colab": {
          "base_uri": "https://localhost:8080/"
        },
        "id": "U3h82OU5AlRq",
        "outputId": "bfd2acbb-0440-402c-86a6-a82f9db4163f"
      },
      "source": [
        "df['manufacturer_name'] = df['manufacturer_name'].str.lower()\n",
        "df['manufacturer_name'].unique()"
      ],
      "execution_count": null,
      "outputs": [
        {
          "output_type": "execute_result",
          "data": {
            "text/plain": [
              "array(['ford', 'honda', 'dodge', 'chrysler', 'toyota', 'lexus',\n",
              "       'chevrolet', 'bmw', 'gmc', 'mazda', 'ram', 'nissan',\n",
              "       'mercedes-benz', 'audi', 'mitsubishi', 'infiniti', 'volkswagen',\n",
              "       'kia', 'hyundai', 'fiat', 'acura', 'cadillac', 'jeep', 'jaguar',\n",
              "       'saturn', 'volvo', 'buick', 'subaru', 'lincoln', 'mini', 'pontiac',\n",
              "       'rover', 'mercury', 'porsche', 'harley-davidson', 'alfa-romeo',\n",
              "       'land rover', 'aston-martin'], dtype=object)"
            ]
          },
          "metadata": {},
          "execution_count": 47
        }
      ]
    },
    {
      "cell_type": "code",
      "metadata": {
        "id": "V9RE790tMv_G"
      },
      "source": [
        "df.to_csv(r'/content/drive/MyDrive/Colab Notebooks/data/vehicles_clean.csv', index = False)"
      ],
      "execution_count": null,
      "outputs": []
    }
  ]
}