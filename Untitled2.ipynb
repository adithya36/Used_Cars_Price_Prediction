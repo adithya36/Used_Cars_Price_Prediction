{
 "cells": [
  {
   "cell_type": "code",
   "execution_count": 87,
   "id": "8630d400-1f5c-4bde-baaf-4f2e0d747b3b",
   "metadata": {},
   "outputs": [],
   "source": [
    "import numpy as np\n",
    "from sklearn.linear_model import LinearRegression\n",
    "from sklearn.datasets import load_boston\n",
    "\n",
    "\n",
    "X, y = load_boston(return_X_y=True)\n",
    "\n",
    "from sklearn.linear_model import LinearRegression\n",
    "from sklearn.ensemble import RandomForestRegressor\n",
    "from sklearn.neural_network import MLPRegressor # Neural network\n",
    "from sklearn.model_selection import train_test_split\n",
    "\n",
    "X_train, X_test, y_train, y_test = train_test_split(X, y, test_size=0.3)\n",
    "\n",
    "rf = LinearRegression()\n",
    "rf.fit(X_train, y_train) # training\n",
    "\n",
    "rf.score(X_test, y_test) # r²"
   ]
  },
  {
   "cell_type": "code",
   "execution_count": 74,
   "id": "eadd87d5-2f7d-4926-af59-d7e62bd42b31",
   "metadata": {},
   "outputs": [],
   "source": [
    "from sklearn.metrics import mean_squared_error, r2_score"
   ]
  },
  {
   "cell_type": "code",
   "execution_count": 73,
   "id": "d7ce99e1-642b-41dd-9cd9-c6fcab824309",
   "metadata": {},
   "outputs": [
    {
     "data": {
      "text/plain": [
       "5.230536260598021"
      ]
     },
     "execution_count": 73,
     "metadata": {},
     "output_type": "execute_result"
    }
   ],
   "source": [
    "mean_squared_error(y_test, rf.predict(X_test), squared=False)"
   ]
  },
  {
   "cell_type": "code",
   "execution_count": 79,
   "id": "dd312b56-734d-4366-8f05-9790d2fa046f",
   "metadata": {},
   "outputs": [
    {
     "data": {
      "text/plain": [
       "0.6929343364207383"
      ]
     },
     "execution_count": 79,
     "metadata": {},
     "output_type": "execute_result"
    }
   ],
   "source": [
    "r2_score(y_test, rf.predict(X_test))"
   ]
  },
  {
   "cell_type": "code",
   "execution_count": 5,
   "id": "ba5e36a7-14bb-487a-8e42-295856e79a10",
   "metadata": {},
   "outputs": [],
   "source": [
    "X = np.random.randn(100, 3)\n",
    "y = 3*X[:, 0] - 2*X[:, 2] + 5 + 0.1*np.random.randn(100)\n",
    "\n",
    "X_train, X_test, y_train, y_test = train_test_split(X, y, test_size=0.3)"
   ]
  },
  {
   "cell_type": "code",
   "execution_count": 6,
   "id": "e2e0d9a8-423d-4dc5-a5b0-569a786f1dcb",
   "metadata": {},
   "outputs": [
    {
     "data": {
      "text/plain": [
       "LinearRegression(fit_intercept=False)"
      ]
     },
     "execution_count": 6,
     "metadata": {},
     "output_type": "execute_result"
    }
   ],
   "source": [
    "lr = LinearRegression(fit_intercept=False)\n",
    "lr.fit(X_train, y_train)"
   ]
  },
  {
   "cell_type": "code",
   "execution_count": 7,
   "id": "41b10545-8499-4612-8d93-a940f51ec6e0",
   "metadata": {},
   "outputs": [
    {
     "data": {
      "text/plain": [
       "-1.7646376332557123"
      ]
     },
     "execution_count": 7,
     "metadata": {},
     "output_type": "execute_result"
    }
   ],
   "source": [
    "lr.score(X_test, y_test)"
   ]
  },
  {
   "cell_type": "code",
   "execution_count": 8,
   "id": "ae2d0e8f-0489-4c34-ba92-a745f75c9448",
   "metadata": {},
   "outputs": [],
   "source": [
    "from sklearn.preprocessing import OneHotEncoder, StandardScaler, MinMaxScaler\n",
    "from sklearn.impute import SimpleImputer"
   ]
  },
  {
   "cell_type": "code",
   "execution_count": 9,
   "id": "6f380604-02cb-436b-ad33-cea4b875ea58",
   "metadata": {},
   "outputs": [],
   "source": [
    "X = np.array(['a', 'b', 'a', 'c', 'c']).reshape(-1, 1)"
   ]
  },
  {
   "cell_type": "code",
   "execution_count": 10,
   "id": "d822429c-4627-4133-a105-aaeec900e0f6",
   "metadata": {},
   "outputs": [
    {
     "data": {
      "text/plain": [
       "OneHotEncoder(handle_unknown='ignore')"
      ]
     },
     "execution_count": 10,
     "metadata": {},
     "output_type": "execute_result"
    }
   ],
   "source": [
    "ohe = OneHotEncoder(handle_unknown='ignore')\n",
    "ohe.fit(X)"
   ]
  },
  {
   "cell_type": "code",
   "execution_count": 11,
   "id": "ef2f069d-38e3-4466-98cc-9df36009c51b",
   "metadata": {},
   "outputs": [
    {
     "data": {
      "text/plain": [
       "matrix([[1., 0., 0.],\n",
       "        [0., 1., 0.],\n",
       "        [1., 0., 0.],\n",
       "        [0., 0., 1.],\n",
       "        [0., 0., 1.]])"
      ]
     },
     "execution_count": 11,
     "metadata": {},
     "output_type": "execute_result"
    }
   ],
   "source": [
    "ohe.transform(X).todense()"
   ]
  },
  {
   "cell_type": "code",
   "execution_count": 12,
   "id": "b1781960-b582-4694-b8c1-1b30796a8c9a",
   "metadata": {},
   "outputs": [
    {
     "data": {
      "text/plain": [
       "array(['x0_a', 'x0_b', 'x0_c'], dtype=object)"
      ]
     },
     "execution_count": 12,
     "metadata": {},
     "output_type": "execute_result"
    }
   ],
   "source": [
    "ohe.get_feature_names()"
   ]
  },
  {
   "cell_type": "code",
   "execution_count": 13,
   "id": "ef401ecc-b46b-43be-bbf5-2c1665d18bbc",
   "metadata": {},
   "outputs": [
    {
     "data": {
      "text/plain": [
       "matrix([[0., 1., 0.],\n",
       "        [0., 0., 0.],\n",
       "        [0., 0., 0.]])"
      ]
     },
     "execution_count": 13,
     "metadata": {},
     "output_type": "execute_result"
    }
   ],
   "source": [
    "ohe.transform(np.array([['b'], ['d'], ['edfgfdgfdg']])).todense()"
   ]
  },
  {
   "cell_type": "code",
   "execution_count": 14,
   "id": "ad66c307-bb56-427f-ad3e-e69970c5743a",
   "metadata": {},
   "outputs": [
    {
     "data": {
      "text/plain": [
       "array([[-1.41421356],\n",
       "       [-0.70710678],\n",
       "       [ 0.        ],\n",
       "       [ 0.70710678],\n",
       "       [ 1.41421356]])"
      ]
     },
     "execution_count": 14,
     "metadata": {},
     "output_type": "execute_result"
    }
   ],
   "source": [
    "X = np.array([1, 2, 3, 4, 5]).reshape(-1, 1)\n",
    "\n",
    "s = StandardScaler()\n",
    "s.fit(X)\n",
    "s.transform(X)"
   ]
  },
  {
   "cell_type": "code",
   "execution_count": 15,
   "id": "bf60fc05-e38b-4ae5-908e-cfa308c4e8c6",
   "metadata": {},
   "outputs": [
    {
     "data": {
      "text/plain": [
       "array([[-1.41421356],\n",
       "       [-0.70710678],\n",
       "       [ 0.        ],\n",
       "       [ 0.70710678],\n",
       "       [ 1.41421356]])"
      ]
     },
     "execution_count": 15,
     "metadata": {},
     "output_type": "execute_result"
    }
   ],
   "source": [
    "(X - X.mean()) / X.std()"
   ]
  },
  {
   "cell_type": "code",
   "execution_count": 27,
   "id": "6f9509f2-eaf2-4b67-9b05-54709a90e571",
   "metadata": {},
   "outputs": [],
   "source": [
    "from sklearn.pipeline import make_pipeline\n",
    "from sklearn.compose import make_column_transformer"
   ]
  },
  {
   "cell_type": "code",
   "execution_count": 17,
   "id": "16296b57-baf6-4908-b1f1-56237bc038b7",
   "metadata": {},
   "outputs": [],
   "source": [
    "pipeline = make_pipeline(\n",
    "    SimpleImputer(),\n",
    "    StandardScaler(),\n",
    "    LinearRegression()\n",
    ")"
   ]
  },
  {
   "cell_type": "code",
   "execution_count": 18,
   "id": "79231117-9d81-4650-9ee7-271158bd0d61",
   "metadata": {},
   "outputs": [],
   "source": [
    "X = np.random.randn(10, 3) + 10\n",
    "y = 3*X[:, 0] - 2*X[:, 2] + 5 + 0.1*np.random.randn(10)"
   ]
  },
  {
   "cell_type": "code",
   "execution_count": 19,
   "id": "d6e26925-463f-4677-bf1b-0e061571bb77",
   "metadata": {},
   "outputs": [],
   "source": [
    "X[1, 2] = np.nan\n",
    "X[7, 1] = np.nan"
   ]
  },
  {
   "cell_type": "code",
   "execution_count": 20,
   "id": "8fbb804d-7a7b-4c65-8b86-6eeacd055a94",
   "metadata": {},
   "outputs": [
    {
     "data": {
      "text/plain": [
       "Pipeline(steps=[('simpleimputer', SimpleImputer()),\n",
       "                ('standardscaler', StandardScaler()),\n",
       "                ('linearregression', LinearRegression())])"
      ]
     },
     "execution_count": 20,
     "metadata": {},
     "output_type": "execute_result"
    }
   ],
   "source": [
    "pipeline.fit(X, y)"
   ]
  },
  {
   "cell_type": "code",
   "execution_count": 21,
   "id": "c21c27f4-4df6-4384-b71b-ecf830cf7595",
   "metadata": {},
   "outputs": [
    {
     "data": {
      "text/plain": [
       "0.8342421490036771"
      ]
     },
     "execution_count": 21,
     "metadata": {},
     "output_type": "execute_result"
    }
   ],
   "source": [
    "pipeline.score(X, y)"
   ]
  },
  {
   "cell_type": "code",
   "execution_count": 26,
   "id": "e8882f6f-9134-466e-8667-1e9bc604c39f",
   "metadata": {},
   "outputs": [
    {
     "data": {
      "text/plain": [
       "array([17.02422614])"
      ]
     },
     "execution_count": 26,
     "metadata": {},
     "output_type": "execute_result"
    }
   ],
   "source": [
    "pipeline.predict(np.array([[np.nan, np.nan, np.nan]]))"
   ]
  },
  {
   "cell_type": "code",
   "execution_count": 60,
   "id": "869ed68c-850d-4873-b377-d69155b411a4",
   "metadata": {},
   "outputs": [],
   "source": [
    "from sklearn.preprocessing import StandardScaler, OneHotEncoder\n",
    "from sklearn.compose import make_column_transformer\n",
    "import pandas as pd\n",
    "\n",
    "X = pd.DataFrame({\n",
    "    'dasda': 8,\n",
    "    'numerical_column': np.random.normal(loc=7, scale=2, size=5),\n",
    "    'categorical_column': ['a', 'b', 'a', 'c', 'c'],\n",
    "})\n",
    "\n",
    "ct = make_column_transformer(\n",
    "    (OneHotEncoder(), ['categorical_column']),\n",
    "    (StandardScaler(), ['numerical_column'])\n",
    ", remainder='passthrough')"
   ]
  },
  {
   "cell_type": "code",
   "execution_count": 61,
   "id": "4845ebe8-0390-44bc-a7ff-3412d5e4001a",
   "metadata": {},
   "outputs": [
    {
     "data": {
      "text/html": [
       "<div>\n",
       "<style scoped>\n",
       "    .dataframe tbody tr th:only-of-type {\n",
       "        vertical-align: middle;\n",
       "    }\n",
       "\n",
       "    .dataframe tbody tr th {\n",
       "        vertical-align: top;\n",
       "    }\n",
       "\n",
       "    .dataframe thead th {\n",
       "        text-align: right;\n",
       "    }\n",
       "</style>\n",
       "<table border=\"1\" class=\"dataframe\">\n",
       "  <thead>\n",
       "    <tr style=\"text-align: right;\">\n",
       "      <th></th>\n",
       "      <th>dasda</th>\n",
       "      <th>numerical_column</th>\n",
       "      <th>categorical_column</th>\n",
       "    </tr>\n",
       "  </thead>\n",
       "  <tbody>\n",
       "    <tr>\n",
       "      <th>0</th>\n",
       "      <td>8</td>\n",
       "      <td>6.357053</td>\n",
       "      <td>a</td>\n",
       "    </tr>\n",
       "    <tr>\n",
       "      <th>1</th>\n",
       "      <td>8</td>\n",
       "      <td>6.195862</td>\n",
       "      <td>b</td>\n",
       "    </tr>\n",
       "    <tr>\n",
       "      <th>2</th>\n",
       "      <td>8</td>\n",
       "      <td>2.922483</td>\n",
       "      <td>a</td>\n",
       "    </tr>\n",
       "    <tr>\n",
       "      <th>3</th>\n",
       "      <td>8</td>\n",
       "      <td>6.787227</td>\n",
       "      <td>c</td>\n",
       "    </tr>\n",
       "    <tr>\n",
       "      <th>4</th>\n",
       "      <td>8</td>\n",
       "      <td>3.718387</td>\n",
       "      <td>c</td>\n",
       "    </tr>\n",
       "  </tbody>\n",
       "</table>\n",
       "</div>"
      ],
      "text/plain": [
       "   dasda  numerical_column categorical_column\n",
       "0      8          6.357053                  a\n",
       "1      8          6.195862                  b\n",
       "2      8          2.922483                  a\n",
       "3      8          6.787227                  c\n",
       "4      8          3.718387                  c"
      ]
     },
     "execution_count": 61,
     "metadata": {},
     "output_type": "execute_result"
    }
   ],
   "source": [
    "X"
   ]
  },
  {
   "cell_type": "code",
   "execution_count": 64,
   "id": "545952cd-783c-4b49-9a60-67b6d126faad",
   "metadata": {},
   "outputs": [
    {
     "data": {
      "text/plain": [
       "array([[ 1.        ,  0.        ,  0.        ,  0.74218585,  8.        ],\n",
       "       [ 0.        ,  1.        ,  0.        ,  0.63912888,  8.        ],\n",
       "       [ 1.        ,  0.        ,  0.        , -1.45369501,  8.        ],\n",
       "       [ 0.        ,  0.        ,  1.        ,  1.0172166 ,  8.        ],\n",
       "       [ 0.        ,  0.        ,  1.        , -0.94483631,  8.        ]])"
      ]
     },
     "execution_count": 64,
     "metadata": {},
     "output_type": "execute_result"
    }
   ],
   "source": [
    "ct.fit(X)\n",
    "ct.transform(X)"
   ]
  },
  {
   "cell_type": "code",
   "execution_count": null,
   "id": "ab05488b-3cf9-40f5-9dfc-b8ac9503a538",
   "metadata": {},
   "outputs": [],
   "source": []
  },
  {
   "cell_type": "code",
   "execution_count": null,
   "id": "db265622-6e25-419c-88fc-2c5ac17dbfc3",
   "metadata": {},
   "outputs": [],
   "source": []
  },
  {
   "cell_type": "code",
   "execution_count": 172,
   "id": "dd405ecb-8f27-419b-a92d-a26a8083fd49",
   "metadata": {},
   "outputs": [],
   "source": [
    "from sklearn.linear_model import Ridge, Lasso, LassoCV"
   ]
  },
  {
   "cell_type": "code",
   "execution_count": 177,
   "id": "aea78125-f0fa-4e0a-90d0-1d70aee70ac1",
   "metadata": {},
   "outputs": [],
   "source": [
    "X = np.random.randn(10, 20)\n",
    "y = 2*X[:, 0] + 1 + 0.1*np.random.randn(10)"
   ]
  },
  {
   "cell_type": "code",
   "execution_count": 198,
   "id": "b7dcffed-3bb6-4b23-b732-874bf0272abf",
   "metadata": {},
   "outputs": [
    {
     "data": {
      "text/plain": [
       "Lasso(alpha=0.1)"
      ]
     },
     "execution_count": 198,
     "metadata": {},
     "output_type": "execute_result"
    }
   ],
   "source": [
    "X_train, X_test, y_train, y_test = train_test_split(X, y, test_size=0.3, random_state=0)\n",
    "\n",
    "rf = LassoCV(alpha=0.1)\n",
    "rf.fit(X_train, y_train) # training"
   ]
  },
  {
   "cell_type": "code",
   "execution_count": 199,
   "id": "30083ac9-fcf9-4797-8d87-7d5657a132dd",
   "metadata": {},
   "outputs": [
    {
     "data": {
      "text/plain": [
       "0.987409214424924"
      ]
     },
     "execution_count": 199,
     "metadata": {},
     "output_type": "execute_result"
    }
   ],
   "source": [
    "rf.score(X_test, y_test)"
   ]
  },
  {
   "cell_type": "code",
   "execution_count": 200,
   "id": "d33eca1a-d53a-41a2-8b1d-8360be0a8cfc",
   "metadata": {},
   "outputs": [
    {
     "data": {
      "text/plain": [
       "<AxesSubplot:>"
      ]
     },
     "execution_count": 200,
     "metadata": {},
     "output_type": "execute_result"
    },
    {
     "data": {
      "image/png": "[encoded data removed]",
      "text/plain": [
       "<Figure size 1152x576 with 1 Axes>"
      ]
     },
     "metadata": {
      "needs_background": "light"
     },
     "output_type": "display_data"
    }
   ],
   "source": [
    "pd.Series(rf.coef_).plot.barh(figsize=(16, 8))"
   ]
  },
  {
   "cell_type": "code",
   "execution_count": 201,
   "id": "bdf5a0fa-78ff-43c5-b3bc-c2776ee6fd71",
   "metadata": {},
   "outputs": [
    {
     "data": {
      "text/plain": [
       "0.9954652792727944"
      ]
     },
     "execution_count": 201,
     "metadata": {},
     "output_type": "execute_result"
    }
   ],
   "source": [
    "rf.score(X_train, y_train)"
   ]
  },
  {
   "cell_type": "code",
   "execution_count": 122,
   "id": "c56408a2-2bac-46bb-8fc0-7e71faeebc86",
   "metadata": {},
   "outputs": [
    {
     "data": {
      "text/plain": [
       "LinearRegression()"
      ]
     },
     "execution_count": 122,
     "metadata": {},
     "output_type": "execute_result"
    }
   ],
   "source": [
    "rf.fit(X, y)"
   ]
  },
  {
   "cell_type": "code",
   "execution_count": 138,
   "id": "7d1c4ec7-ade5-4645-a555-5727c478de2b",
   "metadata": {},
   "outputs": [
    {
     "data": {
      "text/plain": [
       "0.4397997296208338"
      ]
     },
     "execution_count": 138,
     "metadata": {},
     "output_type": "execute_result"
    }
   ],
   "source": [
    "y.mean()"
   ]
  },
  {
   "cell_type": "code",
   "execution_count": 140,
   "id": "ad6fec76-109e-432b-8fdc-3dcec7e77c58",
   "metadata": {},
   "outputs": [
    {
     "data": {
      "text/plain": [
       "0.0"
      ]
     },
     "execution_count": 140,
     "metadata": {},
     "output_type": "execute_result"
    }
   ],
   "source": [
    "r2_score(y, len(y)*[y.mean()])"
   ]
  },
  {
   "cell_type": "code",
   "execution_count": null,
   "id": "fe42ad8a-38a7-4939-8d1a-7163f4930d34",
   "metadata": {},
   "outputs": [],
   "source": []
  }
 ],
 "metadata": {
  "kernelspec": {
   "display_name": "Python 3",
   "language": "python",
   "name": "python3"
  },
  "language_info": {
   "codemirror_mode": {
    "name": "ipython",
    "version": 3
   },
   "file_extension": ".py",
   "mimetype": "text/x-python",
   "name": "python",
   "nbconvert_exporter": "python",
   "pygments_lexer": "ipython3",
   "version": "3.9.1"
  }
 },
 "nbformat": 4,
 "nbformat_minor": 5
}
