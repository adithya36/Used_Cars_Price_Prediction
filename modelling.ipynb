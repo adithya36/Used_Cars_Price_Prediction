{
  "nbformat": 4,
  "nbformat_minor": 0,
  "metadata": {
    "colab": {
      "name": "modelling.ipynb",
      "provenance": [],
      "mount_file_id": "1shJz_LVaejfS4sfXaR5LioBGyaL7hduS",
      "authorship_tag": "ABX9TyMqC3oDZeoqTAfpdOTAI2ST",
      "include_colab_link": true
    },
    "kernelspec": {
      "name": "python3",
      "display_name": "Python 3"
    },
    "language_info": {
      "name": "python"
    }
  },
  "cells": [
    {
      "cell_type": "markdown",
      "metadata": {
        "id": "view-in-github",
        "colab_type": "text"
      },
      "source": [
        "<a href=\"https://colab.research.google.com/github/adithya36/Used_Cars_Price_Prediction/blob/main/modelling.ipynb\" target=\"_parent\"><img src=\"https://colab.research.google.com/assets/colab-badge.svg\" alt=\"Open In Colab\"/></a>"
      ]
    },
    {
      "cell_type": "code",
      "metadata": {
        "colab": {
          "base_uri": "https://localhost:8080/"
        },
        "id": "j4TZqrDiNHQ3",
        "outputId": "6d06f15b-48ac-4e73-a76d-74571399af17"
      },
      "source": [
        "from google.colab import drive\n",
        "drive.mount('/content/drive')"
      ],
      "execution_count": 4,
      "outputs": [
        {
          "output_type": "stream",
          "name": "stdout",
          "text": [
            "Mounted at /content/drive\n"
          ]
        }
      ]
    },
    {
      "cell_type": "code",
      "metadata": {
        "id": "EtVjLqgtzMXY"
      },
      "source": [
        "import numpy as np\n",
        "import pandas as pd\n",
        "import matplotlib.pyplot as plt\n",
        "import seaborn as sns\n",
        "from sklearn.model_selection import train_test_split\n",
        "from sklearn.preprocessing import StandardScaler\n",
        "from sklearn.metrics import r2_score\n",
        "\n",
        "from sklearn.model_selection import RandomizedSearchCV\n",
        "\n",
        "from sklearn.linear_model import LinearRegression\n",
        "from sklearn.tree import DecisionTreeRegressor\n",
        "from sklearn.ensemble import ExtraTreesRegressor, RandomForestRegressor, GradientBoostingRegressor\n",
        "import xgboost as xgb\n",
        "import lightgbm as lgb"
      ],
      "execution_count": 49,
      "outputs": []
    },
    {
      "cell_type": "code",
      "metadata": {
        "id": "sTSWEfd_02DL"
      },
      "source": [
        "df = pd.read_csv('/content/drive/MyDrive/Colab Notebooks/TL_modelling/final_data.csv')"
      ],
      "execution_count": 6,
      "outputs": []
    },
    {
      "cell_type": "code",
      "metadata": {
        "colab": {
          "base_uri": "https://localhost:8080/",
          "height": 206
        },
        "id": "UmJRQZ4I4Yug",
        "outputId": "eea9d463-6b3d-468e-8bdd-af7002d74432"
      },
      "source": [
        "df.head()"
      ],
      "execution_count": 7,
      "outputs": [
        {
          "output_type": "execute_result",
          "data": {
            "text/html": [
              "<div>\n",
              "<style scoped>\n",
              "    .dataframe tbody tr th:only-of-type {\n",
              "        vertical-align: middle;\n",
              "    }\n",
              "\n",
              "    .dataframe tbody tr th {\n",
              "        vertical-align: top;\n",
              "    }\n",
              "\n",
              "    .dataframe thead th {\n",
              "        text-align: right;\n",
              "    }\n",
              "</style>\n",
              "<table border=\"1\" class=\"dataframe\">\n",
              "  <thead>\n",
              "    <tr style=\"text-align: right;\">\n",
              "      <th></th>\n",
              "      <th>Unnamed: 0</th>\n",
              "      <th>Index</th>\n",
              "      <th>Manufacturer_name</th>\n",
              "      <th>Gear</th>\n",
              "      <th>Odometer (km)</th>\n",
              "      <th>year</th>\n",
              "      <th>Fuel</th>\n",
              "      <th>Price ($)</th>\n",
              "      <th>Country</th>\n",
              "    </tr>\n",
              "  </thead>\n",
              "  <tbody>\n",
              "    <tr>\n",
              "      <th>0</th>\n",
              "      <td>0</td>\n",
              "      <td>0</td>\n",
              "      <td>subaru</td>\n",
              "      <td>manual</td>\n",
              "      <td>280000.0</td>\n",
              "      <td>2003</td>\n",
              "      <td>gasoline</td>\n",
              "      <td>6900.0</td>\n",
              "      <td>Belarus</td>\n",
              "    </tr>\n",
              "    <tr>\n",
              "      <th>1</th>\n",
              "      <td>1</td>\n",
              "      <td>1</td>\n",
              "      <td>subaru</td>\n",
              "      <td>manual</td>\n",
              "      <td>321000.0</td>\n",
              "      <td>2002</td>\n",
              "      <td>gasoline</td>\n",
              "      <td>4300.0</td>\n",
              "      <td>Belarus</td>\n",
              "    </tr>\n",
              "    <tr>\n",
              "      <th>2</th>\n",
              "      <td>2</td>\n",
              "      <td>2</td>\n",
              "      <td>subaru</td>\n",
              "      <td>manual</td>\n",
              "      <td>191000.0</td>\n",
              "      <td>2005</td>\n",
              "      <td>gasoline</td>\n",
              "      <td>10950.0</td>\n",
              "      <td>Belarus</td>\n",
              "    </tr>\n",
              "    <tr>\n",
              "      <th>3</th>\n",
              "      <td>3</td>\n",
              "      <td>3</td>\n",
              "      <td>subaru</td>\n",
              "      <td>automatic</td>\n",
              "      <td>417000.0</td>\n",
              "      <td>1997</td>\n",
              "      <td>gasoline</td>\n",
              "      <td>1850.0</td>\n",
              "      <td>Belarus</td>\n",
              "    </tr>\n",
              "    <tr>\n",
              "      <th>4</th>\n",
              "      <td>4</td>\n",
              "      <td>4</td>\n",
              "      <td>subaru</td>\n",
              "      <td>manual</td>\n",
              "      <td>340000.0</td>\n",
              "      <td>1993</td>\n",
              "      <td>gasoline</td>\n",
              "      <td>2000.0</td>\n",
              "      <td>Belarus</td>\n",
              "    </tr>\n",
              "  </tbody>\n",
              "</table>\n",
              "</div>"
            ],
            "text/plain": [
              "   Unnamed: 0  Index Manufacturer_name  ...      Fuel  Price ($)  Country\n",
              "0           0      0            subaru  ...  gasoline     6900.0  Belarus\n",
              "1           1      1            subaru  ...  gasoline     4300.0  Belarus\n",
              "2           2      2            subaru  ...  gasoline    10950.0  Belarus\n",
              "3           3      3            subaru  ...  gasoline     1850.0  Belarus\n",
              "4           4      4            subaru  ...  gasoline     2000.0  Belarus\n",
              "\n",
              "[5 rows x 9 columns]"
            ]
          },
          "metadata": {},
          "execution_count": 7
        }
      ]
    },
    {
      "cell_type": "code",
      "metadata": {
        "colab": {
          "base_uri": "https://localhost:8080/"
        },
        "id": "gNtF8EzF4wXt",
        "outputId": "d0bd85dc-f308-4257-939b-5e33e6f463ee"
      },
      "source": [
        "df = df.drop(['Unnamed: 0', 'Index'], axis=1)\n",
        "df.columns"
      ],
      "execution_count": 8,
      "outputs": [
        {
          "output_type": "execute_result",
          "data": {
            "text/plain": [
              "Index(['Manufacturer_name', 'Gear', 'Odometer (km)', 'year', 'Fuel',\n",
              "       'Price ($)', 'Country'],\n",
              "      dtype='object')"
            ]
          },
          "metadata": {},
          "execution_count": 8
        }
      ]
    },
    {
      "cell_type": "code",
      "metadata": {
        "colab": {
          "base_uri": "https://localhost:8080/"
        },
        "id": "6dh9bPPz0_7n",
        "outputId": "4add1bd3-075e-416f-9502-ecc1da15f801"
      },
      "source": [
        "df.info()"
      ],
      "execution_count": 9,
      "outputs": [
        {
          "output_type": "stream",
          "name": "stdout",
          "text": [
            "<class 'pandas.core.frame.DataFrame'>\n",
            "RangeIndex: 407552 entries, 0 to 407551\n",
            "Data columns (total 7 columns):\n",
            " #   Column             Non-Null Count   Dtype  \n",
            "---  ------             --------------   -----  \n",
            " 0   Manufacturer_name  407552 non-null  object \n",
            " 1   Gear               407552 non-null  object \n",
            " 2   Odometer (km)      407552 non-null  float64\n",
            " 3   year               407552 non-null  int64  \n",
            " 4   Fuel               407552 non-null  object \n",
            " 5   Price ($)          407552 non-null  float64\n",
            " 6   Country            407552 non-null  object \n",
            "dtypes: float64(2), int64(1), object(4)\n",
            "memory usage: 21.8+ MB\n"
          ]
        }
      ]
    },
    {
      "cell_type": "code",
      "metadata": {
        "colab": {
          "base_uri": "https://localhost:8080/"
        },
        "id": "zTvlcQtO1Znl",
        "outputId": "2c59edf6-4341-4c57-c145-016bc6a17801"
      },
      "source": [
        "(df.Manufacturer_name.value_counts())"
      ],
      "execution_count": 10,
      "outputs": [
        {
          "output_type": "execute_result",
          "data": {
            "text/plain": [
              "ford            61951\n",
              "chevrolet       42984\n",
              "toyota          31278\n",
              "honda           20498\n",
              "nissan          17141\n",
              "                ...  \n",
              "fisker              1\n",
              "mercedes-amg        1\n",
              "9ff                 1\n",
              "zhidou              1\n",
              "brilliance          1\n",
              "Name: Manufacturer_name, Length: 107, dtype: int64"
            ]
          },
          "metadata": {},
          "execution_count": 10
        }
      ]
    },
    {
      "cell_type": "code",
      "metadata": {
        "colab": {
          "base_uri": "https://localhost:8080/"
        },
        "id": "hSNh3xK45Yn3",
        "outputId": "250115ad-32d9-41d4-905a-6336aaeb840d"
      },
      "source": [
        "(df.Gear.value_counts())"
      ],
      "execution_count": 11,
      "outputs": [
        {
          "output_type": "execute_result",
          "data": {
            "text/plain": [
              "automatic         281242\n",
              "manual             68617\n",
              "other              57639\n",
              "semi-automatic        54\n",
              "Name: Gear, dtype: int64"
            ]
          },
          "metadata": {},
          "execution_count": 11
        }
      ]
    },
    {
      "cell_type": "code",
      "metadata": {
        "colab": {
          "base_uri": "https://localhost:8080/"
        },
        "id": "Aaywd5qq5Yp0",
        "outputId": "24e0efc2-cce8-4c12-c7cb-a7a6471c2281"
      },
      "source": [
        "(df.Fuel.value_counts())"
      ],
      "execution_count": 12,
      "outputs": [
        {
          "output_type": "execute_result",
          "data": {
            "text/plain": [
              "gas         284380\n",
              "diesel       45672\n",
              "gasoline     35142\n",
              "other        25109\n",
              "petrol        9517\n",
              "hybrid        5674\n",
              "electric      2055\n",
              "ethanol          2\n",
              "hydrogen         1\n",
              "Name: Fuel, dtype: int64"
            ]
          },
          "metadata": {},
          "execution_count": 12
        }
      ]
    },
    {
      "cell_type": "code",
      "metadata": {
        "colab": {
          "base_uri": "https://localhost:8080/"
        },
        "id": "en3J05ds5b8j",
        "outputId": "3a128757-e388-4be2-9fd7-fa5f6cd6eff5"
      },
      "source": [
        "(df.Country.value_counts())"
      ],
      "execution_count": 13,
      "outputs": [
        {
          "output_type": "execute_result",
          "data": {
            "text/plain": [
              "US         332279\n",
              "Germany     43944\n",
              "India       19479\n",
              "Belarus     11850\n",
              "Name: Country, dtype: int64"
            ]
          },
          "metadata": {},
          "execution_count": 13
        }
      ]
    },
    {
      "cell_type": "code",
      "metadata": {
        "id": "duA2azHtEKpA",
        "colab": {
          "base_uri": "https://localhost:8080/"
        },
        "outputId": "a79d23c1-b470-4aae-9669-8123bc814593"
      },
      "source": [
        "df.Fuel.replace({\"hydrogen\": \"other\", \"ethanol\": \"other\"}, inplace=True)\n",
        "(df.Fuel.value_counts())"
      ],
      "execution_count": 14,
      "outputs": [
        {
          "output_type": "execute_result",
          "data": {
            "text/plain": [
              "gas         284380\n",
              "diesel       45672\n",
              "gasoline     35142\n",
              "other        25112\n",
              "petrol        9517\n",
              "hybrid        5674\n",
              "electric      2055\n",
              "Name: Fuel, dtype: int64"
            ]
          },
          "metadata": {},
          "execution_count": 14
        }
      ]
    },
    {
      "cell_type": "code",
      "metadata": {
        "colab": {
          "base_uri": "https://localhost:8080/",
          "height": 206
        },
        "id": "aXQD3bzBEKrz",
        "outputId": "95b7275d-fdfa-410e-de0c-037e1d38941a"
      },
      "source": [
        "df.head()"
      ],
      "execution_count": 15,
      "outputs": [
        {
          "output_type": "execute_result",
          "data": {
            "text/html": [
              "<div>\n",
              "<style scoped>\n",
              "    .dataframe tbody tr th:only-of-type {\n",
              "        vertical-align: middle;\n",
              "    }\n",
              "\n",
              "    .dataframe tbody tr th {\n",
              "        vertical-align: top;\n",
              "    }\n",
              "\n",
              "    .dataframe thead th {\n",
              "        text-align: right;\n",
              "    }\n",
              "</style>\n",
              "<table border=\"1\" class=\"dataframe\">\n",
              "  <thead>\n",
              "    <tr style=\"text-align: right;\">\n",
              "      <th></th>\n",
              "      <th>Manufacturer_name</th>\n",
              "      <th>Gear</th>\n",
              "      <th>Odometer (km)</th>\n",
              "      <th>year</th>\n",
              "      <th>Fuel</th>\n",
              "      <th>Price ($)</th>\n",
              "      <th>Country</th>\n",
              "    </tr>\n",
              "  </thead>\n",
              "  <tbody>\n",
              "    <tr>\n",
              "      <th>0</th>\n",
              "      <td>subaru</td>\n",
              "      <td>manual</td>\n",
              "      <td>280000.0</td>\n",
              "      <td>2003</td>\n",
              "      <td>gasoline</td>\n",
              "      <td>6900.0</td>\n",
              "      <td>Belarus</td>\n",
              "    </tr>\n",
              "    <tr>\n",
              "      <th>1</th>\n",
              "      <td>subaru</td>\n",
              "      <td>manual</td>\n",
              "      <td>321000.0</td>\n",
              "      <td>2002</td>\n",
              "      <td>gasoline</td>\n",
              "      <td>4300.0</td>\n",
              "      <td>Belarus</td>\n",
              "    </tr>\n",
              "    <tr>\n",
              "      <th>2</th>\n",
              "      <td>subaru</td>\n",
              "      <td>manual</td>\n",
              "      <td>191000.0</td>\n",
              "      <td>2005</td>\n",
              "      <td>gasoline</td>\n",
              "      <td>10950.0</td>\n",
              "      <td>Belarus</td>\n",
              "    </tr>\n",
              "    <tr>\n",
              "      <th>3</th>\n",
              "      <td>subaru</td>\n",
              "      <td>automatic</td>\n",
              "      <td>417000.0</td>\n",
              "      <td>1997</td>\n",
              "      <td>gasoline</td>\n",
              "      <td>1850.0</td>\n",
              "      <td>Belarus</td>\n",
              "    </tr>\n",
              "    <tr>\n",
              "      <th>4</th>\n",
              "      <td>subaru</td>\n",
              "      <td>manual</td>\n",
              "      <td>340000.0</td>\n",
              "      <td>1993</td>\n",
              "      <td>gasoline</td>\n",
              "      <td>2000.0</td>\n",
              "      <td>Belarus</td>\n",
              "    </tr>\n",
              "  </tbody>\n",
              "</table>\n",
              "</div>"
            ],
            "text/plain": [
              "  Manufacturer_name       Gear  Odometer (km)  ...      Fuel Price ($)  Country\n",
              "0            subaru     manual       280000.0  ...  gasoline    6900.0  Belarus\n",
              "1            subaru     manual       321000.0  ...  gasoline    4300.0  Belarus\n",
              "2            subaru     manual       191000.0  ...  gasoline   10950.0  Belarus\n",
              "3            subaru  automatic       417000.0  ...  gasoline    1850.0  Belarus\n",
              "4            subaru     manual       340000.0  ...  gasoline    2000.0  Belarus\n",
              "\n",
              "[5 rows x 7 columns]"
            ]
          },
          "metadata": {},
          "execution_count": 15
        }
      ]
    },
    {
      "cell_type": "code",
      "metadata": {
        "colab": {
          "base_uri": "https://localhost:8080/"
        },
        "id": "Jl0PWJM6Tzcf",
        "outputId": "3a00015a-2ab9-41b1-e7b1-afc2292e3bd7"
      },
      "source": [
        "df.Manufacturer_name.value_counts()[60:]"
      ],
      "execution_count": 16,
      "outputs": [
        {
          "output_type": "execute_result",
          "data": {
            "text/plain": [
              "chery             31\n",
              "geely             26\n",
              "aston             25\n",
              "land rover        23\n",
              "mg                20\n",
              "bentley           19\n",
              "iveco             19\n",
              "others            16\n",
              "ferrari           16\n",
              "ds                16\n",
              "great wall        13\n",
              "maserati          13\n",
              "saab              13\n",
              "isuzu             12\n",
              "microcar          12\n",
              "aston-martin      11\n",
              "mclaren           11\n",
              "lamborghini       10\n",
              "daihatsu          10\n",
              "alpina            10\n",
              "lifan              9\n",
              "газ                6\n",
              "заз                6\n",
              "уаз                6\n",
              "ligier             5\n",
              "force              5\n",
              "ambassador         4\n",
              "rolls-royce        4\n",
              "morgan             4\n",
              "polestar           4\n",
              "alpine             4\n",
              "corvette           3\n",
              "opelcorsa          3\n",
              "maybach            3\n",
              "aixam              3\n",
              "piaggio            3\n",
              "baic               3\n",
              "dc                 2\n",
              "premier            2\n",
              "estrima            2\n",
              "dfsk               2\n",
              "caravans-wohnm     2\n",
              "fisker             1\n",
              "mercedes-amg       1\n",
              "9ff                1\n",
              "zhidou             1\n",
              "brilliance         1\n",
              "Name: Manufacturer_name, dtype: int64"
            ]
          },
          "metadata": {},
          "execution_count": 16
        }
      ]
    },
    {
      "cell_type": "code",
      "metadata": {
        "colab": {
          "base_uri": "https://localhost:8080/",
          "height": 300
        },
        "id": "G6jzuNcGEz48",
        "outputId": "6d1b060b-e7b8-4903-a5ac-8a2c42a00b47"
      },
      "source": [
        "df.describe()"
      ],
      "execution_count": 17,
      "outputs": [
        {
          "output_type": "execute_result",
          "data": {
            "text/html": [
              "<div>\n",
              "<style scoped>\n",
              "    .dataframe tbody tr th:only-of-type {\n",
              "        vertical-align: middle;\n",
              "    }\n",
              "\n",
              "    .dataframe tbody tr th {\n",
              "        vertical-align: top;\n",
              "    }\n",
              "\n",
              "    .dataframe thead th {\n",
              "        text-align: right;\n",
              "    }\n",
              "</style>\n",
              "<table border=\"1\" class=\"dataframe\">\n",
              "  <thead>\n",
              "    <tr style=\"text-align: right;\">\n",
              "      <th></th>\n",
              "      <th>Odometer (km)</th>\n",
              "      <th>year</th>\n",
              "      <th>Price ($)</th>\n",
              "    </tr>\n",
              "  </thead>\n",
              "  <tbody>\n",
              "    <tr>\n",
              "      <th>count</th>\n",
              "      <td>4.075520e+05</td>\n",
              "      <td>407552.000000</td>\n",
              "      <td>4.075520e+05</td>\n",
              "    </tr>\n",
              "    <tr>\n",
              "      <th>mean</th>\n",
              "      <td>1.401383e+05</td>\n",
              "      <td>2012.661862</td>\n",
              "      <td>1.798468e+04</td>\n",
              "    </tr>\n",
              "    <tr>\n",
              "      <th>std</th>\n",
              "      <td>9.951946e+04</td>\n",
              "      <td>5.528372</td>\n",
              "      <td>1.430996e+04</td>\n",
              "    </tr>\n",
              "    <tr>\n",
              "      <th>min</th>\n",
              "      <td>0.000000e+00</td>\n",
              "      <td>1982.000000</td>\n",
              "      <td>1.000000e+03</td>\n",
              "    </tr>\n",
              "    <tr>\n",
              "      <th>25%</th>\n",
              "      <td>5.475000e+04</td>\n",
              "      <td>2010.000000</td>\n",
              "      <td>7.499000e+03</td>\n",
              "    </tr>\n",
              "    <tr>\n",
              "      <th>50%</th>\n",
              "      <td>1.271057e+05</td>\n",
              "      <td>2014.000000</td>\n",
              "      <td>1.445000e+04</td>\n",
              "    </tr>\n",
              "    <tr>\n",
              "      <th>75%</th>\n",
              "      <td>2.092142e+05</td>\n",
              "      <td>2017.000000</td>\n",
              "      <td>2.599500e+04</td>\n",
              "    </tr>\n",
              "    <tr>\n",
              "      <th>max</th>\n",
              "      <td>3.800000e+06</td>\n",
              "      <td>2022.000000</td>\n",
              "      <td>1.415882e+06</td>\n",
              "    </tr>\n",
              "  </tbody>\n",
              "</table>\n",
              "</div>"
            ],
            "text/plain": [
              "       Odometer (km)           year     Price ($)\n",
              "count   4.075520e+05  407552.000000  4.075520e+05\n",
              "mean    1.401383e+05    2012.661862  1.798468e+04\n",
              "std     9.951946e+04       5.528372  1.430996e+04\n",
              "min     0.000000e+00    1982.000000  1.000000e+03\n",
              "25%     5.475000e+04    2010.000000  7.499000e+03\n",
              "50%     1.271057e+05    2014.000000  1.445000e+04\n",
              "75%     2.092142e+05    2017.000000  2.599500e+04\n",
              "max     3.800000e+06    2022.000000  1.415882e+06"
            ]
          },
          "metadata": {},
          "execution_count": 17
        }
      ]
    },
    {
      "cell_type": "code",
      "metadata": {
        "colab": {
          "base_uri": "https://localhost:8080/"
        },
        "id": "zEunrTSjAidn",
        "outputId": "cdf0a44e-92fc-4438-fe77-8fa64cc7a811"
      },
      "source": [
        "df.loc[df['Odometer (km)']==0].Country.value_counts()"
      ],
      "execution_count": 18,
      "outputs": [
        {
          "output_type": "execute_result",
          "data": {
            "text/plain": [
              "US         587\n",
              "Germany     63\n",
              "Belarus      6\n",
              "Name: Country, dtype: int64"
            ]
          },
          "metadata": {},
          "execution_count": 18
        }
      ]
    },
    {
      "cell_type": "code",
      "metadata": {
        "colab": {
          "base_uri": "https://localhost:8080/",
          "height": 568
        },
        "id": "Ia8FXtAu1Pup",
        "outputId": "7d7fda03-6b8b-492d-fec4-446b3f7b0203"
      },
      "source": [
        "sns.pairplot(df)"
      ],
      "execution_count": 28,
      "outputs": [
        {
          "output_type": "execute_result",
          "data": {
            "text/plain": [
              "<seaborn.axisgrid.PairGrid at 0x7f981c4a80d0>"
            ]
          },
          "metadata": {},
          "execution_count": 28
        },
        {
          "output_type": "display_data",
          "data": {
            "image/png": "[encoded data removed]",
            "text/plain": [
              "<Figure size 540x540 with 12 Axes>"
            ]
          },
          "metadata": {
            "needs_background": "light"
          }
        }
      ]
    },
    {
      "cell_type": "code",
      "metadata": {
        "colab": {
          "base_uri": "https://localhost:8080/"
        },
        "id": "ETITlcGTB9m4",
        "outputId": "8eb16b04-4407-4dea-f7b8-457b3cc9a577"
      },
      "source": [
        "df.isnull().sum()"
      ],
      "execution_count": 19,
      "outputs": [
        {
          "output_type": "execute_result",
          "data": {
            "text/plain": [
              "Manufacturer_name    0\n",
              "Gear                 0\n",
              "Odometer (km)        0\n",
              "year                 0\n",
              "Fuel                 0\n",
              "Price ($)            0\n",
              "Country              0\n",
              "dtype: int64"
            ]
          },
          "metadata": {},
          "execution_count": 19
        }
      ]
    },
    {
      "cell_type": "code",
      "metadata": {
        "colab": {
          "base_uri": "https://localhost:8080/",
          "height": 206
        },
        "id": "AZUiPsAQRz3R",
        "outputId": "9c05e7e5-825c-4bf2-9426-46c89fd07c36"
      },
      "source": [
        "df.head()"
      ],
      "execution_count": 20,
      "outputs": [
        {
          "output_type": "execute_result",
          "data": {
            "text/html": [
              "<div>\n",
              "<style scoped>\n",
              "    .dataframe tbody tr th:only-of-type {\n",
              "        vertical-align: middle;\n",
              "    }\n",
              "\n",
              "    .dataframe tbody tr th {\n",
              "        vertical-align: top;\n",
              "    }\n",
              "\n",
              "    .dataframe thead th {\n",
              "        text-align: right;\n",
              "    }\n",
              "</style>\n",
              "<table border=\"1\" class=\"dataframe\">\n",
              "  <thead>\n",
              "    <tr style=\"text-align: right;\">\n",
              "      <th></th>\n",
              "      <th>Manufacturer_name</th>\n",
              "      <th>Gear</th>\n",
              "      <th>Odometer (km)</th>\n",
              "      <th>year</th>\n",
              "      <th>Fuel</th>\n",
              "      <th>Price ($)</th>\n",
              "      <th>Country</th>\n",
              "    </tr>\n",
              "  </thead>\n",
              "  <tbody>\n",
              "    <tr>\n",
              "      <th>0</th>\n",
              "      <td>subaru</td>\n",
              "      <td>manual</td>\n",
              "      <td>280000.0</td>\n",
              "      <td>2003</td>\n",
              "      <td>gasoline</td>\n",
              "      <td>6900.0</td>\n",
              "      <td>Belarus</td>\n",
              "    </tr>\n",
              "    <tr>\n",
              "      <th>1</th>\n",
              "      <td>subaru</td>\n",
              "      <td>manual</td>\n",
              "      <td>321000.0</td>\n",
              "      <td>2002</td>\n",
              "      <td>gasoline</td>\n",
              "      <td>4300.0</td>\n",
              "      <td>Belarus</td>\n",
              "    </tr>\n",
              "    <tr>\n",
              "      <th>2</th>\n",
              "      <td>subaru</td>\n",
              "      <td>manual</td>\n",
              "      <td>191000.0</td>\n",
              "      <td>2005</td>\n",
              "      <td>gasoline</td>\n",
              "      <td>10950.0</td>\n",
              "      <td>Belarus</td>\n",
              "    </tr>\n",
              "    <tr>\n",
              "      <th>3</th>\n",
              "      <td>subaru</td>\n",
              "      <td>automatic</td>\n",
              "      <td>417000.0</td>\n",
              "      <td>1997</td>\n",
              "      <td>gasoline</td>\n",
              "      <td>1850.0</td>\n",
              "      <td>Belarus</td>\n",
              "    </tr>\n",
              "    <tr>\n",
              "      <th>4</th>\n",
              "      <td>subaru</td>\n",
              "      <td>manual</td>\n",
              "      <td>340000.0</td>\n",
              "      <td>1993</td>\n",
              "      <td>gasoline</td>\n",
              "      <td>2000.0</td>\n",
              "      <td>Belarus</td>\n",
              "    </tr>\n",
              "  </tbody>\n",
              "</table>\n",
              "</div>"
            ],
            "text/plain": [
              "  Manufacturer_name       Gear  Odometer (km)  ...      Fuel Price ($)  Country\n",
              "0            subaru     manual       280000.0  ...  gasoline    6900.0  Belarus\n",
              "1            subaru     manual       321000.0  ...  gasoline    4300.0  Belarus\n",
              "2            subaru     manual       191000.0  ...  gasoline   10950.0  Belarus\n",
              "3            subaru  automatic       417000.0  ...  gasoline    1850.0  Belarus\n",
              "4            subaru     manual       340000.0  ...  gasoline    2000.0  Belarus\n",
              "\n",
              "[5 rows x 7 columns]"
            ]
          },
          "metadata": {},
          "execution_count": 20
        }
      ]
    },
    {
      "cell_type": "markdown",
      "metadata": {
        "id": "LoksZRG-e2eZ"
      },
      "source": [
        "# With Manufacturer_name feature"
      ]
    },
    {
      "cell_type": "code",
      "metadata": {
        "id": "TUu9AXNSgwXD"
      },
      "source": [
        "f_df_1 = df[['year', 'Price ($)', 'Odometer (km)', 'Gear', 'Fuel', 'Country', 'Manufacturer_name']]"
      ],
      "execution_count": 21,
      "outputs": []
    },
    {
      "cell_type": "code",
      "metadata": {
        "colab": {
          "base_uri": "https://localhost:8080/"
        },
        "id": "igUvX833gwXJ",
        "outputId": "ef559f57-41e2-401f-8128-5d001855eb5d"
      },
      "source": [
        "f_df_1['no_year'] = 2021 - f_df_1['year']\n",
        "f_df_1.drop(['year'],axis=1,inplace=True)"
      ],
      "execution_count": 22,
      "outputs": [
        {
          "output_type": "stream",
          "name": "stderr",
          "text": [
            "/usr/local/lib/python3.7/dist-packages/ipykernel_launcher.py:1: SettingWithCopyWarning: \n",
            "A value is trying to be set on a copy of a slice from a DataFrame.\n",
            "Try using .loc[row_indexer,col_indexer] = value instead\n",
            "\n",
            "See the caveats in the documentation: https://pandas.pydata.org/pandas-docs/stable/user_guide/indexing.html#returning-a-view-versus-a-copy\n",
            "  \"\"\"Entry point for launching an IPython kernel.\n"
          ]
        }
      ]
    },
    {
      "cell_type": "code",
      "metadata": {
        "colab": {
          "base_uri": "https://localhost:8080/"
        },
        "id": "omzDhpjPgwXK",
        "outputId": "b4b09732-205d-4881-a33a-346c3d799f4c"
      },
      "source": [
        "f_df_1.shape"
      ],
      "execution_count": 23,
      "outputs": [
        {
          "output_type": "execute_result",
          "data": {
            "text/plain": [
              "(407552, 7)"
            ]
          },
          "metadata": {},
          "execution_count": 23
        }
      ]
    },
    {
      "cell_type": "code",
      "metadata": {
        "id": "mIYUp8JigwXM"
      },
      "source": [
        "f_df_1 = pd.get_dummies(f_df_1, drop_first=True)"
      ],
      "execution_count": 24,
      "outputs": []
    },
    {
      "cell_type": "code",
      "metadata": {
        "colab": {
          "base_uri": "https://localhost:8080/",
          "height": 273
        },
        "id": "ch27zO-9gwXN",
        "outputId": "d7ebc11d-4004-4c78-be68-990f7abebabc"
      },
      "source": [
        "f_df_1.head()"
      ],
      "execution_count": 25,
      "outputs": [
        {
          "output_type": "execute_result",
          "data": {
            "text/html": [
              "<div>\n",
              "<style scoped>\n",
              "    .dataframe tbody tr th:only-of-type {\n",
              "        vertical-align: middle;\n",
              "    }\n",
              "\n",
              "    .dataframe tbody tr th {\n",
              "        vertical-align: top;\n",
              "    }\n",
              "\n",
              "    .dataframe thead th {\n",
              "        text-align: right;\n",
              "    }\n",
              "</style>\n",
              "<table border=\"1\" class=\"dataframe\">\n",
              "  <thead>\n",
              "    <tr style=\"text-align: right;\">\n",
              "      <th></th>\n",
              "      <th>Price ($)</th>\n",
              "      <th>Odometer (km)</th>\n",
              "      <th>no_year</th>\n",
              "      <th>Gear_manual</th>\n",
              "      <th>Gear_other</th>\n",
              "      <th>Gear_semi-automatic</th>\n",
              "      <th>Fuel_electric</th>\n",
              "      <th>Fuel_gas</th>\n",
              "      <th>Fuel_gasoline</th>\n",
              "      <th>Fuel_hybrid</th>\n",
              "      <th>Fuel_other</th>\n",
              "      <th>Fuel_petrol</th>\n",
              "      <th>Country_Germany</th>\n",
              "      <th>Country_India</th>\n",
              "      <th>Country_US</th>\n",
              "      <th>Manufacturer_name_abarth</th>\n",
              "      <th>Manufacturer_name_acura</th>\n",
              "      <th>Manufacturer_name_aixam</th>\n",
              "      <th>Manufacturer_name_alfa</th>\n",
              "      <th>Manufacturer_name_alfa romeo</th>\n",
              "      <th>Manufacturer_name_alfa-romeo</th>\n",
              "      <th>Manufacturer_name_alpina</th>\n",
              "      <th>Manufacturer_name_alpine</th>\n",
              "      <th>Manufacturer_name_ambassador</th>\n",
              "      <th>Manufacturer_name_aston</th>\n",
              "      <th>Manufacturer_name_aston-martin</th>\n",
              "      <th>Manufacturer_name_audi</th>\n",
              "      <th>Manufacturer_name_baic</th>\n",
              "      <th>Manufacturer_name_bentley</th>\n",
              "      <th>Manufacturer_name_bmw</th>\n",
              "      <th>Manufacturer_name_brilliance</th>\n",
              "      <th>Manufacturer_name_buick</th>\n",
              "      <th>Manufacturer_name_cadillac</th>\n",
              "      <th>Manufacturer_name_caravans-wohnm</th>\n",
              "      <th>Manufacturer_name_chery</th>\n",
              "      <th>Manufacturer_name_chevrolet</th>\n",
              "      <th>Manufacturer_name_chrysler</th>\n",
              "      <th>Manufacturer_name_citroen</th>\n",
              "      <th>Manufacturer_name_corvette</th>\n",
              "      <th>Manufacturer_name_cupra</th>\n",
              "      <th>...</th>\n",
              "      <th>Manufacturer_name_mercedes-amg</th>\n",
              "      <th>Manufacturer_name_mercedes-benz</th>\n",
              "      <th>Manufacturer_name_mercury</th>\n",
              "      <th>Manufacturer_name_mg</th>\n",
              "      <th>Manufacturer_name_microcar</th>\n",
              "      <th>Manufacturer_name_mini</th>\n",
              "      <th>Manufacturer_name_mitsubishi</th>\n",
              "      <th>Manufacturer_name_morgan</th>\n",
              "      <th>Manufacturer_name_nissan</th>\n",
              "      <th>Manufacturer_name_opel</th>\n",
              "      <th>Manufacturer_name_opelcorsa</th>\n",
              "      <th>Manufacturer_name_others</th>\n",
              "      <th>Manufacturer_name_peugeot</th>\n",
              "      <th>Manufacturer_name_piaggio</th>\n",
              "      <th>Manufacturer_name_polestar</th>\n",
              "      <th>Manufacturer_name_pontiac</th>\n",
              "      <th>Manufacturer_name_porsche</th>\n",
              "      <th>Manufacturer_name_premier</th>\n",
              "      <th>Manufacturer_name_ram</th>\n",
              "      <th>Manufacturer_name_renault</th>\n",
              "      <th>Manufacturer_name_rolls-royce</th>\n",
              "      <th>Manufacturer_name_rover</th>\n",
              "      <th>Manufacturer_name_saab</th>\n",
              "      <th>Manufacturer_name_saturn</th>\n",
              "      <th>Manufacturer_name_seat</th>\n",
              "      <th>Manufacturer_name_skoda</th>\n",
              "      <th>Manufacturer_name_smart</th>\n",
              "      <th>Manufacturer_name_ssangyong</th>\n",
              "      <th>Manufacturer_name_subaru</th>\n",
              "      <th>Manufacturer_name_suzuki</th>\n",
              "      <th>Manufacturer_name_tata</th>\n",
              "      <th>Manufacturer_name_tesla</th>\n",
              "      <th>Manufacturer_name_toyota</th>\n",
              "      <th>Manufacturer_name_volkswagen</th>\n",
              "      <th>Manufacturer_name_volvo</th>\n",
              "      <th>Manufacturer_name_zhidou</th>\n",
              "      <th>Manufacturer_name_ваз</th>\n",
              "      <th>Manufacturer_name_газ</th>\n",
              "      <th>Manufacturer_name_заз</th>\n",
              "      <th>Manufacturer_name_уаз</th>\n",
              "    </tr>\n",
              "  </thead>\n",
              "  <tbody>\n",
              "    <tr>\n",
              "      <th>0</th>\n",
              "      <td>6900.0</td>\n",
              "      <td>280000.0</td>\n",
              "      <td>18</td>\n",
              "      <td>1</td>\n",
              "      <td>0</td>\n",
              "      <td>0</td>\n",
              "      <td>0</td>\n",
              "      <td>0</td>\n",
              "      <td>1</td>\n",
              "      <td>0</td>\n",
              "      <td>0</td>\n",
              "      <td>0</td>\n",
              "      <td>0</td>\n",
              "      <td>0</td>\n",
              "      <td>0</td>\n",
              "      <td>0</td>\n",
              "      <td>0</td>\n",
              "      <td>0</td>\n",
              "      <td>0</td>\n",
              "      <td>0</td>\n",
              "      <td>0</td>\n",
              "      <td>0</td>\n",
              "      <td>0</td>\n",
              "      <td>0</td>\n",
              "      <td>0</td>\n",
              "      <td>0</td>\n",
              "      <td>0</td>\n",
              "      <td>0</td>\n",
              "      <td>0</td>\n",
              "      <td>0</td>\n",
              "      <td>0</td>\n",
              "      <td>0</td>\n",
              "      <td>0</td>\n",
              "      <td>0</td>\n",
              "      <td>0</td>\n",
              "      <td>0</td>\n",
              "      <td>0</td>\n",
              "      <td>0</td>\n",
              "      <td>0</td>\n",
              "      <td>0</td>\n",
              "      <td>...</td>\n",
              "      <td>0</td>\n",
              "      <td>0</td>\n",
              "      <td>0</td>\n",
              "      <td>0</td>\n",
              "      <td>0</td>\n",
              "      <td>0</td>\n",
              "      <td>0</td>\n",
              "      <td>0</td>\n",
              "      <td>0</td>\n",
              "      <td>0</td>\n",
              "      <td>0</td>\n",
              "      <td>0</td>\n",
              "      <td>0</td>\n",
              "      <td>0</td>\n",
              "      <td>0</td>\n",
              "      <td>0</td>\n",
              "      <td>0</td>\n",
              "      <td>0</td>\n",
              "      <td>0</td>\n",
              "      <td>0</td>\n",
              "      <td>0</td>\n",
              "      <td>0</td>\n",
              "      <td>0</td>\n",
              "      <td>0</td>\n",
              "      <td>0</td>\n",
              "      <td>0</td>\n",
              "      <td>0</td>\n",
              "      <td>0</td>\n",
              "      <td>1</td>\n",
              "      <td>0</td>\n",
              "      <td>0</td>\n",
              "      <td>0</td>\n",
              "      <td>0</td>\n",
              "      <td>0</td>\n",
              "      <td>0</td>\n",
              "      <td>0</td>\n",
              "      <td>0</td>\n",
              "      <td>0</td>\n",
              "      <td>0</td>\n",
              "      <td>0</td>\n",
              "    </tr>\n",
              "    <tr>\n",
              "      <th>1</th>\n",
              "      <td>4300.0</td>\n",
              "      <td>321000.0</td>\n",
              "      <td>19</td>\n",
              "      <td>1</td>\n",
              "      <td>0</td>\n",
              "      <td>0</td>\n",
              "      <td>0</td>\n",
              "      <td>0</td>\n",
              "      <td>1</td>\n",
              "      <td>0</td>\n",
              "      <td>0</td>\n",
              "      <td>0</td>\n",
              "      <td>0</td>\n",
              "      <td>0</td>\n",
              "      <td>0</td>\n",
              "      <td>0</td>\n",
              "      <td>0</td>\n",
              "      <td>0</td>\n",
              "      <td>0</td>\n",
              "      <td>0</td>\n",
              "      <td>0</td>\n",
              "      <td>0</td>\n",
              "      <td>0</td>\n",
              "      <td>0</td>\n",
              "      <td>0</td>\n",
              "      <td>0</td>\n",
              "      <td>0</td>\n",
              "      <td>0</td>\n",
              "      <td>0</td>\n",
              "      <td>0</td>\n",
              "      <td>0</td>\n",
              "      <td>0</td>\n",
              "      <td>0</td>\n",
              "      <td>0</td>\n",
              "      <td>0</td>\n",
              "      <td>0</td>\n",
              "      <td>0</td>\n",
              "      <td>0</td>\n",
              "      <td>0</td>\n",
              "      <td>0</td>\n",
              "      <td>...</td>\n",
              "      <td>0</td>\n",
              "      <td>0</td>\n",
              "      <td>0</td>\n",
              "      <td>0</td>\n",
              "      <td>0</td>\n",
              "      <td>0</td>\n",
              "      <td>0</td>\n",
              "      <td>0</td>\n",
              "      <td>0</td>\n",
              "      <td>0</td>\n",
              "      <td>0</td>\n",
              "      <td>0</td>\n",
              "      <td>0</td>\n",
              "      <td>0</td>\n",
              "      <td>0</td>\n",
              "      <td>0</td>\n",
              "      <td>0</td>\n",
              "      <td>0</td>\n",
              "      <td>0</td>\n",
              "      <td>0</td>\n",
              "      <td>0</td>\n",
              "      <td>0</td>\n",
              "      <td>0</td>\n",
              "      <td>0</td>\n",
              "      <td>0</td>\n",
              "      <td>0</td>\n",
              "      <td>0</td>\n",
              "      <td>0</td>\n",
              "      <td>1</td>\n",
              "      <td>0</td>\n",
              "      <td>0</td>\n",
              "      <td>0</td>\n",
              "      <td>0</td>\n",
              "      <td>0</td>\n",
              "      <td>0</td>\n",
              "      <td>0</td>\n",
              "      <td>0</td>\n",
              "      <td>0</td>\n",
              "      <td>0</td>\n",
              "      <td>0</td>\n",
              "    </tr>\n",
              "    <tr>\n",
              "      <th>2</th>\n",
              "      <td>10950.0</td>\n",
              "      <td>191000.0</td>\n",
              "      <td>16</td>\n",
              "      <td>1</td>\n",
              "      <td>0</td>\n",
              "      <td>0</td>\n",
              "      <td>0</td>\n",
              "      <td>0</td>\n",
              "      <td>1</td>\n",
              "      <td>0</td>\n",
              "      <td>0</td>\n",
              "      <td>0</td>\n",
              "      <td>0</td>\n",
              "      <td>0</td>\n",
              "      <td>0</td>\n",
              "      <td>0</td>\n",
              "      <td>0</td>\n",
              "      <td>0</td>\n",
              "      <td>0</td>\n",
              "      <td>0</td>\n",
              "      <td>0</td>\n",
              "      <td>0</td>\n",
              "      <td>0</td>\n",
              "      <td>0</td>\n",
              "      <td>0</td>\n",
              "      <td>0</td>\n",
              "      <td>0</td>\n",
              "      <td>0</td>\n",
              "      <td>0</td>\n",
              "      <td>0</td>\n",
              "      <td>0</td>\n",
              "      <td>0</td>\n",
              "      <td>0</td>\n",
              "      <td>0</td>\n",
              "      <td>0</td>\n",
              "      <td>0</td>\n",
              "      <td>0</td>\n",
              "      <td>0</td>\n",
              "      <td>0</td>\n",
              "      <td>0</td>\n",
              "      <td>...</td>\n",
              "      <td>0</td>\n",
              "      <td>0</td>\n",
              "      <td>0</td>\n",
              "      <td>0</td>\n",
              "      <td>0</td>\n",
              "      <td>0</td>\n",
              "      <td>0</td>\n",
              "      <td>0</td>\n",
              "      <td>0</td>\n",
              "      <td>0</td>\n",
              "      <td>0</td>\n",
              "      <td>0</td>\n",
              "      <td>0</td>\n",
              "      <td>0</td>\n",
              "      <td>0</td>\n",
              "      <td>0</td>\n",
              "      <td>0</td>\n",
              "      <td>0</td>\n",
              "      <td>0</td>\n",
              "      <td>0</td>\n",
              "      <td>0</td>\n",
              "      <td>0</td>\n",
              "      <td>0</td>\n",
              "      <td>0</td>\n",
              "      <td>0</td>\n",
              "      <td>0</td>\n",
              "      <td>0</td>\n",
              "      <td>0</td>\n",
              "      <td>1</td>\n",
              "      <td>0</td>\n",
              "      <td>0</td>\n",
              "      <td>0</td>\n",
              "      <td>0</td>\n",
              "      <td>0</td>\n",
              "      <td>0</td>\n",
              "      <td>0</td>\n",
              "      <td>0</td>\n",
              "      <td>0</td>\n",
              "      <td>0</td>\n",
              "      <td>0</td>\n",
              "    </tr>\n",
              "    <tr>\n",
              "      <th>3</th>\n",
              "      <td>1850.0</td>\n",
              "      <td>417000.0</td>\n",
              "      <td>24</td>\n",
              "      <td>0</td>\n",
              "      <td>0</td>\n",
              "      <td>0</td>\n",
              "      <td>0</td>\n",
              "      <td>0</td>\n",
              "      <td>1</td>\n",
              "      <td>0</td>\n",
              "      <td>0</td>\n",
              "      <td>0</td>\n",
              "      <td>0</td>\n",
              "      <td>0</td>\n",
              "      <td>0</td>\n",
              "      <td>0</td>\n",
              "      <td>0</td>\n",
              "      <td>0</td>\n",
              "      <td>0</td>\n",
              "      <td>0</td>\n",
              "      <td>0</td>\n",
              "      <td>0</td>\n",
              "      <td>0</td>\n",
              "      <td>0</td>\n",
              "      <td>0</td>\n",
              "      <td>0</td>\n",
              "      <td>0</td>\n",
              "      <td>0</td>\n",
              "      <td>0</td>\n",
              "      <td>0</td>\n",
              "      <td>0</td>\n",
              "      <td>0</td>\n",
              "      <td>0</td>\n",
              "      <td>0</td>\n",
              "      <td>0</td>\n",
              "      <td>0</td>\n",
              "      <td>0</td>\n",
              "      <td>0</td>\n",
              "      <td>0</td>\n",
              "      <td>0</td>\n",
              "      <td>...</td>\n",
              "      <td>0</td>\n",
              "      <td>0</td>\n",
              "      <td>0</td>\n",
              "      <td>0</td>\n",
              "      <td>0</td>\n",
              "      <td>0</td>\n",
              "      <td>0</td>\n",
              "      <td>0</td>\n",
              "      <td>0</td>\n",
              "      <td>0</td>\n",
              "      <td>0</td>\n",
              "      <td>0</td>\n",
              "      <td>0</td>\n",
              "      <td>0</td>\n",
              "      <td>0</td>\n",
              "      <td>0</td>\n",
              "      <td>0</td>\n",
              "      <td>0</td>\n",
              "      <td>0</td>\n",
              "      <td>0</td>\n",
              "      <td>0</td>\n",
              "      <td>0</td>\n",
              "      <td>0</td>\n",
              "      <td>0</td>\n",
              "      <td>0</td>\n",
              "      <td>0</td>\n",
              "      <td>0</td>\n",
              "      <td>0</td>\n",
              "      <td>1</td>\n",
              "      <td>0</td>\n",
              "      <td>0</td>\n",
              "      <td>0</td>\n",
              "      <td>0</td>\n",
              "      <td>0</td>\n",
              "      <td>0</td>\n",
              "      <td>0</td>\n",
              "      <td>0</td>\n",
              "      <td>0</td>\n",
              "      <td>0</td>\n",
              "      <td>0</td>\n",
              "    </tr>\n",
              "    <tr>\n",
              "      <th>4</th>\n",
              "      <td>2000.0</td>\n",
              "      <td>340000.0</td>\n",
              "      <td>28</td>\n",
              "      <td>1</td>\n",
              "      <td>0</td>\n",
              "      <td>0</td>\n",
              "      <td>0</td>\n",
              "      <td>0</td>\n",
              "      <td>1</td>\n",
              "      <td>0</td>\n",
              "      <td>0</td>\n",
              "      <td>0</td>\n",
              "      <td>0</td>\n",
              "      <td>0</td>\n",
              "      <td>0</td>\n",
              "      <td>0</td>\n",
              "      <td>0</td>\n",
              "      <td>0</td>\n",
              "      <td>0</td>\n",
              "      <td>0</td>\n",
              "      <td>0</td>\n",
              "      <td>0</td>\n",
              "      <td>0</td>\n",
              "      <td>0</td>\n",
              "      <td>0</td>\n",
              "      <td>0</td>\n",
              "      <td>0</td>\n",
              "      <td>0</td>\n",
              "      <td>0</td>\n",
              "      <td>0</td>\n",
              "      <td>0</td>\n",
              "      <td>0</td>\n",
              "      <td>0</td>\n",
              "      <td>0</td>\n",
              "      <td>0</td>\n",
              "      <td>0</td>\n",
              "      <td>0</td>\n",
              "      <td>0</td>\n",
              "      <td>0</td>\n",
              "      <td>0</td>\n",
              "      <td>...</td>\n",
              "      <td>0</td>\n",
              "      <td>0</td>\n",
              "      <td>0</td>\n",
              "      <td>0</td>\n",
              "      <td>0</td>\n",
              "      <td>0</td>\n",
              "      <td>0</td>\n",
              "      <td>0</td>\n",
              "      <td>0</td>\n",
              "      <td>0</td>\n",
              "      <td>0</td>\n",
              "      <td>0</td>\n",
              "      <td>0</td>\n",
              "      <td>0</td>\n",
              "      <td>0</td>\n",
              "      <td>0</td>\n",
              "      <td>0</td>\n",
              "      <td>0</td>\n",
              "      <td>0</td>\n",
              "      <td>0</td>\n",
              "      <td>0</td>\n",
              "      <td>0</td>\n",
              "      <td>0</td>\n",
              "      <td>0</td>\n",
              "      <td>0</td>\n",
              "      <td>0</td>\n",
              "      <td>0</td>\n",
              "      <td>0</td>\n",
              "      <td>1</td>\n",
              "      <td>0</td>\n",
              "      <td>0</td>\n",
              "      <td>0</td>\n",
              "      <td>0</td>\n",
              "      <td>0</td>\n",
              "      <td>0</td>\n",
              "      <td>0</td>\n",
              "      <td>0</td>\n",
              "      <td>0</td>\n",
              "      <td>0</td>\n",
              "      <td>0</td>\n",
              "    </tr>\n",
              "  </tbody>\n",
              "</table>\n",
              "<p>5 rows × 121 columns</p>\n",
              "</div>"
            ],
            "text/plain": [
              "   Price ($)  Odometer (km)  ...  Manufacturer_name_заз  Manufacturer_name_уаз\n",
              "0     6900.0       280000.0  ...                      0                      0\n",
              "1     4300.0       321000.0  ...                      0                      0\n",
              "2    10950.0       191000.0  ...                      0                      0\n",
              "3     1850.0       417000.0  ...                      0                      0\n",
              "4     2000.0       340000.0  ...                      0                      0\n",
              "\n",
              "[5 rows x 121 columns]"
            ]
          },
          "metadata": {},
          "execution_count": 25
        }
      ]
    },
    {
      "cell_type": "code",
      "metadata": {
        "id": "sTclXX4egwXO",
        "colab": {
          "base_uri": "https://localhost:8080/",
          "height": 461
        },
        "outputId": "d302b33b-c565-4010-db86-976628a423a2"
      },
      "source": [
        "f_df_1.corr()"
      ],
      "execution_count": 26,
      "outputs": [
        {
          "output_type": "execute_result",
          "data": {
            "text/html": [
              "<div>\n",
              "<style scoped>\n",
              "    .dataframe tbody tr th:only-of-type {\n",
              "        vertical-align: middle;\n",
              "    }\n",
              "\n",
              "    .dataframe tbody tr th {\n",
              "        vertical-align: top;\n",
              "    }\n",
              "\n",
              "    .dataframe thead th {\n",
              "        text-align: right;\n",
              "    }\n",
              "</style>\n",
              "<table border=\"1\" class=\"dataframe\">\n",
              "  <thead>\n",
              "    <tr style=\"text-align: right;\">\n",
              "      <th></th>\n",
              "      <th>Price ($)</th>\n",
              "      <th>Odometer (km)</th>\n",
              "      <th>no_year</th>\n",
              "      <th>Gear_manual</th>\n",
              "      <th>Gear_other</th>\n",
              "      <th>Gear_semi-automatic</th>\n",
              "      <th>Fuel_electric</th>\n",
              "      <th>Fuel_gas</th>\n",
              "      <th>Fuel_gasoline</th>\n",
              "      <th>Fuel_hybrid</th>\n",
              "      <th>Fuel_other</th>\n",
              "      <th>Fuel_petrol</th>\n",
              "      <th>Country_Germany</th>\n",
              "      <th>Country_India</th>\n",
              "      <th>Country_US</th>\n",
              "      <th>Manufacturer_name_abarth</th>\n",
              "      <th>Manufacturer_name_acura</th>\n",
              "      <th>Manufacturer_name_aixam</th>\n",
              "      <th>Manufacturer_name_alfa</th>\n",
              "      <th>Manufacturer_name_alfa romeo</th>\n",
              "      <th>Manufacturer_name_alfa-romeo</th>\n",
              "      <th>Manufacturer_name_alpina</th>\n",
              "      <th>Manufacturer_name_alpine</th>\n",
              "      <th>Manufacturer_name_ambassador</th>\n",
              "      <th>Manufacturer_name_aston</th>\n",
              "      <th>Manufacturer_name_aston-martin</th>\n",
              "      <th>Manufacturer_name_audi</th>\n",
              "      <th>Manufacturer_name_baic</th>\n",
              "      <th>Manufacturer_name_bentley</th>\n",
              "      <th>Manufacturer_name_bmw</th>\n",
              "      <th>Manufacturer_name_brilliance</th>\n",
              "      <th>Manufacturer_name_buick</th>\n",
              "      <th>Manufacturer_name_cadillac</th>\n",
              "      <th>Manufacturer_name_caravans-wohnm</th>\n",
              "      <th>Manufacturer_name_chery</th>\n",
              "      <th>Manufacturer_name_chevrolet</th>\n",
              "      <th>Manufacturer_name_chrysler</th>\n",
              "      <th>Manufacturer_name_citroen</th>\n",
              "      <th>Manufacturer_name_corvette</th>\n",
              "      <th>Manufacturer_name_cupra</th>\n",
              "      <th>...</th>\n",
              "      <th>Manufacturer_name_mercedes-amg</th>\n",
              "      <th>Manufacturer_name_mercedes-benz</th>\n",
              "      <th>Manufacturer_name_mercury</th>\n",
              "      <th>Manufacturer_name_mg</th>\n",
              "      <th>Manufacturer_name_microcar</th>\n",
              "      <th>Manufacturer_name_mini</th>\n",
              "      <th>Manufacturer_name_mitsubishi</th>\n",
              "      <th>Manufacturer_name_morgan</th>\n",
              "      <th>Manufacturer_name_nissan</th>\n",
              "      <th>Manufacturer_name_opel</th>\n",
              "      <th>Manufacturer_name_opelcorsa</th>\n",
              "      <th>Manufacturer_name_others</th>\n",
              "      <th>Manufacturer_name_peugeot</th>\n",
              "      <th>Manufacturer_name_piaggio</th>\n",
              "      <th>Manufacturer_name_polestar</th>\n",
              "      <th>Manufacturer_name_pontiac</th>\n",
              "      <th>Manufacturer_name_porsche</th>\n",
              "      <th>Manufacturer_name_premier</th>\n",
              "      <th>Manufacturer_name_ram</th>\n",
              "      <th>Manufacturer_name_renault</th>\n",
              "      <th>Manufacturer_name_rolls-royce</th>\n",
              "      <th>Manufacturer_name_rover</th>\n",
              "      <th>Manufacturer_name_saab</th>\n",
              "      <th>Manufacturer_name_saturn</th>\n",
              "      <th>Manufacturer_name_seat</th>\n",
              "      <th>Manufacturer_name_skoda</th>\n",
              "      <th>Manufacturer_name_smart</th>\n",
              "      <th>Manufacturer_name_ssangyong</th>\n",
              "      <th>Manufacturer_name_subaru</th>\n",
              "      <th>Manufacturer_name_suzuki</th>\n",
              "      <th>Manufacturer_name_tata</th>\n",
              "      <th>Manufacturer_name_tesla</th>\n",
              "      <th>Manufacturer_name_toyota</th>\n",
              "      <th>Manufacturer_name_volkswagen</th>\n",
              "      <th>Manufacturer_name_volvo</th>\n",
              "      <th>Manufacturer_name_zhidou</th>\n",
              "      <th>Manufacturer_name_ваз</th>\n",
              "      <th>Manufacturer_name_газ</th>\n",
              "      <th>Manufacturer_name_заз</th>\n",
              "      <th>Manufacturer_name_уаз</th>\n",
              "    </tr>\n",
              "  </thead>\n",
              "  <tbody>\n",
              "    <tr>\n",
              "      <th>Price ($)</th>\n",
              "      <td>1.000000</td>\n",
              "      <td>-0.460581</td>\n",
              "      <td>-0.534409</td>\n",
              "      <td>-0.221902</td>\n",
              "      <td>0.301542</td>\n",
              "      <td>-0.006518</td>\n",
              "      <td>0.042377</td>\n",
              "      <td>-0.095165</td>\n",
              "      <td>-0.065997</td>\n",
              "      <td>0.012454</td>\n",
              "      <td>0.166049</td>\n",
              "      <td>-0.087360</td>\n",
              "      <td>0.038152</td>\n",
              "      <td>-0.099724</td>\n",
              "      <td>0.091214</td>\n",
              "      <td>0.003759</td>\n",
              "      <td>0.027622</td>\n",
              "      <td>0.000173</td>\n",
              "      <td>0.009587</td>\n",
              "      <td>-0.012753</td>\n",
              "      <td>0.037116</td>\n",
              "      <td>0.020752</td>\n",
              "      <td>0.012978</td>\n",
              "      <td>0.003335</td>\n",
              "      <td>0.095717</td>\n",
              "      <td>0.003576</td>\n",
              "      <td>0.089780</td>\n",
              "      <td>0.000526</td>\n",
              "      <td>0.078210</td>\n",
              "      <td>0.053774</td>\n",
              "      <td>-0.001775</td>\n",
              "      <td>-0.017099</td>\n",
              "      <td>0.024416</td>\n",
              "      <td>0.000224</td>\n",
              "      <td>-0.008860</td>\n",
              "      <td>0.030125</td>\n",
              "      <td>-0.056862</td>\n",
              "      <td>-0.042736</td>\n",
              "      <td>0.021236</td>\n",
              "      <td>0.026612</td>\n",
              "      <td>...</td>\n",
              "      <td>0.005847</td>\n",
              "      <td>0.067647</td>\n",
              "      <td>-0.043368</td>\n",
              "      <td>0.003234</td>\n",
              "      <td>-0.003426</td>\n",
              "      <td>-0.016380</td>\n",
              "      <td>-0.027417</td>\n",
              "      <td>0.004218</td>\n",
              "      <td>-0.074159</td>\n",
              "      <td>-0.060518</td>\n",
              "      <td>-0.003007</td>\n",
              "      <td>-0.003655</td>\n",
              "      <td>-0.046311</td>\n",
              "      <td>-0.001800</td>\n",
              "      <td>0.012635</td>\n",
              "      <td>-0.054391</td>\n",
              "      <td>0.097717</td>\n",
              "      <td>-0.002231</td>\n",
              "      <td>0.149589</td>\n",
              "      <td>-0.055804</td>\n",
              "      <td>0.034275</td>\n",
              "      <td>0.034952</td>\n",
              "      <td>-0.005976</td>\n",
              "      <td>-0.044093</td>\n",
              "      <td>-0.017898</td>\n",
              "      <td>-0.021387</td>\n",
              "      <td>-0.027407</td>\n",
              "      <td>-0.003017</td>\n",
              "      <td>-0.040972</td>\n",
              "      <td>-0.016913</td>\n",
              "      <td>-0.017929</td>\n",
              "      <td>0.061677</td>\n",
              "      <td>-0.018999</td>\n",
              "      <td>-0.043157</td>\n",
              "      <td>0.024176</td>\n",
              "      <td>-0.000354</td>\n",
              "      <td>-0.009479</td>\n",
              "      <td>-0.003560</td>\n",
              "      <td>-0.003911</td>\n",
              "      <td>-0.003307</td>\n",
              "    </tr>\n",
              "    <tr>\n",
              "      <th>Odometer (km)</th>\n",
              "      <td>-0.460581</td>\n",
              "      <td>1.000000</td>\n",
              "      <td>0.681548</td>\n",
              "      <td>-0.095976</td>\n",
              "      <td>-0.354099</td>\n",
              "      <td>-0.006430</td>\n",
              "      <td>-0.065510</td>\n",
              "      <td>0.197211</td>\n",
              "      <td>-0.148434</td>\n",
              "      <td>-0.021797</td>\n",
              "      <td>-0.146533</td>\n",
              "      <td>-0.147375</td>\n",
              "      <td>-0.237051</td>\n",
              "      <td>-0.184240</td>\n",
              "      <td>0.212368</td>\n",
              "      <td>-0.011219</td>\n",
              "      <td>-0.025213</td>\n",
              "      <td>-0.003810</td>\n",
              "      <td>-0.012115</td>\n",
              "      <td>0.014698</td>\n",
              "      <td>-0.045755</td>\n",
              "      <td>-0.004717</td>\n",
              "      <td>-0.003974</td>\n",
              "      <td>-0.001925</td>\n",
              "      <td>-0.010122</td>\n",
              "      <td>-0.005529</td>\n",
              "      <td>-0.052105</td>\n",
              "      <td>-0.003340</td>\n",
              "      <td>-0.008184</td>\n",
              "      <td>-0.039475</td>\n",
              "      <td>-0.000624</td>\n",
              "      <td>-0.015631</td>\n",
              "      <td>-0.016778</td>\n",
              "      <td>-0.001044</td>\n",
              "      <td>-0.000769</td>\n",
              "      <td>0.058841</td>\n",
              "      <td>0.026674</td>\n",
              "      <td>0.007743</td>\n",
              "      <td>-0.003375</td>\n",
              "      <td>-0.016820</td>\n",
              "      <td>...</td>\n",
              "      <td>-0.001828</td>\n",
              "      <td>-0.023874</td>\n",
              "      <td>0.031356</td>\n",
              "      <td>-0.009049</td>\n",
              "      <td>-0.005937</td>\n",
              "      <td>-0.028639</td>\n",
              "      <td>-0.017812</td>\n",
              "      <td>-0.003998</td>\n",
              "      <td>0.014227</td>\n",
              "      <td>-0.030272</td>\n",
              "      <td>-0.001730</td>\n",
              "      <td>-0.007690</td>\n",
              "      <td>0.004275</td>\n",
              "      <td>-0.002931</td>\n",
              "      <td>-0.004348</td>\n",
              "      <td>0.047855</td>\n",
              "      <td>-0.015586</td>\n",
              "      <td>-0.001995</td>\n",
              "      <td>0.030164</td>\n",
              "      <td>-0.041532</td>\n",
              "      <td>-0.003402</td>\n",
              "      <td>-0.006263</td>\n",
              "      <td>0.010832</td>\n",
              "      <td>0.029860</td>\n",
              "      <td>-0.041370</td>\n",
              "      <td>-0.054545</td>\n",
              "      <td>-0.042729</td>\n",
              "      <td>-0.002867</td>\n",
              "      <td>0.024660</td>\n",
              "      <td>-0.018790</td>\n",
              "      <td>-0.036682</td>\n",
              "      <td>-0.034638</td>\n",
              "      <td>0.069500</td>\n",
              "      <td>-0.052610</td>\n",
              "      <td>-0.012255</td>\n",
              "      <td>-0.002159</td>\n",
              "      <td>-0.002038</td>\n",
              "      <td>0.003079</td>\n",
              "      <td>-0.001873</td>\n",
              "      <td>-0.002435</td>\n",
              "    </tr>\n",
              "    <tr>\n",
              "      <th>no_year</th>\n",
              "      <td>-0.534409</td>\n",
              "      <td>0.681548</td>\n",
              "      <td>1.000000</td>\n",
              "      <td>0.057609</td>\n",
              "      <td>-0.302765</td>\n",
              "      <td>-0.001707</td>\n",
              "      <td>-0.052272</td>\n",
              "      <td>0.129742</td>\n",
              "      <td>-0.035167</td>\n",
              "      <td>-0.040875</td>\n",
              "      <td>-0.154690</td>\n",
              "      <td>-0.048687</td>\n",
              "      <td>-0.205500</td>\n",
              "      <td>-0.075169</td>\n",
              "      <td>0.083784</td>\n",
              "      <td>-0.009925</td>\n",
              "      <td>-0.026671</td>\n",
              "      <td>-0.002947</td>\n",
              "      <td>-0.009500</td>\n",
              "      <td>0.028062</td>\n",
              "      <td>-0.043064</td>\n",
              "      <td>-0.003618</td>\n",
              "      <td>-0.004158</td>\n",
              "      <td>0.003209</td>\n",
              "      <td>-0.008356</td>\n",
              "      <td>0.003014</td>\n",
              "      <td>-0.041160</td>\n",
              "      <td>-0.002620</td>\n",
              "      <td>-0.004448</td>\n",
              "      <td>-0.010062</td>\n",
              "      <td>0.000471</td>\n",
              "      <td>-0.002810</td>\n",
              "      <td>-0.006499</td>\n",
              "      <td>-0.001538</td>\n",
              "      <td>0.004199</td>\n",
              "      <td>0.035109</td>\n",
              "      <td>0.030094</td>\n",
              "      <td>0.025492</td>\n",
              "      <td>-0.002620</td>\n",
              "      <td>-0.017647</td>\n",
              "      <td>...</td>\n",
              "      <td>-0.001229</td>\n",
              "      <td>0.010317</td>\n",
              "      <td>0.065773</td>\n",
              "      <td>-0.008475</td>\n",
              "      <td>-0.001886</td>\n",
              "      <td>-0.009593</td>\n",
              "      <td>-0.007026</td>\n",
              "      <td>0.002358</td>\n",
              "      <td>-0.009698</td>\n",
              "      <td>-0.009359</td>\n",
              "      <td>0.003760</td>\n",
              "      <td>-0.004492</td>\n",
              "      <td>0.029080</td>\n",
              "      <td>-0.000330</td>\n",
              "      <td>-0.004583</td>\n",
              "      <td>0.080432</td>\n",
              "      <td>0.010817</td>\n",
              "      <td>0.000265</td>\n",
              "      <td>-0.028254</td>\n",
              "      <td>-0.010051</td>\n",
              "      <td>-0.001750</td>\n",
              "      <td>-0.002173</td>\n",
              "      <td>0.013879</td>\n",
              "      <td>0.057875</td>\n",
              "      <td>-0.029363</td>\n",
              "      <td>-0.045400</td>\n",
              "      <td>-0.022941</td>\n",
              "      <td>-0.000655</td>\n",
              "      <td>0.004645</td>\n",
              "      <td>-0.004432</td>\n",
              "      <td>-0.015297</td>\n",
              "      <td>-0.031359</td>\n",
              "      <td>0.053109</td>\n",
              "      <td>-0.033461</td>\n",
              "      <td>-0.009062</td>\n",
              "      <td>-0.001796</td>\n",
              "      <td>0.013153</td>\n",
              "      <td>0.003467</td>\n",
              "      <td>0.000575</td>\n",
              "      <td>0.001269</td>\n",
              "    </tr>\n",
              "    <tr>\n",
              "      <th>Gear_manual</th>\n",
              "      <td>-0.221902</td>\n",
              "      <td>-0.095976</td>\n",
              "      <td>0.057609</td>\n",
              "      <td>1.000000</td>\n",
              "      <td>-0.182615</td>\n",
              "      <td>-0.005180</td>\n",
              "      <td>-0.030179</td>\n",
              "      <td>-0.480570</td>\n",
              "      <td>0.478038</td>\n",
              "      <td>-0.033596</td>\n",
              "      <td>-0.107988</td>\n",
              "      <td>0.265939</td>\n",
              "      <td>0.450541</td>\n",
              "      <td>0.378792</td>\n",
              "      <td>-0.692328</td>\n",
              "      <td>0.018710</td>\n",
              "      <td>-0.048646</td>\n",
              "      <td>-0.001221</td>\n",
              "      <td>0.021630</td>\n",
              "      <td>0.025015</td>\n",
              "      <td>-0.019731</td>\n",
              "      <td>-0.002229</td>\n",
              "      <td>0.000683</td>\n",
              "      <td>0.006963</td>\n",
              "      <td>-0.000175</td>\n",
              "      <td>-0.002338</td>\n",
              "      <td>-0.012192</td>\n",
              "      <td>0.001196</td>\n",
              "      <td>-0.003072</td>\n",
              "      <td>-0.034577</td>\n",
              "      <td>0.003481</td>\n",
              "      <td>-0.046939</td>\n",
              "      <td>-0.051146</td>\n",
              "      <td>0.004923</td>\n",
              "      <td>0.018632</td>\n",
              "      <td>-0.110029</td>\n",
              "      <td>-0.044415</td>\n",
              "      <td>0.112631</td>\n",
              "      <td>0.001196</td>\n",
              "      <td>-0.004540</td>\n",
              "      <td>...</td>\n",
              "      <td>-0.000705</td>\n",
              "      <td>-0.040725</td>\n",
              "      <td>-0.019838</td>\n",
              "      <td>0.008081</td>\n",
              "      <td>-0.001233</td>\n",
              "      <td>0.034920</td>\n",
              "      <td>0.012404</td>\n",
              "      <td>0.002777</td>\n",
              "      <td>-0.035704</td>\n",
              "      <td>0.216007</td>\n",
              "      <td>0.006030</td>\n",
              "      <td>0.004507</td>\n",
              "      <td>0.125535</td>\n",
              "      <td>0.006030</td>\n",
              "      <td>-0.001410</td>\n",
              "      <td>-0.013591</td>\n",
              "      <td>-0.001736</td>\n",
              "      <td>0.004923</td>\n",
              "      <td>-0.067233</td>\n",
              "      <td>0.174756</td>\n",
              "      <td>-0.001410</td>\n",
              "      <td>-0.021680</td>\n",
              "      <td>0.011391</td>\n",
              "      <td>-0.010064</td>\n",
              "      <td>0.114346</td>\n",
              "      <td>0.127315</td>\n",
              "      <td>0.023540</td>\n",
              "      <td>0.011673</td>\n",
              "      <td>0.000649</td>\n",
              "      <td>0.058190</td>\n",
              "      <td>0.098157</td>\n",
              "      <td>-0.019177</td>\n",
              "      <td>-0.053951</td>\n",
              "      <td>0.131353</td>\n",
              "      <td>-0.023623</td>\n",
              "      <td>-0.000705</td>\n",
              "      <td>0.021462</td>\n",
              "      <td>0.008528</td>\n",
              "      <td>0.008528</td>\n",
              "      <td>0.008528</td>\n",
              "    </tr>\n",
              "    <tr>\n",
              "      <th>Gear_other</th>\n",
              "      <td>0.301542</td>\n",
              "      <td>-0.354099</td>\n",
              "      <td>-0.302765</td>\n",
              "      <td>-0.182615</td>\n",
              "      <td>1.000000</td>\n",
              "      <td>-0.004672</td>\n",
              "      <td>0.046860</td>\n",
              "      <td>-0.024198</td>\n",
              "      <td>-0.124675</td>\n",
              "      <td>0.007364</td>\n",
              "      <td>0.381373</td>\n",
              "      <td>-0.062758</td>\n",
              "      <td>-0.141095</td>\n",
              "      <td>-0.090929</td>\n",
              "      <td>0.193173</td>\n",
              "      <td>-0.004021</td>\n",
              "      <td>0.097133</td>\n",
              "      <td>-0.001101</td>\n",
              "      <td>-0.007194</td>\n",
              "      <td>-0.004672</td>\n",
              "      <td>0.090016</td>\n",
              "      <td>-0.002010</td>\n",
              "      <td>-0.001272</td>\n",
              "      <td>-0.001272</td>\n",
              "      <td>-0.003179</td>\n",
              "      <td>-0.002109</td>\n",
              "      <td>0.038973</td>\n",
              "      <td>-0.001101</td>\n",
              "      <td>-0.002771</td>\n",
              "      <td>0.014902</td>\n",
              "      <td>-0.000636</td>\n",
              "      <td>0.044455</td>\n",
              "      <td>0.052590</td>\n",
              "      <td>-0.000899</td>\n",
              "      <td>-0.003540</td>\n",
              "      <td>0.000846</td>\n",
              "      <td>-0.009472</td>\n",
              "      <td>-0.025520</td>\n",
              "      <td>-0.001101</td>\n",
              "      <td>-0.005047</td>\n",
              "      <td>...</td>\n",
              "      <td>-0.000636</td>\n",
              "      <td>-0.018909</td>\n",
              "      <td>-0.017700</td>\n",
              "      <td>-0.002843</td>\n",
              "      <td>-0.002202</td>\n",
              "      <td>0.015702</td>\n",
              "      <td>0.033083</td>\n",
              "      <td>0.003224</td>\n",
              "      <td>-0.016355</td>\n",
              "      <td>-0.048260</td>\n",
              "      <td>-0.001101</td>\n",
              "      <td>-0.002543</td>\n",
              "      <td>-0.028822</td>\n",
              "      <td>-0.001101</td>\n",
              "      <td>-0.001272</td>\n",
              "      <td>-0.022457</td>\n",
              "      <td>-0.005752</td>\n",
              "      <td>-0.000899</td>\n",
              "      <td>0.005121</td>\n",
              "      <td>-0.041758</td>\n",
              "      <td>-0.001272</td>\n",
              "      <td>-0.003279</td>\n",
              "      <td>-0.002292</td>\n",
              "      <td>-0.013883</td>\n",
              "      <td>-0.028178</td>\n",
              "      <td>-0.037583</td>\n",
              "      <td>-0.019295</td>\n",
              "      <td>-0.004842</td>\n",
              "      <td>-0.004767</td>\n",
              "      <td>-0.013267</td>\n",
              "      <td>-0.019659</td>\n",
              "      <td>0.066781</td>\n",
              "      <td>0.005514</td>\n",
              "      <td>-0.010435</td>\n",
              "      <td>0.019536</td>\n",
              "      <td>-0.000636</td>\n",
              "      <td>-0.003919</td>\n",
              "      <td>-0.001557</td>\n",
              "      <td>-0.001557</td>\n",
              "      <td>-0.001557</td>\n",
              "    </tr>\n",
              "    <tr>\n",
              "      <th>...</th>\n",
              "      <td>...</td>\n",
              "      <td>...</td>\n",
              "      <td>...</td>\n",
              "      <td>...</td>\n",
              "      <td>...</td>\n",
              "      <td>...</td>\n",
              "      <td>...</td>\n",
              "      <td>...</td>\n",
              "      <td>...</td>\n",
              "      <td>...</td>\n",
              "      <td>...</td>\n",
              "      <td>...</td>\n",
              "      <td>...</td>\n",
              "      <td>...</td>\n",
              "      <td>...</td>\n",
              "      <td>...</td>\n",
              "      <td>...</td>\n",
              "      <td>...</td>\n",
              "      <td>...</td>\n",
              "      <td>...</td>\n",
              "      <td>...</td>\n",
              "      <td>...</td>\n",
              "      <td>...</td>\n",
              "      <td>...</td>\n",
              "      <td>...</td>\n",
              "      <td>...</td>\n",
              "      <td>...</td>\n",
              "      <td>...</td>\n",
              "      <td>...</td>\n",
              "      <td>...</td>\n",
              "      <td>...</td>\n",
              "      <td>...</td>\n",
              "      <td>...</td>\n",
              "      <td>...</td>\n",
              "      <td>...</td>\n",
              "      <td>...</td>\n",
              "      <td>...</td>\n",
              "      <td>...</td>\n",
              "      <td>...</td>\n",
              "      <td>...</td>\n",
              "      <td>...</td>\n",
              "      <td>...</td>\n",
              "      <td>...</td>\n",
              "      <td>...</td>\n",
              "      <td>...</td>\n",
              "      <td>...</td>\n",
              "      <td>...</td>\n",
              "      <td>...</td>\n",
              "      <td>...</td>\n",
              "      <td>...</td>\n",
              "      <td>...</td>\n",
              "      <td>...</td>\n",
              "      <td>...</td>\n",
              "      <td>...</td>\n",
              "      <td>...</td>\n",
              "      <td>...</td>\n",
              "      <td>...</td>\n",
              "      <td>...</td>\n",
              "      <td>...</td>\n",
              "      <td>...</td>\n",
              "      <td>...</td>\n",
              "      <td>...</td>\n",
              "      <td>...</td>\n",
              "      <td>...</td>\n",
              "      <td>...</td>\n",
              "      <td>...</td>\n",
              "      <td>...</td>\n",
              "      <td>...</td>\n",
              "      <td>...</td>\n",
              "      <td>...</td>\n",
              "      <td>...</td>\n",
              "      <td>...</td>\n",
              "      <td>...</td>\n",
              "      <td>...</td>\n",
              "      <td>...</td>\n",
              "      <td>...</td>\n",
              "      <td>...</td>\n",
              "      <td>...</td>\n",
              "      <td>...</td>\n",
              "      <td>...</td>\n",
              "      <td>...</td>\n",
              "    </tr>\n",
              "    <tr>\n",
              "      <th>Manufacturer_name_zhidou</th>\n",
              "      <td>-0.000354</td>\n",
              "      <td>-0.002159</td>\n",
              "      <td>-0.001796</td>\n",
              "      <td>-0.000705</td>\n",
              "      <td>-0.000636</td>\n",
              "      <td>-0.000018</td>\n",
              "      <td>0.022004</td>\n",
              "      <td>-0.002380</td>\n",
              "      <td>-0.000481</td>\n",
              "      <td>-0.000186</td>\n",
              "      <td>-0.000401</td>\n",
              "      <td>-0.000242</td>\n",
              "      <td>0.004506</td>\n",
              "      <td>-0.000351</td>\n",
              "      <td>-0.003291</td>\n",
              "      <td>-0.000016</td>\n",
              "      <td>-0.000181</td>\n",
              "      <td>-0.000004</td>\n",
              "      <td>-0.000028</td>\n",
              "      <td>-0.000018</td>\n",
              "      <td>-0.000069</td>\n",
              "      <td>-0.000008</td>\n",
              "      <td>-0.000005</td>\n",
              "      <td>-0.000005</td>\n",
              "      <td>-0.000012</td>\n",
              "      <td>-0.000008</td>\n",
              "      <td>-0.000247</td>\n",
              "      <td>-0.000004</td>\n",
              "      <td>-0.000011</td>\n",
              "      <td>-0.000315</td>\n",
              "      <td>-0.000002</td>\n",
              "      <td>-0.000168</td>\n",
              "      <td>-0.000188</td>\n",
              "      <td>-0.000003</td>\n",
              "      <td>-0.000014</td>\n",
              "      <td>-0.000538</td>\n",
              "      <td>-0.000179</td>\n",
              "      <td>-0.000098</td>\n",
              "      <td>-0.000004</td>\n",
              "      <td>-0.000019</td>\n",
              "      <td>...</td>\n",
              "      <td>-0.000002</td>\n",
              "      <td>-0.000272</td>\n",
              "      <td>-0.000073</td>\n",
              "      <td>-0.000011</td>\n",
              "      <td>-0.000008</td>\n",
              "      <td>-0.000124</td>\n",
              "      <td>-0.000146</td>\n",
              "      <td>-0.000005</td>\n",
              "      <td>-0.000328</td>\n",
              "      <td>-0.000186</td>\n",
              "      <td>-0.000004</td>\n",
              "      <td>-0.000010</td>\n",
              "      <td>-0.000111</td>\n",
              "      <td>-0.000004</td>\n",
              "      <td>-0.000005</td>\n",
              "      <td>-0.000102</td>\n",
              "      <td>-0.000087</td>\n",
              "      <td>-0.000003</td>\n",
              "      <td>-0.000299</td>\n",
              "      <td>-0.000161</td>\n",
              "      <td>-0.000005</td>\n",
              "      <td>-0.000102</td>\n",
              "      <td>-0.000009</td>\n",
              "      <td>-0.000078</td>\n",
              "      <td>-0.000109</td>\n",
              "      <td>-0.000145</td>\n",
              "      <td>-0.000074</td>\n",
              "      <td>-0.000019</td>\n",
              "      <td>-0.000228</td>\n",
              "      <td>-0.000051</td>\n",
              "      <td>-0.000076</td>\n",
              "      <td>-0.000067</td>\n",
              "      <td>-0.000452</td>\n",
              "      <td>-0.000322</td>\n",
              "      <td>-0.000153</td>\n",
              "      <td>1.000000</td>\n",
              "      <td>-0.000015</td>\n",
              "      <td>-0.000006</td>\n",
              "      <td>-0.000006</td>\n",
              "      <td>-0.000006</td>\n",
              "    </tr>\n",
              "    <tr>\n",
              "      <th>Manufacturer_name_ваз</th>\n",
              "      <td>-0.009479</td>\n",
              "      <td>-0.002038</td>\n",
              "      <td>0.013153</td>\n",
              "      <td>0.021462</td>\n",
              "      <td>-0.003919</td>\n",
              "      <td>-0.000111</td>\n",
              "      <td>-0.000687</td>\n",
              "      <td>-0.014673</td>\n",
              "      <td>0.030530</td>\n",
              "      <td>-0.001147</td>\n",
              "      <td>-0.002474</td>\n",
              "      <td>-0.001493</td>\n",
              "      <td>-0.003357</td>\n",
              "      <td>-0.002163</td>\n",
              "      <td>-0.020289</td>\n",
              "      <td>-0.000096</td>\n",
              "      <td>-0.001117</td>\n",
              "      <td>-0.000026</td>\n",
              "      <td>-0.000171</td>\n",
              "      <td>-0.000111</td>\n",
              "      <td>-0.000427</td>\n",
              "      <td>-0.000048</td>\n",
              "      <td>-0.000030</td>\n",
              "      <td>-0.000030</td>\n",
              "      <td>-0.000076</td>\n",
              "      <td>-0.000050</td>\n",
              "      <td>-0.001522</td>\n",
              "      <td>-0.000026</td>\n",
              "      <td>-0.000066</td>\n",
              "      <td>-0.001944</td>\n",
              "      <td>-0.000015</td>\n",
              "      <td>-0.001038</td>\n",
              "      <td>-0.001156</td>\n",
              "      <td>-0.000021</td>\n",
              "      <td>-0.000084</td>\n",
              "      <td>-0.003316</td>\n",
              "      <td>-0.001101</td>\n",
              "      <td>-0.000607</td>\n",
              "      <td>-0.000026</td>\n",
              "      <td>-0.000120</td>\n",
              "      <td>...</td>\n",
              "      <td>-0.000015</td>\n",
              "      <td>-0.001674</td>\n",
              "      <td>-0.000450</td>\n",
              "      <td>-0.000068</td>\n",
              "      <td>-0.000052</td>\n",
              "      <td>-0.000767</td>\n",
              "      <td>-0.000903</td>\n",
              "      <td>-0.000030</td>\n",
              "      <td>-0.002023</td>\n",
              "      <td>-0.001148</td>\n",
              "      <td>-0.000026</td>\n",
              "      <td>-0.000061</td>\n",
              "      <td>-0.000686</td>\n",
              "      <td>-0.000026</td>\n",
              "      <td>-0.000030</td>\n",
              "      <td>-0.000630</td>\n",
              "      <td>-0.000535</td>\n",
              "      <td>-0.000021</td>\n",
              "      <td>-0.001843</td>\n",
              "      <td>-0.000994</td>\n",
              "      <td>-0.000030</td>\n",
              "      <td>-0.000630</td>\n",
              "      <td>-0.000055</td>\n",
              "      <td>-0.000482</td>\n",
              "      <td>-0.000670</td>\n",
              "      <td>-0.000894</td>\n",
              "      <td>-0.000459</td>\n",
              "      <td>-0.000115</td>\n",
              "      <td>-0.001407</td>\n",
              "      <td>-0.000316</td>\n",
              "      <td>-0.000468</td>\n",
              "      <td>-0.000412</td>\n",
              "      <td>-0.002784</td>\n",
              "      <td>-0.001983</td>\n",
              "      <td>-0.000940</td>\n",
              "      <td>-0.000015</td>\n",
              "      <td>1.000000</td>\n",
              "      <td>-0.000037</td>\n",
              "      <td>-0.000037</td>\n",
              "      <td>-0.000037</td>\n",
              "    </tr>\n",
              "    <tr>\n",
              "      <th>Manufacturer_name_газ</th>\n",
              "      <td>-0.003560</td>\n",
              "      <td>0.003079</td>\n",
              "      <td>0.003467</td>\n",
              "      <td>0.008528</td>\n",
              "      <td>-0.001557</td>\n",
              "      <td>-0.000044</td>\n",
              "      <td>-0.000273</td>\n",
              "      <td>-0.005830</td>\n",
              "      <td>0.007934</td>\n",
              "      <td>-0.000456</td>\n",
              "      <td>-0.000983</td>\n",
              "      <td>-0.000593</td>\n",
              "      <td>-0.001334</td>\n",
              "      <td>-0.000860</td>\n",
              "      <td>-0.008062</td>\n",
              "      <td>-0.000038</td>\n",
              "      <td>-0.000444</td>\n",
              "      <td>-0.000010</td>\n",
              "      <td>-0.000068</td>\n",
              "      <td>-0.000044</td>\n",
              "      <td>-0.000170</td>\n",
              "      <td>-0.000019</td>\n",
              "      <td>-0.000012</td>\n",
              "      <td>-0.000012</td>\n",
              "      <td>-0.000030</td>\n",
              "      <td>-0.000020</td>\n",
              "      <td>-0.000605</td>\n",
              "      <td>-0.000010</td>\n",
              "      <td>-0.000026</td>\n",
              "      <td>-0.000772</td>\n",
              "      <td>-0.000006</td>\n",
              "      <td>-0.000412</td>\n",
              "      <td>-0.000459</td>\n",
              "      <td>-0.000008</td>\n",
              "      <td>-0.000033</td>\n",
              "      <td>-0.001318</td>\n",
              "      <td>-0.000437</td>\n",
              "      <td>-0.000241</td>\n",
              "      <td>-0.000010</td>\n",
              "      <td>-0.000048</td>\n",
              "      <td>...</td>\n",
              "      <td>-0.000006</td>\n",
              "      <td>-0.000665</td>\n",
              "      <td>-0.000179</td>\n",
              "      <td>-0.000027</td>\n",
              "      <td>-0.000021</td>\n",
              "      <td>-0.000305</td>\n",
              "      <td>-0.000359</td>\n",
              "      <td>-0.000012</td>\n",
              "      <td>-0.000804</td>\n",
              "      <td>-0.000456</td>\n",
              "      <td>-0.000010</td>\n",
              "      <td>-0.000024</td>\n",
              "      <td>-0.000272</td>\n",
              "      <td>-0.000010</td>\n",
              "      <td>-0.000012</td>\n",
              "      <td>-0.000250</td>\n",
              "      <td>-0.000212</td>\n",
              "      <td>-0.000008</td>\n",
              "      <td>-0.000732</td>\n",
              "      <td>-0.000395</td>\n",
              "      <td>-0.000012</td>\n",
              "      <td>-0.000250</td>\n",
              "      <td>-0.000022</td>\n",
              "      <td>-0.000191</td>\n",
              "      <td>-0.000266</td>\n",
              "      <td>-0.000355</td>\n",
              "      <td>-0.000182</td>\n",
              "      <td>-0.000046</td>\n",
              "      <td>-0.000559</td>\n",
              "      <td>-0.000125</td>\n",
              "      <td>-0.000186</td>\n",
              "      <td>-0.000164</td>\n",
              "      <td>-0.001106</td>\n",
              "      <td>-0.000788</td>\n",
              "      <td>-0.000374</td>\n",
              "      <td>-0.000006</td>\n",
              "      <td>-0.000037</td>\n",
              "      <td>1.000000</td>\n",
              "      <td>-0.000015</td>\n",
              "      <td>-0.000015</td>\n",
              "    </tr>\n",
              "    <tr>\n",
              "      <th>Manufacturer_name_заз</th>\n",
              "      <td>-0.003911</td>\n",
              "      <td>-0.001873</td>\n",
              "      <td>0.000575</td>\n",
              "      <td>0.008528</td>\n",
              "      <td>-0.001557</td>\n",
              "      <td>-0.000044</td>\n",
              "      <td>-0.000273</td>\n",
              "      <td>-0.005830</td>\n",
              "      <td>0.012491</td>\n",
              "      <td>-0.000456</td>\n",
              "      <td>-0.000983</td>\n",
              "      <td>-0.000593</td>\n",
              "      <td>-0.001334</td>\n",
              "      <td>-0.000860</td>\n",
              "      <td>-0.008062</td>\n",
              "      <td>-0.000038</td>\n",
              "      <td>-0.000444</td>\n",
              "      <td>-0.000010</td>\n",
              "      <td>-0.000068</td>\n",
              "      <td>-0.000044</td>\n",
              "      <td>-0.000170</td>\n",
              "      <td>-0.000019</td>\n",
              "      <td>-0.000012</td>\n",
              "      <td>-0.000012</td>\n",
              "      <td>-0.000030</td>\n",
              "      <td>-0.000020</td>\n",
              "      <td>-0.000605</td>\n",
              "      <td>-0.000010</td>\n",
              "      <td>-0.000026</td>\n",
              "      <td>-0.000772</td>\n",
              "      <td>-0.000006</td>\n",
              "      <td>-0.000412</td>\n",
              "      <td>-0.000459</td>\n",
              "      <td>-0.000008</td>\n",
              "      <td>-0.000033</td>\n",
              "      <td>-0.001318</td>\n",
              "      <td>-0.000437</td>\n",
              "      <td>-0.000241</td>\n",
              "      <td>-0.000010</td>\n",
              "      <td>-0.000048</td>\n",
              "      <td>...</td>\n",
              "      <td>-0.000006</td>\n",
              "      <td>-0.000665</td>\n",
              "      <td>-0.000179</td>\n",
              "      <td>-0.000027</td>\n",
              "      <td>-0.000021</td>\n",
              "      <td>-0.000305</td>\n",
              "      <td>-0.000359</td>\n",
              "      <td>-0.000012</td>\n",
              "      <td>-0.000804</td>\n",
              "      <td>-0.000456</td>\n",
              "      <td>-0.000010</td>\n",
              "      <td>-0.000024</td>\n",
              "      <td>-0.000272</td>\n",
              "      <td>-0.000010</td>\n",
              "      <td>-0.000012</td>\n",
              "      <td>-0.000250</td>\n",
              "      <td>-0.000212</td>\n",
              "      <td>-0.000008</td>\n",
              "      <td>-0.000732</td>\n",
              "      <td>-0.000395</td>\n",
              "      <td>-0.000012</td>\n",
              "      <td>-0.000250</td>\n",
              "      <td>-0.000022</td>\n",
              "      <td>-0.000191</td>\n",
              "      <td>-0.000266</td>\n",
              "      <td>-0.000355</td>\n",
              "      <td>-0.000182</td>\n",
              "      <td>-0.000046</td>\n",
              "      <td>-0.000559</td>\n",
              "      <td>-0.000125</td>\n",
              "      <td>-0.000186</td>\n",
              "      <td>-0.000164</td>\n",
              "      <td>-0.001106</td>\n",
              "      <td>-0.000788</td>\n",
              "      <td>-0.000374</td>\n",
              "      <td>-0.000006</td>\n",
              "      <td>-0.000037</td>\n",
              "      <td>-0.000015</td>\n",
              "      <td>1.000000</td>\n",
              "      <td>-0.000015</td>\n",
              "    </tr>\n",
              "    <tr>\n",
              "      <th>Manufacturer_name_уаз</th>\n",
              "      <td>-0.003307</td>\n",
              "      <td>-0.002435</td>\n",
              "      <td>0.001269</td>\n",
              "      <td>0.008528</td>\n",
              "      <td>-0.001557</td>\n",
              "      <td>-0.000044</td>\n",
              "      <td>-0.000273</td>\n",
              "      <td>-0.005830</td>\n",
              "      <td>0.010212</td>\n",
              "      <td>-0.000456</td>\n",
              "      <td>-0.000983</td>\n",
              "      <td>-0.000593</td>\n",
              "      <td>-0.001334</td>\n",
              "      <td>-0.000860</td>\n",
              "      <td>-0.008062</td>\n",
              "      <td>-0.000038</td>\n",
              "      <td>-0.000444</td>\n",
              "      <td>-0.000010</td>\n",
              "      <td>-0.000068</td>\n",
              "      <td>-0.000044</td>\n",
              "      <td>-0.000170</td>\n",
              "      <td>-0.000019</td>\n",
              "      <td>-0.000012</td>\n",
              "      <td>-0.000012</td>\n",
              "      <td>-0.000030</td>\n",
              "      <td>-0.000020</td>\n",
              "      <td>-0.000605</td>\n",
              "      <td>-0.000010</td>\n",
              "      <td>-0.000026</td>\n",
              "      <td>-0.000772</td>\n",
              "      <td>-0.000006</td>\n",
              "      <td>-0.000412</td>\n",
              "      <td>-0.000459</td>\n",
              "      <td>-0.000008</td>\n",
              "      <td>-0.000033</td>\n",
              "      <td>-0.001318</td>\n",
              "      <td>-0.000437</td>\n",
              "      <td>-0.000241</td>\n",
              "      <td>-0.000010</td>\n",
              "      <td>-0.000048</td>\n",
              "      <td>...</td>\n",
              "      <td>-0.000006</td>\n",
              "      <td>-0.000665</td>\n",
              "      <td>-0.000179</td>\n",
              "      <td>-0.000027</td>\n",
              "      <td>-0.000021</td>\n",
              "      <td>-0.000305</td>\n",
              "      <td>-0.000359</td>\n",
              "      <td>-0.000012</td>\n",
              "      <td>-0.000804</td>\n",
              "      <td>-0.000456</td>\n",
              "      <td>-0.000010</td>\n",
              "      <td>-0.000024</td>\n",
              "      <td>-0.000272</td>\n",
              "      <td>-0.000010</td>\n",
              "      <td>-0.000012</td>\n",
              "      <td>-0.000250</td>\n",
              "      <td>-0.000212</td>\n",
              "      <td>-0.000008</td>\n",
              "      <td>-0.000732</td>\n",
              "      <td>-0.000395</td>\n",
              "      <td>-0.000012</td>\n",
              "      <td>-0.000250</td>\n",
              "      <td>-0.000022</td>\n",
              "      <td>-0.000191</td>\n",
              "      <td>-0.000266</td>\n",
              "      <td>-0.000355</td>\n",
              "      <td>-0.000182</td>\n",
              "      <td>-0.000046</td>\n",
              "      <td>-0.000559</td>\n",
              "      <td>-0.000125</td>\n",
              "      <td>-0.000186</td>\n",
              "      <td>-0.000164</td>\n",
              "      <td>-0.001106</td>\n",
              "      <td>-0.000788</td>\n",
              "      <td>-0.000374</td>\n",
              "      <td>-0.000006</td>\n",
              "      <td>-0.000037</td>\n",
              "      <td>-0.000015</td>\n",
              "      <td>-0.000015</td>\n",
              "      <td>1.000000</td>\n",
              "    </tr>\n",
              "  </tbody>\n",
              "</table>\n",
              "<p>121 rows × 121 columns</p>\n",
              "</div>"
            ],
            "text/plain": [
              "                          Price ($)  ...  Manufacturer_name_уаз\n",
              "Price ($)                  1.000000  ...              -0.003307\n",
              "Odometer (km)             -0.460581  ...              -0.002435\n",
              "no_year                   -0.534409  ...               0.001269\n",
              "Gear_manual               -0.221902  ...               0.008528\n",
              "Gear_other                 0.301542  ...              -0.001557\n",
              "...                             ...  ...                    ...\n",
              "Manufacturer_name_zhidou  -0.000354  ...              -0.000006\n",
              "Manufacturer_name_ваз     -0.009479  ...              -0.000037\n",
              "Manufacturer_name_газ     -0.003560  ...              -0.000015\n",
              "Manufacturer_name_заз     -0.003911  ...              -0.000015\n",
              "Manufacturer_name_уаз     -0.003307  ...               1.000000\n",
              "\n",
              "[121 rows x 121 columns]"
            ]
          },
          "metadata": {},
          "execution_count": 26
        }
      ]
    },
    {
      "cell_type": "code",
      "metadata": {
        "id": "2Q8WwS1VgwXR"
      },
      "source": [
        "X1 = f_df_1.iloc[:,1:]\n",
        "y1 = f_df_1.iloc[:,0]"
      ],
      "execution_count": 29,
      "outputs": []
    },
    {
      "cell_type": "code",
      "metadata": {
        "id": "Kk1MUeYCgwXU"
      },
      "source": [
        "X1_train, X1_test, y1_train, y1_test = train_test_split(X1, y1, test_size=0.3, random_state=0)"
      ],
      "execution_count": 31,
      "outputs": []
    },
    {
      "cell_type": "markdown",
      "metadata": {
        "id": "sTX5RtqTkXIL"
      },
      "source": [
        "##LinearRegression"
      ]
    },
    {
      "cell_type": "code",
      "metadata": {
        "id": "MaEPNqwClr8G"
      },
      "source": [
        "scaler = StandardScaler()\n",
        "scal_X1_train = pd.DataFrame(scaler.fit_transform(X1_train), columns = X1_train.columns)\n",
        "scal_X1_test = pd.DataFrame(scaler.fit_transform(X1_test), columns = X1_test.columns)"
      ],
      "execution_count": 39,
      "outputs": []
    },
    {
      "cell_type": "code",
      "metadata": {
        "colab": {
          "base_uri": "https://localhost:8080/"
        },
        "id": "z5vE-XfgkXIO",
        "outputId": "df5282c8-e838-4d3a-b492-19a9885b69c9"
      },
      "source": [
        "lr = LinearRegression()\n",
        "lr.fit(scal_X1_train, y1_train)"
      ],
      "execution_count": 40,
      "outputs": [
        {
          "output_type": "execute_result",
          "data": {
            "text/plain": [
              "LinearRegression(copy_X=True, fit_intercept=True, n_jobs=None, normalize=False)"
            ]
          },
          "metadata": {},
          "execution_count": 40
        }
      ]
    },
    {
      "cell_type": "code",
      "metadata": {
        "colab": {
          "base_uri": "https://localhost:8080/",
          "height": 0
        },
        "id": "u2ZRMVKSkXIQ",
        "outputId": "fe0183f2-ea3d-41c8-b6b2-813e4cf773b7"
      },
      "source": [
        "pd.DataFrame(lr.coef_, X1.columns, columns = ['Coeff'])"
      ],
      "execution_count": 41,
      "outputs": [
        {
          "output_type": "execute_result",
          "data": {
            "text/html": [
              "<div>\n",
              "<style scoped>\n",
              "    .dataframe tbody tr th:only-of-type {\n",
              "        vertical-align: middle;\n",
              "    }\n",
              "\n",
              "    .dataframe tbody tr th {\n",
              "        vertical-align: top;\n",
              "    }\n",
              "\n",
              "    .dataframe thead th {\n",
              "        text-align: right;\n",
              "    }\n",
              "</style>\n",
              "<table border=\"1\" class=\"dataframe\">\n",
              "  <thead>\n",
              "    <tr style=\"text-align: right;\">\n",
              "      <th></th>\n",
              "      <th>Coeff</th>\n",
              "    </tr>\n",
              "  </thead>\n",
              "  <tbody>\n",
              "    <tr>\n",
              "      <th>Odometer (km)</th>\n",
              "      <td>-3861.081697</td>\n",
              "    </tr>\n",
              "    <tr>\n",
              "      <th>no_year</th>\n",
              "      <td>-5217.964808</td>\n",
              "    </tr>\n",
              "    <tr>\n",
              "      <th>Gear_manual</th>\n",
              "      <td>-1698.241320</td>\n",
              "    </tr>\n",
              "    <tr>\n",
              "      <th>Gear_other</th>\n",
              "      <td>830.116998</td>\n",
              "    </tr>\n",
              "    <tr>\n",
              "      <th>Gear_semi-automatic</th>\n",
              "      <td>-34.536865</td>\n",
              "    </tr>\n",
              "    <tr>\n",
              "      <th>...</th>\n",
              "      <td>...</td>\n",
              "    </tr>\n",
              "    <tr>\n",
              "      <th>Manufacturer_name_zhidou</th>\n",
              "      <td>9.361902</td>\n",
              "    </tr>\n",
              "    <tr>\n",
              "      <th>Manufacturer_name_ваз</th>\n",
              "      <td>42.723867</td>\n",
              "    </tr>\n",
              "    <tr>\n",
              "      <th>Manufacturer_name_газ</th>\n",
              "      <td>11.153383</td>\n",
              "    </tr>\n",
              "    <tr>\n",
              "      <th>Manufacturer_name_заз</th>\n",
              "      <td>-6.722018</td>\n",
              "    </tr>\n",
              "    <tr>\n",
              "      <th>Manufacturer_name_уаз</th>\n",
              "      <td>-4.958844</td>\n",
              "    </tr>\n",
              "  </tbody>\n",
              "</table>\n",
              "<p>120 rows × 1 columns</p>\n",
              "</div>"
            ],
            "text/plain": [
              "                                Coeff\n",
              "Odometer (km)            -3861.081697\n",
              "no_year                  -5217.964808\n",
              "Gear_manual              -1698.241320\n",
              "Gear_other                 830.116998\n",
              "Gear_semi-automatic        -34.536865\n",
              "...                               ...\n",
              "Manufacturer_name_zhidou     9.361902\n",
              "Manufacturer_name_ваз       42.723867\n",
              "Manufacturer_name_газ       11.153383\n",
              "Manufacturer_name_заз       -6.722018\n",
              "Manufacturer_name_уаз       -4.958844\n",
              "\n",
              "[120 rows x 1 columns]"
            ]
          },
          "metadata": {},
          "execution_count": 41
        }
      ]
    },
    {
      "cell_type": "code",
      "metadata": {
        "colab": {
          "base_uri": "https://localhost:8080/",
          "height": 0
        },
        "id": "fXs1ZNCakXIT",
        "outputId": "18993524-1e0e-458b-a06b-4421e723d501"
      },
      "source": [
        "predictions = lr.predict(scal_X1_test)\n",
        "\n",
        "plt.scatter(y1_test, predictions)"
      ],
      "execution_count": 42,
      "outputs": [
        {
          "output_type": "execute_result",
          "data": {
            "text/plain": [
              "<matplotlib.collections.PathCollection at 0x7f5c650ecdd0>"
            ]
          },
          "metadata": {},
          "execution_count": 42
        },
        {
          "output_type": "display_data",
          "data": {
            "image/png": "[encoded data removed]",
            "text/plain": [
              "<Figure size 432x288 with 1 Axes>"
            ]
          },
          "metadata": {
            "needs_background": "light"
          }
        }
      ]
    },
    {
      "cell_type": "code",
      "metadata": {
        "colab": {
          "base_uri": "https://localhost:8080/",
          "height": 0
        },
        "id": "roixaYhTkXIU",
        "outputId": "bf9a3498-9f0b-4bc1-a3a7-a79ec8c597ef"
      },
      "source": [
        "plt.hist(y1_test - predictions)"
      ],
      "execution_count": 43,
      "outputs": [
        {
          "output_type": "execute_result",
          "data": {
            "text/plain": [
              "(array([1.0000e+00, 1.0000e+00, 7.0000e+00, 1.2166e+05, 5.1800e+02,\n",
              "        7.0000e+01, 7.0000e+00, 1.0000e+00, 0.0000e+00, 1.0000e+00]),\n",
              " array([-279910.88364496, -202242.97670789, -124575.06977082,\n",
              "         -46907.16283374,   30760.74410333,  108428.6510404 ,\n",
              "         186096.55797747,  263764.46491454,  341432.37185162,\n",
              "         419100.27878869,  496768.18572576]),\n",
              " <a list of 10 Patch objects>)"
            ]
          },
          "metadata": {},
          "execution_count": 43
        },
        {
          "output_type": "display_data",
          "data": {
            "image/png": "[encoded data removed]",
            "text/plain": [
              "<Figure size 432x288 with 1 Axes>"
            ]
          },
          "metadata": {
            "needs_background": "light"
          }
        }
      ]
    },
    {
      "cell_type": "code",
      "metadata": {
        "colab": {
          "base_uri": "https://localhost:8080/"
        },
        "id": "RnPONZPEkXIW",
        "outputId": "e356bc46-671f-44c4-fd8d-5214c66a0207"
      },
      "source": [
        "print('RMSE on train:', np.sqrt(metrics.mean_squared_error(y1_train, lr.predict(scal_X1_train))))\n",
        "print('RMSE on test:', np.sqrt(metrics.mean_squared_error(y1_test, lr.predict(scal_X1_test))))"
      ],
      "execution_count": 46,
      "outputs": [
        {
          "output_type": "stream",
          "name": "stdout",
          "text": [
            "RMSE on train: 9678.754281402009\n",
            "RMSE on test: 9260.91009719841\n"
          ]
        }
      ]
    },
    {
      "cell_type": "code",
      "metadata": {
        "colab": {
          "base_uri": "https://localhost:8080/"
        },
        "id": "mFVLzYgakXIZ",
        "outputId": "ff1bb7d2-dc78-4394-e0f0-40e83880d8f5"
      },
      "source": [
        "print('r2_score on train:', r2_score(y1_train, lr.predict(scal_X1_train)))\n",
        "print('r2_score on test:', r2_score(y1_test, lr.predict(scal_X1_test)))"
      ],
      "execution_count": 47,
      "outputs": [
        {
          "output_type": "stream",
          "name": "stdout",
          "text": [
            "r2_score on train: 0.5467357416950491\n",
            "r2_score on test: 0.5719060910820014\n"
          ]
        }
      ]
    },
    {
      "cell_type": "markdown",
      "metadata": {
        "id": "ChFis4vLQB1T"
      },
      "source": [
        "##DecisionTreeRegressor"
      ]
    },
    {
      "cell_type": "code",
      "metadata": {
        "colab": {
          "base_uri": "https://localhost:8080/"
        },
        "id": "SXUbn7ZwQHKG",
        "outputId": "71891530-0138-4be9-f294-5eef4b5d7fb8"
      },
      "source": [
        "dt = DecisionTreeRegressor()\n",
        "dt.fit(X1_train, y1_train)"
      ],
      "execution_count": 61,
      "outputs": [
        {
          "output_type": "execute_result",
          "data": {
            "text/plain": [
              "DecisionTreeRegressor(ccp_alpha=0.0, criterion='mse', max_depth=None,\n",
              "                      max_features=None, max_leaf_nodes=None,\n",
              "                      min_impurity_decrease=0.0, min_impurity_split=None,\n",
              "                      min_samples_leaf=1, min_samples_split=2,\n",
              "                      min_weight_fraction_leaf=0.0, presort='deprecated',\n",
              "                      random_state=None, splitter='best')"
            ]
          },
          "metadata": {},
          "execution_count": 61
        }
      ]
    },
    {
      "cell_type": "code",
      "metadata": {
        "id": "SvEuB4q-QHNQ"
      },
      "source": [
        "dt_test_predictions = dt.predict(X1_test)"
      ],
      "execution_count": 62,
      "outputs": []
    },
    {
      "cell_type": "code",
      "metadata": {
        "colab": {
          "base_uri": "https://localhost:8080/",
          "height": 0
        },
        "id": "_ed7kJUSVUc9",
        "outputId": "4abb4aa7-04e6-4067-a62a-27d0ff3c99d3"
      },
      "source": [
        "plt.scatter(y1_test,dt_test_predictions)"
      ],
      "execution_count": 63,
      "outputs": [
        {
          "output_type": "execute_result",
          "data": {
            "text/plain": [
              "<matplotlib.collections.PathCollection at 0x7f5c6255f3d0>"
            ]
          },
          "metadata": {},
          "execution_count": 63
        },
        {
          "output_type": "display_data",
          "data": {
            "image/png": "[encoded data removed]",
            "text/plain": [
              "<Figure size 432x288 with 1 Axes>"
            ]
          },
          "metadata": {
            "needs_background": "light"
          }
        }
      ]
    },
    {
      "cell_type": "code",
      "metadata": {
        "colab": {
          "base_uri": "https://localhost:8080/",
          "height": 0
        },
        "id": "4mKMJmkxVUc_",
        "outputId": "f4b177ed-ebdd-4b67-8ef8-0bc9857059f9"
      },
      "source": [
        "plt.hist(y1_test-dt_test_predictions)"
      ],
      "execution_count": 64,
      "outputs": [
        {
          "output_type": "execute_result",
          "data": {
            "text/plain": [
              "(array([3.00000e+00, 0.00000e+00, 4.00000e+00, 5.50000e+01, 4.09800e+03,\n",
              "        1.17988e+05, 9.10000e+01, 2.20000e+01, 4.00000e+00, 1.00000e+00]),\n",
              " array([-361800. , -291881.4, -221962.8, -152044.2,  -82125.6,  -12207. ,\n",
              "          57711.6,  127630.2,  197548.8,  267467.4,  337386. ]),\n",
              " <a list of 10 Patch objects>)"
            ]
          },
          "metadata": {},
          "execution_count": 64
        },
        {
          "output_type": "display_data",
          "data": {
            "image/png": "[encoded data removed]",
            "text/plain": [
              "<Figure size 432x288 with 1 Axes>"
            ]
          },
          "metadata": {
            "needs_background": "light"
          }
        }
      ]
    },
    {
      "cell_type": "code",
      "metadata": {
        "colab": {
          "base_uri": "https://localhost:8080/"
        },
        "id": "izRrwZffVqjo",
        "outputId": "ec32c78a-30e1-4259-9146-6bbe3f997b36"
      },
      "source": [
        "print('RMSE on train:', np.sqrt(metrics.mean_squared_error(y1_train, dt.predict(X1_train))))\n",
        "print('RMSE on test:', np.sqrt(metrics.mean_squared_error(y1_test, dt.predict(X1_test))))"
      ],
      "execution_count": 65,
      "outputs": [
        {
          "output_type": "stream",
          "name": "stdout",
          "text": [
            "RMSE on train: 1937.9328120544178\n",
            "RMSE on test: 7914.022080451983\n"
          ]
        }
      ]
    },
    {
      "cell_type": "code",
      "metadata": {
        "colab": {
          "base_uri": "https://localhost:8080/"
        },
        "id": "XUrVixrzVqjr",
        "outputId": "f361f8f9-9b36-465c-b5cf-b74b3ca0bf0f"
      },
      "source": [
        "print('r2_score on train:', r2_score(y1_train, dt.predict(X1_train)))\n",
        "print('r2_score on test:', r2_score(y1_test, dt.predict(X1_test)))"
      ],
      "execution_count": 66,
      "outputs": [
        {
          "output_type": "stream",
          "name": "stdout",
          "text": [
            "r2_score on train: 0.9818285334973706\n",
            "r2_score on test: 0.6873731840289403\n"
          ]
        }
      ]
    },
    {
      "cell_type": "code",
      "metadata": {
        "id": "VYVQcDkFVqHQ"
      },
      "source": [
        ""
      ],
      "execution_count": null,
      "outputs": []
    },
    {
      "cell_type": "markdown",
      "metadata": {
        "id": "rcCHz7uaPnXm"
      },
      "source": [
        "##ExtraTreesRegressor"
      ]
    },
    {
      "cell_type": "code",
      "metadata": {
        "colab": {
          "base_uri": "https://localhost:8080/"
        },
        "id": "X5HzX8PfgwXR",
        "outputId": "3f7490ce-bf2e-4202-f1f3-9f1b98012966"
      },
      "source": [
        "et = ExtraTreesRegressor(random_state=1)\n",
        "et.fit(X1_train, y1_train)"
      ],
      "execution_count": 81,
      "outputs": [
        {
          "output_type": "execute_result",
          "data": {
            "text/plain": [
              "ExtraTreesRegressor(bootstrap=False, ccp_alpha=0.0, criterion='mse',\n",
              "                    max_depth=None, max_features='auto', max_leaf_nodes=None,\n",
              "                    max_samples=None, min_impurity_decrease=0.0,\n",
              "                    min_impurity_split=None, min_samples_leaf=1,\n",
              "                    min_samples_split=2, min_weight_fraction_leaf=0.0,\n",
              "                    n_estimators=100, n_jobs=None, oob_score=False,\n",
              "                    random_state=1, verbose=0, warm_start=False)"
            ]
          },
          "metadata": {},
          "execution_count": 81
        }
      ]
    },
    {
      "cell_type": "code",
      "metadata": {
        "id": "VtleKma8XC8e"
      },
      "source": [
        "et_test_predictions = et.predict(X1_test)"
      ],
      "execution_count": 82,
      "outputs": []
    },
    {
      "cell_type": "code",
      "metadata": {
        "colab": {
          "base_uri": "https://localhost:8080/",
          "height": 0
        },
        "id": "buAhdve4XC8g",
        "outputId": "189de562-3f54-476e-b072-1a893c016e18"
      },
      "source": [
        "plt.scatter(y1_test,et_test_predictions)"
      ],
      "execution_count": 83,
      "outputs": [
        {
          "output_type": "execute_result",
          "data": {
            "text/plain": [
              "<matplotlib.collections.PathCollection at 0x7f5c621aac10>"
            ]
          },
          "metadata": {},
          "execution_count": 83
        },
        {
          "output_type": "display_data",
          "data": {
            "image/png": "[encoded data removed]",
            "text/plain": [
              "<Figure size 432x288 with 1 Axes>"
            ]
          },
          "metadata": {
            "needs_background": "light"
          }
        }
      ]
    },
    {
      "cell_type": "code",
      "metadata": {
        "colab": {
          "base_uri": "https://localhost:8080/",
          "height": 0
        },
        "id": "XsHh5lBsXC8h",
        "outputId": "5a844706-6001-4f2d-fc66-195c98c3eb40"
      },
      "source": [
        "plt.hist(y1_test-et_test_predictions)"
      ],
      "execution_count": 84,
      "outputs": [
        {
          "output_type": "execute_result",
          "data": {
            "text/plain": [
              "(array([1.0000e+00, 2.0000e+00, 3.1000e+01, 7.6280e+03, 1.1454e+05,\n",
              "        5.7000e+01, 5.0000e+00, 1.0000e+00, 0.0000e+00, 1.0000e+00]),\n",
              " array([-354875.52 , -267890.128, -180904.736,  -93919.344,   -6933.952,\n",
              "          80051.44 ,  167036.832,  254022.224,  341007.616,  427993.008,\n",
              "         514978.4  ]),\n",
              " <a list of 10 Patch objects>)"
            ]
          },
          "metadata": {},
          "execution_count": 84
        },
        {
          "output_type": "display_data",
          "data": {
            "image/png": "[encoded data removed]",
            "text/plain": [
              "<Figure size 432x288 with 1 Axes>"
            ]
          },
          "metadata": {
            "needs_background": "light"
          }
        }
      ]
    },
    {
      "cell_type": "code",
      "metadata": {
        "colab": {
          "base_uri": "https://localhost:8080/"
        },
        "id": "QikmbmB5XC8i",
        "outputId": "7061c5d2-5ab8-472f-b86e-a6f9d122c4e1"
      },
      "source": [
        "print('RMSE on train:', np.sqrt(metrics.mean_squared_error(y1_train, et.predict(X1_train))))\n",
        "print('RMSE on test:', np.sqrt(metrics.mean_squared_error(y1_test, et.predict(X1_test))))"
      ],
      "execution_count": 85,
      "outputs": [
        {
          "output_type": "stream",
          "name": "stdout",
          "text": [
            "RMSE on train: 1937.9668819593319\n",
            "RMSE on test: 7173.915645496248\n"
          ]
        }
      ]
    },
    {
      "cell_type": "code",
      "metadata": {
        "colab": {
          "base_uri": "https://localhost:8080/"
        },
        "id": "baxo3AISXC8j",
        "outputId": "dcf1e2f4-1fca-40d7-da0c-e96e51191f74"
      },
      "source": [
        "print('r2_score on train:', r2_score(y1_train, et.predict(X1_train)))\n",
        "print('r2_score on test:', r2_score(y1_test, et.predict(X1_test)))"
      ],
      "execution_count": 86,
      "outputs": [
        {
          "output_type": "stream",
          "name": "stdout",
          "text": [
            "r2_score on train: 0.9818278945633745\n",
            "r2_score on test: 0.7431117479777452\n"
          ]
        }
      ]
    },
    {
      "cell_type": "code",
      "metadata": {
        "colab": {
          "base_uri": "https://localhost:8080/",
          "height": 0
        },
        "id": "IIZg8Jj2gwXS",
        "outputId": "f3fb502b-c4a1-4d9f-aa04-e17d5b983219"
      },
      "source": [
        "feat_importances = pd.Series(et.feature_importances_, index=X1.columns)\n",
        "feat_importances.nlargest(10).plot(kind='barh')\n",
        "plt.show()"
      ],
      "execution_count": 73,
      "outputs": [
        {
          "output_type": "display_data",
          "data": {
            "image/png": "[encoded data removed]",
            "text/plain": [
              "<Figure size 432x288 with 1 Axes>"
            ]
          },
          "metadata": {
            "needs_background": "light"
          }
        }
      ]
    },
    {
      "cell_type": "markdown",
      "metadata": {
        "id": "lMAh1ESvkXIb"
      },
      "source": [
        "##RandomForestRegressor"
      ]
    },
    {
      "cell_type": "code",
      "metadata": {
        "colab": {
          "base_uri": "https://localhost:8080/"
        },
        "id": "1elXbVq2kXIe",
        "outputId": "21a12bc8-bb8a-4e4a-8432-311b7ea3a94c"
      },
      "source": [
        "rf = RandomForestRegressor(random_state=1)\n",
        "rf.fit(X1_train, y1_train)"
      ],
      "execution_count": 74,
      "outputs": [
        {
          "output_type": "execute_result",
          "data": {
            "text/plain": [
              "RandomForestRegressor(bootstrap=True, ccp_alpha=0.0, criterion='mse',\n",
              "                      max_depth=None, max_features='auto', max_leaf_nodes=None,\n",
              "                      max_samples=None, min_impurity_decrease=0.0,\n",
              "                      min_impurity_split=None, min_samples_leaf=1,\n",
              "                      min_samples_split=2, min_weight_fraction_leaf=0.0,\n",
              "                      n_estimators=100, n_jobs=None, oob_score=False,\n",
              "                      random_state=1, verbose=0, warm_start=False)"
            ]
          },
          "metadata": {},
          "execution_count": 74
        }
      ]
    },
    {
      "cell_type": "code",
      "metadata": {
        "id": "hc4y1Xd-kXIf"
      },
      "source": [
        "rf_test_predictions=rf.predict(X1_test)"
      ],
      "execution_count": 75,
      "outputs": []
    },
    {
      "cell_type": "code",
      "metadata": {
        "colab": {
          "base_uri": "https://localhost:8080/",
          "height": 283
        },
        "id": "6I648EN_kXIg",
        "outputId": "9fc1def7-5183-4688-8030-de103d9e69ef"
      },
      "source": [
        "plt.scatter(y1_test,rf_test_predictions)"
      ],
      "execution_count": 76,
      "outputs": [
        {
          "output_type": "execute_result",
          "data": {
            "text/plain": [
              "<matplotlib.collections.PathCollection at 0x7f5c62699350>"
            ]
          },
          "metadata": {},
          "execution_count": 76
        },
        {
          "output_type": "display_data",
          "data": {
            "image/png": "[encoded data removed]",
            "text/plain": [
              "<Figure size 432x288 with 1 Axes>"
            ]
          },
          "metadata": {
            "needs_background": "light"
          }
        }
      ]
    },
    {
      "cell_type": "code",
      "metadata": {
        "colab": {
          "base_uri": "https://localhost:8080/",
          "height": 394
        },
        "id": "F9KSoRF-kXIh",
        "outputId": "31a76447-61bd-42cf-cf8a-d7f0b2a52c07"
      },
      "source": [
        "#sns.distplot(y1_test-predictions)\n",
        "plt.hist(y1_test-rf_test_predictions)"
      ],
      "execution_count": 77,
      "outputs": [
        {
          "output_type": "execute_result",
          "data": {
            "text/plain": [
              "(array([3.00000e+00, 1.00000e+00, 1.43000e+02, 1.21861e+05, 2.17000e+02,\n",
              "        3.60000e+01, 3.00000e+00, 1.00000e+00, 0.00000e+00, 1.00000e+00]),\n",
              " array([-258221.99333333, -185142.397     , -112062.80066667,\n",
              "         -38983.20433333,   34096.392     ,  107175.98833333,\n",
              "         180255.58466667,  253335.181     ,  326414.77733333,\n",
              "         399494.37366667,  472573.97      ]),\n",
              " <a list of 10 Patch objects>)"
            ]
          },
          "metadata": {},
          "execution_count": 77
        },
        {
          "output_type": "display_data",
          "data": {
            "image/png": "[encoded data removed]",
            "text/plain": [
              "<Figure size 432x288 with 1 Axes>"
            ]
          },
          "metadata": {
            "needs_background": "light"
          }
        }
      ]
    },
    {
      "cell_type": "code",
      "metadata": {
        "colab": {
          "base_uri": "https://localhost:8080/"
        },
        "id": "AmjJsrsEZP__",
        "outputId": "41c8269c-e420-44d5-c225-855e40f3338a"
      },
      "source": [
        "print('RMSE on train:', np.sqrt(metrics.mean_squared_error(y1_train, rf.predict(X1_train))))\n",
        "print('RMSE on test:', np.sqrt(metrics.mean_squared_error(y1_test, rf.predict(X1_test))))"
      ],
      "execution_count": 78,
      "outputs": [
        {
          "output_type": "stream",
          "name": "stdout",
          "text": [
            "RMSE on train: 3166.3386451700376\n",
            "RMSE on test: 6763.11454784487\n"
          ]
        }
      ]
    },
    {
      "cell_type": "code",
      "metadata": {
        "colab": {
          "base_uri": "https://localhost:8080/"
        },
        "id": "LHbpsFt-ZQAB",
        "outputId": "33d99a95-a98a-4542-d3e3-eaeca98bc3f6"
      },
      "source": [
        "print('r2_score on train:', r2_score(y1_train, rf.predict(X1_train)))\n",
        "print('r2_score on test:', r2_score(y1_test, rf.predict(X1_test)))"
      ],
      "execution_count": 79,
      "outputs": [
        {
          "output_type": "stream",
          "name": "stdout",
          "text": [
            "r2_score on train: 0.9514904474374568\n",
            "r2_score on test: 0.7716898609326546\n"
          ]
        }
      ]
    },
    {
      "cell_type": "code",
      "metadata": {
        "colab": {
          "base_uri": "https://localhost:8080/",
          "height": 265
        },
        "id": "AomvJG_4ZQAC",
        "outputId": "fd26ffc9-ae80-4632-bfca-e3c3379e630b"
      },
      "source": [
        "feat_importances = pd.Series(rf.feature_importances_, index=X1.columns)\n",
        "feat_importances.nlargest(10).plot(kind='barh')\n",
        "plt.show()"
      ],
      "execution_count": 80,
      "outputs": [
        {
          "output_type": "display_data",
          "data": {
            "image/png": "[encoded data removed]",
            "text/plain": [
              "<Figure size 432x288 with 1 Axes>"
            ]
          },
          "metadata": {
            "needs_background": "light"
          }
        }
      ]
    },
    {
      "cell_type": "code",
      "metadata": {
        "id": "mkPn0AQSZPoI"
      },
      "source": [
        ""
      ],
      "execution_count": null,
      "outputs": []
    },
    {
      "cell_type": "markdown",
      "metadata": {
        "id": "VfVx8_BVkXI0"
      },
      "source": [
        "##GradientBoostingRegressor"
      ]
    },
    {
      "cell_type": "code",
      "metadata": {
        "colab": {
          "base_uri": "https://localhost:8080/"
        },
        "id": "8gkXwUVOkXI0",
        "outputId": "c3bc7462-6edd-4258-a509-50fa6a856a28"
      },
      "source": [
        "gb = GradientBoostingRegressor(random_state=1)\n",
        "gb.fit(X1_train, y1_train)"
      ],
      "execution_count": 87,
      "outputs": [
        {
          "output_type": "execute_result",
          "data": {
            "text/plain": [
              "GradientBoostingRegressor(alpha=0.9, ccp_alpha=0.0, criterion='friedman_mse',\n",
              "                          init=None, learning_rate=0.1, loss='ls', max_depth=3,\n",
              "                          max_features=None, max_leaf_nodes=None,\n",
              "                          min_impurity_decrease=0.0, min_impurity_split=None,\n",
              "                          min_samples_leaf=1, min_samples_split=2,\n",
              "                          min_weight_fraction_leaf=0.0, n_estimators=100,\n",
              "                          n_iter_no_change=None, presort='deprecated',\n",
              "                          random_state=1, subsample=1.0, tol=0.0001,\n",
              "                          validation_fraction=0.1, verbose=0, warm_start=False)"
            ]
          },
          "metadata": {},
          "execution_count": 87
        }
      ]
    },
    {
      "cell_type": "code",
      "metadata": {
        "id": "FBVEBPFjkXI1"
      },
      "source": [
        "gb_test_predictions = gb.predict(X1_test)"
      ],
      "execution_count": 88,
      "outputs": []
    },
    {
      "cell_type": "code",
      "metadata": {
        "colab": {
          "base_uri": "https://localhost:8080/",
          "height": 0
        },
        "id": "uNFDUVtukXI1",
        "outputId": "e717b140-60f3-4ee9-e35a-418965ffc0db"
      },
      "source": [
        "plt.scatter(y1_test,gb_test_predictions)"
      ],
      "execution_count": 89,
      "outputs": [
        {
          "output_type": "execute_result",
          "data": {
            "text/plain": [
              "<matplotlib.collections.PathCollection at 0x7f5c620a82d0>"
            ]
          },
          "metadata": {},
          "execution_count": 89
        },
        {
          "output_type": "display_data",
          "data": {
            "image/png": "[encoded data removed]",
            "text/plain": [
              "<Figure size 432x288 with 1 Axes>"
            ]
          },
          "metadata": {
            "needs_background": "light"
          }
        }
      ]
    },
    {
      "cell_type": "code",
      "metadata": {
        "colab": {
          "base_uri": "https://localhost:8080/",
          "height": 0
        },
        "id": "id_o-JvFkXI2",
        "outputId": "b8a8fe6e-77fd-4375-d42d-6cd505f59677"
      },
      "source": [
        "plt.hist(y1_test-gb_test_predictions)"
      ],
      "execution_count": 90,
      "outputs": [
        {
          "output_type": "execute_result",
          "data": {
            "text/plain": [
              "(array([4.5000e+01, 1.2196e+05, 2.2300e+02, 3.2000e+01, 3.0000e+00,\n",
              "        2.0000e+00, 0.0000e+00, 0.0000e+00, 0.0000e+00, 1.0000e+00]),\n",
              " array([-101988.72195592,  -28541.92202223,   44904.87791147,\n",
              "         118351.67784516,  191798.47777885,  265245.27771254,\n",
              "         338692.07764623,  412138.87757993,  485585.67751362,\n",
              "         559032.47744731,  632479.277381  ]),\n",
              " <a list of 10 Patch objects>)"
            ]
          },
          "metadata": {},
          "execution_count": 90
        },
        {
          "output_type": "display_data",
          "data": {
            "image/png": "[encoded data removed]",
            "text/plain": [
              "<Figure size 432x288 with 1 Axes>"
            ]
          },
          "metadata": {
            "needs_background": "light"
          }
        }
      ]
    },
    {
      "cell_type": "code",
      "metadata": {
        "colab": {
          "base_uri": "https://localhost:8080/"
        },
        "id": "dR0XEuOOiuoo",
        "outputId": "1aaaed3b-94a6-4b5e-e862-6ebda6d381df"
      },
      "source": [
        "print('RMSE on train:', np.sqrt(metrics.mean_squared_error(y1_train, gb.predict(X1_train))))\n",
        "print('RMSE on test:', np.sqrt(metrics.mean_squared_error(y1_test, gb.predict(X1_test))))"
      ],
      "execution_count": 91,
      "outputs": [
        {
          "output_type": "stream",
          "name": "stdout",
          "text": [
            "RMSE on train: 8847.477356014742\n",
            "RMSE on test: 8811.177954575596\n"
          ]
        }
      ]
    },
    {
      "cell_type": "code",
      "metadata": {
        "colab": {
          "base_uri": "https://localhost:8080/"
        },
        "id": "xNlMPp-3iuow",
        "outputId": "b49b54c1-34de-48ef-8ff1-13c97d6a284e"
      },
      "source": [
        "print('r2_score on train:', r2_score(y1_train, gb.predict(X1_train)))\n",
        "print('r2_score on test:', r2_score(y1_test, gb.predict(X1_test)))"
      ],
      "execution_count": 92,
      "outputs": [
        {
          "output_type": "stream",
          "name": "stdout",
          "text": [
            "r2_score on train: 0.6212510257136887\n",
            "r2_score on test: 0.6124750603777342\n"
          ]
        }
      ]
    },
    {
      "cell_type": "markdown",
      "metadata": {
        "id": "O-_0qBPEZRXI"
      },
      "source": [
        "##Hyper-parameter tuning for Random Forest"
      ]
    },
    {
      "cell_type": "code",
      "metadata": {
        "id": "2x9qtX13kXIl"
      },
      "source": [
        "# Number of trees in random forest\n",
        "#n_estimators = [20,60,100,120] #[int(x) for x in np.linspace(start = 100, stop = 1200, num = 12)]\n",
        "\n",
        "# Number of features to consider at every split\n",
        "max_features = ['auto', 'sqrt']\n",
        "\n",
        "# Maximum number of levels in tree\n",
        "max_depth = [2,8,None] #[int(x) for x in np.linspace(5, 30, num = 6)]\n",
        "\n",
        "# Minimum number of samples required to split a node\n",
        "min_samples_split = [2, 5, 10]\n",
        "\n",
        "# Minimum number of samples required at each leaf node\n",
        "min_samples_leaf = [1, 2, 5]"
      ],
      "execution_count": 94,
      "outputs": []
    },
    {
      "cell_type": "code",
      "metadata": {
        "colab": {
          "base_uri": "https://localhost:8080/"
        },
        "id": "o2UAVw4ukXIm",
        "outputId": "edb64074-0862-4b77-a891-7553b8bc55e5"
      },
      "source": [
        "# Create the random grid\n",
        "random_grid = {'max_features': max_features,\n",
        "               'max_depth': max_depth,\n",
        "               'min_samples_split': min_samples_split,\n",
        "               'min_samples_leaf': min_samples_leaf}\n",
        "\n",
        "print(random_grid)"
      ],
      "execution_count": 95,
      "outputs": [
        {
          "output_type": "stream",
          "name": "stdout",
          "text": [
            "{'max_features': ['auto', 'sqrt'], 'max_depth': [2, 8, None], 'min_samples_split': [2, 5, 10], 'min_samples_leaf': [1, 2, 5]}\n"
          ]
        }
      ]
    },
    {
      "cell_type": "code",
      "metadata": {
        "id": "40BZt0YgkXIn"
      },
      "source": [
        "# Use the random grid to search for best hyperparameters\n",
        "# First create the base model to tune\n",
        "rf = RandomForestRegressor()"
      ],
      "execution_count": 96,
      "outputs": []
    },
    {
      "cell_type": "code",
      "metadata": {
        "id": "iZ8ILBijkXIu"
      },
      "source": [
        "# Random search of parameters, using 3 fold cross validation, \n",
        "# search across 100 different combinations\n",
        "rf_random = RandomizedSearchCV(estimator = rf, param_distributions = random_grid, n_iter = 10, cv = 5, verbose=5, random_state=42, n_jobs = None)"
      ],
      "execution_count": 97,
      "outputs": []
    },
    {
      "cell_type": "code",
      "metadata": {
        "colab": {
          "base_uri": "https://localhost:8080/"
        },
        "id": "P9es5LJhkXIv",
        "outputId": "98413528-70bf-4813-ed46-91ff7d2ee3b1"
      },
      "source": [
        "rf_random.fit(X1_train,y1_train)"
      ],
      "execution_count": 98,
      "outputs": [
        {
          "output_type": "stream",
          "name": "stdout",
          "text": [
            "Fitting 5 folds for each of 10 candidates, totalling 50 fits\n",
            "[CV] min_samples_split=5, min_samples_leaf=1, max_features=auto, max_depth=8 \n"
          ]
        },
        {
          "output_type": "stream",
          "name": "stderr",
          "text": [
            "[Parallel(n_jobs=1)]: Using backend SequentialBackend with 1 concurrent workers.\n"
          ]
        },
        {
          "output_type": "stream",
          "name": "stdout",
          "text": [
            "[CV]  min_samples_split=5, min_samples_leaf=1, max_features=auto, max_depth=8, score=0.502, total= 1.9min\n",
            "[CV] min_samples_split=5, min_samples_leaf=1, max_features=auto, max_depth=8 \n"
          ]
        },
        {
          "output_type": "stream",
          "name": "stderr",
          "text": [
            "[Parallel(n_jobs=1)]: Done   1 out of   1 | elapsed:  1.9min remaining:    0.0s\n"
          ]
        },
        {
          "output_type": "stream",
          "name": "stdout",
          "text": [
            "[CV]  min_samples_split=5, min_samples_leaf=1, max_features=auto, max_depth=8, score=0.560, total= 1.8min\n",
            "[CV] min_samples_split=5, min_samples_leaf=1, max_features=auto, max_depth=8 \n"
          ]
        },
        {
          "output_type": "stream",
          "name": "stderr",
          "text": [
            "[Parallel(n_jobs=1)]: Done   2 out of   2 | elapsed:  3.7min remaining:    0.0s\n"
          ]
        },
        {
          "output_type": "stream",
          "name": "stdout",
          "text": [
            "[CV]  min_samples_split=5, min_samples_leaf=1, max_features=auto, max_depth=8, score=0.558, total= 1.9min\n",
            "[CV] min_samples_split=5, min_samples_leaf=1, max_features=auto, max_depth=8 \n"
          ]
        },
        {
          "output_type": "stream",
          "name": "stderr",
          "text": [
            "[Parallel(n_jobs=1)]: Done   3 out of   3 | elapsed:  5.6min remaining:    0.0s\n"
          ]
        },
        {
          "output_type": "stream",
          "name": "stdout",
          "text": [
            "[CV]  min_samples_split=5, min_samples_leaf=1, max_features=auto, max_depth=8, score=0.519, total= 1.9min\n",
            "[CV] min_samples_split=5, min_samples_leaf=1, max_features=auto, max_depth=8 \n"
          ]
        },
        {
          "output_type": "stream",
          "name": "stderr",
          "text": [
            "[Parallel(n_jobs=1)]: Done   4 out of   4 | elapsed:  7.5min remaining:    0.0s\n"
          ]
        },
        {
          "output_type": "stream",
          "name": "stdout",
          "text": [
            "[CV]  min_samples_split=5, min_samples_leaf=1, max_features=auto, max_depth=8, score=0.576, total= 1.9min\n",
            "[CV] min_samples_split=5, min_samples_leaf=2, max_features=sqrt, max_depth=None \n",
            "[CV]  min_samples_split=5, min_samples_leaf=2, max_features=sqrt, max_depth=None, score=0.679, total=  53.8s\n",
            "[CV] min_samples_split=5, min_samples_leaf=2, max_features=sqrt, max_depth=None \n",
            "[CV]  min_samples_split=5, min_samples_leaf=2, max_features=sqrt, max_depth=None, score=0.743, total=  54.0s\n",
            "[CV] min_samples_split=5, min_samples_leaf=2, max_features=sqrt, max_depth=None \n",
            "[CV]  min_samples_split=5, min_samples_leaf=2, max_features=sqrt, max_depth=None, score=0.741, total=  54.6s\n",
            "[CV] min_samples_split=5, min_samples_leaf=2, max_features=sqrt, max_depth=None \n",
            "[CV]  min_samples_split=5, min_samples_leaf=2, max_features=sqrt, max_depth=None, score=0.749, total=  53.8s\n",
            "[CV] min_samples_split=5, min_samples_leaf=2, max_features=sqrt, max_depth=None \n",
            "[CV]  min_samples_split=5, min_samples_leaf=2, max_features=sqrt, max_depth=None, score=0.767, total=  54.5s\n",
            "[CV] min_samples_split=2, min_samples_leaf=2, max_features=sqrt, max_depth=None \n",
            "[CV]  min_samples_split=2, min_samples_leaf=2, max_features=sqrt, max_depth=None, score=0.677, total=  54.7s\n",
            "[CV] min_samples_split=2, min_samples_leaf=2, max_features=sqrt, max_depth=None \n",
            "[CV]  min_samples_split=2, min_samples_leaf=2, max_features=sqrt, max_depth=None, score=0.745, total=  55.5s\n",
            "[CV] min_samples_split=2, min_samples_leaf=2, max_features=sqrt, max_depth=None \n",
            "[CV]  min_samples_split=2, min_samples_leaf=2, max_features=sqrt, max_depth=None, score=0.737, total=  56.2s\n",
            "[CV] min_samples_split=2, min_samples_leaf=2, max_features=sqrt, max_depth=None \n",
            "[CV]  min_samples_split=2, min_samples_leaf=2, max_features=sqrt, max_depth=None, score=0.752, total=  55.1s\n",
            "[CV] min_samples_split=2, min_samples_leaf=2, max_features=sqrt, max_depth=None \n",
            "[CV]  min_samples_split=2, min_samples_leaf=2, max_features=sqrt, max_depth=None, score=0.767, total=  54.9s\n",
            "[CV] min_samples_split=2, min_samples_leaf=2, max_features=sqrt, max_depth=2 \n",
            "[CV]  min_samples_split=2, min_samples_leaf=2, max_features=sqrt, max_depth=2, score=0.164, total=   3.8s\n",
            "[CV] min_samples_split=2, min_samples_leaf=2, max_features=sqrt, max_depth=2 \n",
            "[CV]  min_samples_split=2, min_samples_leaf=2, max_features=sqrt, max_depth=2, score=0.177, total=   3.8s\n",
            "[CV] min_samples_split=2, min_samples_leaf=2, max_features=sqrt, max_depth=2 \n",
            "[CV]  min_samples_split=2, min_samples_leaf=2, max_features=sqrt, max_depth=2, score=0.178, total=   3.9s\n",
            "[CV] min_samples_split=2, min_samples_leaf=2, max_features=sqrt, max_depth=2 \n",
            "[CV]  min_samples_split=2, min_samples_leaf=2, max_features=sqrt, max_depth=2, score=0.199, total=   4.0s\n",
            "[CV] min_samples_split=2, min_samples_leaf=2, max_features=sqrt, max_depth=2 \n",
            "[CV]  min_samples_split=2, min_samples_leaf=2, max_features=sqrt, max_depth=2, score=0.156, total=   3.6s\n",
            "[CV] min_samples_split=10, min_samples_leaf=5, max_features=auto, max_depth=None \n",
            "[CV]  min_samples_split=10, min_samples_leaf=5, max_features=auto, max_depth=None, score=0.668, total= 3.3min\n",
            "[CV] min_samples_split=10, min_samples_leaf=5, max_features=auto, max_depth=None \n",
            "[CV]  min_samples_split=10, min_samples_leaf=5, max_features=auto, max_depth=None, score=0.699, total= 3.3min\n",
            "[CV] min_samples_split=10, min_samples_leaf=5, max_features=auto, max_depth=None \n",
            "[CV]  min_samples_split=10, min_samples_leaf=5, max_features=auto, max_depth=None, score=0.697, total= 3.3min\n",
            "[CV] min_samples_split=10, min_samples_leaf=5, max_features=auto, max_depth=None \n",
            "[CV]  min_samples_split=10, min_samples_leaf=5, max_features=auto, max_depth=None, score=0.726, total= 3.3min\n",
            "[CV] min_samples_split=10, min_samples_leaf=5, max_features=auto, max_depth=None \n",
            "[CV]  min_samples_split=10, min_samples_leaf=5, max_features=auto, max_depth=None, score=0.739, total= 3.3min\n",
            "[CV] min_samples_split=10, min_samples_leaf=2, max_features=auto, max_depth=2 \n",
            "[CV]  min_samples_split=10, min_samples_leaf=2, max_features=auto, max_depth=2, score=0.312, total=  30.4s\n",
            "[CV] min_samples_split=10, min_samples_leaf=2, max_features=auto, max_depth=2 \n",
            "[CV]  min_samples_split=10, min_samples_leaf=2, max_features=auto, max_depth=2, score=0.338, total=  30.3s\n",
            "[CV] min_samples_split=10, min_samples_leaf=2, max_features=auto, max_depth=2 \n",
            "[CV]  min_samples_split=10, min_samples_leaf=2, max_features=auto, max_depth=2, score=0.332, total=  30.6s\n",
            "[CV] min_samples_split=10, min_samples_leaf=2, max_features=auto, max_depth=2 \n",
            "[CV]  min_samples_split=10, min_samples_leaf=2, max_features=auto, max_depth=2, score=0.349, total=  30.7s\n",
            "[CV] min_samples_split=10, min_samples_leaf=2, max_features=auto, max_depth=2 \n",
            "[CV]  min_samples_split=10, min_samples_leaf=2, max_features=auto, max_depth=2, score=0.351, total=  30.6s\n",
            "[CV] min_samples_split=10, min_samples_leaf=5, max_features=sqrt, max_depth=2 \n",
            "[CV]  min_samples_split=10, min_samples_leaf=5, max_features=sqrt, max_depth=2, score=0.162, total=   3.8s\n",
            "[CV] min_samples_split=10, min_samples_leaf=5, max_features=sqrt, max_depth=2 \n",
            "[CV]  min_samples_split=10, min_samples_leaf=5, max_features=sqrt, max_depth=2, score=0.163, total=   3.8s\n",
            "[CV] min_samples_split=10, min_samples_leaf=5, max_features=sqrt, max_depth=2 \n",
            "[CV]  min_samples_split=10, min_samples_leaf=5, max_features=sqrt, max_depth=2, score=0.190, total=   3.9s\n",
            "[CV] min_samples_split=10, min_samples_leaf=5, max_features=sqrt, max_depth=2 \n",
            "[CV]  min_samples_split=10, min_samples_leaf=5, max_features=sqrt, max_depth=2, score=0.174, total=   3.7s\n",
            "[CV] min_samples_split=10, min_samples_leaf=5, max_features=sqrt, max_depth=2 \n",
            "[CV]  min_samples_split=10, min_samples_leaf=5, max_features=sqrt, max_depth=2, score=0.156, total=   3.8s\n",
            "[CV] min_samples_split=5, min_samples_leaf=5, max_features=sqrt, max_depth=None \n",
            "[CV]  min_samples_split=5, min_samples_leaf=5, max_features=sqrt, max_depth=None, score=0.612, total=  43.7s\n",
            "[CV] min_samples_split=5, min_samples_leaf=5, max_features=sqrt, max_depth=None \n",
            "[CV]  min_samples_split=5, min_samples_leaf=5, max_features=sqrt, max_depth=None, score=0.664, total=  43.7s\n",
            "[CV] min_samples_split=5, min_samples_leaf=5, max_features=sqrt, max_depth=None \n",
            "[CV]  min_samples_split=5, min_samples_leaf=5, max_features=sqrt, max_depth=None, score=0.677, total=  43.7s\n",
            "[CV] min_samples_split=5, min_samples_leaf=5, max_features=sqrt, max_depth=None \n",
            "[CV]  min_samples_split=5, min_samples_leaf=5, max_features=sqrt, max_depth=None, score=0.701, total=  43.4s\n",
            "[CV] min_samples_split=5, min_samples_leaf=5, max_features=sqrt, max_depth=None \n",
            "[CV]  min_samples_split=5, min_samples_leaf=5, max_features=sqrt, max_depth=None, score=0.703, total=  44.7s\n",
            "[CV] min_samples_split=2, min_samples_leaf=2, max_features=auto, max_depth=2 \n",
            "[CV]  min_samples_split=2, min_samples_leaf=2, max_features=auto, max_depth=2, score=0.312, total=  30.7s\n",
            "[CV] min_samples_split=2, min_samples_leaf=2, max_features=auto, max_depth=2 \n",
            "[CV]  min_samples_split=2, min_samples_leaf=2, max_features=auto, max_depth=2, score=0.335, total=  30.1s\n",
            "[CV] min_samples_split=2, min_samples_leaf=2, max_features=auto, max_depth=2 \n",
            "[CV]  min_samples_split=2, min_samples_leaf=2, max_features=auto, max_depth=2, score=0.333, total=  30.4s\n",
            "[CV] min_samples_split=2, min_samples_leaf=2, max_features=auto, max_depth=2 \n",
            "[CV]  min_samples_split=2, min_samples_leaf=2, max_features=auto, max_depth=2, score=0.347, total=  30.5s\n",
            "[CV] min_samples_split=2, min_samples_leaf=2, max_features=auto, max_depth=2 \n",
            "[CV]  min_samples_split=2, min_samples_leaf=2, max_features=auto, max_depth=2, score=0.351, total=  30.5s\n",
            "[CV] min_samples_split=10, min_samples_leaf=2, max_features=sqrt, max_depth=8 \n",
            "[CV]  min_samples_split=10, min_samples_leaf=2, max_features=sqrt, max_depth=8, score=0.417, total=  14.6s\n",
            "[CV] min_samples_split=10, min_samples_leaf=2, max_features=sqrt, max_depth=8 \n",
            "[CV]  min_samples_split=10, min_samples_leaf=2, max_features=sqrt, max_depth=8, score=0.469, total=  15.0s\n",
            "[CV] min_samples_split=10, min_samples_leaf=2, max_features=sqrt, max_depth=8 \n",
            "[CV]  min_samples_split=10, min_samples_leaf=2, max_features=sqrt, max_depth=8, score=0.451, total=  14.2s\n",
            "[CV] min_samples_split=10, min_samples_leaf=2, max_features=sqrt, max_depth=8 \n",
            "[CV]  min_samples_split=10, min_samples_leaf=2, max_features=sqrt, max_depth=8, score=0.474, total=  14.6s\n",
            "[CV] min_samples_split=10, min_samples_leaf=2, max_features=sqrt, max_depth=8 \n",
            "[CV]  min_samples_split=10, min_samples_leaf=2, max_features=sqrt, max_depth=8, score=0.463, total=  14.5s\n"
          ]
        },
        {
          "output_type": "stream",
          "name": "stderr",
          "text": [
            "[Parallel(n_jobs=1)]: Done  50 out of  50 | elapsed: 45.5min finished\n"
          ]
        },
        {
          "output_type": "execute_result",
          "data": {
            "text/plain": [
              "RandomizedSearchCV(cv=5, error_score=nan,\n",
              "                   estimator=RandomForestRegressor(bootstrap=True,\n",
              "                                                   ccp_alpha=0.0,\n",
              "                                                   criterion='mse',\n",
              "                                                   max_depth=None,\n",
              "                                                   max_features='auto',\n",
              "                                                   max_leaf_nodes=None,\n",
              "                                                   max_samples=None,\n",
              "                                                   min_impurity_decrease=0.0,\n",
              "                                                   min_impurity_split=None,\n",
              "                                                   min_samples_leaf=1,\n",
              "                                                   min_samples_split=2,\n",
              "                                                   min_weight_fraction_leaf=0.0,\n",
              "                                                   n_estimators=100,\n",
              "                                                   n_jobs=None, oob_score=False,\n",
              "                                                   random_state=None, verbose=0,\n",
              "                                                   warm_start=False),\n",
              "                   iid='deprecated', n_iter=10, n_jobs=None,\n",
              "                   param_distributions={'max_depth': [2, 8, None],\n",
              "                                        'max_features': ['auto', 'sqrt'],\n",
              "                                        'min_samples_leaf': [1, 2, 5],\n",
              "                                        'min_samples_split': [2, 5, 10]},\n",
              "                   pre_dispatch='2*n_jobs', random_state=42, refit=True,\n",
              "                   return_train_score=False, scoring=None, verbose=5)"
            ]
          },
          "metadata": {},
          "execution_count": 98
        }
      ]
    },
    {
      "cell_type": "code",
      "metadata": {
        "colab": {
          "base_uri": "https://localhost:8080/"
        },
        "id": "9kJIkpNd3K7R",
        "outputId": "b0ca0aff-fdef-43be-a4d6-e90198510b19"
      },
      "source": [
        "rf_random.best_score_"
      ],
      "execution_count": 106,
      "outputs": [
        {
          "output_type": "execute_result",
          "data": {
            "text/plain": [
              "0.7357321032802433"
            ]
          },
          "metadata": {},
          "execution_count": 106
        }
      ]
    },
    {
      "cell_type": "code",
      "metadata": {
        "id": "ORy_SQKgkXIw"
      },
      "source": [
        "predictions=rf_random.predict(X1_test)"
      ],
      "execution_count": 107,
      "outputs": []
    },
    {
      "cell_type": "code",
      "metadata": {
        "colab": {
          "base_uri": "https://localhost:8080/",
          "height": 376
        },
        "id": "hy8k_4LJkXIx",
        "outputId": "07edbc45-feb4-40f1-8221-5ac379a0c951"
      },
      "source": [
        "plt.hist(y1_test-predictions)"
      ],
      "execution_count": 111,
      "outputs": [
        {
          "output_type": "execute_result",
          "data": {
            "text/plain": [
              "(array([1.09198e+05, 1.29960e+04, 6.40000e+01, 7.00000e+00, 0.00000e+00,\n",
              "        0.00000e+00, 0.00000e+00, 0.00000e+00, 0.00000e+00, 1.00000e+00]),\n",
              " array([-74658.0685161 ,   5085.79599722,  84829.66051054, 164573.52502386,\n",
              "        244317.38953719, 324061.25405051, 403805.11856383, 483548.98307715,\n",
              "        563292.84759047, 643036.71210379, 722780.57661711]),\n",
              " <a list of 10 Patch objects>)"
            ]
          },
          "metadata": {},
          "execution_count": 111
        },
        {
          "output_type": "display_data",
          "data": {
            "image/png": "[encoded data removed]",
            "text/plain": [
              "<Figure size 432x288 with 1 Axes>"
            ]
          },
          "metadata": {
            "needs_background": "light"
          }
        }
      ]
    },
    {
      "cell_type": "code",
      "metadata": {
        "colab": {
          "base_uri": "https://localhost:8080/",
          "height": 283
        },
        "id": "KlrvncWykXIx",
        "outputId": "cafdd3c8-26b0-417c-9596-3782738fabc1"
      },
      "source": [
        "plt.scatter(y1_test,predictions)"
      ],
      "execution_count": 112,
      "outputs": [
        {
          "output_type": "execute_result",
          "data": {
            "text/plain": [
              "<matplotlib.collections.PathCollection at 0x7f5c61b83910>"
            ]
          },
          "metadata": {},
          "execution_count": 112
        },
        {
          "output_type": "display_data",
          "data": {
            "image/png": "[encoded data removed]",
            "text/plain": [
              "<Figure size 432x288 with 1 Axes>"
            ]
          },
          "metadata": {
            "needs_background": "light"
          }
        }
      ]
    },
    {
      "cell_type": "code",
      "metadata": {
        "colab": {
          "base_uri": "https://localhost:8080/"
        },
        "id": "GOjHC-2sNaEt",
        "outputId": "4a319365-c3b3-4486-b954-f053b440617e"
      },
      "source": [
        "print('RMSE on train:', np.sqrt(metrics.mean_squared_error(y1_train, rf_random.predict(X1_train))))\n",
        "print('RMSE on test:', np.sqrt(metrics.mean_squared_error(y1_test, rf_random.predict(X1_test))))"
      ],
      "execution_count": 113,
      "outputs": [
        {
          "output_type": "stream",
          "name": "stdout",
          "text": [
            "RMSE on train: 5807.470010966082\n",
            "RMSE on test: 6781.519281261701\n"
          ]
        }
      ]
    },
    {
      "cell_type": "code",
      "metadata": {
        "colab": {
          "base_uri": "https://localhost:8080/"
        },
        "id": "x1b8wgeWNaE0",
        "outputId": "c56f9a6d-d4c3-434f-f24e-0c638db86e07"
      },
      "source": [
        "print('r2_score on train:', r2_score(y1_train, rf_random.predict(X1_train)))\n",
        "print('r2_score on test:', r2_score(y1_test, rf_random.predict(X1_test)))"
      ],
      "execution_count": 114,
      "outputs": [
        {
          "output_type": "stream",
          "name": "stdout",
          "text": [
            "r2_score on train: 0.8368126471828595\n",
            "r2_score on test: 0.7704455511597276\n"
          ]
        }
      ]
    },
    {
      "cell_type": "markdown",
      "metadata": {
        "id": "m6vl_pCdQM2H"
      },
      "source": [
        "---"
      ]
    },
    {
      "cell_type": "markdown",
      "metadata": {
        "id": "wpu5RkILerht"
      },
      "source": [
        "# W/O Manufacturer_name feature"
      ]
    },
    {
      "cell_type": "code",
      "metadata": {
        "id": "wRDvPygFRTc6"
      },
      "source": [
        "f_df = df[['year', 'Price ($)', 'Odometer (km)', 'Gear', 'Fuel', 'Country']]"
      ],
      "execution_count": 32,
      "outputs": []
    },
    {
      "cell_type": "code",
      "metadata": {
        "id": "hDC9Q_ZPSTfK"
      },
      "source": [
        "f_df['no_year'] = 2021 - f_df['year']\n",
        "f_df.drop(['year'],axis=1,inplace=True)"
      ],
      "execution_count": 33,
      "outputs": []
    },
    {
      "cell_type": "code",
      "metadata": {
        "colab": {
          "base_uri": "https://localhost:8080/"
        },
        "id": "f8XXuRDPR6tl",
        "outputId": "67a49003-5a28-4669-99d7-c133e5f55e4b"
      },
      "source": [
        "f_df.shape"
      ],
      "execution_count": 34,
      "outputs": [
        {
          "output_type": "execute_result",
          "data": {
            "text/plain": [
              "(407552, 6)"
            ]
          },
          "metadata": {},
          "execution_count": 34
        }
      ]
    },
    {
      "cell_type": "code",
      "metadata": {
        "id": "14ugz4qoS1dS"
      },
      "source": [
        "f_df = pd.get_dummies(f_df, drop_first=True)"
      ],
      "execution_count": 35,
      "outputs": []
    },
    {
      "cell_type": "code",
      "metadata": {
        "colab": {
          "base_uri": "https://localhost:8080/",
          "height": 224
        },
        "id": "0e1EzLklTJcN",
        "outputId": "2ce64c2a-0930-4bf9-da89-ab5510c22d01"
      },
      "source": [
        "f_df.head()"
      ],
      "execution_count": 36,
      "outputs": [
        {
          "output_type": "execute_result",
          "data": {
            "text/html": [
              "<div>\n",
              "<style scoped>\n",
              "    .dataframe tbody tr th:only-of-type {\n",
              "        vertical-align: middle;\n",
              "    }\n",
              "\n",
              "    .dataframe tbody tr th {\n",
              "        vertical-align: top;\n",
              "    }\n",
              "\n",
              "    .dataframe thead th {\n",
              "        text-align: right;\n",
              "    }\n",
              "</style>\n",
              "<table border=\"1\" class=\"dataframe\">\n",
              "  <thead>\n",
              "    <tr style=\"text-align: right;\">\n",
              "      <th></th>\n",
              "      <th>Price ($)</th>\n",
              "      <th>Odometer (km)</th>\n",
              "      <th>no_year</th>\n",
              "      <th>Gear_manual</th>\n",
              "      <th>Gear_other</th>\n",
              "      <th>Gear_semi-automatic</th>\n",
              "      <th>Fuel_electric</th>\n",
              "      <th>Fuel_gas</th>\n",
              "      <th>Fuel_gasoline</th>\n",
              "      <th>Fuel_hybrid</th>\n",
              "      <th>Fuel_other</th>\n",
              "      <th>Fuel_petrol</th>\n",
              "      <th>Country_Germany</th>\n",
              "      <th>Country_India</th>\n",
              "      <th>Country_US</th>\n",
              "    </tr>\n",
              "  </thead>\n",
              "  <tbody>\n",
              "    <tr>\n",
              "      <th>0</th>\n",
              "      <td>6900.0</td>\n",
              "      <td>280000.0</td>\n",
              "      <td>18</td>\n",
              "      <td>1</td>\n",
              "      <td>0</td>\n",
              "      <td>0</td>\n",
              "      <td>0</td>\n",
              "      <td>0</td>\n",
              "      <td>1</td>\n",
              "      <td>0</td>\n",
              "      <td>0</td>\n",
              "      <td>0</td>\n",
              "      <td>0</td>\n",
              "      <td>0</td>\n",
              "      <td>0</td>\n",
              "    </tr>\n",
              "    <tr>\n",
              "      <th>1</th>\n",
              "      <td>4300.0</td>\n",
              "      <td>321000.0</td>\n",
              "      <td>19</td>\n",
              "      <td>1</td>\n",
              "      <td>0</td>\n",
              "      <td>0</td>\n",
              "      <td>0</td>\n",
              "      <td>0</td>\n",
              "      <td>1</td>\n",
              "      <td>0</td>\n",
              "      <td>0</td>\n",
              "      <td>0</td>\n",
              "      <td>0</td>\n",
              "      <td>0</td>\n",
              "      <td>0</td>\n",
              "    </tr>\n",
              "    <tr>\n",
              "      <th>2</th>\n",
              "      <td>10950.0</td>\n",
              "      <td>191000.0</td>\n",
              "      <td>16</td>\n",
              "      <td>1</td>\n",
              "      <td>0</td>\n",
              "      <td>0</td>\n",
              "      <td>0</td>\n",
              "      <td>0</td>\n",
              "      <td>1</td>\n",
              "      <td>0</td>\n",
              "      <td>0</td>\n",
              "      <td>0</td>\n",
              "      <td>0</td>\n",
              "      <td>0</td>\n",
              "      <td>0</td>\n",
              "    </tr>\n",
              "    <tr>\n",
              "      <th>3</th>\n",
              "      <td>1850.0</td>\n",
              "      <td>417000.0</td>\n",
              "      <td>24</td>\n",
              "      <td>0</td>\n",
              "      <td>0</td>\n",
              "      <td>0</td>\n",
              "      <td>0</td>\n",
              "      <td>0</td>\n",
              "      <td>1</td>\n",
              "      <td>0</td>\n",
              "      <td>0</td>\n",
              "      <td>0</td>\n",
              "      <td>0</td>\n",
              "      <td>0</td>\n",
              "      <td>0</td>\n",
              "    </tr>\n",
              "    <tr>\n",
              "      <th>4</th>\n",
              "      <td>2000.0</td>\n",
              "      <td>340000.0</td>\n",
              "      <td>28</td>\n",
              "      <td>1</td>\n",
              "      <td>0</td>\n",
              "      <td>0</td>\n",
              "      <td>0</td>\n",
              "      <td>0</td>\n",
              "      <td>1</td>\n",
              "      <td>0</td>\n",
              "      <td>0</td>\n",
              "      <td>0</td>\n",
              "      <td>0</td>\n",
              "      <td>0</td>\n",
              "      <td>0</td>\n",
              "    </tr>\n",
              "  </tbody>\n",
              "</table>\n",
              "</div>"
            ],
            "text/plain": [
              "   Price ($)  Odometer (km)  ...  Country_India  Country_US\n",
              "0     6900.0       280000.0  ...              0           0\n",
              "1     4300.0       321000.0  ...              0           0\n",
              "2    10950.0       191000.0  ...              0           0\n",
              "3     1850.0       417000.0  ...              0           0\n",
              "4     2000.0       340000.0  ...              0           0\n",
              "\n",
              "[5 rows x 15 columns]"
            ]
          },
          "metadata": {},
          "execution_count": 36
        }
      ]
    },
    {
      "cell_type": "code",
      "metadata": {
        "colab": {
          "base_uri": "https://localhost:8080/",
          "height": 575
        },
        "id": "F98Vpg5wUDFT",
        "outputId": "e13f1218-b98c-4223-a8df-ad4091bb2979"
      },
      "source": [
        "f_df.corr()"
      ],
      "execution_count": 37,
      "outputs": [
        {
          "output_type": "execute_result",
          "data": {
            "text/html": [
              "<div>\n",
              "<style scoped>\n",
              "    .dataframe tbody tr th:only-of-type {\n",
              "        vertical-align: middle;\n",
              "    }\n",
              "\n",
              "    .dataframe tbody tr th {\n",
              "        vertical-align: top;\n",
              "    }\n",
              "\n",
              "    .dataframe thead th {\n",
              "        text-align: right;\n",
              "    }\n",
              "</style>\n",
              "<table border=\"1\" class=\"dataframe\">\n",
              "  <thead>\n",
              "    <tr style=\"text-align: right;\">\n",
              "      <th></th>\n",
              "      <th>Price ($)</th>\n",
              "      <th>Odometer (km)</th>\n",
              "      <th>no_year</th>\n",
              "      <th>Gear_manual</th>\n",
              "      <th>Gear_other</th>\n",
              "      <th>Gear_semi-automatic</th>\n",
              "      <th>Fuel_electric</th>\n",
              "      <th>Fuel_gas</th>\n",
              "      <th>Fuel_gasoline</th>\n",
              "      <th>Fuel_hybrid</th>\n",
              "      <th>Fuel_other</th>\n",
              "      <th>Fuel_petrol</th>\n",
              "      <th>Country_Germany</th>\n",
              "      <th>Country_India</th>\n",
              "      <th>Country_US</th>\n",
              "    </tr>\n",
              "  </thead>\n",
              "  <tbody>\n",
              "    <tr>\n",
              "      <th>Price ($)</th>\n",
              "      <td>1.000000</td>\n",
              "      <td>-0.460581</td>\n",
              "      <td>-0.534409</td>\n",
              "      <td>-0.221902</td>\n",
              "      <td>0.301542</td>\n",
              "      <td>-0.006518</td>\n",
              "      <td>0.042377</td>\n",
              "      <td>-0.095165</td>\n",
              "      <td>-0.065997</td>\n",
              "      <td>0.012454</td>\n",
              "      <td>0.166049</td>\n",
              "      <td>-0.087360</td>\n",
              "      <td>0.038152</td>\n",
              "      <td>-0.099724</td>\n",
              "      <td>0.091214</td>\n",
              "    </tr>\n",
              "    <tr>\n",
              "      <th>Odometer (km)</th>\n",
              "      <td>-0.460581</td>\n",
              "      <td>1.000000</td>\n",
              "      <td>0.681548</td>\n",
              "      <td>-0.095976</td>\n",
              "      <td>-0.354099</td>\n",
              "      <td>-0.006430</td>\n",
              "      <td>-0.065510</td>\n",
              "      <td>0.197211</td>\n",
              "      <td>-0.148434</td>\n",
              "      <td>-0.021797</td>\n",
              "      <td>-0.146533</td>\n",
              "      <td>-0.147375</td>\n",
              "      <td>-0.237051</td>\n",
              "      <td>-0.184240</td>\n",
              "      <td>0.212368</td>\n",
              "    </tr>\n",
              "    <tr>\n",
              "      <th>no_year</th>\n",
              "      <td>-0.534409</td>\n",
              "      <td>0.681548</td>\n",
              "      <td>1.000000</td>\n",
              "      <td>0.057609</td>\n",
              "      <td>-0.302765</td>\n",
              "      <td>-0.001707</td>\n",
              "      <td>-0.052272</td>\n",
              "      <td>0.129742</td>\n",
              "      <td>-0.035167</td>\n",
              "      <td>-0.040875</td>\n",
              "      <td>-0.154690</td>\n",
              "      <td>-0.048687</td>\n",
              "      <td>-0.205500</td>\n",
              "      <td>-0.075169</td>\n",
              "      <td>0.083784</td>\n",
              "    </tr>\n",
              "    <tr>\n",
              "      <th>Gear_manual</th>\n",
              "      <td>-0.221902</td>\n",
              "      <td>-0.095976</td>\n",
              "      <td>0.057609</td>\n",
              "      <td>1.000000</td>\n",
              "      <td>-0.182615</td>\n",
              "      <td>-0.005180</td>\n",
              "      <td>-0.030179</td>\n",
              "      <td>-0.480570</td>\n",
              "      <td>0.478038</td>\n",
              "      <td>-0.033596</td>\n",
              "      <td>-0.107988</td>\n",
              "      <td>0.265939</td>\n",
              "      <td>0.450541</td>\n",
              "      <td>0.378792</td>\n",
              "      <td>-0.692328</td>\n",
              "    </tr>\n",
              "    <tr>\n",
              "      <th>Gear_other</th>\n",
              "      <td>0.301542</td>\n",
              "      <td>-0.354099</td>\n",
              "      <td>-0.302765</td>\n",
              "      <td>-0.182615</td>\n",
              "      <td>1.000000</td>\n",
              "      <td>-0.004672</td>\n",
              "      <td>0.046860</td>\n",
              "      <td>-0.024198</td>\n",
              "      <td>-0.124675</td>\n",
              "      <td>0.007364</td>\n",
              "      <td>0.381373</td>\n",
              "      <td>-0.062758</td>\n",
              "      <td>-0.141095</td>\n",
              "      <td>-0.090929</td>\n",
              "      <td>0.193173</td>\n",
              "    </tr>\n",
              "    <tr>\n",
              "      <th>Gear_semi-automatic</th>\n",
              "      <td>-0.006518</td>\n",
              "      <td>-0.006430</td>\n",
              "      <td>-0.001707</td>\n",
              "      <td>-0.005180</td>\n",
              "      <td>-0.004672</td>\n",
              "      <td>1.000000</td>\n",
              "      <td>-0.000819</td>\n",
              "      <td>-0.017492</td>\n",
              "      <td>0.026842</td>\n",
              "      <td>-0.001368</td>\n",
              "      <td>-0.002950</td>\n",
              "      <td>-0.001780</td>\n",
              "      <td>0.033113</td>\n",
              "      <td>-0.002579</td>\n",
              "      <td>-0.024186</td>\n",
              "    </tr>\n",
              "    <tr>\n",
              "      <th>Fuel_electric</th>\n",
              "      <td>0.042377</td>\n",
              "      <td>-0.065510</td>\n",
              "      <td>-0.052272</td>\n",
              "      <td>-0.030179</td>\n",
              "      <td>0.046860</td>\n",
              "      <td>-0.000819</td>\n",
              "      <td>1.000000</td>\n",
              "      <td>-0.108170</td>\n",
              "      <td>-0.021868</td>\n",
              "      <td>-0.008459</td>\n",
              "      <td>-0.018242</td>\n",
              "      <td>-0.011008</td>\n",
              "      <td>0.050420</td>\n",
              "      <td>-0.013676</td>\n",
              "      <td>-0.027804</td>\n",
              "    </tr>\n",
              "    <tr>\n",
              "      <th>Fuel_gas</th>\n",
              "      <td>-0.095165</td>\n",
              "      <td>0.197211</td>\n",
              "      <td>0.129742</td>\n",
              "      <td>-0.480570</td>\n",
              "      <td>-0.024198</td>\n",
              "      <td>-0.017492</td>\n",
              "      <td>-0.108170</td>\n",
              "      <td>1.000000</td>\n",
              "      <td>-0.466763</td>\n",
              "      <td>-0.180547</td>\n",
              "      <td>-0.389361</td>\n",
              "      <td>-0.234954</td>\n",
              "      <td>-0.524410</td>\n",
              "      <td>-0.330982</td>\n",
              "      <td>0.714958</td>\n",
              "    </tr>\n",
              "    <tr>\n",
              "      <th>Fuel_gasoline</th>\n",
              "      <td>-0.065997</td>\n",
              "      <td>-0.148434</td>\n",
              "      <td>-0.035167</td>\n",
              "      <td>0.478038</td>\n",
              "      <td>-0.124675</td>\n",
              "      <td>0.026842</td>\n",
              "      <td>-0.021868</td>\n",
              "      <td>-0.466763</td>\n",
              "      <td>1.000000</td>\n",
              "      <td>-0.036501</td>\n",
              "      <td>-0.078716</td>\n",
              "      <td>-0.047500</td>\n",
              "      <td>0.660388</td>\n",
              "      <td>-0.068822</td>\n",
              "      <td>-0.645408</td>\n",
              "    </tr>\n",
              "    <tr>\n",
              "      <th>Fuel_hybrid</th>\n",
              "      <td>0.012454</td>\n",
              "      <td>-0.021797</td>\n",
              "      <td>-0.040875</td>\n",
              "      <td>-0.033596</td>\n",
              "      <td>0.007364</td>\n",
              "      <td>-0.001368</td>\n",
              "      <td>-0.008459</td>\n",
              "      <td>-0.180547</td>\n",
              "      <td>-0.036501</td>\n",
              "      <td>1.000000</td>\n",
              "      <td>-0.030448</td>\n",
              "      <td>-0.018373</td>\n",
              "      <td>0.032490</td>\n",
              "      <td>-0.026621</td>\n",
              "      <td>-0.005776</td>\n",
              "    </tr>\n",
              "    <tr>\n",
              "      <th>Fuel_other</th>\n",
              "      <td>0.166049</td>\n",
              "      <td>-0.146533</td>\n",
              "      <td>-0.154690</td>\n",
              "      <td>-0.107988</td>\n",
              "      <td>0.381373</td>\n",
              "      <td>-0.002950</td>\n",
              "      <td>-0.018242</td>\n",
              "      <td>-0.389361</td>\n",
              "      <td>-0.078716</td>\n",
              "      <td>-0.030448</td>\n",
              "      <td>1.000000</td>\n",
              "      <td>-0.039623</td>\n",
              "      <td>-0.086812</td>\n",
              "      <td>-0.057410</td>\n",
              "      <td>0.120148</td>\n",
              "    </tr>\n",
              "    <tr>\n",
              "      <th>Fuel_petrol</th>\n",
              "      <td>-0.087360</td>\n",
              "      <td>-0.147375</td>\n",
              "      <td>-0.048687</td>\n",
              "      <td>0.265939</td>\n",
              "      <td>-0.062758</td>\n",
              "      <td>-0.001780</td>\n",
              "      <td>-0.011008</td>\n",
              "      <td>-0.234954</td>\n",
              "      <td>-0.047500</td>\n",
              "      <td>-0.018373</td>\n",
              "      <td>-0.039623</td>\n",
              "      <td>1.000000</td>\n",
              "      <td>-0.053755</td>\n",
              "      <td>0.690181</td>\n",
              "      <td>-0.324879</td>\n",
              "    </tr>\n",
              "    <tr>\n",
              "      <th>Country_Germany</th>\n",
              "      <td>0.038152</td>\n",
              "      <td>-0.237051</td>\n",
              "      <td>-0.205500</td>\n",
              "      <td>0.450541</td>\n",
              "      <td>-0.141095</td>\n",
              "      <td>0.033113</td>\n",
              "      <td>0.050420</td>\n",
              "      <td>-0.524410</td>\n",
              "      <td>0.660388</td>\n",
              "      <td>0.032490</td>\n",
              "      <td>-0.086812</td>\n",
              "      <td>-0.053755</td>\n",
              "      <td>1.000000</td>\n",
              "      <td>-0.077886</td>\n",
              "      <td>-0.730407</td>\n",
              "    </tr>\n",
              "    <tr>\n",
              "      <th>Country_India</th>\n",
              "      <td>-0.099724</td>\n",
              "      <td>-0.184240</td>\n",
              "      <td>-0.075169</td>\n",
              "      <td>0.378792</td>\n",
              "      <td>-0.090929</td>\n",
              "      <td>-0.002579</td>\n",
              "      <td>-0.013676</td>\n",
              "      <td>-0.330982</td>\n",
              "      <td>-0.068822</td>\n",
              "      <td>-0.026621</td>\n",
              "      <td>-0.057410</td>\n",
              "      <td>0.690181</td>\n",
              "      <td>-0.077886</td>\n",
              "      <td>1.000000</td>\n",
              "      <td>-0.470715</td>\n",
              "    </tr>\n",
              "    <tr>\n",
              "      <th>Country_US</th>\n",
              "      <td>0.091214</td>\n",
              "      <td>0.212368</td>\n",
              "      <td>0.083784</td>\n",
              "      <td>-0.692328</td>\n",
              "      <td>0.193173</td>\n",
              "      <td>-0.024186</td>\n",
              "      <td>-0.027804</td>\n",
              "      <td>0.714958</td>\n",
              "      <td>-0.645408</td>\n",
              "      <td>-0.005776</td>\n",
              "      <td>0.120148</td>\n",
              "      <td>-0.324879</td>\n",
              "      <td>-0.730407</td>\n",
              "      <td>-0.470715</td>\n",
              "      <td>1.000000</td>\n",
              "    </tr>\n",
              "  </tbody>\n",
              "</table>\n",
              "</div>"
            ],
            "text/plain": [
              "                     Price ($)  Odometer (km)  ...  Country_India  Country_US\n",
              "Price ($)             1.000000      -0.460581  ...      -0.099724    0.091214\n",
              "Odometer (km)        -0.460581       1.000000  ...      -0.184240    0.212368\n",
              "no_year              -0.534409       0.681548  ...      -0.075169    0.083784\n",
              "Gear_manual          -0.221902      -0.095976  ...       0.378792   -0.692328\n",
              "Gear_other            0.301542      -0.354099  ...      -0.090929    0.193173\n",
              "Gear_semi-automatic  -0.006518      -0.006430  ...      -0.002579   -0.024186\n",
              "Fuel_electric         0.042377      -0.065510  ...      -0.013676   -0.027804\n",
              "Fuel_gas             -0.095165       0.197211  ...      -0.330982    0.714958\n",
              "Fuel_gasoline        -0.065997      -0.148434  ...      -0.068822   -0.645408\n",
              "Fuel_hybrid           0.012454      -0.021797  ...      -0.026621   -0.005776\n",
              "Fuel_other            0.166049      -0.146533  ...      -0.057410    0.120148\n",
              "Fuel_petrol          -0.087360      -0.147375  ...       0.690181   -0.324879\n",
              "Country_Germany       0.038152      -0.237051  ...      -0.077886   -0.730407\n",
              "Country_India        -0.099724      -0.184240  ...       1.000000   -0.470715\n",
              "Country_US            0.091214       0.212368  ...      -0.470715    1.000000\n",
              "\n",
              "[15 rows x 15 columns]"
            ]
          },
          "metadata": {},
          "execution_count": 37
        }
      ]
    },
    {
      "cell_type": "code",
      "metadata": {
        "colab": {
          "base_uri": "https://localhost:8080/",
          "height": 384
        },
        "id": "jfbo2DYxayQM",
        "outputId": "7112222d-1afe-4699-fd66-b8ba88225a7d"
      },
      "source": [
        "import seaborn as sns\n",
        "sns.heatmap(f_df.corr(),cmap=\"Blues\")"
      ],
      "execution_count": 45,
      "outputs": [
        {
          "output_type": "execute_result",
          "data": {
            "text/plain": [
              "<matplotlib.axes._subplots.AxesSubplot at 0x7f980b674390>"
            ]
          },
          "metadata": {},
          "execution_count": 45
        },
        {
          "output_type": "display_data",
          "data": {
            "image/png": "[encoded data removed]",
            "text/plain": [
              "<Figure size 432x288 with 2 Axes>"
            ]
          },
          "metadata": {
            "needs_background": "light"
          }
        }
      ]
    },
    {
      "cell_type": "code",
      "metadata": {
        "colab": {
          "base_uri": "https://localhost:8080/",
          "height": 384
        },
        "id": "-8qWFFeIk9Pg",
        "outputId": "cea87c67-7468-4dab-84c5-3b00d6ab8efe"
      },
      "source": [
        "sns.heatmap(f_df.corr())"
      ],
      "execution_count": 46,
      "outputs": [
        {
          "output_type": "execute_result",
          "data": {
            "text/plain": [
              "<matplotlib.axes._subplots.AxesSubplot at 0x7f980b570250>"
            ]
          },
          "metadata": {},
          "execution_count": 46
        },
        {
          "output_type": "display_data",
          "data": {
            "image/png": "[encoded data removed]",
            "text/plain": [
              "<Figure size 432x288 with 2 Axes>"
            ]
          },
          "metadata": {
            "needs_background": "light"
          }
        }
      ]
    },
    {
      "cell_type": "code",
      "metadata": {
        "id": "jsQiprD2cSCn"
      },
      "source": [
        "scaler = StandardScaler()\n",
        "scaled_df = scaler.fit_transform(f_df)"
      ],
      "execution_count": 38,
      "outputs": []
    },
    {
      "cell_type": "code",
      "metadata": {
        "colab": {
          "base_uri": "https://localhost:8080/"
        },
        "id": "2t8ronkw9-Wg",
        "outputId": "9f44105b-53b9-4dcb-f6a0-3e15e1e1905b"
      },
      "source": [
        "scaled_df[:5]"
      ],
      "execution_count": 37,
      "outputs": [
        {
          "output_type": "execute_result",
          "data": {
            "text/plain": [
              "array([[-0.77461398,  1.40537225,  1.74768878,  2.22250295, -0.4058618 ,\n",
              "        -0.01151156, -0.07118887, -1.51947489,  3.25534806, -0.11882219,\n",
              "        -0.25624712, -0.15462845, -0.34764267, -0.22404054, -2.10102797],\n",
              "       [-0.95630582,  1.81735248,  1.92857408,  2.22250295, -0.4058618 ,\n",
              "        -0.01151156, -0.07118887, -1.51947489,  3.25534806, -0.11882219,\n",
              "        -0.25624712, -0.15462845, -0.34764267, -0.22404054, -2.10102797],\n",
              "       [-0.491594  ,  0.5110737 ,  1.38591817,  2.22250295, -0.4058618 ,\n",
              "        -0.01151156, -0.07118887, -1.51947489,  3.25534806, -0.11882219,\n",
              "        -0.25624712, -0.15462845, -0.34764267, -0.22404054, -2.10102797],\n",
              "       [-1.12751544,  2.78198912,  2.83300061, -0.44994316, -0.4058618 ,\n",
              "        -0.01151156, -0.07118887, -1.51947489,  3.25534806, -0.11882219,\n",
              "        -0.25624712, -0.15462845, -0.34764267, -0.22404054, -2.10102797],\n",
              "       [-1.11703322,  2.00827015,  3.55654183,  2.22250295, -0.4058618 ,\n",
              "        -0.01151156, -0.07118887, -1.51947489,  3.25534806, -0.11882219,\n",
              "        -0.25624712, -0.15462845, -0.34764267, -0.22404054, -2.10102797]])"
            ]
          },
          "metadata": {},
          "execution_count": 37
        }
      ]
    },
    {
      "cell_type": "code",
      "metadata": {
        "id": "lNScSDB8UDJW"
      },
      "source": [
        "X=f_df.iloc[:,1:]\n",
        "y=f_df.iloc[:,0]"
      ],
      "execution_count": 66,
      "outputs": []
    },
    {
      "cell_type": "code",
      "metadata": {
        "colab": {
          "base_uri": "https://localhost:8080/"
        },
        "id": "em3mvlTlUdtG",
        "outputId": "f13a0fad-fb3b-49dc-ed40-6895d827ff1b"
      },
      "source": [
        "model = ExtraTreesRegressor()\n",
        "model.fit(X,y)"
      ],
      "execution_count": 25,
      "outputs": [
        {
          "output_type": "execute_result",
          "data": {
            "text/plain": [
              "ExtraTreesRegressor(bootstrap=False, ccp_alpha=0.0, criterion='mse',\n",
              "                    max_depth=None, max_features='auto', max_leaf_nodes=None,\n",
              "                    max_samples=None, min_impurity_decrease=0.0,\n",
              "                    min_impurity_split=None, min_samples_leaf=1,\n",
              "                    min_samples_split=2, min_weight_fraction_leaf=0.0,\n",
              "                    n_estimators=100, n_jobs=None, oob_score=False,\n",
              "                    random_state=None, verbose=0, warm_start=False)"
            ]
          },
          "metadata": {},
          "execution_count": 25
        }
      ]
    },
    {
      "cell_type": "code",
      "metadata": {
        "colab": {
          "base_uri": "https://localhost:8080/",
          "height": 265
        },
        "id": "BdtpIy8MVk2U",
        "outputId": "2893f021-6dfe-4957-bcdb-e457f70fa61e"
      },
      "source": [
        "feat_importances = pd.Series(model.feature_importances_, index=X.columns)\n",
        "feat_importances.nlargest(10).plot(kind='barh')\n",
        "plt.show()"
      ],
      "execution_count": 26,
      "outputs": [
        {
          "output_type": "display_data",
          "data": {
            "image/png": "[encoded data removed]",
            "text/plain": [
              "<Figure size 432x288 with 1 Axes>"
            ]
          },
          "metadata": {
            "needs_background": "light"
          }
        }
      ]
    },
    {
      "cell_type": "code",
      "metadata": {
        "id": "GeARIDsVVljf"
      },
      "source": [
        "X_train, X_test, y_train, y_test = train_test_split(X, y, test_size=0.3, random_state=0)"
      ],
      "execution_count": 67,
      "outputs": []
    },
    {
      "cell_type": "markdown",
      "metadata": {
        "id": "JIxfSquuf-aY"
      },
      "source": [
        "##LR"
      ]
    },
    {
      "cell_type": "code",
      "metadata": {
        "id": "zu5yQoSlmpBj"
      },
      "source": [
        "scaler = StandardScaler()\n",
        "X_train = pd.DataFrame(scaler.fit_transform(X_train), columns = X_train.columns)\n",
        "X_test = pd.DataFrame(scaler.fit_transform(X_test), columns = X_test.columns)"
      ],
      "execution_count": 68,
      "outputs": []
    },
    {
      "cell_type": "code",
      "metadata": {
        "colab": {
          "base_uri": "https://localhost:8080/"
        },
        "id": "dkzvsJhU5sXj",
        "outputId": "a4cc5494-30c6-44ae-ffb2-2a0c56442337"
      },
      "source": [
        "model = LinearRegression()\n",
        "model.fit(X_train, y_train)"
      ],
      "execution_count": 69,
      "outputs": [
        {
          "output_type": "execute_result",
          "data": {
            "text/plain": [
              "LinearRegression(copy_X=True, fit_intercept=True, n_jobs=None, normalize=False)"
            ]
          },
          "metadata": {},
          "execution_count": 69
        }
      ]
    },
    {
      "cell_type": "code",
      "metadata": {
        "colab": {
          "base_uri": "https://localhost:8080/",
          "height": 489
        },
        "id": "857RFj5X7haE",
        "outputId": "f5b1f881-7bfe-42b2-f3ce-bf5efca007b3"
      },
      "source": [
        "pd.DataFrame(model.coef_, X.columns, columns = ['Coeff'])"
      ],
      "execution_count": 70,
      "outputs": [
        {
          "output_type": "execute_result",
          "data": {
            "text/html": [
              "<div>\n",
              "<style scoped>\n",
              "    .dataframe tbody tr th:only-of-type {\n",
              "        vertical-align: middle;\n",
              "    }\n",
              "\n",
              "    .dataframe tbody tr th {\n",
              "        vertical-align: top;\n",
              "    }\n",
              "\n",
              "    .dataframe thead th {\n",
              "        text-align: right;\n",
              "    }\n",
              "</style>\n",
              "<table border=\"1\" class=\"dataframe\">\n",
              "  <thead>\n",
              "    <tr style=\"text-align: right;\">\n",
              "      <th></th>\n",
              "      <th>Coeff</th>\n",
              "    </tr>\n",
              "  </thead>\n",
              "  <tbody>\n",
              "    <tr>\n",
              "      <th>Odometer (km)</th>\n",
              "      <td>-3985.363851</td>\n",
              "    </tr>\n",
              "    <tr>\n",
              "      <th>no_year</th>\n",
              "      <td>-4967.499483</td>\n",
              "    </tr>\n",
              "    <tr>\n",
              "      <th>Gear_manual</th>\n",
              "      <td>-2668.481561</td>\n",
              "    </tr>\n",
              "    <tr>\n",
              "      <th>Gear_other</th>\n",
              "      <td>833.413354</td>\n",
              "    </tr>\n",
              "    <tr>\n",
              "      <th>Gear_semi-automatic</th>\n",
              "      <td>-112.468254</td>\n",
              "    </tr>\n",
              "    <tr>\n",
              "      <th>Fuel_electric</th>\n",
              "      <td>-820.675565</td>\n",
              "    </tr>\n",
              "    <tr>\n",
              "      <th>Fuel_gas</th>\n",
              "      <td>-7057.906694</td>\n",
              "    </tr>\n",
              "    <tr>\n",
              "      <th>Fuel_gasoline</th>\n",
              "      <td>-1742.430076</td>\n",
              "    </tr>\n",
              "    <tr>\n",
              "      <th>Fuel_hybrid</th>\n",
              "      <td>-1675.995205</td>\n",
              "    </tr>\n",
              "    <tr>\n",
              "      <th>Fuel_other</th>\n",
              "      <td>-3134.587783</td>\n",
              "    </tr>\n",
              "    <tr>\n",
              "      <th>Fuel_petrol</th>\n",
              "      <td>-689.855435</td>\n",
              "    </tr>\n",
              "    <tr>\n",
              "      <th>Country_Germany</th>\n",
              "      <td>-1341.796111</td>\n",
              "    </tr>\n",
              "    <tr>\n",
              "      <th>Country_India</th>\n",
              "      <td>-2626.101108</td>\n",
              "    </tr>\n",
              "    <tr>\n",
              "      <th>Country_US</th>\n",
              "      <td>2357.523450</td>\n",
              "    </tr>\n",
              "  </tbody>\n",
              "</table>\n",
              "</div>"
            ],
            "text/plain": [
              "                           Coeff\n",
              "Odometer (km)       -3985.363851\n",
              "no_year             -4967.499483\n",
              "Gear_manual         -2668.481561\n",
              "Gear_other            833.413354\n",
              "Gear_semi-automatic  -112.468254\n",
              "Fuel_electric        -820.675565\n",
              "Fuel_gas            -7057.906694\n",
              "Fuel_gasoline       -1742.430076\n",
              "Fuel_hybrid         -1675.995205\n",
              "Fuel_other          -3134.587783\n",
              "Fuel_petrol          -689.855435\n",
              "Country_Germany     -1341.796111\n",
              "Country_India       -2626.101108\n",
              "Country_US           2357.523450"
            ]
          },
          "metadata": {},
          "execution_count": 70
        }
      ]
    },
    {
      "cell_type": "code",
      "metadata": {
        "colab": {
          "base_uri": "https://localhost:8080/",
          "height": 283
        },
        "id": "4lGF51yY7zm9",
        "outputId": "8313f575-c3f4-4e53-e9ca-6678c5582642"
      },
      "source": [
        "predictions = model.predict(X_test)\n",
        "\n",
        "plt.scatter(y_test, predictions)"
      ],
      "execution_count": 71,
      "outputs": [
        {
          "output_type": "execute_result",
          "data": {
            "text/plain": [
              "<matplotlib.collections.PathCollection at 0x7f980b32af10>"
            ]
          },
          "metadata": {},
          "execution_count": 71
        },
        {
          "output_type": "display_data",
          "data": {
            "image/png": "[encoded data removed]",
            "text/plain": [
              "<Figure size 432x288 with 1 Axes>"
            ]
          },
          "metadata": {
            "needs_background": "light"
          }
        }
      ]
    },
    {
      "cell_type": "code",
      "metadata": {
        "colab": {
          "base_uri": "https://localhost:8080/",
          "height": 376
        },
        "id": "4D8kUqK172eQ",
        "outputId": "7c4be24c-a195-42ca-f925-9bb74ca6a566"
      },
      "source": [
        "plt.hist(y_test - predictions)"
      ],
      "execution_count": 72,
      "outputs": [
        {
          "output_type": "execute_result",
          "data": {
            "text/plain": [
              "(array([1.21813e+05, 3.78000e+02, 5.80000e+01, 1.20000e+01, 3.00000e+00,\n",
              "        0.00000e+00, 1.00000e+00, 0.00000e+00, 0.00000e+00, 1.00000e+00]),\n",
              " array([-45397.65916219,  40937.9572376 , 127273.57363738, 213609.19003717,\n",
              "        299944.80643695, 386280.42283674, 472616.03923652, 558951.65563631,\n",
              "        645287.27203609, 731622.88843588, 817958.50483567]),\n",
              " <a list of 10 Patch objects>)"
            ]
          },
          "metadata": {},
          "execution_count": 72
        },
        {
          "output_type": "display_data",
          "data": {
            "image/png": "[encoded data removed]",
            "text/plain": [
              "<Figure size 432x288 with 1 Axes>"
            ]
          },
          "metadata": {
            "needs_background": "light"
          }
        }
      ]
    },
    {
      "cell_type": "code",
      "metadata": {
        "colab": {
          "base_uri": "https://localhost:8080/"
        },
        "id": "qKiase_i74xL",
        "outputId": "dc52d28c-9080-48f5-ef70-95841f98518e"
      },
      "source": [
        "print('RMSE:', np.sqrt(metrics.mean_squared_error(y_test, predictions)))"
      ],
      "execution_count": 73,
      "outputs": [
        {
          "output_type": "stream",
          "name": "stdout",
          "text": [
            "RMSE: 10676.960429607505\n"
          ]
        }
      ]
    },
    {
      "cell_type": "code",
      "metadata": {
        "colab": {
          "base_uri": "https://localhost:8080/"
        },
        "id": "hXic6xqze2Fn",
        "outputId": "0bad0422-5d66-461c-ad99-3632942245ad"
      },
      "source": [
        "from sklearn.metrics import r2_score\n",
        "\n",
        "r2_score(y_test, predictions)"
      ],
      "execution_count": 74,
      "outputs": [
        {
          "output_type": "execute_result",
          "data": {
            "text/plain": [
              "0.4309807242685698"
            ]
          },
          "metadata": {},
          "execution_count": 74
        }
      ]
    },
    {
      "cell_type": "code",
      "metadata": {
        "id": "ZGgFma4Ae2IL"
      },
      "source": [
        ""
      ],
      "execution_count": null,
      "outputs": []
    },
    {
      "cell_type": "markdown",
      "metadata": {
        "id": "UXwZ3H9Ne2Qm"
      },
      "source": [
        "##RF"
      ]
    },
    {
      "cell_type": "code",
      "metadata": {
        "colab": {
          "base_uri": "https://localhost:8080/"
        },
        "id": "TLMXodQhfvER",
        "outputId": "cb7c5f76-81b9-4450-bf95-04df552713ee"
      },
      "source": [
        "#rf = RandomForestRegressor()\n",
        "rf1 = RandomForestRegressor(random_state=1, n_estimators=700)\n",
        "rf1.fit(X_train, y_train)"
      ],
      "execution_count": 28,
      "outputs": [
        {
          "output_type": "execute_result",
          "data": {
            "text/plain": [
              "RandomForestRegressor(bootstrap=True, ccp_alpha=0.0, criterion='mse',\n",
              "                      max_depth=None, max_features='auto', max_leaf_nodes=None,\n",
              "                      max_samples=None, min_impurity_decrease=0.0,\n",
              "                      min_impurity_split=None, min_samples_leaf=1,\n",
              "                      min_samples_split=2, min_weight_fraction_leaf=0.0,\n",
              "                      n_estimators=700, n_jobs=None, oob_score=False,\n",
              "                      random_state=1, verbose=0, warm_start=False)"
            ]
          },
          "metadata": {},
          "execution_count": 28
        }
      ]
    },
    {
      "cell_type": "code",
      "metadata": {
        "id": "ZLVcAtyxgxRH"
      },
      "source": [
        "rf_test_predictions=rf1.predict(X_test)"
      ],
      "execution_count": 29,
      "outputs": []
    },
    {
      "cell_type": "code",
      "metadata": {
        "colab": {
          "base_uri": "https://localhost:8080/",
          "height": 286
        },
        "id": "KmdkwvgtgQTx",
        "outputId": "9e991a5b-7b2f-46fb-8e54-8314bda7d68d"
      },
      "source": [
        "plt.scatter(y_test,rf_test_predictions)"
      ],
      "execution_count": 30,
      "outputs": [
        {
          "output_type": "execute_result",
          "data": {
            "text/plain": [
              "<matplotlib.collections.PathCollection at 0x7f59e9d48050>"
            ]
          },
          "metadata": {},
          "execution_count": 30
        },
        {
          "output_type": "display_data",
          "data": {
            "image/png": "[encoded data removed]",
            "text/plain": [
              "<Figure size 432x288 with 1 Axes>"
            ]
          },
          "metadata": {
            "needs_background": "light"
          }
        }
      ]
    },
    {
      "cell_type": "code",
      "metadata": {
        "colab": {
          "base_uri": "https://localhost:8080/",
          "height": 394
        },
        "id": "ElqxfdPygNeV",
        "outputId": "6838f341-2598-4d52-f382-cebc5fc23e63"
      },
      "source": [
        "#sns.distplot(y_test-predictions)\n",
        "plt.hist(y_test-rf_test_predictions)"
      ],
      "execution_count": 31,
      "outputs": [
        {
          "output_type": "execute_result",
          "data": {
            "text/plain": [
              "(array([2.00000e+00, 0.00000e+00, 1.40000e+01, 1.49000e+02, 1.21514e+05,\n",
              "        5.17000e+02, 5.40000e+01, 1.10000e+01, 3.00000e+00, 2.00000e+00]),\n",
              " array([-360678.69409122, -282455.85341464, -204233.01273807,\n",
              "        -126010.17206149,  -47787.33138492,   30435.50929166,\n",
              "         108658.34996824,  186881.19064481,  265104.03132139,\n",
              "         343326.87199796,  421549.71267454]),\n",
              " <a list of 10 Patch objects>)"
            ]
          },
          "metadata": {},
          "execution_count": 31
        },
        {
          "output_type": "display_data",
          "data": {
            "image/png": "[encoded data removed]",
            "text/plain": [
              "<Figure size 432x288 with 1 Axes>"
            ]
          },
          "metadata": {
            "needs_background": "light"
          }
        }
      ]
    },
    {
      "cell_type": "code",
      "metadata": {
        "colab": {
          "base_uri": "https://localhost:8080/"
        },
        "id": "eUMmiP3QgNhR",
        "outputId": "be8539d4-f81a-4bdb-dd4a-64dedfea0e31"
      },
      "source": [
        "print('RMSE:', np.sqrt(metrics.mean_squared_error(y_test, rf_test_predictions)))"
      ],
      "execution_count": 32,
      "outputs": [
        {
          "output_type": "stream",
          "name": "stdout",
          "text": [
            "RMSE: 8875.238606528716\n"
          ]
        }
      ]
    },
    {
      "cell_type": "code",
      "metadata": {
        "colab": {
          "base_uri": "https://localhost:8080/"
        },
        "id": "xGiRbmW5gNj5",
        "outputId": "d66dd420-06cf-4b6a-ba09-c1ce5d9a3020"
      },
      "source": [
        "rf1.score(X_test,y_test)"
      ],
      "execution_count": 33,
      "outputs": [
        {
          "output_type": "execute_result",
          "data": {
            "text/plain": [
              "0.6068196657366669"
            ]
          },
          "metadata": {},
          "execution_count": 33
        }
      ]
    },
    {
      "cell_type": "code",
      "metadata": {
        "id": "nZbv9kbBfvH6"
      },
      "source": [
        ""
      ],
      "execution_count": null,
      "outputs": []
    },
    {
      "cell_type": "code",
      "metadata": {
        "id": "l5kqQfNNdXrD"
      },
      "source": [
        "# Number of trees in random forest\n",
        "#n_estimators = [int(x) for x in np.linspace(start = 100, stop = 1200, num = 12)]\n",
        "\n",
        "# Number of features to consider at every split\n",
        "max_features = ['auto', 'sqrt']\n",
        "\n",
        "# Maximum number of levels in tree\n",
        "max_depth = [int(x) for x in np.linspace(5, 30, num = 6)]\n",
        "\n",
        "# max_depth.append(None)\n",
        "# Minimum number of samples required to split a node\n",
        "min_samples_split = [2, 5, 10, 15, 100]\n",
        "\n",
        "# Minimum number of samples required at each leaf node\n",
        "min_samples_leaf = [1, 2, 5, 10]"
      ],
      "execution_count": 56,
      "outputs": []
    },
    {
      "cell_type": "code",
      "metadata": {
        "colab": {
          "base_uri": "https://localhost:8080/"
        },
        "id": "94SUcdNMfTBP",
        "outputId": "90d5b14c-8f1f-4701-d931-a277140a4faf"
      },
      "source": [
        "# Create the random grid\n",
        "random_grid = {'max_features': max_features,\n",
        "               'max_depth': max_depth,\n",
        "               'min_samples_split': min_samples_split,\n",
        "               'min_samples_leaf': min_samples_leaf}\n",
        "\n",
        "print(random_grid)"
      ],
      "execution_count": 57,
      "outputs": [
        {
          "output_type": "stream",
          "name": "stdout",
          "text": [
            "{'max_features': ['auto', 'sqrt'], 'max_depth': [5, 10, 15, 20, 25, 30], 'min_samples_split': [2, 5, 10, 15, 100], 'min_samples_leaf': [1, 2, 5, 10]}\n"
          ]
        }
      ]
    },
    {
      "cell_type": "code",
      "metadata": {
        "id": "37VJGy2JfVn2"
      },
      "source": [
        "# Use the random grid to search for best hyperparameters\n",
        "# First create the base model to tune\n",
        "rf = RandomForestRegressor()"
      ],
      "execution_count": 58,
      "outputs": []
    },
    {
      "cell_type": "code",
      "metadata": {
        "id": "TumWBZN8faOa"
      },
      "source": [
        "# Random search of parameters, using 3 fold cross validation, \n",
        "# search across 100 different combinations\n",
        "rf_random = RandomizedSearchCV(estimator = rf, param_distributions = random_grid, n_iter = 10, cv = 5, verbose=5, random_state=42, n_jobs = None)"
      ],
      "execution_count": 62,
      "outputs": []
    },
    {
      "cell_type": "code",
      "metadata": {
        "colab": {
          "base_uri": "https://localhost:8080/"
        },
        "id": "KalPcGR4fc8X",
        "outputId": "91084691-4a62-42e4-f0f2-0db639ebac8e"
      },
      "source": [
        "rf_random.fit(X_train,y_train)"
      ],
      "execution_count": 63,
      "outputs": [
        {
          "output_type": "stream",
          "name": "stdout",
          "text": [
            "Fitting 5 folds for each of 10 candidates, totalling 50 fits\n",
            "[CV] min_samples_split=100, min_samples_leaf=1, max_features=sqrt, max_depth=5 \n"
          ]
        },
        {
          "output_type": "stream",
          "name": "stderr",
          "text": [
            "[Parallel(n_jobs=1)]: Using backend SequentialBackend with 1 concurrent workers.\n"
          ]
        },
        {
          "output_type": "stream",
          "name": "stdout",
          "text": [
            "[CV]  min_samples_split=100, min_samples_leaf=1, max_features=sqrt, max_depth=5, score=0.410, total=   7.3s\n",
            "[CV] min_samples_split=100, min_samples_leaf=1, max_features=sqrt, max_depth=5 \n"
          ]
        },
        {
          "output_type": "stream",
          "name": "stderr",
          "text": [
            "[Parallel(n_jobs=1)]: Done   1 out of   1 | elapsed:    7.3s remaining:    0.0s\n"
          ]
        },
        {
          "output_type": "stream",
          "name": "stdout",
          "text": [
            "[CV]  min_samples_split=100, min_samples_leaf=1, max_features=sqrt, max_depth=5, score=0.438, total=   7.0s\n",
            "[CV] min_samples_split=100, min_samples_leaf=1, max_features=sqrt, max_depth=5 \n"
          ]
        },
        {
          "output_type": "stream",
          "name": "stderr",
          "text": [
            "[Parallel(n_jobs=1)]: Done   2 out of   2 | elapsed:   14.3s remaining:    0.0s\n"
          ]
        },
        {
          "output_type": "stream",
          "name": "stdout",
          "text": [
            "[CV]  min_samples_split=100, min_samples_leaf=1, max_features=sqrt, max_depth=5, score=0.441, total=   6.9s\n",
            "[CV] min_samples_split=100, min_samples_leaf=1, max_features=sqrt, max_depth=5 \n"
          ]
        },
        {
          "output_type": "stream",
          "name": "stderr",
          "text": [
            "[Parallel(n_jobs=1)]: Done   3 out of   3 | elapsed:   21.2s remaining:    0.0s\n"
          ]
        },
        {
          "output_type": "stream",
          "name": "stdout",
          "text": [
            "[CV]  min_samples_split=100, min_samples_leaf=1, max_features=sqrt, max_depth=5, score=0.466, total=   7.6s\n",
            "[CV] min_samples_split=100, min_samples_leaf=1, max_features=sqrt, max_depth=5 \n"
          ]
        },
        {
          "output_type": "stream",
          "name": "stderr",
          "text": [
            "[Parallel(n_jobs=1)]: Done   4 out of   4 | elapsed:   28.8s remaining:    0.0s\n"
          ]
        },
        {
          "output_type": "stream",
          "name": "stdout",
          "text": [
            "[CV]  min_samples_split=100, min_samples_leaf=1, max_features=sqrt, max_depth=5, score=0.465, total=   6.8s\n",
            "[CV] min_samples_split=5, min_samples_leaf=2, max_features=auto, max_depth=5 \n",
            "[CV]  min_samples_split=5, min_samples_leaf=2, max_features=auto, max_depth=5, score=0.427, total=  24.0s\n",
            "[CV] min_samples_split=5, min_samples_leaf=2, max_features=auto, max_depth=5 \n",
            "[CV]  min_samples_split=5, min_samples_leaf=2, max_features=auto, max_depth=5, score=0.458, total=  23.5s\n",
            "[CV] min_samples_split=5, min_samples_leaf=2, max_features=auto, max_depth=5 \n",
            "[CV]  min_samples_split=5, min_samples_leaf=2, max_features=auto, max_depth=5, score=0.458, total=  23.1s\n",
            "[CV] min_samples_split=5, min_samples_leaf=2, max_features=auto, max_depth=5 \n",
            "[CV]  min_samples_split=5, min_samples_leaf=2, max_features=auto, max_depth=5, score=0.487, total=  23.2s\n",
            "[CV] min_samples_split=5, min_samples_leaf=2, max_features=auto, max_depth=5 \n",
            "[CV]  min_samples_split=5, min_samples_leaf=2, max_features=auto, max_depth=5, score=0.486, total=  23.1s\n",
            "[CV] min_samples_split=15, min_samples_leaf=5, max_features=auto, max_depth=15 \n",
            "[CV]  min_samples_split=15, min_samples_leaf=5, max_features=auto, max_depth=15, score=0.556, total=  44.6s\n",
            "[CV] min_samples_split=15, min_samples_leaf=5, max_features=auto, max_depth=15 \n",
            "[CV]  min_samples_split=15, min_samples_leaf=5, max_features=auto, max_depth=15, score=0.578, total=  44.4s\n",
            "[CV] min_samples_split=15, min_samples_leaf=5, max_features=auto, max_depth=15 \n",
            "[CV]  min_samples_split=15, min_samples_leaf=5, max_features=auto, max_depth=15, score=0.571, total=  45.0s\n",
            "[CV] min_samples_split=15, min_samples_leaf=5, max_features=auto, max_depth=15 \n",
            "[CV]  min_samples_split=15, min_samples_leaf=5, max_features=auto, max_depth=15, score=0.600, total=  44.8s\n",
            "[CV] min_samples_split=15, min_samples_leaf=5, max_features=auto, max_depth=15 \n",
            "[CV]  min_samples_split=15, min_samples_leaf=5, max_features=auto, max_depth=15, score=0.608, total=  44.5s\n",
            "[CV] min_samples_split=100, min_samples_leaf=2, max_features=sqrt, max_depth=15 \n",
            "[CV]  min_samples_split=100, min_samples_leaf=2, max_features=sqrt, max_depth=15, score=0.523, total=  18.4s\n",
            "[CV] min_samples_split=100, min_samples_leaf=2, max_features=sqrt, max_depth=15 \n",
            "[CV]  min_samples_split=100, min_samples_leaf=2, max_features=sqrt, max_depth=15, score=0.563, total=  18.9s\n",
            "[CV] min_samples_split=100, min_samples_leaf=2, max_features=sqrt, max_depth=15 \n",
            "[CV]  min_samples_split=100, min_samples_leaf=2, max_features=sqrt, max_depth=15, score=0.549, total=  18.5s\n",
            "[CV] min_samples_split=100, min_samples_leaf=2, max_features=sqrt, max_depth=15 \n",
            "[CV]  min_samples_split=100, min_samples_leaf=2, max_features=sqrt, max_depth=15, score=0.592, total=  18.1s\n",
            "[CV] min_samples_split=100, min_samples_leaf=2, max_features=sqrt, max_depth=15 \n",
            "[CV]  min_samples_split=100, min_samples_leaf=2, max_features=sqrt, max_depth=15, score=0.586, total=  18.3s\n",
            "[CV] min_samples_split=100, min_samples_leaf=1, max_features=sqrt, max_depth=15 \n",
            "[CV]  min_samples_split=100, min_samples_leaf=1, max_features=sqrt, max_depth=15, score=0.528, total=  18.9s\n",
            "[CV] min_samples_split=100, min_samples_leaf=1, max_features=sqrt, max_depth=15 \n",
            "[CV]  min_samples_split=100, min_samples_leaf=1, max_features=sqrt, max_depth=15, score=0.562, total=  18.7s\n",
            "[CV] min_samples_split=100, min_samples_leaf=1, max_features=sqrt, max_depth=15 \n",
            "[CV]  min_samples_split=100, min_samples_leaf=1, max_features=sqrt, max_depth=15, score=0.546, total=  18.8s\n",
            "[CV] min_samples_split=100, min_samples_leaf=1, max_features=sqrt, max_depth=15 \n",
            "[CV]  min_samples_split=100, min_samples_leaf=1, max_features=sqrt, max_depth=15, score=0.596, total=  19.2s\n",
            "[CV] min_samples_split=100, min_samples_leaf=1, max_features=sqrt, max_depth=15 \n",
            "[CV]  min_samples_split=100, min_samples_leaf=1, max_features=sqrt, max_depth=15, score=0.593, total=  18.9s\n",
            "[CV] min_samples_split=10, min_samples_leaf=5, max_features=auto, max_depth=25 \n",
            "[CV]  min_samples_split=10, min_samples_leaf=5, max_features=auto, max_depth=25, score=0.578, total=  51.1s\n",
            "[CV] min_samples_split=10, min_samples_leaf=5, max_features=auto, max_depth=25 \n",
            "[CV]  min_samples_split=10, min_samples_leaf=5, max_features=auto, max_depth=25, score=0.602, total=  51.2s\n",
            "[CV] min_samples_split=10, min_samples_leaf=5, max_features=auto, max_depth=25 \n",
            "[CV]  min_samples_split=10, min_samples_leaf=5, max_features=auto, max_depth=25, score=0.595, total=  50.7s\n",
            "[CV] min_samples_split=10, min_samples_leaf=5, max_features=auto, max_depth=25 \n",
            "[CV]  min_samples_split=10, min_samples_leaf=5, max_features=auto, max_depth=25, score=0.628, total=  51.1s\n",
            "[CV] min_samples_split=10, min_samples_leaf=5, max_features=auto, max_depth=25 \n",
            "[CV]  min_samples_split=10, min_samples_leaf=5, max_features=auto, max_depth=25, score=0.637, total=  51.8s\n",
            "[CV] min_samples_split=15, min_samples_leaf=5, max_features=sqrt, max_depth=30 \n",
            "[CV]  min_samples_split=15, min_samples_leaf=5, max_features=sqrt, max_depth=30, score=0.563, total=  24.6s\n",
            "[CV] min_samples_split=15, min_samples_leaf=5, max_features=sqrt, max_depth=30 \n",
            "[CV]  min_samples_split=15, min_samples_leaf=5, max_features=sqrt, max_depth=30, score=0.599, total=  24.7s\n",
            "[CV] min_samples_split=15, min_samples_leaf=5, max_features=sqrt, max_depth=30 \n",
            "[CV]  min_samples_split=15, min_samples_leaf=5, max_features=sqrt, max_depth=30, score=0.595, total=  24.1s\n",
            "[CV] min_samples_split=15, min_samples_leaf=5, max_features=sqrt, max_depth=30 \n",
            "[CV]  min_samples_split=15, min_samples_leaf=5, max_features=sqrt, max_depth=30, score=0.635, total=  23.6s\n",
            "[CV] min_samples_split=15, min_samples_leaf=5, max_features=sqrt, max_depth=30 \n",
            "[CV]  min_samples_split=15, min_samples_leaf=5, max_features=sqrt, max_depth=30, score=0.634, total=  23.5s\n",
            "[CV] min_samples_split=5, min_samples_leaf=2, max_features=auto, max_depth=15 \n",
            "[CV]  min_samples_split=5, min_samples_leaf=2, max_features=auto, max_depth=15, score=0.550, total=  44.3s\n",
            "[CV] min_samples_split=5, min_samples_leaf=2, max_features=auto, max_depth=15 \n",
            "[CV]  min_samples_split=5, min_samples_leaf=2, max_features=auto, max_depth=15, score=0.579, total=  45.1s\n",
            "[CV] min_samples_split=5, min_samples_leaf=2, max_features=auto, max_depth=15 \n",
            "[CV]  min_samples_split=5, min_samples_leaf=2, max_features=auto, max_depth=15, score=0.549, total=  44.0s\n",
            "[CV] min_samples_split=5, min_samples_leaf=2, max_features=auto, max_depth=15 \n",
            "[CV]  min_samples_split=5, min_samples_leaf=2, max_features=auto, max_depth=15, score=0.596, total=  44.2s\n",
            "[CV] min_samples_split=5, min_samples_leaf=2, max_features=auto, max_depth=15 \n",
            "[CV]  min_samples_split=5, min_samples_leaf=2, max_features=auto, max_depth=15, score=0.599, total=  43.7s\n",
            "[CV] min_samples_split=100, min_samples_leaf=2, max_features=auto, max_depth=5 \n",
            "[CV]  min_samples_split=100, min_samples_leaf=2, max_features=auto, max_depth=5, score=0.427, total=  21.9s\n",
            "[CV] min_samples_split=100, min_samples_leaf=2, max_features=auto, max_depth=5 \n",
            "[CV]  min_samples_split=100, min_samples_leaf=2, max_features=auto, max_depth=5, score=0.459, total=  22.2s\n",
            "[CV] min_samples_split=100, min_samples_leaf=2, max_features=auto, max_depth=5 \n",
            "[CV]  min_samples_split=100, min_samples_leaf=2, max_features=auto, max_depth=5, score=0.457, total=  23.3s\n",
            "[CV] min_samples_split=100, min_samples_leaf=2, max_features=auto, max_depth=5 \n",
            "[CV]  min_samples_split=100, min_samples_leaf=2, max_features=auto, max_depth=5, score=0.486, total=  21.7s\n",
            "[CV] min_samples_split=100, min_samples_leaf=2, max_features=auto, max_depth=5 \n",
            "[CV]  min_samples_split=100, min_samples_leaf=2, max_features=auto, max_depth=5, score=0.486, total=  22.0s\n",
            "[CV] min_samples_split=15, min_samples_leaf=1, max_features=sqrt, max_depth=20 \n",
            "[CV]  min_samples_split=15, min_samples_leaf=1, max_features=sqrt, max_depth=20, score=0.564, total=  24.0s\n",
            "[CV] min_samples_split=15, min_samples_leaf=1, max_features=sqrt, max_depth=20 \n",
            "[CV]  min_samples_split=15, min_samples_leaf=1, max_features=sqrt, max_depth=20, score=0.602, total=  24.2s\n",
            "[CV] min_samples_split=15, min_samples_leaf=1, max_features=sqrt, max_depth=20 \n",
            "[CV]  min_samples_split=15, min_samples_leaf=1, max_features=sqrt, max_depth=20, score=0.565, total=  24.2s\n",
            "[CV] min_samples_split=15, min_samples_leaf=1, max_features=sqrt, max_depth=20 \n",
            "[CV]  min_samples_split=15, min_samples_leaf=1, max_features=sqrt, max_depth=20, score=0.624, total=  24.5s\n",
            "[CV] min_samples_split=15, min_samples_leaf=1, max_features=sqrt, max_depth=20 \n",
            "[CV]  min_samples_split=15, min_samples_leaf=1, max_features=sqrt, max_depth=20, score=0.616, total=  24.2s\n"
          ]
        },
        {
          "output_type": "stream",
          "name": "stderr",
          "text": [
            "[Parallel(n_jobs=1)]: Done  50 out of  50 | elapsed: 23.2min finished\n"
          ]
        },
        {
          "output_type": "execute_result",
          "data": {
            "text/plain": [
              "RandomizedSearchCV(cv=5, error_score=nan,\n",
              "                   estimator=RandomForestRegressor(bootstrap=True,\n",
              "                                                   ccp_alpha=0.0,\n",
              "                                                   criterion='mse',\n",
              "                                                   max_depth=None,\n",
              "                                                   max_features='auto',\n",
              "                                                   max_leaf_nodes=None,\n",
              "                                                   max_samples=None,\n",
              "                                                   min_impurity_decrease=0.0,\n",
              "                                                   min_impurity_split=None,\n",
              "                                                   min_samples_leaf=1,\n",
              "                                                   min_samples_split=2,\n",
              "                                                   min_weight_fraction_leaf=0.0,\n",
              "                                                   n_estimators=100,\n",
              "                                                   n_jobs=None, oob_score=False,\n",
              "                                                   random_state=None, verbose=0,\n",
              "                                                   warm_start=False),\n",
              "                   iid='deprecated', n_iter=10, n_jobs=None,\n",
              "                   param_distributions={'max_depth': [5, 10, 15, 20, 25, 30],\n",
              "                                        'max_features': ['auto', 'sqrt'],\n",
              "                                        'min_samples_leaf': [1, 2, 5, 10],\n",
              "                                        'min_samples_split': [2, 5, 10, 15,\n",
              "                                                              100]},\n",
              "                   pre_dispatch='2*n_jobs', random_state=42, refit=True,\n",
              "                   return_train_score=False, scoring=None, verbose=5)"
            ]
          },
          "metadata": {},
          "execution_count": 63
        }
      ]
    },
    {
      "cell_type": "code",
      "metadata": {
        "id": "6D_8deGBfl8d"
      },
      "source": [
        "predictions=rf_random.predict(X_test)"
      ],
      "execution_count": 64,
      "outputs": []
    },
    {
      "cell_type": "code",
      "metadata": {
        "colab": {
          "base_uri": "https://localhost:8080/"
        },
        "id": "O8Eiqx-UQEda",
        "outputId": "968922ba-86d8-4915-c6fa-c6f0705ec162"
      },
      "source": [
        "predictions"
      ],
      "execution_count": 78,
      "outputs": [
        {
          "output_type": "execute_result",
          "data": {
            "text/plain": [
              "array([10104.79970158, 14346.80280515,  8492.68912903, ...,\n",
              "       25574.10185094, 18695.26311742,  5618.03581749])"
            ]
          },
          "metadata": {},
          "execution_count": 78
        }
      ]
    },
    {
      "cell_type": "code",
      "metadata": {
        "colab": {
          "base_uri": "https://localhost:8080/",
          "height": 354
        },
        "id": "WcSM3R7vfmmO",
        "outputId": "17e82f8b-fcaa-45f3-8091-664b1987f003"
      },
      "source": [
        "sns.distplot(y_test-predictions)"
      ],
      "execution_count": 65,
      "outputs": [
        {
          "output_type": "stream",
          "name": "stderr",
          "text": [
            "/usr/local/lib/python3.7/dist-packages/seaborn/distributions.py:2557: FutureWarning: `distplot` is a deprecated function and will be removed in a future version. Please adapt your code to use either `displot` (a figure-level function with similar flexibility) or `histplot` (an axes-level function for histograms).\n",
            "  warnings.warn(msg, FutureWarning)\n"
          ]
        },
        {
          "output_type": "execute_result",
          "data": {
            "text/plain": [
              "<matplotlib.axes._subplots.AxesSubplot at 0x7f2c88e4b990>"
            ]
          },
          "metadata": {},
          "execution_count": 65
        },
        {
          "output_type": "display_data",
          "data": {
            "image/png": "[encoded data removed]",
            "text/plain": [
              "<Figure size 432x288 with 1 Axes>"
            ]
          },
          "metadata": {
            "needs_background": "light"
          }
        }
      ]
    },
    {
      "cell_type": "code",
      "metadata": {
        "colab": {
          "base_uri": "https://localhost:8080/",
          "height": 283
        },
        "id": "rwIciELUfo0-",
        "outputId": "b450c08b-37bc-4bc7-ca29-2b4b3647e740"
      },
      "source": [
        "plt.scatter(y_test,predictions)"
      ],
      "execution_count": 66,
      "outputs": [
        {
          "output_type": "execute_result",
          "data": {
            "text/plain": [
              "<matplotlib.collections.PathCollection at 0x7f2c88de5d90>"
            ]
          },
          "metadata": {},
          "execution_count": 66
        },
        {
          "output_type": "display_data",
          "data": {
            "image/png": "[encoded data removed]",
            "text/plain": [
              "<Figure size 432x288 with 1 Axes>"
            ]
          },
          "metadata": {
            "needs_background": "light"
          }
        }
      ]
    },
    {
      "cell_type": "code",
      "metadata": {
        "colab": {
          "base_uri": "https://localhost:8080/"
        },
        "id": "U6RJRmONfszj",
        "outputId": "6ddbb868-36b4-47d9-96d3-a06d00aa8d53"
      },
      "source": [
        "print('RMSE:', np.sqrt(metrics.mean_squared_error(y_test, predictions)))"
      ],
      "execution_count": 67,
      "outputs": [
        {
          "output_type": "stream",
          "name": "stdout",
          "text": [
            "RMSE: 8695.714931608594\n"
          ]
        }
      ]
    },
    {
      "cell_type": "code",
      "metadata": {
        "colab": {
          "base_uri": "https://localhost:8080/"
        },
        "id": "lonm08eKoW-C",
        "outputId": "e977810d-8311-4e8b-8257-d9c172453dd0"
      },
      "source": [
        "rf_random.score(X_test,y_test)"
      ],
      "execution_count": 68,
      "outputs": [
        {
          "output_type": "execute_result",
          "data": {
            "text/plain": [
              "0.6225648871583509"
            ]
          },
          "metadata": {},
          "execution_count": 68
        }
      ]
    },
    {
      "cell_type": "code",
      "metadata": {
        "id": "ywT4YULc4lty"
      },
      "source": [
        ""
      ],
      "execution_count": null,
      "outputs": []
    },
    {
      "cell_type": "markdown",
      "metadata": {
        "id": "HjKU_7M7Kww2"
      },
      "source": [
        "##GB"
      ]
    },
    {
      "cell_type": "code",
      "metadata": {
        "colab": {
          "base_uri": "https://localhost:8080/"
        },
        "id": "e92VBfaeKytP",
        "outputId": "3ff83a71-b5db-43b0-d577-a2fb566bbb10"
      },
      "source": [
        "gb = GradientBoostingRegressor(random_state=1, n_estimators=500)\n",
        "gb.fit(X_train, y_train)"
      ],
      "execution_count": 34,
      "outputs": [
        {
          "output_type": "execute_result",
          "data": {
            "text/plain": [
              "GradientBoostingRegressor(alpha=0.9, ccp_alpha=0.0, criterion='friedman_mse',\n",
              "                          init=None, learning_rate=0.1, loss='ls', max_depth=3,\n",
              "                          max_features=None, max_leaf_nodes=None,\n",
              "                          min_impurity_decrease=0.0, min_impurity_split=None,\n",
              "                          min_samples_leaf=1, min_samples_split=2,\n",
              "                          min_weight_fraction_leaf=0.0, n_estimators=500,\n",
              "                          n_iter_no_change=None, presort='deprecated',\n",
              "                          random_state=1, subsample=1.0, tol=0.0001,\n",
              "                          validation_fraction=0.1, verbose=0, warm_start=False)"
            ]
          },
          "metadata": {},
          "execution_count": 34
        }
      ]
    },
    {
      "cell_type": "code",
      "metadata": {
        "colab": {
          "base_uri": "https://localhost:8080/"
        },
        "id": "66ErfvMlOeM9",
        "outputId": "64cc256c-032f-4cbb-fb7d-c8dfeb7354d3"
      },
      "source": [
        "gb_test_predictions = gb.predict(X_test)\n",
        "\n",
        "gb_test_rmse = np.sqrt(metrics.mean_squared_error(gb_test_predictions, y_test))\n",
        "gb_test_rmse"
      ],
      "execution_count": 35,
      "outputs": [
        {
          "output_type": "execute_result",
          "data": {
            "text/plain": [
              "9475.682481691745"
            ]
          },
          "metadata": {},
          "execution_count": 35
        }
      ]
    },
    {
      "cell_type": "code",
      "metadata": {
        "colab": {
          "base_uri": "https://localhost:8080/",
          "height": 283
        },
        "id": "oHY-JOwnMVOm",
        "outputId": "7e07ef6c-2801-4dde-e1bd-cea7a7da5c3e"
      },
      "source": [
        "plt.scatter(y_test,gb_test_predictions)"
      ],
      "execution_count": 36,
      "outputs": [
        {
          "output_type": "execute_result",
          "data": {
            "text/plain": [
              "<matplotlib.collections.PathCollection at 0x7f59ebfcf090>"
            ]
          },
          "metadata": {},
          "execution_count": 36
        },
        {
          "output_type": "display_data",
          "data": {
            "image/png": "[encoded data removed]",
            "text/plain": [
              "<Figure size 432x288 with 1 Axes>"
            ]
          },
          "metadata": {
            "needs_background": "light"
          }
        }
      ]
    },
    {
      "cell_type": "code",
      "metadata": {
        "colab": {
          "base_uri": "https://localhost:8080/",
          "height": 394
        },
        "id": "6GzfBrhFMVU6",
        "outputId": "7df3e946-273a-48e5-84db-ee0071367312"
      },
      "source": [
        "plt.hist(y_test-gb_test_predictions)"
      ],
      "execution_count": 37,
      "outputs": [
        {
          "output_type": "execute_result",
          "data": {
            "text/plain": [
              "(array([7.10000e+01, 1.21946e+05, 2.13000e+02, 2.30000e+01, 9.00000e+00,\n",
              "        2.00000e+00, 1.00000e+00, 0.00000e+00, 0.00000e+00, 1.00000e+00]),\n",
              " array([-115565.48965256,  -33624.11864407,   48317.25236442,\n",
              "         130258.62337291,  212199.9943814 ,  294141.36538989,\n",
              "         376082.73639838,  458024.10740687,  539965.47841537,\n",
              "         621906.84942386,  703848.22043235]),\n",
              " <a list of 10 Patch objects>)"
            ]
          },
          "metadata": {},
          "execution_count": 37
        },
        {
          "output_type": "display_data",
          "data": {
            "image/png": "[encoded data removed]",
            "text/plain": [
              "<Figure size 432x288 with 1 Axes>"
            ]
          },
          "metadata": {
            "needs_background": "light"
          }
        }
      ]
    },
    {
      "cell_type": "code",
      "metadata": {
        "colab": {
          "base_uri": "https://localhost:8080/"
        },
        "id": "1KPpBp1PMclf",
        "outputId": "1c7d22bc-1274-4196-eacf-7191a9dd2e22"
      },
      "source": [
        "print('RMSE:', np.sqrt(metrics.mean_squared_error(y_test, gb_test_predictions)))"
      ],
      "execution_count": 38,
      "outputs": [
        {
          "output_type": "stream",
          "name": "stdout",
          "text": [
            "RMSE: 9475.682481691745\n"
          ]
        }
      ]
    },
    {
      "cell_type": "code",
      "metadata": {
        "colab": {
          "base_uri": "https://localhost:8080/"
        },
        "id": "UJzV2ldMMdIn",
        "outputId": "2bfea0a5-8979-404b-acba-c6b7aa6d9ba0"
      },
      "source": [
        "gb.score(X_test,y_test)"
      ],
      "execution_count": 39,
      "outputs": [
        {
          "output_type": "execute_result",
          "data": {
            "text/plain": [
              "0.5518197531777991"
            ]
          },
          "metadata": {},
          "execution_count": 39
        }
      ]
    },
    {
      "cell_type": "code",
      "metadata": {
        "id": "YG9-SghKOjTY"
      },
      "source": [
        ""
      ],
      "execution_count": null,
      "outputs": []
    },
    {
      "cell_type": "markdown",
      "metadata": {
        "id": "rS5b3qB-POca"
      },
      "source": [
        "##Average model of rf and gb"
      ]
    },
    {
      "cell_type": "code",
      "metadata": {
        "colab": {
          "base_uri": "https://localhost:8080/"
        },
        "id": "pxcZa8xOPQzx",
        "outputId": "0c4ee887-4957-4e49-a458-894fb224f4c4"
      },
      "source": [
        "np.sqrt(metrics.mean_squared_error(y_test, (gb_test_predictions + rf_test_predictions)/2))"
      ],
      "execution_count": 40,
      "outputs": [
        {
          "output_type": "execute_result",
          "data": {
            "text/plain": [
              "8500.216102779015"
            ]
          },
          "metadata": {},
          "execution_count": 40
        }
      ]
    },
    {
      "cell_type": "code",
      "metadata": {
        "colab": {
          "base_uri": "https://localhost:8080/"
        },
        "id": "5vJxdR0wQZaZ",
        "outputId": "b0c91394-feb1-48da-b53e-d3ced7a17948"
      },
      "source": [
        "metrics.r2_score(y_test, (gb_test_predictions + rf_test_predictions)/2)"
      ],
      "execution_count": 41,
      "outputs": [
        {
          "output_type": "execute_result",
          "data": {
            "text/plain": [
              "0.6393452584829931"
            ]
          },
          "metadata": {},
          "execution_count": 41
        }
      ]
    },
    {
      "cell_type": "code",
      "metadata": {
        "id": "44BHnwiqbhGr"
      },
      "source": [
        ""
      ],
      "execution_count": null,
      "outputs": []
    },
    {
      "cell_type": "code",
      "metadata": {
        "id": "nRyOG1WqkNvs"
      },
      "source": [
        ""
      ],
      "execution_count": null,
      "outputs": []
    },
    {
      "cell_type": "code",
      "metadata": {
        "id": "mfMAd3l6kNyO"
      },
      "source": [
        ""
      ],
      "execution_count": null,
      "outputs": []
    }
  ]
}